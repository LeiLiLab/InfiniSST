{
 "cells": [
  {
   "cell_type": "code",
   "execution_count": 1,
   "metadata": {},
   "outputs": [],
   "source": [
    "import torch\n",
    "import flashinfer"
   ]
  },
  {
   "cell_type": "code",
   "execution_count": 2,
   "metadata": {},
   "outputs": [],
   "source": [
    "num_layers = 32\n",
    "num_qo_heads = 64\n",
    "num_kv_heads = 16\n",
    "head_dim = 128\n",
    "max_num_pages = 128\n",
    "page_size = 16\n",
    "# allocate 128MB workspace buffer\n",
    "workspace_buffer = torch.empty(256 * 1024 * 1024, dtype=torch.uint8, device=\"cuda:0\")\n",
    "prefill_wrapper = flashinfer.BatchPrefillWithPagedKVCacheWrapper(\n",
    "    workspace_buffer, \"NHD\"\n",
    ")\n",
    "batch_size = 7\n",
    "nnz_qo = 100\n",
    "qo_indptr = torch.tensor(\n",
    "    [0, 33, 44, 55, 66, 77, 88, nnz_qo], dtype=torch.int32, device=\"cuda:0\"\n",
    ")\n",
    "paged_kv_indices = torch.arange(max_num_pages).int().to(\"cuda:0\")\n",
    "paged_kv_indptr = torch.tensor(\n",
    "    [0, 17, 29, 44, 48, 66, 100, 128], dtype=torch.int32, device=\"cuda:0\"\n",
    ")\n",
    "# 1 <= paged_kv_last_page_len <= page_size\n",
    "paged_kv_last_page_len = torch.tensor(\n",
    "    [1, 7, 14, 4, 3, 1, 16], dtype=torch.int32, device=\"cuda:0\"\n",
    ")\n",
    "q_at_layer = torch.randn(num_layers, nnz_qo, num_qo_heads, head_dim, dtype=torch.bfloat16).to(\"cuda:0\")\n",
    "kv_cache_at_layer = torch.randn(\n",
    "    num_layers, max_num_pages, 2, page_size, num_kv_heads, head_dim, dtype=torch.bfloat16, device=\"cuda:0\"\n",
    ")"
   ]
  },
  {
   "cell_type": "code",
   "execution_count": 3,
   "metadata": {},
   "outputs": [
    {
     "name": "stderr",
     "output_type": "stream",
     "text": [
      "2025-04-16 14:32:59,062 - INFO - flashinfer.jit: Loading JIT ops: batch_prefill_with_kv_cache_dtype_q_bf16_dtype_kv_bf16_dtype_o_bf16_dtype_idx_i32_head_dim_qk_128_head_dim_vo_128_posenc_1_use_swa_False_use_logits_cap_False_f16qk_False\n",
      "/home/siqiouya/anaconda3/envs/infinisst/lib/python3.9/site-packages/torch/utils/cpp_extension.py:1964: UserWarning: TORCH_CUDA_ARCH_LIST is not set, all archs for visible cards are included for compilation. \n",
      "If this is not desired, please set os.environ['TORCH_CUDA_ARCH_LIST'].\n",
      "  warnings.warn(\n",
      "/home/siqiouya/anaconda3/envs/infinisst/lib/python3.9/site-packages/torch/utils/cpp_extension.py:1964: UserWarning: TORCH_CUDA_ARCH_LIST is not set, all archs for visible cards are included for compilation. \n",
      "If this is not desired, please set os.environ['TORCH_CUDA_ARCH_LIST'].\n",
      "  warnings.warn(\n",
      "2025-04-16 14:33:51,675 - INFO - flashinfer.jit: Finished loading JIT ops: batch_prefill_with_kv_cache_dtype_q_bf16_dtype_kv_bf16_dtype_o_bf16_dtype_idx_i32_head_dim_qk_128_head_dim_vo_128_posenc_1_use_swa_False_use_logits_cap_False_f16qk_False\n"
     ]
    },
    {
     "data": {
      "text/plain": [
       "torch.Size([100, 64, 128])"
      ]
     },
     "execution_count": 3,
     "metadata": {},
     "output_type": "execute_result"
    }
   ],
   "source": [
    "# create auxiliary data structures for batch prefill attention\n",
    "prefill_wrapper.plan(\n",
    "    qo_indptr,\n",
    "    paged_kv_indptr,\n",
    "    paged_kv_indices,\n",
    "    paged_kv_last_page_len,\n",
    "    num_qo_heads,\n",
    "    num_kv_heads,\n",
    "    head_dim,\n",
    "    page_size,\n",
    "    causal=False,\n",
    "    pos_encoding_mode='ROPE_LLAMA',\n",
    "    rope_scale=1.0,\n",
    "    rope_theta=1e4,\n",
    "    q_data_type=torch.bfloat16,\n",
    ")\n",
    "outputs = []\n",
    "for i in range(num_layers):\n",
    "    q = q_at_layer[i]\n",
    "    kv_cache = kv_cache_at_layer[i]\n",
    "    # compute batch prefill attention, reuse auxiliary data structures\n",
    "    o = prefill_wrapper.run(q, kv_cache)\n",
    "    outputs.append(o)\n",
    "\n",
    "outputs[0].shape"
   ]
  },
  {
   "cell_type": "code",
   "execution_count": 4,
   "metadata": {},
   "outputs": [
    {
     "data": {
      "text/plain": [
       "tensor([[[ 0.0903,  0.1738,  0.0884,  ..., -0.0850,  0.0481, -0.0009],\n",
       "         [ 0.0295,  0.0403,  0.1914,  ...,  0.0554,  0.1206, -0.0459],\n",
       "         [-0.2500,  0.0981,  0.2559,  ...,  0.1895,  0.1216,  0.1406],\n",
       "         ...,\n",
       "         [-0.0364, -0.0089, -0.0583,  ...,  0.1318, -0.0413, -0.1611],\n",
       "         [-0.0083, -0.1572, -0.0869,  ...,  0.0510,  0.0256, -0.0977],\n",
       "         [-0.0251,  0.0055,  0.0630,  ...,  0.1572,  0.0187, -0.1367]],\n",
       "\n",
       "        [[ 0.0708, -0.0203,  0.0625,  ...,  0.1157,  0.1455, -0.0522],\n",
       "         [ 0.0669,  0.2061,  0.0796,  ...,  0.0442, -0.1318,  0.0918],\n",
       "         [-0.0156,  0.0757,  0.0251,  ...,  0.1108,  0.0103, -0.0420],\n",
       "         ...,\n",
       "         [-0.1934, -0.0188, -0.0586,  ...,  0.0991,  0.1035, -0.0718],\n",
       "         [-0.1128,  0.0354, -0.0425,  ...,  0.0942,  0.1777, -0.1216],\n",
       "         [-0.0325, -0.0654,  0.0015,  ...,  0.0293, -0.0459, -0.1436]],\n",
       "\n",
       "        [[-0.1055,  0.1387,  0.0439,  ...,  0.1680,  0.0525,  0.1602],\n",
       "         [-0.1260,  0.0864,  0.2109,  ..., -0.0133, -0.0435,  0.0747],\n",
       "         [ 0.1133,  0.0752,  0.0513,  ..., -0.0503,  0.0771, -0.1260],\n",
       "         ...,\n",
       "         [-0.1245, -0.1113, -0.0479,  ...,  0.1074, -0.0258, -0.1504],\n",
       "         [-0.0454, -0.0315, -0.0608,  ...,  0.1162,  0.2070, -0.1455],\n",
       "         [-0.0569,  0.1157, -0.1309,  ...,  0.0061,  0.1875, -0.0312]],\n",
       "\n",
       "        ...,\n",
       "\n",
       "        [[-0.0022,  0.0352,  0.1592,  ...,  0.1416, -0.0815, -0.0339],\n",
       "         [ 0.1016, -0.0825,  0.0491,  ...,  0.1177,  0.0400,  0.1167],\n",
       "         [-0.0085, -0.0437,  0.1807,  ...,  0.0258, -0.0048,  0.1582],\n",
       "         ...,\n",
       "         [-0.0845, -0.1729, -0.0378,  ..., -0.0070,  0.0981, -0.0762],\n",
       "         [ 0.0879, -0.1001, -0.0457,  ...,  0.0014,  0.0452,  0.0471],\n",
       "         [-0.1138, -0.0962, -0.1250,  ..., -0.0043,  0.0260, -0.1025]],\n",
       "\n",
       "        [[ 0.0454, -0.2021,  0.0427,  ...,  0.0240,  0.1021, -0.0156],\n",
       "         [ 0.0037, -0.0806, -0.0042,  ..., -0.1045, -0.0566,  0.0688],\n",
       "         [ 0.1074, -0.0840,  0.0947,  ..., -0.0459, -0.0046,  0.1543],\n",
       "         ...,\n",
       "         [-0.0557, -0.1533, -0.0486,  ..., -0.0830, -0.1357, -0.0771],\n",
       "         [-0.0608, -0.1504,  0.0038,  ..., -0.0879, -0.0220, -0.0918],\n",
       "         [-0.0510, -0.1572, -0.0447,  ...,  0.0217, -0.0334, -0.0170]],\n",
       "\n",
       "        [[ 0.0161, -0.0166,  0.1133,  ..., -0.0111, -0.0183,  0.1621],\n",
       "         [ 0.0098, -0.0603,  0.0938,  ..., -0.0605, -0.0757,  0.1099],\n",
       "         [ 0.0493, -0.0437,  0.1279,  ...,  0.0723,  0.0058,  0.0938],\n",
       "         ...,\n",
       "         [-0.0417, -0.1309, -0.0045,  ..., -0.0452,  0.0065, -0.0967],\n",
       "         [ 0.0889, -0.0708, -0.0850,  ..., -0.0172,  0.0236, -0.0312],\n",
       "         [-0.0177, -0.1523, -0.0457,  ..., -0.0110, -0.0022, -0.0422]]],\n",
       "       device='cuda:0', dtype=torch.bfloat16)"
      ]
     },
     "execution_count": 4,
     "metadata": {},
     "output_type": "execute_result"
    }
   ],
   "source": [
    "outputs[0]"
   ]
  },
  {
   "cell_type": "code",
   "execution_count": null,
   "metadata": {},
   "outputs": [],
   "source": []
  },
  {
   "cell_type": "code",
   "execution_count": null,
   "metadata": {},
   "outputs": [],
   "source": []
  },
  {
   "cell_type": "markdown",
   "metadata": {},
   "source": [
    "# Qwen"
   ]
  },
  {
   "cell_type": "code",
   "execution_count": 3,
   "metadata": {},
   "outputs": [
    {
     "data": {
      "application/vnd.jupyter.widget-view+json": {
       "model_id": "5b463240924940d3900e01554853ccb9",
       "version_major": 2,
       "version_minor": 0
      },
      "text/plain": [
       "config.json:   0%|          | 0.00/663 [00:00<?, ?B/s]"
      ]
     },
     "metadata": {},
     "output_type": "display_data"
    }
   ],
   "source": [
    "from transformers import AutoConfig\n",
    "\n",
    "config = AutoConfig.from_pretrained(\"Qwen/Qwen2.5-7B-Instruct\")"
   ]
  },
  {
   "cell_type": "code",
   "execution_count": 4,
   "metadata": {},
   "outputs": [
    {
     "data": {
      "text/plain": [
       "Qwen2Config {\n",
       "  \"_name_or_path\": \"Qwen/Qwen2.5-7B-Instruct\",\n",
       "  \"architectures\": [\n",
       "    \"Qwen2ForCausalLM\"\n",
       "  ],\n",
       "  \"attention_dropout\": 0.0,\n",
       "  \"bos_token_id\": 151643,\n",
       "  \"eos_token_id\": 151645,\n",
       "  \"hidden_act\": \"silu\",\n",
       "  \"hidden_size\": 3584,\n",
       "  \"initializer_range\": 0.02,\n",
       "  \"intermediate_size\": 18944,\n",
       "  \"max_position_embeddings\": 32768,\n",
       "  \"max_window_layers\": 28,\n",
       "  \"model_type\": \"qwen2\",\n",
       "  \"num_attention_heads\": 28,\n",
       "  \"num_hidden_layers\": 28,\n",
       "  \"num_key_value_heads\": 4,\n",
       "  \"rms_norm_eps\": 1e-06,\n",
       "  \"rope_scaling\": null,\n",
       "  \"rope_theta\": 1000000.0,\n",
       "  \"sliding_window\": null,\n",
       "  \"tie_word_embeddings\": false,\n",
       "  \"torch_dtype\": \"bfloat16\",\n",
       "  \"transformers_version\": \"4.47.0\",\n",
       "  \"use_cache\": true,\n",
       "  \"use_sliding_window\": false,\n",
       "  \"vocab_size\": 152064\n",
       "}"
      ]
     },
     "execution_count": 4,
     "metadata": {},
     "output_type": "execute_result"
    }
   ],
   "source": [
    "config"
   ]
  }
 ],
 "metadata": {
  "kernelspec": {
   "display_name": "infinisst",
   "language": "python",
   "name": "python3"
  },
  "language_info": {
   "codemirror_mode": {
    "name": "ipython",
    "version": 3
   },
   "file_extension": ".py",
   "mimetype": "text/x-python",
   "name": "python",
   "nbconvert_exporter": "python",
   "pygments_lexer": "ipython3",
   "version": "3.9.21"
  }
 },
 "nbformat": 4,
 "nbformat_minor": 2
}
