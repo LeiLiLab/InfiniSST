{
 "cells": [
  {
   "cell_type": "code",
   "execution_count": 47,
   "metadata": {},
   "outputs": [],
   "source": [
    "import torch\n",
    "import flashinfer\n",
    "from rotary_embedding_torch import RotaryEmbedding\n",
    "from model.flashinfer.modeling_qwen2 import Qwen2RotaryEmbedding, apply_rotary_pos_emb\n",
    "from transformers.models.qwen2.configuration_qwen2 import Qwen2Config"
   ]
  },
  {
   "cell_type": "code",
   "execution_count": 53,
   "metadata": {},
   "outputs": [],
   "source": [
    "num_qo_heads = 32\n",
    "num_kv_heads = 32\n",
    "head_dim = 128\n",
    "max_num_pages = 128\n",
    "page_size = 16\n",
    "# allocate 128MB workspace buffer\n",
    "workspace_buffer = torch.empty(256 * 1024 * 1024, dtype=torch.uint8, device=\"cuda:0\")\n",
    "prefill_wrapper = flashinfer.BatchPrefillWithPagedKVCacheWrapper(\n",
    "    workspace_buffer, \"NHD\"\n",
    ")\n",
    "batch_size = 1\n",
    "nnz_qo = 16\n",
    "qo_indptr = torch.tensor(\n",
    "    [0, nnz_qo], dtype=torch.int32, device=\"cuda:0\"\n",
    ")\n",
    "paged_kv_indices = torch.arange(1).int().to(\"cuda:0\")\n",
    "paged_kv_indptr = torch.tensor(\n",
    "    [0, 1], dtype=torch.int32, device=\"cuda:0\"\n",
    ")\n",
    "# 1 <= paged_kv_last_page_len <= page_size\n",
    "paged_kv_last_page_len = torch.tensor(\n",
    "    [16], dtype=torch.int32, device=\"cuda:0\"\n",
    ")\n",
    "q_at_layer = torch.randn(nnz_qo, num_qo_heads, head_dim, dtype=torch.bfloat16).to(\"cuda:0\")\n",
    "kv_cache_at_layer = torch.randn(\n",
    "    max_num_pages, 2, page_size, num_kv_heads, head_dim, dtype=torch.bfloat16, device=\"cuda:0\"\n",
    ")"
   ]
  },
  {
   "cell_type": "code",
   "execution_count": 81,
   "metadata": {},
   "outputs": [],
   "source": [
    "# create auxiliary data structures for batch prefill attention\n",
    "prefill_wrapper.plan(\n",
    "    qo_indptr,\n",
    "    paged_kv_indptr,\n",
    "    paged_kv_indices,\n",
    "    paged_kv_last_page_len,\n",
    "    num_qo_heads,\n",
    "    num_kv_heads,\n",
    "    head_dim,\n",
    "    page_size,\n",
    "    causal=False,\n",
    "    pos_encoding_mode='ROPE_LLAMA',\n",
    "    rope_scale=1.0,\n",
    "    rope_theta=1000000.0,\n",
    "    q_data_type=torch.bfloat16,\n",
    ")\n",
    "o = prefill_wrapper.run(q_at_layer, kv_cache_at_layer)"
   ]
  },
  {
   "cell_type": "code",
   "execution_count": 82,
   "metadata": {},
   "outputs": [],
   "source": [
    "rotary_emb = Qwen2RotaryEmbedding(head_dim).to(\"cuda:0\")"
   ]
  },
  {
   "cell_type": "code",
   "execution_count": 83,
   "metadata": {},
   "outputs": [],
   "source": [
    "q = q_at_layer.unsqueeze(0).transpose(1, 2)\n",
    "k = kv_cache_at_layer[0, 0].unsqueeze(0).transpose(1, 2)\n",
    "v = kv_cache_at_layer[0, 1].unsqueeze(0).transpose(1, 2)"
   ]
  },
  {
   "cell_type": "code",
   "execution_count": 84,
   "metadata": {},
   "outputs": [],
   "source": [
    "# q, k = rotary_emb.rotate_queries_with_cached_keys(q, k)\n",
    "cos, sin = rotary_emb(v, torch.arange(16, device=\"cuda:0\").view(1, -1))\n",
    "q, k = apply_rotary_pos_emb(q, k, cos, sin)"
   ]
  },
  {
   "cell_type": "code",
   "execution_count": 85,
   "metadata": {},
   "outputs": [],
   "source": [
    "q = q.contiguous()\n",
    "k = k.contiguous()\n",
    "v = v.contiguous()\n",
    "\n",
    "attn_output = torch.nn.functional.scaled_dot_product_attention(\n",
    "    q, k, v,\n",
    "    is_causal=False,\n",
    ")\n",
    "attn_output = attn_output.transpose(1, 2).contiguous()"
   ]
  },
  {
   "cell_type": "code",
   "execution_count": 86,
   "metadata": {},
   "outputs": [
    {
     "data": {
      "text/plain": [
       "tensor([[[ 0.0000, -0.0010,  0.0020,  ...,  0.0039,  0.0000, -0.0002],\n",
       "         [ 0.0010, -0.0020,  0.0010,  ..., -0.0020, -0.0039,  0.0000],\n",
       "         [-0.0039,  0.0000,  0.0000,  ...,  0.0000, -0.0010,  0.0010],\n",
       "         ...,\n",
       "         [ 0.0000,  0.0000, -0.0005,  ..., -0.0012,  0.0005, -0.0010],\n",
       "         [ 0.0000,  0.0000,  0.0005,  ..., -0.0015, -0.0005, -0.0005],\n",
       "         [ 0.0000,  0.0000,  0.0000,  ...,  0.0000,  0.0000,  0.0000]],\n",
       "\n",
       "        [[-0.0020,  0.0000,  0.0000,  ...,  0.0007,  0.0020,  0.0010],\n",
       "         [ 0.0000,  0.0000,  0.0000,  ...,  0.0000,  0.0005,  0.0000],\n",
       "         [ 0.0010, -0.0020,  0.0000,  ..., -0.0005,  0.0000, -0.0039],\n",
       "         ...,\n",
       "         [ 0.0000,  0.0000,  0.0000,  ...,  0.0000,  0.0000,  0.0000],\n",
       "         [-0.0020,  0.0000,  0.0006,  ...,  0.0039,  0.0005, -0.0010],\n",
       "         [ 0.0020,  0.0000,  0.0039,  ...,  0.0000,  0.0000,  0.0000]],\n",
       "\n",
       "        [[ 0.0000,  0.0005,  0.0000,  ..., -0.0039,  0.0000,  0.0000],\n",
       "         [ 0.0010,  0.0000,  0.0000,  ..., -0.0010,  0.0000,  0.0000],\n",
       "         [ 0.0000,  0.0000, -0.0005,  ...,  0.0000,  0.0039,  0.0000],\n",
       "         ...,\n",
       "         [ 0.0020,  0.0009,  0.0020,  ..., -0.0002,  0.0000,  0.0020],\n",
       "         [ 0.0012, -0.0010, -0.0002,  ..., -0.0020, -0.0010, -0.0002],\n",
       "         [ 0.0000,  0.0000, -0.0039,  ...,  0.0039,  0.0000,  0.0000]],\n",
       "\n",
       "        ...,\n",
       "\n",
       "        [[ 0.0000,  0.0000,  0.0000,  ...,  0.0000,  0.0000,  0.0000],\n",
       "         [-0.0022,  0.0000,  0.0000,  ..., -0.0017, -0.0039, -0.0039],\n",
       "         [ 0.0000,  0.0000,  0.0000,  ..., -0.0020, -0.0029,  0.0020],\n",
       "         ...,\n",
       "         [ 0.0010,  0.0015,  0.0039,  ...,  0.0000,  0.0000,  0.0000],\n",
       "         [ 0.0000, -0.0012,  0.0000,  ..., -0.0006,  0.0000, -0.0010],\n",
       "         [ 0.0005,  0.0000,  0.0010,  ..., -0.0013,  0.0020, -0.0005]],\n",
       "\n",
       "        [[-0.0020,  0.0000,  0.0000,  ..., -0.0020,  0.0000, -0.0005],\n",
       "         [-0.0013,  0.0000,  0.0000,  ..., -0.0020,  0.0000,  0.0000],\n",
       "         [ 0.0010,  0.0020, -0.0005,  ...,  0.0000,  0.0020,  0.0000],\n",
       "         ...,\n",
       "         [ 0.0002, -0.0029, -0.0020,  ..., -0.0020,  0.0005, -0.0005],\n",
       "         [ 0.0005,  0.0006,  0.0000,  ...,  0.0005, -0.0020, -0.0005],\n",
       "         [ 0.0000,  0.0000,  0.0039,  ...,  0.0005,  0.0000,  0.0000]],\n",
       "\n",
       "        [[ 0.0005,  0.0000,  0.0000,  ...,  0.0000,  0.0000, -0.0005],\n",
       "         [ 0.0000,  0.0010,  0.0000,  ..., -0.0020,  0.0010,  0.0000],\n",
       "         [-0.0010,  0.0000,  0.0000,  ...,  0.0000,  0.0000,  0.0039],\n",
       "         ...,\n",
       "         [-0.0010, -0.0010, -0.0039,  ...,  0.0000,  0.0020, -0.0015],\n",
       "         [ 0.0010,  0.0010, -0.0002,  ...,  0.0020,  0.0020, -0.0020],\n",
       "         [ 0.0002,  0.0000,  0.0010,  ...,  0.0000,  0.0000,  0.0000]]],\n",
       "       device='cuda:0', dtype=torch.bfloat16)"
      ]
     },
     "execution_count": 86,
     "metadata": {},
     "output_type": "execute_result"
    }
   ],
   "source": [
    "attn_output[0] - o"
   ]
  },
  {
   "cell_type": "markdown",
   "metadata": {},
   "source": [
    "# Qwen"
   ]
  },
  {
   "cell_type": "code",
   "execution_count": 3,
   "metadata": {},
   "outputs": [
    {
     "data": {
      "application/vnd.jupyter.widget-view+json": {
       "model_id": "5b463240924940d3900e01554853ccb9",
       "version_major": 2,
       "version_minor": 0
      },
      "text/plain": [
       "config.json:   0%|          | 0.00/663 [00:00<?, ?B/s]"
      ]
     },
     "metadata": {},
     "output_type": "display_data"
    }
   ],
   "source": [
    "from transformers import AutoConfig\n",
    "\n",
    "config = AutoConfig.from_pretrained(\"Qwen/Qwen2.5-7B-Instruct\")"
   ]
  },
  {
   "cell_type": "code",
   "execution_count": 4,
   "metadata": {},
   "outputs": [
    {
     "data": {
      "text/plain": [
       "Qwen2Config {\n",
       "  \"_name_or_path\": \"Qwen/Qwen2.5-7B-Instruct\",\n",
       "  \"architectures\": [\n",
       "    \"Qwen2ForCausalLM\"\n",
       "  ],\n",
       "  \"attention_dropout\": 0.0,\n",
       "  \"bos_token_id\": 151643,\n",
       "  \"eos_token_id\": 151645,\n",
       "  \"hidden_act\": \"silu\",\n",
       "  \"hidden_size\": 3584,\n",
       "  \"initializer_range\": 0.02,\n",
       "  \"intermediate_size\": 18944,\n",
       "  \"max_position_embeddings\": 32768,\n",
       "  \"max_window_layers\": 28,\n",
       "  \"model_type\": \"qwen2\",\n",
       "  \"num_attention_heads\": 28,\n",
       "  \"num_hidden_layers\": 28,\n",
       "  \"num_key_value_heads\": 4,\n",
       "  \"rms_norm_eps\": 1e-06,\n",
       "  \"rope_scaling\": null,\n",
       "  \"rope_theta\": 1000000.0,\n",
       "  \"sliding_window\": null,\n",
       "  \"tie_word_embeddings\": false,\n",
       "  \"torch_dtype\": \"bfloat16\",\n",
       "  \"transformers_version\": \"4.47.0\",\n",
       "  \"use_cache\": true,\n",
       "  \"use_sliding_window\": false,\n",
       "  \"vocab_size\": 152064\n",
       "}"
      ]
     },
     "execution_count": 4,
     "metadata": {},
     "output_type": "execute_result"
    }
   ],
   "source": [
    "config"
   ]
  }
 ],
 "metadata": {
  "kernelspec": {
   "display_name": "infinisst",
   "language": "python",
   "name": "python3"
  },
  "language_info": {
   "codemirror_mode": {
    "name": "ipython",
    "version": 3
   },
   "file_extension": ".py",
   "mimetype": "text/x-python",
   "name": "python",
   "nbconvert_exporter": "python",
   "pygments_lexer": "ipython3",
   "version": "3.9.21"
  }
 },
 "nbformat": 4,
 "nbformat_minor": 2
}
