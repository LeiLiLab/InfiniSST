{
 "cells": [
  {
   "cell_type": "code",
   "execution_count": 1,
   "metadata": {},
   "outputs": [],
   "source": [
    "import os\n",
    "os.environ[\"CUDA_VISIBLE_DEVICES\"] = \"1\"\n",
    "import csv\n",
    "import json\n",
    "\n",
    "import numpy as np\n",
    "import matplotlib.pyplot as plt\n",
    "\n",
    "import sacrebleu\n",
    "import soundfile as sf\n",
    "\n",
    "import copy\n",
    "import yaml\n",
    "import math\n",
    "import torch\n",
    "from tqdm.notebook import tqdm\n",
    "\n",
    "from IPython.display import display, Audio\n",
    "\n",
    "def read_logs(path):\n",
    "    logs = []\n",
    "    with open(path, \"r\") as r:\n",
    "        for l in r.readlines():\n",
    "            l = l.strip()\n",
    "            if l != \"\":\n",
    "                logs.append(json.loads(l))\n",
    "    return logs\n",
    "\n",
    "def write_logs(logs, path):\n",
    "    with open(path, \"w\") as w:\n",
    "        for log in logs:\n",
    "            w.write(json.dumps(log) + \"\\n\")\n",
    "\n",
    "def read_wav(wav_path):\n",
    "    if ':' in wav_path:\n",
    "        wav_path, offset, duration = wav_path.split(':')\n",
    "        offset = int(offset)\n",
    "        duration = int(duration)\n",
    "    else:\n",
    "        offset = 0\n",
    "        duration = -1\n",
    "    source, rate = sf.read(wav_path, start=offset, frames=duration)\n",
    "    return source, rate\n",
    "\n",
    "def read_tsv(tsv_path):\n",
    "    import csv\n",
    "    with open(tsv_path) as f:\n",
    "        reader = csv.DictReader(\n",
    "            f,\n",
    "            delimiter=\"\\t\",\n",
    "            quotechar=None,\n",
    "            doublequote=False,\n",
    "            lineterminator=\"\\n\",\n",
    "            quoting=csv.QUOTE_NONE,\n",
    "        )\n",
    "        samples = [dict(e) for e in reader]\n",
    "    return samples\n",
    "\n",
    "def write_tsv(samples, tsv_path):\n",
    "    with open(tsv_path, \"w\") as w:\n",
    "        writer = csv.DictWriter(\n",
    "            w,\n",
    "            samples[0].keys(),\n",
    "            delimiter=\"\\t\",\n",
    "            quotechar=None,\n",
    "            doublequote=False,\n",
    "            lineterminator=\"\\n\",\n",
    "            quoting=csv.QUOTE_NONE,\n",
    "        )\n",
    "        writer.writeheader()\n",
    "        writer.writerows(samples)\n",
    "\n",
    "def play(audio_path):\n",
    "    display(Audio(read_wav(audio_path)[0], rate=16000))"
   ]
  },
  {
   "cell_type": "markdown",
   "metadata": {},
   "source": [
    "# NLLB"
   ]
  },
  {
   "cell_type": "code",
   "execution_count": 13,
   "metadata": {},
   "outputs": [
    {
     "data": {
      "application/vnd.jupyter.widget-view+json": {
       "model_id": "b28bfcb7ccf74bb08687b890dd7a5ca5",
       "version_major": 2,
       "version_minor": 0
      },
      "text/plain": [
       "tokenizer_config.json:   0%|          | 0.00/564 [00:00<?, ?B/s]"
      ]
     },
     "metadata": {},
     "output_type": "display_data"
    },
    {
     "data": {
      "application/vnd.jupyter.widget-view+json": {
       "model_id": "b6fc1970c0f04b16823274ec770e7690",
       "version_major": 2,
       "version_minor": 0
      },
      "text/plain": [
       "sentencepiece.bpe.model:   0%|          | 0.00/4.85M [00:00<?, ?B/s]"
      ]
     },
     "metadata": {},
     "output_type": "display_data"
    },
    {
     "data": {
      "application/vnd.jupyter.widget-view+json": {
       "model_id": "86640a061f9e447c8e1092a71d6e64c4",
       "version_major": 2,
       "version_minor": 0
      },
      "text/plain": [
       "tokenizer.json:   0%|          | 0.00/17.3M [00:00<?, ?B/s]"
      ]
     },
     "metadata": {},
     "output_type": "display_data"
    },
    {
     "data": {
      "application/vnd.jupyter.widget-view+json": {
       "model_id": "d42babc4f0be4ad79d57cfa6507e7f00",
       "version_major": 2,
       "version_minor": 0
      },
      "text/plain": [
       "special_tokens_map.json:   0%|          | 0.00/3.55k [00:00<?, ?B/s]"
      ]
     },
     "metadata": {},
     "output_type": "display_data"
    },
    {
     "data": {
      "application/vnd.jupyter.widget-view+json": {
       "model_id": "83b6bbc0fa074d9a9289274f9d68921d",
       "version_major": 2,
       "version_minor": 0
      },
      "text/plain": [
       "config.json:   0%|          | 0.00/846 [00:00<?, ?B/s]"
      ]
     },
     "metadata": {},
     "output_type": "display_data"
    },
    {
     "data": {
      "application/vnd.jupyter.widget-view+json": {
       "model_id": "7ef6c85e59154306b456cc0bca577ec1",
       "version_major": 2,
       "version_minor": 0
      },
      "text/plain": [
       "pytorch_model.bin:   0%|          | 0.00/2.46G [00:00<?, ?B/s]"
      ]
     },
     "metadata": {},
     "output_type": "display_data"
    },
    {
     "name": "stderr",
     "output_type": "stream",
     "text": [
      "huggingface/tokenizers: The current process just got forked, after parallelism has already been used. Disabling parallelism to avoid deadlocks...\n",
      "To disable this warning, you can either:\n",
      "\t- Avoid using `tokenizers` before the fork if possible\n",
      "\t- Explicitly set the environment variable TOKENIZERS_PARALLELISM=(true | false)\n"
     ]
    },
    {
     "data": {
      "application/vnd.jupyter.widget-view+json": {
       "model_id": "8b736d7bcd7f4ae981f080f1d75b5eb3",
       "version_major": 2,
       "version_minor": 0
      },
      "text/plain": [
       "generation_config.json:   0%|          | 0.00/189 [00:00<?, ?B/s]"
      ]
     },
     "metadata": {},
     "output_type": "display_data"
    },
    {
     "data": {
      "text/plain": [
       "\"Le chef de l'ONU dit qu'il n'y a pas de solution militaire en Syrie\""
      ]
     },
     "execution_count": 13,
     "metadata": {},
     "output_type": "execute_result"
    }
   ],
   "source": [
    "from transformers import AutoModelForSeq2SeqLM, AutoTokenizer\n",
    "\n",
    "tokenizer = AutoTokenizer.from_pretrained(\"facebook/nllb-200-distilled-600M\")\n",
    "model = AutoModelForSeq2SeqLM.from_pretrained(\"facebook/nllb-200-distilled-600M\")"
   ]
  },
  {
   "cell_type": "code",
   "execution_count": 18,
   "metadata": {},
   "outputs": [
    {
     "data": {
      "text/plain": [
       "'您好.'"
      ]
     },
     "execution_count": 18,
     "metadata": {},
     "output_type": "execute_result"
    }
   ],
   "source": [
    "article = \"Hello\"\n",
    "inputs = tokenizer(article, return_tensors=\"pt\")\n",
    "\n",
    "translated_tokens = model.generate(\n",
    "    **inputs, forced_bos_token_id=tokenizer.convert_tokens_to_ids(\"zho_Hans\"), max_length=30\n",
    ")\n",
    "tokenizer.batch_decode(translated_tokens, skip_special_tokens=True)[0]"
   ]
  },
  {
   "cell_type": "markdown",
   "metadata": {},
   "source": [
    "# QWEN"
   ]
  },
  {
   "cell_type": "code",
   "execution_count": 1,
   "metadata": {},
   "outputs": [],
   "source": [
    "from transformers import AutoModelForCausalLM, AutoTokenizer\n",
    "\n",
    "model_name = \"Qwen/Qwen2.5-0.5B\"\n",
    "\n",
    "model = AutoModelForCausalLM.from_pretrained(\n",
    "    model_name,\n",
    "    torch_dtype=\"auto\",\n",
    "    device_map=\"cuda\"\n",
    ")\n",
    "tokenizer = AutoTokenizer.from_pretrained(model_name)"
   ]
  },
  {
   "cell_type": "code",
   "execution_count": 8,
   "metadata": {},
   "outputs": [],
   "source": [
    "text = \"翻译成英文：你好。\"\n",
    "model_inputs = tokenizer([text], return_tensors=\"pt\").to(model.device)"
   ]
  },
  {
   "cell_type": "code",
   "execution_count": 9,
   "metadata": {},
   "outputs": [
    {
     "name": "stderr",
     "output_type": "stream",
     "text": [
      "Setting `pad_token_id` to `eos_token_id`:151643 for open-end generation.\n"
     ]
    }
   ],
   "source": [
    "generated_ids = model.generate(\n",
    "    **model_inputs,\n",
    "    max_new_tokens=10,\n",
    ")\n",
    "generated_ids = [\n",
    "    output_ids[len(input_ids):] for input_ids, output_ids in zip(model_inputs.input_ids, generated_ids)\n",
    "]\n",
    "\n",
    "response = tokenizer.batch_decode(generated_ids, skip_special_tokens=True)[0]"
   ]
  },
  {
   "cell_type": "code",
   "execution_count": 10,
   "metadata": {},
   "outputs": [
    {
     "name": "stdout",
     "output_type": "stream",
     "text": [
      " How are you doing?\n"
     ]
    }
   ],
   "source": [
    "print(response)"
   ]
  },
  {
   "cell_type": "markdown",
   "metadata": {},
   "source": [
    "# inconsistency between online and simuleval"
   ]
  },
  {
   "cell_type": "code",
   "execution_count": 16,
   "metadata": {},
   "outputs": [],
   "source": [
    "online_sources = []\n",
    "for i in range(16):\n",
    "    online_sources.append(np.load('/home/siqiouya/work/sllama/online_source_{}.npy'.format(i)))\n",
    "simuleval_sources = []\n",
    "for i in range(16):\n",
    "    simuleval_sources.append(np.load('/home/siqiouya/work/sllama/source_{}.npy'.format(i)))"
   ]
  },
  {
   "cell_type": "code",
   "execution_count": 17,
   "metadata": {},
   "outputs": [
    {
     "data": {
      "text/plain": [
       "(array([ 0.        ,  0.        ,  0.        , ..., -0.11690447,\n",
       "        -0.09129377, -0.11185333], dtype=float32),\n",
       " array([ 0.        ,  0.        ,  0.        , ...,  0.03414917,\n",
       "         0.00436401, -0.05111694]))"
      ]
     },
     "execution_count": 17,
     "metadata": {},
     "output_type": "execute_result"
    }
   ],
   "source": [
    "online_sources[0], simuleval_sources[0]"
   ]
  },
  {
   "cell_type": "code",
   "execution_count": 24,
   "metadata": {},
   "outputs": [
    {
     "data": {
      "image/png": "[encoded data removed]",
      "text/plain": [
       "<Figure size 1500x500 with 2 Axes>"
      ]
     },
     "metadata": {},
     "output_type": "display_data"
    }
   ],
   "source": [
    "import matplotlib.pyplot as plt\n",
    "\n",
    "plt.figure(figsize=(15,5))\n",
    "plt.subplot(211)\n",
    "plt.plot(online_sources[0])\n",
    "plt.title('Online Source')\n",
    "plt.subplot(212) \n",
    "plt.plot(simuleval_sources[0])\n",
    "plt.title('Simuleval Source')\n",
    "plt.tight_layout()\n",
    "plt.show()\n"
   ]
  },
  {
   "cell_type": "markdown",
   "metadata": {},
   "source": [
    "# SacreBLEU"
   ]
  },
  {
   "cell_type": "code",
   "execution_count": null,
   "metadata": {},
   "outputs": [],
   "source": [
    "import sacrebleu\n",
    "scorer = sacrebleu.BLEU()\n",
    "scorer.get_signature()"
   ]
  },
  {
   "cell_type": "markdown",
   "metadata": {},
   "source": [
    "# tst-COMMON"
   ]
  },
  {
   "cell_type": "code",
   "execution_count": 2,
   "metadata": {},
   "outputs": [],
   "source": [
    "wav_paths = []\n",
    "with open(\"/compute/babel-14-5/siqiouya/en-zh/tst-COMMON_full.source\") as f:\n",
    "    for line in f:\n",
    "        wav_paths.append(line.strip())"
   ]
  },
  {
   "cell_type": "code",
   "execution_count": 3,
   "metadata": {},
   "outputs": [],
   "source": [
    "infos = []\n",
    "for wav_path in wav_paths:\n",
    "    info = sf.info(wav_path)\n",
    "    infos.append(info)"
   ]
  },
  {
   "cell_type": "code",
   "execution_count": 4,
   "metadata": {},
   "outputs": [],
   "source": [
    "durations = []\n",
    "for info in infos:\n",
    "    durations.append(info.duration / 60)"
   ]
  },
  {
   "cell_type": "code",
   "execution_count": 5,
   "metadata": {},
   "outputs": [
    {
     "data": {
      "text/plain": [
       "11"
      ]
     },
     "execution_count": 5,
     "metadata": {},
     "output_type": "execute_result"
    }
   ],
   "source": [
    "durations = np.array(durations)\n",
    "(durations > 10).sum()"
   ]
  },
  {
   "cell_type": "code",
   "execution_count": 6,
   "metadata": {},
   "outputs": [
    {
     "data": {
      "text/plain": [
       "23.683580208333336"
      ]
     },
     "execution_count": 6,
     "metadata": {},
     "output_type": "execute_result"
    }
   ],
   "source": [
    "durations.max()"
   ]
  },
  {
   "cell_type": "code",
   "execution_count": 7,
   "metadata": {},
   "outputs": [
    {
     "data": {
      "text/plain": [
       "294.6705166666667"
      ]
     },
     "execution_count": 7,
     "metadata": {},
     "output_type": "execute_result"
    }
   ],
   "source": [
    "durations.sum()"
   ]
  },
  {
   "cell_type": "code",
   "execution_count": 165,
   "metadata": {},
   "outputs": [],
   "source": [
    "for m in range(1, 5):\n",
    "    seg_size = m * 960\n",
    "    path = \"/compute/babel-5-23/siqiouya/runs/en-zh/8B-traj-s2-v3.5_llama3/last.ckpt/simul-results-full-betterfilterbadwords/cache1000_seg{}_beam4_ms0_nrnl100_nrns5/instances.log\".format(seg_size)\n",
    "    logs = read_logs(path)\n",
    "    logs_less10 = [log for log in logs if log['source_length'] / 1000 / 60 < 10]\n",
    "    logs_more10 = [log for log in logs if log['source_length'] / 1000 / 60 >= 10]\n",
    "    write_logs(logs_less10, path.replace(\".log\", \"_less10.log\"))\n",
    "    write_logs(logs_more10, path.replace(\".log\", \"_more10.log\"))"
   ]
  },
  {
   "cell_type": "code",
   "execution_count": 162,
   "metadata": {},
   "outputs": [
    {
     "data": {
      "text/plain": [
       "(16, 11)"
      ]
     },
     "execution_count": 162,
     "metadata": {},
     "output_type": "execute_result"
    }
   ],
   "source": [
    "len(logs_less10), len(logs_more10)"
   ]
  },
  {
   "cell_type": "markdown",
   "metadata": {},
   "source": [
    "# absolute position embedding"
   ]
  },
  {
   "cell_type": "code",
   "execution_count": 5,
   "metadata": {},
   "outputs": [],
   "source": [
    "def sinusoidal_positional_embedding(offset, length, d_model):\n",
    "    half_dim = d_model // 2\n",
    "    emb = math.log(10000) / (half_dim - 1)\n",
    "    emb = torch.exp(torch.arange(half_dim, dtype=torch.float) * -emb)\n",
    "    emb = torch.arange(offset, offset + length, dtype=torch.float).unsqueeze(\n",
    "        1\n",
    "    ) * emb.unsqueeze(0)\n",
    "    emb = torch.cat([torch.sin(emb), torch.cos(emb)], dim=1).view(\n",
    "        length, -1\n",
    "    )\n",
    "    if d_model % 2 == 1:\n",
    "        # zero pad\n",
    "        emb = torch.cat([emb, torch.zeros(length, 1)], dim=1)\n",
    "    return emb"
   ]
  },
  {
   "cell_type": "code",
   "execution_count": 8,
   "metadata": {},
   "outputs": [
    {
     "data": {
      "text/plain": [
       "tensor([[ 9.0930e-01,  1.9867e-01,  1.9999e-02,  2.0000e-03,  2.0000e-04,\n",
       "         -4.1615e-01,  9.8007e-01,  9.9980e-01,  1.0000e+00,  1.0000e+00],\n",
       "        [ 1.4112e-01,  2.9552e-01,  2.9995e-02,  3.0000e-03,  3.0000e-04,\n",
       "         -9.8999e-01,  9.5534e-01,  9.9955e-01,  1.0000e+00,  1.0000e+00],\n",
       "        [-7.5680e-01,  3.8942e-01,  3.9989e-02,  4.0000e-03,  4.0000e-04,\n",
       "         -6.5364e-01,  9.2106e-01,  9.9920e-01,  9.9999e-01,  1.0000e+00],\n",
       "        [-9.5892e-01,  4.7943e-01,  4.9979e-02,  5.0000e-03,  5.0000e-04,\n",
       "          2.8366e-01,  8.7758e-01,  9.9875e-01,  9.9999e-01,  1.0000e+00],\n",
       "        [-2.7942e-01,  5.6464e-01,  5.9964e-02,  6.0000e-03,  6.0000e-04,\n",
       "          9.6017e-01,  8.2534e-01,  9.9820e-01,  9.9998e-01,  1.0000e+00],\n",
       "        [ 6.5699e-01,  6.4422e-01,  6.9943e-02,  6.9999e-03,  7.0000e-04,\n",
       "          7.5390e-01,  7.6484e-01,  9.9755e-01,  9.9998e-01,  1.0000e+00],\n",
       "        [ 9.8936e-01,  7.1736e-01,  7.9915e-02,  7.9999e-03,  8.0000e-04,\n",
       "         -1.4550e-01,  6.9671e-01,  9.9680e-01,  9.9997e-01,  1.0000e+00],\n",
       "        [ 4.1212e-01,  7.8333e-01,  8.9879e-02,  8.9999e-03,  9.0000e-04,\n",
       "         -9.1113e-01,  6.2161e-01,  9.9595e-01,  9.9996e-01,  1.0000e+00],\n",
       "        [-5.4402e-01,  8.4147e-01,  9.9833e-02,  9.9998e-03,  1.0000e-03,\n",
       "         -8.3907e-01,  5.4030e-01,  9.9500e-01,  9.9995e-01,  1.0000e+00],\n",
       "        [-9.9999e-01,  8.9121e-01,  1.0978e-01,  1.1000e-02,  1.1000e-03,\n",
       "          4.4257e-03,  4.5360e-01,  9.9396e-01,  9.9994e-01,  1.0000e+00]])"
      ]
     },
     "execution_count": 8,
     "metadata": {},
     "output_type": "execute_result"
    }
   ],
   "source": [
    "sinusoidal_positional_embedding(2, 10, 10)"
   ]
  },
  {
   "cell_type": "code",
   "execution_count": 9,
   "metadata": {},
   "outputs": [],
   "source": [
    "from fairseq.modules.sinusoidal_positional_embedding import SinusoidalPositionalEmbedding"
   ]
  },
  {
   "cell_type": "markdown",
   "metadata": {},
   "source": [
    "# Mix data"
   ]
  },
  {
   "cell_type": "code",
   "execution_count": 109,
   "metadata": {},
   "outputs": [],
   "source": [
    "lang = 'es'\n",
    "split = 'dev'"
   ]
  },
  {
   "cell_type": "code",
   "execution_count": 110,
   "metadata": {},
   "outputs": [],
   "source": [
    "split_full = f\"{split}_st_{lang}{'_ft' if lang == 'zh' and split == 'train' else ''}\""
   ]
  },
  {
   "cell_type": "code",
   "execution_count": 111,
   "metadata": {},
   "outputs": [
    {
     "name": "stdout",
     "output_type": "stream",
     "text": [
      "dev_st_es\n"
     ]
    }
   ],
   "source": [
    "print(split_full)"
   ]
  },
  {
   "cell_type": "code",
   "execution_count": 112,
   "metadata": {},
   "outputs": [],
   "source": [
    "samples_30 = read_tsv(f\"/compute/babel-14-5/siqiouya/en-{lang}/{split_full}_nospeaker_traj_30_filtered.tsv\")\n",
    "samples = read_tsv(f\"/compute/babel-14-5/siqiouya/en-{lang}/{split_full}_nospeaker_traj.tsv\")"
   ]
  },
  {
   "cell_type": "code",
   "execution_count": 113,
   "metadata": {},
   "outputs": [
    {
     "data": {
      "text/plain": [
       "(454, 1183)"
      ]
     },
     "execution_count": 113,
     "metadata": {},
     "output_type": "execute_result"
    }
   ],
   "source": [
    "len(samples_30), len(samples)"
   ]
  },
  {
   "cell_type": "code",
   "execution_count": 114,
   "metadata": {},
   "outputs": [],
   "source": [
    "for x in samples:\n",
    "    if 'src_phoneme' in x:\n",
    "        x.pop('src_phoneme')\n",
    "    if 'src_segments' in x:\n",
    "        x.pop('src_segments')"
   ]
  },
  {
   "cell_type": "code",
   "execution_count": 115,
   "metadata": {},
   "outputs": [],
   "source": [
    "samples = [x for x in samples if type(eval(x['trajectory'])) == list]"
   ]
  },
  {
   "cell_type": "code",
   "execution_count": 116,
   "metadata": {},
   "outputs": [
    {
     "data": {
      "text/plain": [
       "1183"
      ]
     },
     "execution_count": 116,
     "metadata": {},
     "output_type": "execute_result"
    }
   ],
   "source": [
    "len(samples)"
   ]
  },
  {
   "cell_type": "code",
   "execution_count": 122,
   "metadata": {},
   "outputs": [],
   "source": [
    "import sys\n",
    "sys.path.append(\"/home/siqiouya/work/sllama\")\n",
    "from train.dataset import PromptSpeechToTextDatasetCreator\n",
    "dataset_mix = PromptSpeechToTextDatasetCreator.from_tsv(\n",
    "    root=f\"/compute/babel-14-5/siqiouya/en-{lang}/\",\n",
    "    split=f\"dev_st_es_nospeaker_traj_30mix_filtered\",\n",
    ")"
   ]
  },
  {
   "cell_type": "code",
   "execution_count": 123,
   "metadata": {},
   "outputs": [
    {
     "data": {
      "application/vnd.jupyter.widget-view+json": {
       "model_id": "8931a02e43bc48c6999d2e279c72878b",
       "version_major": 2,
       "version_minor": 0
      },
      "text/plain": [
       "  0%|          | 0/1637 [00:00<?, ?it/s]"
      ]
     },
     "metadata": {},
     "output_type": "display_data"
    }
   ],
   "source": [
    "for i in tqdm(range(len(dataset_mix))):\n",
    "    if dataset_mix.trajectories[i] is None:\n",
    "        print(dataset_mix[i])\n",
    "        break"
   ]
  },
  {
   "cell_type": "code",
   "execution_count": 120,
   "metadata": {},
   "outputs": [],
   "source": [
    "new_samples = samples_30 + samples\n",
    "write_tsv(new_samples, f\"/compute/babel-14-5/siqiouya/en-{lang}/{split_full}_nospeaker_traj_30mix_filtered.tsv\")"
   ]
  },
  {
   "cell_type": "code",
   "execution_count": 121,
   "metadata": {},
   "outputs": [
    {
     "data": {
      "text/plain": [
       "'/compute/babel-14-5/siqiouya/en-es/dev_st_es_nospeaker_traj_30mix_filtered.tsv'"
      ]
     },
     "execution_count": 121,
     "metadata": {},
     "output_type": "execute_result"
    }
   ],
   "source": [
    "f\"/compute/babel-14-5/siqiouya/en-{lang}/{split_full}_nospeaker_traj_30mix_filtered.tsv\""
   ]
  },
  {
   "cell_type": "markdown",
   "metadata": {},
   "source": [
    "# RTF"
   ]
  },
  {
   "cell_type": "code",
   "execution_count": 134,
   "metadata": {},
   "outputs": [
    {
     "name": "stdout",
     "output_type": "stream",
     "text": [
      "seg 960 RTF: 0.434\n",
      "seg 1920 RTF: 0.311\n",
      "seg 2880 RTF: 0.258\n",
      "seg 3840 RTF: 0.240\n",
      "[0.43420646638745586, 0.3105447250020244, 0.2577829749858482, 0.2402853461595036]\n"
     ]
    }
   ],
   "source": [
    "suffices = ['']\n",
    "\n",
    "rtfs = []\n",
    "for seg_size in range(960, 4000, 960):\n",
    "    instances = read_logs(\"/compute/babel-5-23/siqiouya/runs/en-zh/8B-traj-s2-v3.6/last.ckpt/simul-results-full-betterfilterbadwords/cache1000_seg{}_beam4_ms0_nrnl100_nrns5/instances.log\".format(seg_size))\n",
    "\n",
    "    sum_audio_len = 0\n",
    "    sum_comp_len = 0\n",
    "    for inst in instances:\n",
    "        audio_len = inst['delays'][-1]\n",
    "        comp_len = inst['elapsed'][-1] - audio_len\n",
    "        sum_audio_len += audio_len\n",
    "        sum_comp_len += comp_len\n",
    "    print(\"seg {} RTF: {:.3f}\".format(seg_size, sum_comp_len / sum_audio_len))\n",
    "    rtfs.append(sum_comp_len / sum_audio_len)\n",
    "print(rtfs)\n"
   ]
  },
  {
   "cell_type": "code",
   "execution_count": 3,
   "metadata": {},
   "outputs": [
    {
     "name": "stdout",
     "output_type": "stream",
     "text": [
      "fn 1 RTF: 0.627\n",
      "fn 2 RTF: 0.660\n",
      "fn 3 RTF: 0.749\n",
      "fn 4 RTF: 0.863\n",
      "fn 5 RTF: 0.865\n",
      "fn 6 RTF: 0.963\n",
      "fn 7 RTF: 0.902\n",
      "[0.6272766492708965, 0.6602332743256539, 0.7490266849020142, 0.8632729736505114, 0.8652987829525057, 0.9626827018304407, 0.9023871640602232]\n"
     ]
    }
   ],
   "source": [
    "# StreamAtt\n",
    "suffices = ['']\n",
    "\n",
    "rtfs = []\n",
    "for fn in range(1, 8):\n",
    "    instances = read_logs(\"/compute/babel-5-23/siqiouya/runs/en-es/8B-s2-bi-v3.5.2/last.ckpt/streamatt/bsz1_layer14_t40_d10_fn{}/instances.log\".format(fn))\n",
    "\n",
    "    sum_audio_len = 0\n",
    "    sum_comp_len = 0\n",
    "    for inst in instances:\n",
    "        audio_len = inst['delays'][-1]\n",
    "        comp_len = inst['elapsed'][-1] - audio_len\n",
    "        sum_audio_len += audio_len\n",
    "        sum_comp_len += comp_len\n",
    "    \n",
    "    try:\n",
    "        print(\"fn {} RTF: {:.3f}\".format(fn, sum_comp_len / sum_audio_len))\n",
    "        rtfs.append(sum_comp_len / sum_audio_len)\n",
    "    except:\n",
    "        pass\n",
    "print(rtfs)\n"
   ]
  },
  {
   "cell_type": "markdown",
   "metadata": {},
   "source": [
    "# filter speaker information"
   ]
  },
  {
   "cell_type": "code",
   "execution_count": 2,
   "metadata": {},
   "outputs": [],
   "source": [
    "import re\n",
    "import csv\n",
    "from collections import defaultdict\n",
    "\n",
    "def extract_names_and_ted_talks(samples):\n",
    "    ted_talk_dict = defaultdict(set)\n",
    "    \n",
    "    # Regex for extracting names: matches 'Firstname Lastname:' and initials like 'CA:' or 'RSW:'\n",
    "    name_regex = re.compile(r'\\b(?<!\\\")(Audience|Narrator|Video|Man|Woman|Bono|Voice|Announcer|Rives|George W\\. Bush|Broadcasting|Boy|Professor|Engineer|Interviewer|Shereen El-Feki|Tina|Girl|Dad|Voice):|[A-Z][a-z]+(?:\\s[A-Z][a-z]+)*:|[A-Z]{1,3}:')\n",
    "\n",
    "    error_samples = []\n",
    "    cleaned_samples = []\n",
    "        \n",
    "    for sample in samples:\n",
    "        ted_id = sample['id'].split('_')[1]\n",
    "        names = name_regex.findall(sample['src_text'])\n",
    "        cleaned_names = {name.strip(':').strip() for name in names}\n",
    "\n",
    "        if len(cleaned_names) > 0:\n",
    "            ted_talk_dict[ted_id].update(cleaned_names)\n",
    "            error_samples.append(sample)\n",
    "        else:\n",
    "            cleaned_samples.append(sample)\n",
    "\n",
    "    return ted_talk_dict, error_samples, cleaned_samples\n",
    "\n",
    "# New product from Coke Japan: water salad. | New product from Coke Japan, water salad.\n",
    "# Consider this: Make a decision to live a carbon-neutral life.\n",
    "# Video: Don Blankenship: Let me be clear about it. | Let me be clear about it.\n",
    "# Richard Koshalek: [Unclear] starts from 2004. | THANK YOU. # (2400 frames) delete short utterance\n",
    "# DP: Wow.\t| David Perry: Wow. | Wow. \n",
    "# DNA: \n",
    "# Stephen Pink's Girlfriend: | Stephen Pinks Freundin:\n",
    "# Audience|Narrator|Video|Man|Woman|Bono|Voice|Announcer|Rives|George W. Bush|Broadcasting|Boy|Professor|Engineer|Interviewer|Shereen El-Feki|Tina|Girl|Dad|Voice\n",
    "# Then: working concentrated, without being frazzled.\tDann: konzentriert arbeiten, ohne genervt zu werden."
   ]
  },
  {
   "cell_type": "code",
   "execution_count": 3,
   "metadata": {},
   "outputs": [],
   "source": [
    "from sentence_transformers import SentenceTransformer\n",
    "model = SentenceTransformer('labse')"
   ]
  },
  {
   "cell_type": "code",
   "execution_count": 4,
   "metadata": {},
   "outputs": [],
   "source": [
    "file_path = '/compute/babel-14-5/siqiouya/en-es/train_st_es.tsv'"
   ]
  },
  {
   "cell_type": "code",
   "execution_count": 5,
   "metadata": {},
   "outputs": [],
   "source": [
    "samples = read_tsv(file_path)"
   ]
  },
  {
   "cell_type": "code",
   "execution_count": 13,
   "metadata": {},
   "outputs": [],
   "source": [
    "last_len = len(samples)\n",
    "while True:\n",
    "    ted_talk_data, error_samples, cleaned_samples = extract_names_and_ted_talks(samples)\n",
    "\n",
    "    if len(error_samples) == 0:\n",
    "        break\n",
    "\n",
    "    srcs = []\n",
    "    tgts = []\n",
    "    for x in error_samples:\n",
    "        src = x['src_text']\n",
    "        tgt = x['tgt_text']\n",
    "\n",
    "        src = src[:src.find(':')]\n",
    "        if ':' in tgt:\n",
    "            tgt = tgt[:tgt.find(':')]\n",
    "        elif '：' in tgt:\n",
    "            tgt = tgt[:tgt.find('：')]\n",
    "        else:\n",
    "            tgt = \"\"\n",
    "\n",
    "        srcs.append(src)\n",
    "        tgts.append(tgt)\n",
    "\n",
    "    src_embeddings = model.encode(srcs)\n",
    "    tgt_embeddings = model.encode(tgts)\n",
    "\n",
    "    sims = []\n",
    "    for i in range(len(src_embeddings)):\n",
    "        cosine_similarity = model.similarity(src_embeddings[i], tgt_embeddings[i]).item()\n",
    "        sims.append(cosine_similarity)\n",
    "    sims = np.array(sims)\n",
    "    src_lens = [len(src.split(' ')) for src in srcs]\n",
    "    tgt_lens = [len(tgt) if 'zh' in file_path else len(tgt.split(' ')) for tgt in tgts]\n",
    "    corrected_samples = []\n",
    "    \n",
    "    for i in range(len(sims)):\n",
    "        if re.search(r'One|Two|Three|Four|Five|Six|Seven|Eight|Nine|Ten|LG', srcs[i]):\n",
    "            continue\n",
    "        if srcs[i] != \"\" and tgts[i] != \"\" and src_lens[i] <= 3 and (tgt_lens[i] <= 3 or sims[i] > 0.5):\n",
    "            # print(error_samples[i]['src_text'], error_samples[i]['tgt_text'], sims[i], sep='\\n', end='\\n\\n')\n",
    "            x = copy.deepcopy(error_samples[i])\n",
    "            x['src_text'] = x['src_text'][len(srcs[i]) + 1:].strip()\n",
    "            x['tgt_text'] = x['tgt_text'][len(tgts[i]) + 1:].strip()\n",
    "            corrected_samples.append(x)\n",
    "\n",
    "    samples = cleaned_samples + corrected_samples"
   ]
  },
  {
   "cell_type": "code",
   "execution_count": 17,
   "metadata": {},
   "outputs": [],
   "source": [
    "ted_talk_data, error_samples, cleaned_samples = extract_names_and_ted_talks(samples)"
   ]
  },
  {
   "cell_type": "code",
   "execution_count": null,
   "metadata": {},
   "outputs": [],
   "source": [
    "write_tsv(samples, file_path.replace('.tsv', '_nospeaker.tsv'))"
   ]
  },
  {
   "cell_type": "code",
   "execution_count": null,
   "metadata": {},
   "outputs": [],
   "source": []
  },
  {
   "cell_type": "code",
   "execution_count": 31,
   "metadata": {},
   "outputs": [],
   "source": [
    "samples = read_tsv(\"/compute/babel-14-5/siqiouya/en-es/train_st_es.tsv\")\n",
    "samples_ns = read_tsv(\"/compute/babel-14-5/siqiouya/en-es/train_st_es_nospeaker.tsv\")"
   ]
  },
  {
   "cell_type": "code",
   "execution_count": 32,
   "metadata": {},
   "outputs": [],
   "source": [
    "samples_ns_f = []\n",
    "for x in samples_ns:\n",
    "    if ':' in x['src_text']:\n",
    "        samples_ns_f.append(x)"
   ]
  },
  {
   "cell_type": "code",
   "execution_count": 33,
   "metadata": {},
   "outputs": [],
   "source": [
    "samples_f = []\n",
    "for x in samples:\n",
    "    if ':' in x['src_text']:\n",
    "        samples_f.append(x)"
   ]
  },
  {
   "cell_type": "markdown",
   "metadata": {},
   "source": [
    "# llama attention"
   ]
  },
  {
   "cell_type": "code",
   "execution_count": 2,
   "metadata": {},
   "outputs": [
    {
     "data": {
      "application/vnd.jupyter.widget-view+json": {
       "model_id": "8d7e01166b9b4ad390615e3ee86a5523",
       "version_major": 2,
       "version_minor": 0
      },
      "text/plain": [
       "Loading checkpoint shards:   0%|          | 0/4 [00:00<?, ?it/s]"
      ]
     },
     "metadata": {},
     "output_type": "display_data"
    },
    {
     "name": "stderr",
     "output_type": "stream",
     "text": [
      "Setting `pad_token_id` to `eos_token_id`:128001 for open-end generation.\n"
     ]
    },
    {
     "name": "stdout",
     "output_type": "stream",
     "text": [
      "Hello, how are you? I hope you're doing well. I'm here to talk about something that's been on my mind\n"
     ]
    }
   ],
   "source": [
    "from transformers import AutoTokenizer, AutoModelForCausalLM\n",
    "tokenizer = AutoTokenizer.from_pretrained(\"/compute/babel-4-1/siqiouya/llama-3.1-8b-instruct-hf/\")\n",
    "model = AutoModelForCausalLM.from_pretrained(\"/compute/babel-4-1/siqiouya/llama-3.1-8b-instruct-hf/\")\n",
    "\n",
    "text = \"Hello, how are you?\"\n",
    "inputs = tokenizer(text, return_tensors=\"pt\")\n",
    "outputs = model.generate(**inputs)\n",
    "print(tokenizer.decode(outputs[0], skip_special_tokens=True))"
   ]
  },
  {
   "cell_type": "code",
   "execution_count": 4,
   "metadata": {},
   "outputs": [
    {
     "name": "stderr",
     "output_type": "stream",
     "text": [
      "Setting `pad_token_id` to `eos_token_id`:128001 for open-end generation.\n",
      "From v4.47 onwards, when a model cache is to be returned, `generate` will return a `Cache` instance instead by default (as opposed to the legacy tuple of tuples format). If you want to keep returning the legacy format, please set `return_legacy_cache=True`.\n"
     ]
    }
   ],
   "source": [
    "outputs = model.generate(**inputs, return_dict_in_generate=True, output_attentions=True)"
   ]
  },
  {
   "cell_type": "code",
   "execution_count": 15,
   "metadata": {},
   "outputs": [
    {
     "data": {
      "text/plain": [
       "torch.Size([1, 32, 7, 7])"
      ]
     },
     "execution_count": 15,
     "metadata": {},
     "output_type": "execute_result"
    }
   ],
   "source": [
    "outputs['attentions'][0][0].size()"
   ]
  },
  {
   "cell_type": "markdown",
   "metadata": {},
   "source": [
    "# inspect es"
   ]
  },
  {
   "cell_type": "code",
   "execution_count": 2,
   "metadata": {},
   "outputs": [],
   "source": [
    "samples = read_tsv(\"/compute/babel-14-5/siqiouya/en-es/train_st_es_traj_30_filtered.tsv\")"
   ]
  },
  {
   "cell_type": "code",
   "execution_count": 8,
   "metadata": {},
   "outputs": [
    {
     "data": {
      "text/plain": [
       "\"[' ', ' ', ' ', ' ', ' ', ' ', ' ', ' ', ' ', ' ', ' ', ' ', ' ', 'Es ', 'maravilloso estar ', 'aquí para ', 'hablar de mi ', 'travesía, ', 'hablar sobre mi silla de ', 'ruedas y sobre la ', 'libertad que ', 'me ha dado.  ', 'Empecé ', 'a usar silla de ', ' ', 'ruedas a los 16 años cuando una ', ' ', 'enfermedad prolongada ', 'cambió mi forma ', 'de acceder al ']\""
      ]
     },
     "execution_count": 8,
     "metadata": {},
     "output_type": "execute_result"
    }
   ],
   "source": [
    "x['trajectory']"
   ]
  },
  {
   "cell_type": "code",
   "execution_count": 14,
   "metadata": {},
   "outputs": [],
   "source": [
    "for x in samples:\n",
    "    try:\n",
    "        type(eval(x['trajectory'])[0])\n",
    "    except:\n",
    "        assert int(x['n_frames']) == 0"
   ]
  },
  {
   "cell_type": "markdown",
   "metadata": {},
   "source": [
    "# CPO"
   ]
  },
  {
   "cell_type": "code",
   "execution_count": 2,
   "metadata": {},
   "outputs": [],
   "source": [
    "samples = read_tsv(\"/compute/babel-14-5/siqiouya/en-zh/train_st_zh_ft_traj_30_filtered.tsv\")"
   ]
  },
  {
   "cell_type": "code",
   "execution_count": null,
   "metadata": {},
   "outputs": [],
   "source": [
    "print(samples[4]['src_text'], samples[4]['tgt_text'], sep='\\n\\n')"
   ]
  },
  {
   "cell_type": "code",
   "execution_count": 62,
   "metadata": {},
   "outputs": [],
   "source": [
    "logs = read_logs(\"/compute/babel-5-23/siqiouya/runs/8B-traj-s2-v3.3/last.ckpt/greedy_train_chunk30_po10k/cache4000_seg960_beam1_ms0_nrnl100_nrns3/0/instances.log\")"
   ]
  },
  {
   "cell_type": "code",
   "execution_count": null,
   "metadata": {},
   "outputs": [],
   "source": [
    "log = logs[19]\n",
    "print(log['prediction'])"
   ]
  },
  {
   "cell_type": "code",
   "execution_count": 95,
   "metadata": {},
   "outputs": [],
   "source": [
    "n_frame = int(log['source_length'] * 16)\n",
    "stepsize = int(0.96 * 16000)\n",
    "idx = -1\n",
    "new_traj = []\n",
    "for offset in range(0, n_frame, stepsize):\n",
    "    text = \"\"\n",
    "    while idx + 1 < len(log['delays']) and int(log['delays'][idx + 1]) * 16 < offset + stepsize:\n",
    "        idx += 1\n",
    "        text += log['prediction'][idx]\n",
    "    new_traj.append(text)"
   ]
  },
  {
   "cell_type": "code",
   "execution_count": null,
   "metadata": {},
   "outputs": [],
   "source": [
    "print(samples[19]['tgt_text'])"
   ]
  },
  {
   "cell_type": "code",
   "execution_count": null,
   "metadata": {},
   "outputs": [],
   "source": [
    "wav, sr = read_wav(log['source'][0])\n",
    "trajectory = new_traj\n",
    "\n",
    "step = int(sr * 0.96)\n",
    "for i, action in zip(range(0, len(wav), step), trajectory):\n",
    "    display(Audio(wav[i : i + step], rate=sr, autoplay=False))\n",
    "    print(i // step, \"[T_START]\", action, \"[T_END]\")"
   ]
  },
  {
   "cell_type": "code",
   "execution_count": null,
   "metadata": {},
   "outputs": [],
   "source": [
    "wav, sr = read_wav(log['source'][0])\n",
    "trajectory = new_traj\n",
    "\n",
    "step = int(sr * 0.96)\n",
    "for i, action in zip(range(0, len(wav), step), trajectory):\n",
    "    if i // step >= 231 - 10 and i // step <= 231 + 10:\n",
    "        display(Audio(wav[i : i + step], rate=sr, autoplay=False))\n",
    "        print(i // step, \"[T_START]\", action, \"[T_END]\")"
   ]
  },
  {
   "cell_type": "markdown",
   "metadata": {},
   "source": [
    "# Inspect Training po10k"
   ]
  },
  {
   "cell_type": "code",
   "execution_count": 2,
   "metadata": {},
   "outputs": [],
   "source": [
    "samples = read_tsv(\"/compute/babel-14-5/siqiouya/en-zh/train_st_zh_ft_traj_30_filtered_po10k_gpt-4o-mini-2024-07-18_fa_traj.tsv\")"
   ]
  },
  {
   "cell_type": "code",
   "execution_count": 8,
   "metadata": {},
   "outputs": [],
   "source": [
    "all_samples = read_tsv(\"/compute/babel-14-5/siqiouya/en-zh/train_st_zh_ft_traj_30_filtered.tsv\")\n",
    "id2samples = {x['id']: x for x in all_samples}"
   ]
  },
  {
   "cell_type": "code",
   "execution_count": null,
   "metadata": {},
   "outputs": [],
   "source": [
    "samples[0]"
   ]
  },
  {
   "cell_type": "code",
   "execution_count": null,
   "metadata": {},
   "outputs": [],
   "source": [
    "print('source:', samples[100]['src_text'], end='\\n\\n')\n",
    "print('target-gpt-4o-mini:', samples[100]['tgt_text'], end='\\n\\n')\n",
    "print('target-original:', id2samples[samples[100]['id']]['tgt_text'], end='\\n\\n')"
   ]
  },
  {
   "cell_type": "markdown",
   "metadata": {},
   "source": [
    "# Filter by ASR WER"
   ]
  },
  {
   "cell_type": "code",
   "execution_count": null,
   "metadata": {},
   "outputs": [],
   "source": [
    "import glob\n",
    "import os\n",
    "\n",
    "# Path to the ASR files\n",
    "base_path = \"/home/siqiouya/work/sllama/data\"\n",
    "\n",
    "# Get all asr.* files\n",
    "\n",
    "# Read and concatenate all ASR results\n",
    "all_asrs = []\n",
    "for i in range(8):\n",
    "    with open(os.path.join(base_path, f\"asr.{i}\")) as f:\n",
    "        asrs = [line.strip() for line in f.readlines() if line.strip() != \"\"]\n",
    "        all_asrs.extend(asrs)\n",
    "\n",
    "print(f\"Total ASR transcriptions: {len(all_asrs)}\")\n"
   ]
  },
  {
   "cell_type": "code",
   "execution_count": 5,
   "metadata": {},
   "outputs": [],
   "source": [
    "samples = read_tsv(\"/compute/babel-14-5/siqiouya/en-de/dev_st_de_traj_30.tsv\")"
   ]
  },
  {
   "cell_type": "code",
   "execution_count": null,
   "metadata": {},
   "outputs": [],
   "source": [
    "len(samples)"
   ]
  },
  {
   "cell_type": "code",
   "execution_count": 9,
   "metadata": {},
   "outputs": [],
   "source": [
    "from evaluate import load\n",
    "wer_scorer = load(\"wer\")"
   ]
  },
  {
   "cell_type": "code",
   "execution_count": 10,
   "metadata": {},
   "outputs": [],
   "source": [
    "all_asrs = np.array(all_asrs)"
   ]
  },
  {
   "cell_type": "code",
   "execution_count": null,
   "metadata": {},
   "outputs": [],
   "source": [
    "wers = []\n",
    "for i in tqdm(range(len(samples))):\n",
    "    asr_orig = samples[i]['src_text'].replace('\"', '').lower()\n",
    "    asr_whisper = all_asrs[i].lower()\n",
    "    wer = wer_scorer.compute(predictions=[asr_orig], references=[asr_whisper])\n",
    "    wers.append(wer)"
   ]
  },
  {
   "cell_type": "code",
   "execution_count": 12,
   "metadata": {},
   "outputs": [],
   "source": [
    "wers = np.array(wers)"
   ]
  },
  {
   "cell_type": "code",
   "execution_count": 13,
   "metadata": {},
   "outputs": [],
   "source": [
    "samples = np.array(samples)"
   ]
  },
  {
   "cell_type": "code",
   "execution_count": null,
   "metadata": {},
   "outputs": [],
   "source": [
    "(wers > 0.4).sum(), len(wers)"
   ]
  },
  {
   "cell_type": "code",
   "execution_count": null,
   "metadata": {},
   "outputs": [],
   "source": [
    "(wers > 0.4).nonzero()[0][:10]"
   ]
  },
  {
   "cell_type": "code",
   "execution_count": 17,
   "metadata": {},
   "outputs": [],
   "source": [
    "err_samples = samples[wers > 0.4]\n",
    "err_asrs = all_asrs[wers > 0.4]"
   ]
  },
  {
   "cell_type": "code",
   "execution_count": 18,
   "metadata": {},
   "outputs": [],
   "source": [
    "indices = list(range(len(err_samples)))\n",
    "np.random.shuffle(indices)"
   ]
  },
  {
   "cell_type": "code",
   "execution_count": null,
   "metadata": {},
   "outputs": [],
   "source": [
    "idx = indices[1]\n",
    "sample = err_samples[idx]\n",
    "asr_whisper = err_asrs[idx]\n",
    "print(sample['src_text'], end='\\n\\n')\n",
    "print(sample['tgt_text'], end='\\n\\n')\n",
    "print(asr_whisper)\n",
    "play(sample['audio'])"
   ]
  },
  {
   "cell_type": "code",
   "execution_count": 22,
   "metadata": {},
   "outputs": [],
   "source": [
    "# special case 1\n",
    "special_words = [\n",
    "    \"(Music)\", \n",
    "    \"(Laughter)\", \n",
    "    \"(Applause)\", \n",
    "]\n",
    "# special case 2\n",
    "## silence or music\n",
    "## usually src_text is empty and asr is shorter than 3 words\n",
    "\n",
    "# special case 3\n",
    "## zero length audio\n",
    "\n",
    "# special case 4 \n",
    "## whisper"
   ]
  },
  {
   "cell_type": "code",
   "execution_count": 23,
   "metadata": {},
   "outputs": [],
   "source": [
    "remove_mask = wers > 0.4"
   ]
  },
  {
   "cell_type": "code",
   "execution_count": 24,
   "metadata": {},
   "outputs": [],
   "source": [
    "for i in range(len(samples)):\n",
    "    if remove_mask[i]:\n",
    "        if len(all_asrs[i].split(' ')) <= 3:\n",
    "            if any(w in samples[i]['src_text'] for w in special_words) or samples[i]['src_text'] == \"\":\n",
    "                remove_mask[i] = False\n",
    "                # print(samples[i]['src_text'], end='\\n\\n')\n",
    "                # print(samples[i]['tgt_text'], end='\\n\\n')\n",
    "                # print(all_asrs[i])\n",
    "                # play(samples[i]['audio'])\n",
    "                # break\n"
   ]
  },
  {
   "cell_type": "code",
   "execution_count": 25,
   "metadata": {},
   "outputs": [],
   "source": [
    "filtered_samples = samples[~remove_mask]"
   ]
  },
  {
   "cell_type": "code",
   "execution_count": null,
   "metadata": {},
   "outputs": [],
   "source": [
    "indices = list(range(len(filtered_samples)))\n",
    "np.random.shuffle(indices)\n",
    "for i in indices[:10]:\n",
    "    print(filtered_samples[i]['src_text'], end='\\n\\n')\n",
    "    print(filtered_samples[i]['tgt_text'], end='\\n\\n')\n",
    "    print(all_asrs[~remove_mask][i])\n",
    "    try:\n",
    "        play(filtered_samples[i]['audio'])\n",
    "    except:\n",
    "        pass"
   ]
  },
  {
   "cell_type": "code",
   "execution_count": 30,
   "metadata": {},
   "outputs": [],
   "source": [
    "write_tsv(filtered_samples, \"/compute/babey arel-14-5/siqiouya/en-de/dev_st_de_traj_30_filtered.tsv\")"
   ]
  },
  {
   "cell_type": "code",
   "execution_count": null,
   "metadata": {},
   "outputs": [],
   "source": [
    "samples = read_tsv(\"/compute/babel-14-5/siqiouya/en-de/dev_st_de_traj_30.tsv\")"
   ]
  },
  {
   "cell_type": "code",
   "execution_count": null,
   "metadata": {},
   "outputs": [],
   "source": [
    "len(samples)"
   ]
  },
  {
   "cell_type": "code",
   "execution_count": null,
   "metadata": {},
   "outputs": [],
   "source": [
    "from evaluate import load\n",
    "wer_scorer = load(\"wer\")"
   ]
  },
  {
   "cell_type": "code",
   "execution_count": null,
   "metadata": {},
   "outputs": [],
   "source": [
    "all_asrs = np.array(all_asrs)"
   ]
  },
  {
   "cell_type": "code",
   "execution_count": null,
   "metadata": {},
   "outputs": [],
   "source": [
    "wers = []\n",
    "for i in tqdm(range(len(samples))):\n",
    "    asr_orig = samples[i]['src_text'].replace('\"', '').lower()\n",
    "    asr_whisper = all_asrs[i].lower()\n",
    "    wer = wer_scorer.compute(predictions=[asr_orig], references=[asr_whisper])\n",
    "    wers.append(wer)"
   ]
  },
  {
   "cell_type": "code",
   "execution_count": null,
   "metadata": {},
   "outputs": [],
   "source": [
    "wers = np.array(wers)"
   ]
  },
  {
   "cell_type": "code",
   "execution_count": null,
   "metadata": {},
   "outputs": [],
   "source": [
    "samples = np.array(samples)"
   ]
  },
  {
   "cell_type": "code",
   "execution_count": null,
   "metadata": {},
   "outputs": [],
   "source": [
    "(wers > 0.4).sum(), len(wers)"
   ]
  },
  {
   "cell_type": "code",
   "execution_count": null,
   "metadata": {},
   "outputs": [],
   "source": [
    "(wers > 0.4).nonzero()[0][:10]"
   ]
  },
  {
   "cell_type": "code",
   "execution_count": null,
   "metadata": {},
   "outputs": [],
   "source": [
    "err_samples = samples[wers > 0.4]\n",
    "err_asrs = all_asrs[wers > 0.4]"
   ]
  },
  {
   "cell_type": "code",
   "execution_count": null,
   "metadata": {},
   "outputs": [],
   "source": [
    "indices = list(range(len(err_samples)))\n",
    "np.random.shuffle(indices)"
   ]
  },
  {
   "cell_type": "code",
   "execution_count": null,
   "metadata": {},
   "outputs": [],
   "source": [
    "idx = indices[1]\n",
    "sample = err_samples[idx]\n",
    "asr_whisper = err_asrs[idx]\n",
    "print(sample['src_text'], end='\\n\\n')\n",
    "print(sample['tgt_text'], end='\\n\\n')\n",
    "print(asr_whisper)\n",
    "play(sample['audio'])"
   ]
  },
  {
   "cell_type": "code",
   "execution_count": null,
   "metadata": {},
   "outputs": [],
   "source": [
    "# special case 1\n",
    "special_words = [\n",
    "    \"(Music)\", \n",
    "    \"(Laughter)\", \n",
    "    \"(Applause)\", \n",
    "]\n",
    "# special case 2\n",
    "## silence or music\n",
    "## usually src_text is empty and asr is shorter than 3 words\n",
    "\n",
    "# special case 3\n",
    "## zero length audio\n",
    "\n",
    "# special case 4 \n",
    "## whisper"
   ]
  },
  {
   "cell_type": "code",
   "execution_count": null,
   "metadata": {},
   "outputs": [],
   "source": [
    "remove_mask = wers > 0.4"
   ]
  },
  {
   "cell_type": "code",
   "execution_count": null,
   "metadata": {},
   "outputs": [],
   "source": [
    "for i in range(len(samples)):\n",
    "    if remove_mask[i]:\n",
    "        if len(all_asrs[i].split(' ')) <= 3:\n",
    "            if any(w in samples[i]['src_text'] for w in special_words) or samples[i]['src_text'] == \"\":\n",
    "                remove_mask[i] = False\n",
    "                # print(samples[i]['src_text'], end='\\n\\n')\n",
    "                # print(samples[i]['tgt_text'], end='\\n\\n')\n",
    "                # print(all_asrs[i])\n",
    "                # play(samples[i]['audio'])\n",
    "                # break\n"
   ]
  },
  {
   "cell_type": "code",
   "execution_count": null,
   "metadata": {},
   "outputs": [],
   "source": [
    "filtered_samples = samples[~remove_mask]"
   ]
  },
  {
   "cell_type": "code",
   "execution_count": null,
   "metadata": {},
   "outputs": [],
   "source": [
    "indices = list(range(len(filtered_samples)))\n",
    "np.random.shuffle(indices)\n",
    "for i in indices[:10]:\n",
    "    print(filtered_samples[i]['src_text'], end='\\n\\n')\n",
    "    print(filtered_samples[i]['tgt_text'], end='\\n\\n')\n",
    "    print(all_asrs[~remove_mask][i])\n",
    "    try:\n",
    "        play(filtered_samples[i]['audio'])\n",
    "    except:\n",
    "        pass"
   ]
  },
  {
   "cell_type": "code",
   "execution_count": null,
   "metadata": {},
   "outputs": [],
   "source": [
    "write_tsv(filtered_samples, \"/compute/babel-14-5/siqiouya/en-de/dev_st_de_traj_30_filtered.tsv\")"
   ]
  },
  {
   "cell_type": "markdown",
   "metadata": {},
   "source": [
    "# Whisper ASR"
   ]
  },
  {
   "cell_type": "code",
   "execution_count": null,
   "metadata": {},
   "outputs": [],
   "source": [
    "# Whisper ASR\n",
    "import torch\n",
    "from transformers import AutoModelForSpeechSeq2Seq, AutoProcessor, pipeline\n",
    "from datasets import load_dataset\n",
    "\n",
    "# load model and processor\n",
    "# model_id = \"openai/whisper-large-v3-turbo\"\n",
    "model_id = \"openai/whisper-large-v3\"\n",
    "# model_id = \"openai/whisper-medium.en\"\n",
    "torch_dtype = torch.float16\n",
    "model = AutoModelForSpeechSeq2Seq.from_pretrained(\n",
    "    model_id, torch_dtype=torch_dtype, low_cpu_mem_usage=True, use_safetensors=True\n",
    ")\n",
    "model.to('cuda')\n",
    "processor = AutoProcessor.from_pretrained(model_id)\n",
    "forced_decoder_ids = processor.get_decoder_prompt_ids(language=\"english\", task=\"transcribe\")\n",
    "\n",
    "pipe = pipeline(\n",
    "    \"automatic-speech-recognition\",\n",
    "    model=model,\n",
    "    tokenizer=processor.tokenizer,\n",
    "    feature_extractor=processor.feature_extractor,\n",
    "    chunk_length_s=30,\n",
    "    batch_size=16,  # batch size for inference - set based on your device\n",
    "    torch_dtype=torch_dtype,\n",
    "    device='cuda',\n",
    ")"
   ]
  },
  {
   "cell_type": "code",
   "execution_count": 5,
   "metadata": {},
   "outputs": [],
   "source": [
    "samples = read_tsv(\"/compute/babel-14-5/siqiouya/en-zh/train_st_zh_ft_traj_45.tsv\")"
   ]
  },
  {
   "cell_type": "code",
   "execution_count": null,
   "metadata": {},
   "outputs": [],
   "source": [
    "asrs = []\n",
    "for i in tqdm(range(5197, 5197 + 1, 16)):\n",
    "    batch = err_samples[i:i + 16]\n",
    "    wav_paths = [x['audio'] for x in batch]\n",
    "    offsets = [int(x.split(':')[1]) for x in wav_paths]\n",
    "    durations = [int(x.split(':')[2]) for x in wav_paths]\n",
    "    sources, rates = zip(*[read_wav(x) for x in wav_paths])\n",
    "    \n",
    "    # Find max length in batch\n",
    "    max_len = max(len(x) for x in sources)\n",
    "\n",
    "    # Pad each source with zeros to match max length\n",
    "    padded_sources = []\n",
    "    for source in sources:\n",
    "        padding = np.zeros(max_len - len(source))\n",
    "        padded = np.concatenate([source, padding])\n",
    "        padded_sources.append(padded)\n",
    "\n",
    "    transcriptions = [\n",
    "        t['text'] \n",
    "        for t in pipe(padded_sources, generate_kwargs={\"forced_decoder_ids\": forced_decoder_ids})\n",
    "    ]\n",
    "\n",
    "    # # Stack into batch\n",
    "    # sources = np.stack(padded_sources)\n",
    "\n",
    "    # input_features = processor(\n",
    "    #     sources, \n",
    "    #     truncation=False, \n",
    "    #     padding=\"longest\",\n",
    "    #     sampling_rate=16000, \n",
    "    #     return_attention_mask=True,\n",
    "    #     return_tensors=\"pt\", \n",
    "    #     language=\"english\",\n",
    "    # )\n",
    "    # input_features = input_features.to(\"cuda\", torch.float16)\n",
    "    # # generate token ids\n",
    "    # predicted_ids = model.generate(**input_features, num_beams=4, return_timestamps=True)\n",
    "    # # decode token ids to text\n",
    "    # transcriptions = processor.batch_decode(predicted_ids, skip_special_tokens=True)\n",
    "    asrs.extend([t.strip() for t in transcriptions])"
   ]
  },
  {
   "cell_type": "code",
   "execution_count": null,
   "metadata": {},
   "outputs": [],
   "source": [
    "print(asrs[0])"
   ]
  },
  {
   "cell_type": "markdown",
   "metadata": {},
   "source": [
    "# Overlap between 45 chunks"
   ]
  },
  {
   "cell_type": "code",
   "execution_count": 21,
   "metadata": {},
   "outputs": [],
   "source": [
    "samples = read_tsv(\"/compute/babel-14-5/siqiouya/en-zh/comet_0.50_traj_45.tsv\")"
   ]
  },
  {
   "cell_type": "code",
   "execution_count": 22,
   "metadata": {},
   "outputs": [],
   "source": [
    "overlaps = []\n",
    "for i in range(len(samples) - 1):\n",
    "    wav_path, offset, duration = samples[i]['audio'].split(':')\n",
    "    wav_path_next, offset_next, duration_next = samples[i + 1]['audio'].split(':')\n",
    "    if wav_path == wav_path_next:\n",
    "        offset = int(offset)\n",
    "        duration = int(duration)\n",
    "        offset_next = int(offset_next)\n",
    "        duration_next = int(duration_next)\n",
    "        overlap = max(0, offset + duration - offset_next)\n",
    "        overlaps.append(overlap)"
   ]
  },
  {
   "cell_type": "code",
   "execution_count": 23,
   "metadata": {},
   "outputs": [],
   "source": [
    "overlaps = np.array(overlaps)"
   ]
  },
  {
   "cell_type": "code",
   "execution_count": null,
   "metadata": {},
   "outputs": [],
   "source": [
    "overlaps.mean() / 16000"
   ]
  },
  {
   "cell_type": "markdown",
   "metadata": {},
   "source": [
    "# Examine instances"
   ]
  },
  {
   "cell_type": "code",
   "execution_count": 28,
   "metadata": {},
   "outputs": [],
   "source": [
    "logs = read_logs(\"/compute/babel-5-23/siqiouya/runs/en-zh/8B-traj-s2-v3.5_sc30/last.ckpt/simul-results-full-betterfilterbadwords/cache1000_seg2880_beam4_ms0_nrnl100_nrns5/instances.log\")"
   ]
  },
  {
   "cell_type": "code",
   "execution_count": 30,
   "metadata": {},
   "outputs": [],
   "source": [
    "hyps = [x['prediction'] for x in logs]\n",
    "refs = [x['reference'] for x in logs]"
   ]
  },
  {
   "cell_type": "code",
   "execution_count": 31,
   "metadata": {},
   "outputs": [],
   "source": [
    "import sacrebleu"
   ]
  },
  {
   "cell_type": "code",
   "execution_count": 34,
   "metadata": {},
   "outputs": [
    {
     "name": "stdout",
     "output_type": "stream",
     "text": [
      "BLEU = 17.33 57.4/25.4/11.1/5.6 (BP = 1.000 ratio = 1.264 hyp_len = 1028 ref_len = 813)\n",
      "BLEU = 29.95 78.6/43.9/25.0/15.1 (BP = 0.887 ratio = 0.893 hyp_len = 1475 ref_len = 1652)\n",
      "BLEU = 31.35 77.3/43.2/24.3/15.2 (BP = 0.941 ratio = 0.943 hyp_len = 1083 ref_len = 1149)\n",
      "BLEU = 21.71 77.5/39.3/18.5/9.3 (BP = 0.807 ratio = 0.824 hyp_len = 4756 ref_len = 5773)\n",
      "BLEU = 36.32 79.3/47.9/28.5/17.4 (BP = 0.981 ratio = 0.981 hyp_len = 2297 ref_len = 2341)\n",
      "BLEU = 36.53 83.9/51.0/28.3/16.8 (BP = 0.967 ratio = 0.967 hyp_len = 3802 ref_len = 3931)\n",
      "BLEU = 33.31 80.6/46.6/24.7/13.8 (BP = 0.990 ratio = 0.990 hyp_len = 3823 ref_len = 3860)\n",
      "BLEU = 29.82 71.0/39.6/21.9/12.9 (BP = 1.000 ratio = 1.092 hyp_len = 1598 ref_len = 1463)\n",
      "BLEU = 36.35 80.7/48.4/27.8/16.9 (BP = 0.988 ratio = 0.989 hyp_len = 2157 ref_len = 2182)\n",
      "BLEU = 33.94 77.3/42.8/25.3/15.9 (BP = 0.999 ratio = 0.999 hyp_len = 1221 ref_len = 1222)\n",
      "BLEU = 32.52 77.3/43.5/24.0/13.9 (BP = 1.000 ratio = 1.010 hyp_len = 2362 ref_len = 2338)\n",
      "BLEU = 32.44 80.8/47.5/24.6/12.9 (BP = 0.976 ratio = 0.977 hyp_len = 5840 ref_len = 5980)\n",
      "BLEU = 34.64 81.7/48.4/29.3/18.4 (BP = 0.906 ratio = 0.910 hyp_len = 660 ref_len = 725)\n",
      "BLEU = 25.61 68.5/35.8/18.0/9.7 (BP = 1.000 ratio = 1.039 hyp_len = 752 ref_len = 724)\n",
      "BLEU = 34.88 75.6/45.5/26.6/16.2 (BP = 1.000 ratio = 1.074 hyp_len = 1996 ref_len = 1858)\n",
      "BLEU = 34.91 80.8/48.0/26.3/15.0 (BP = 0.992 ratio = 0.992 hyp_len = 4113 ref_len = 4147)\n",
      "BLEU = 31.11 83.7/48.0/25.4/13.9 (BP = 0.903 ratio = 0.907 hyp_len = 5118 ref_len = 5643)\n",
      "BLEU = 33.16 76.9/46.8/24.9/13.5 (BP = 1.000 ratio = 1.075 hyp_len = 5065 ref_len = 4713)\n",
      "BLEU = 27.81 76.6/41.3/20.4/10.8 (BP = 0.964 ratio = 0.965 hyp_len = 1416 ref_len = 1468)\n",
      "BLEU = 22.10 63.1/31.2/14.9/8.2 (BP = 1.000 ratio = 1.085 hyp_len = 1328 ref_len = 1224)\n",
      "BLEU = 33.88 75.0/43.7/25.6/15.7 (BP = 1.000 ratio = 1.024 hyp_len = 1758 ref_len = 1717)\n",
      "BLEU = 26.85 72.5/38.0/18.6/10.2 (BP = 1.000 ratio = 1.100 hyp_len = 2750 ref_len = 2500)\n",
      "BLEU = 25.22 72.5/37.0/17.6/9.7 (BP = 0.970 ratio = 0.970 hyp_len = 1573 ref_len = 1621)\n",
      "BLEU = 34.61 80.6/47.3/26.4/15.8 (BP = 0.974 ratio = 0.974 hyp_len = 3890 ref_len = 3994)\n",
      "BLEU = 28.01 74.2/40.6/19.9/10.3 (BP = 1.000 ratio = 1.088 hyp_len = 6975 ref_len = 6412)\n",
      "BLEU = 34.49 81.1/47.6/26.3/14.7 (BP = 0.986 ratio = 0.987 hyp_len = 3448 ref_len = 3495)\n",
      "BLEU = 33.75 74.1/44.6/25.4/15.5 (BP = 1.000 ratio = 1.006 hyp_len = 1399 ref_len = 1390)\n"
     ]
    }
   ],
   "source": [
    "for hyp, ref in zip(hyps, refs):\n",
    "    print(sacrebleu.corpus_bleu([hyp], [[ref]], tokenize=\"zh\"))"
   ]
  },
  {
   "cell_type": "code",
   "execution_count": 37,
   "metadata": {},
   "outputs": [
    {
     "name": "stdout",
     "output_type": "stream",
     "text": [
      "接下来我要想象一个能给你超人能力的机器人或者是另一个能让威尔士人站立和行走的机器人我们在伯克利邦尼克斯称之为骨骼机器人这些仅仅是你早上穿上的东西它们会给你额外的力量加快你的速度帮助你比如说，帮助你保持平衡事实上，这才是真正的整合人和机器的结合不仅如此它还能整合你和宇宙以及其他的设备这不仅仅是蓝天般的想象而是我们正在做的工作通过谈论美国士兵他们平均携带100磅的装备他们被要求携带更多的设备显然，这会导致复杂的后果包括背部损伤百分之三十的士兵患有慢性背部损伤我们想，我们可以看待这个挑战并创造一个外骨骼来解决这个问题我现在要向你们介绍Hark或者说人类通用负载器(笑声)在崎岖不平的路上走了很长时间。它灵活的设计可以让它保持俯卧、爬行和高敏捷性运动。它可以感知我想做什么，去哪里，然后增强我的力量和耐力。我们已经准备好了。与我们的战略合作伙伴一起，我们推出了这个设备，这个新的外骨骼。这是真实的。现在，让我们把我们的目光转向用户，特别是某些人，他们对此非常感兴趣。有6800万人被估计在世界各地的轮椅上。这大约是总人口的百分之一。这实际上是一个保守的估计。我们在这里谈论的是很年轻的人，他们患有脊髓损伤，在生命的黄金时期，20岁、30岁、40岁时，他们遭遇了一场灾难。轮椅是唯一的选择，但它也是人口数量不断增长的第18个群体。唯一的选择是中风或其他并发症，这就是轮椅。这实际上是过去500年来，因为它的引入非常成功，我必须说。所以我们认为我们可以开始编写一款全新的流动性章节。让我现在介绍给你们Elex，它是阿曼达·博克斯特尔（AmandaBoxtel）穿着的，她是一位19岁的脊髓损伤患者，这使她无法行走。19年来，直到现在，她都无法行走。(掌声)阿曼达穿着我们的Elex。它有传感器。它是完全无创的。脊椎中的传感器会发送信号回去，这些信号会传送到后面坐着的电脑。它们有电池，这些电池会驱动在臀部后面的电机，以及膝盖的电机，这些电机会以一种很顺畅，非常自然的步伐前进。它已经24岁了，在我游戏的顶峰时期，一个怪物在丹·赫尔斯基滑雪时瘫痪了我，在那一瞬间，我失去了所有的感觉，以及我下半身的运动能力。不久之后，一个医生走进了我的病房，他对我说，“阿曼达，你再也不会走路了。”那是19年前的事了。他夺走了我生命中的一分一毫的希望。适应技术已经让我学会了如何再次滑雪，如何攀岩，甚至如何骑单车。但迄今为止，没有任何发明能够让我再次行走。如你所见，我们有技术，我们有平台，我们可以坐下来和你们讨论。在我们的掌握之中，我们拥有所有的潜力去改变生活，去改变未来的一代人，不仅仅是为了士兵，也不仅仅是为了阿曼达和其他使用者，而是为了每一个人。谢谢。\n"
     ]
    }
   ],
   "source": [
    "print(hyps[2])"
   ]
  },
  {
   "cell_type": "markdown",
   "metadata": {},
   "source": [
    "# Diff two samples"
   ]
  },
  {
   "cell_type": "code",
   "execution_count": 2,
   "metadata": {},
   "outputs": [],
   "source": [
    "root = \"/compute/babel-14-5/siqiouya/en-zh\"\n",
    "train_path = os.path.join(root, \"train.tsv\")\n",
    "train_st_zh_path = os.path.join(root, \"train_st_zh.tsv\")\n",
    "extra_ft_path = os.path.join(root, \"output.tsv\")\n",
    "comet_ft_path = os.path.join(root, \"comet_0.50_complement_tower.tsv\")"
   ]
  },
  {
   "cell_type": "code",
   "execution_count": null,
   "metadata": {},
   "outputs": [],
   "source": [
    "train_samples = read_tsv(train_path)\n",
    "train_st_zh_samples = read_tsv(train_st_zh_path)\n",
    "extra_ft_samples = read_tsv(extra_ft_path)\n",
    "comet_ft_samples = read_tsv(comet_ft_path)\n",
    "len(train_samples), len(extra_ft_samples), len(comet_ft_samples)"
   ]
  },
  {
   "cell_type": "code",
   "execution_count": null,
   "metadata": {},
   "outputs": [],
   "source": [
    "comet_ft_samples[6]"
   ]
  },
  {
   "cell_type": "code",
   "execution_count": null,
   "metadata": {},
   "outputs": [],
   "source": [
    "len(train_samples) - len(train_st_zh_samples)"
   ]
  },
  {
   "cell_type": "code",
   "execution_count": 45,
   "metadata": {},
   "outputs": [],
   "source": [
    "for x in train_st_zh_samples:\n",
    "    if x['audio'].startswith(\"en-zh/data/train/wav\"):\n",
    "        x['audio'] = \"/compute/babel-14-5/siqiouya/\" + x['audio']"
   ]
  },
  {
   "cell_type": "code",
   "execution_count": 48,
   "metadata": {},
   "outputs": [],
   "source": [
    "write_tsv(train_st_zh_samples, train_st_zh_path)"
   ]
  },
  {
   "cell_type": "code",
   "execution_count": 46,
   "metadata": {},
   "outputs": [],
   "source": [
    "train_st_zh_audio = set(x['audio'] for x in train_st_zh_samples)\n",
    "train_audio = set(x['audio'] for x in train_samples)\n",
    "extra_samples = []\n",
    "for x in train_samples:\n",
    "    if x['audio'] not in train_st_zh_audio:\n",
    "        extra_samples.append(x)"
   ]
  },
  {
   "cell_type": "code",
   "execution_count": 49,
   "metadata": {},
   "outputs": [],
   "source": [
    "write_tsv(extra_samples, os.path.join(root, \"train_extra.tsv\"))"
   ]
  },
  {
   "cell_type": "code",
   "execution_count": 5,
   "metadata": {},
   "outputs": [],
   "source": [
    "audio2tgtext = {}\n",
    "for x in extra_ft_samples:\n",
    "    audio2tgtext[x['audio']] = x['translation']"
   ]
  },
  {
   "cell_type": "code",
   "execution_count": null,
   "metadata": {},
   "outputs": [],
   "source": [
    "cnt = 0\n",
    "for x in train_samples:\n",
    "    if x['audio'] in audio2tgtext:\n",
    "        x['tgt_text'] = audio2tgtext[x['audio']]\n",
    "        cnt += 1\n",
    "cnt"
   ]
  },
  {
   "cell_type": "code",
   "execution_count": 7,
   "metadata": {},
   "outputs": [],
   "source": [
    "orig_train_samples = read_tsv(train_path)"
   ]
  },
  {
   "cell_type": "code",
   "execution_count": null,
   "metadata": {},
   "outputs": [],
   "source": [
    "cnt = 0\n",
    "for x1, x2 in zip(orig_train_samples, train_samples):\n",
    "    if x1['tgt_text'] != x2['tgt_text']:\n",
    "        cnt += 1\n",
    "cnt"
   ]
  },
  {
   "cell_type": "code",
   "execution_count": 9,
   "metadata": {},
   "outputs": [],
   "source": [
    "id2sample = {}\n",
    "for x in train_st_zh_samples:\n",
    "    id2sample[x['id']] = x"
   ]
  },
  {
   "cell_type": "code",
   "execution_count": 10,
   "metadata": {},
   "outputs": [],
   "source": [
    "comet_ft_samples_full = []\n",
    "for x in comet_ft_samples:\n",
    "    if x['id'] in id2sample:\n",
    "        comet_ft_samples_full.append((id2sample[x['id']]['audio'], x['translation']))"
   ]
  },
  {
   "cell_type": "code",
   "execution_count": 11,
   "metadata": {},
   "outputs": [],
   "source": [
    "for i in range(len(comet_ft_samples_full)):\n",
    "    comet_ft_samples_full[i] = [comet_ft_samples_full[i][0], comet_ft_samples_full[i][1]]\n",
    "    if comet_ft_samples_full[i][0].startswith(\"en-zh/data/train/wav\"):\n",
    "        comet_ft_samples_full[i][0] = \"/compute/babel-14-5/siqiouya/\" + comet_ft_samples_full[i][0]"
   ]
  },
  {
   "cell_type": "code",
   "execution_count": null,
   "metadata": {},
   "outputs": [],
   "source": [
    "from IPython.display import Audio\n",
    "Audio(read_wav(\"/compute/babel-14-5/siqiouya/en-zh//data/train/wav/ted_2005.wav:19080960:138559\")[0], rate=16000)"
   ]
  },
  {
   "cell_type": "code",
   "execution_count": 12,
   "metadata": {},
   "outputs": [],
   "source": [
    "audio2tgtext2 = {}\n",
    "for x in comet_ft_samples_full:\n",
    "    audio2tgtext2[x[0]] = x[1]"
   ]
  },
  {
   "cell_type": "code",
   "execution_count": null,
   "metadata": {},
   "outputs": [],
   "source": [
    "cnt = 0\n",
    "train_audio_set = set()\n",
    "for x in train_samples:\n",
    "    x['audio'] = x['audio'].replace('//', '/')\n",
    "    if x['audio'] in audio2tgtext2:\n",
    "        x['tgt_text'] = audio2tgtext2[x['audio']]\n",
    "        cnt += 1\n",
    "cnt"
   ]
  },
  {
   "cell_type": "code",
   "execution_count": null,
   "metadata": {},
   "outputs": [],
   "source": [
    "cnt = 0\n",
    "for x1, x2 in zip(orig_train_samples, train_samples):\n",
    "    if x1['tgt_text'] != x2['tgt_text']:\n",
    "        # print(x1['src_text'], x1['tgt_text'], x2['tgt_text'], sep='\\n', end='\\n\\n')\n",
    "        cnt += 1\n",
    "cnt"
   ]
  },
  {
   "cell_type": "code",
   "execution_count": 15,
   "metadata": {},
   "outputs": [],
   "source": [
    "write_tsv(train_samples, os.path.join(root, \"train_ft.tsv\"))"
   ]
  },
  {
   "cell_type": "markdown",
   "metadata": {},
   "source": [
    "# Inspect instances"
   ]
  },
  {
   "cell_type": "code",
   "execution_count": null,
   "metadata": {},
   "outputs": [],
   "source": [
    "from comet import download_model, load_from_checkpoint\n",
    "model_path = download_model(\"Unbabel/XCOMET-XL\", saving_directory=\"/data/user_data/siqiouya/runs/pretrained/XCOMET-XL\")\n",
    "model = load_from_checkpoint(model_path)"
   ]
  },
  {
   "cell_type": "code",
   "execution_count": 4,
   "metadata": {},
   "outputs": [],
   "source": [
    "samples = read_tsv(\"/compute/babel-14-5/siqiouya/en-zh/dev_fa_traj_45.tsv\")"
   ]
  },
  {
   "cell_type": "code",
   "execution_count": 5,
   "metadata": {},
   "outputs": [],
   "source": [
    "path = \"/compute/babel-5-23/siqiouya/runs/8B-traj-s2-v3.0/last.ckpt/sampling_dev_for_qe/cache4000_seg960_beam1_ms0_topp1.0_topk0_epsilon0.1_temp1.0/{}/instances.log\"\n",
    "logs_per_seed = []\n",
    "for i in range(16):\n",
    "    logs_per_seed.append(read_logs(path.format(i)))"
   ]
  },
  {
   "cell_type": "code",
   "execution_count": null,
   "metadata": {},
   "outputs": [],
   "source": [
    "qe_scores_per_seed = []\n",
    "for i in range(16):\n",
    "    data = [\n",
    "        {\n",
    "            \"src\": samples[j]['src_text'],\n",
    "            \"ref\": samples[j]['tgt_text'],\n",
    "            \"mt\": logs_per_seed[i][j]['prediction']\n",
    "        }\n",
    "        for j in range(len(logs_per_seed[i]))\n",
    "    ]\n",
    "    qe_output = model.predict(data, batch_size=4, gpus=1)\n",
    "    qe_scores_per_seed.append(qe_output.scores)"
   ]
  },
  {
   "cell_type": "code",
   "execution_count": null,
   "metadata": {},
   "outputs": [],
   "source": [
    "greedy_log_path = \"/compute/babel-5-23/siqiouya/runs/8B-traj-s2-v3.0/last.ckpt/greedy_dev_for_qe/cache4000_seg960_beam1_ms0/instances.log\"\n",
    "greedy_logs = read_logs(greedy_log_path)"
   ]
  },
  {
   "cell_type": "code",
   "execution_count": null,
   "metadata": {},
   "outputs": [],
   "source": [
    "data = [\n",
    "    {\n",
    "        \"src\": samples[j]['src_text'],\n",
    "        \"ref\": samples[j]['tgt_text'],\n",
    "        \"mt\": greedy_logs[j]['prediction']\n",
    "    }\n",
    "    for j in range(len(samples))\n",
    "]\n",
    "qe_output = model.predict(data, batch_size=4, gpus=1)\n",
    "qe_scores_greedy = qe_output.scores"
   ]
  },
  {
   "cell_type": "code",
   "execution_count": null,
   "metadata": {},
   "outputs": [],
   "source": [
    "data = [\n",
    "    {\n",
    "        \"src\": samples[j]['src_text'],\n",
    "        \"ref\": samples[j]['tgt_text'],\n",
    "        \"mt\": samples[j]['tgt_text']\n",
    "    }\n",
    "    for j in range(len(samples))\n",
    "]\n",
    "qe_output = model.predict(data, batch_size=4, gpus=1)\n",
    "qe_scores_ref = qe_output.scores"
   ]
  },
  {
   "cell_type": "code",
   "execution_count": 11,
   "metadata": {},
   "outputs": [],
   "source": [
    "qe_scores_per_seed = np.array(qe_scores_per_seed)\n",
    "qe_scores_ref = np.array(qe_scores_ref)"
   ]
  },
  {
   "cell_type": "code",
   "execution_count": null,
   "metadata": {},
   "outputs": [],
   "source": [
    "qe_scores_per_seed[:, 0].argmax()"
   ]
  },
  {
   "cell_type": "code",
   "execution_count": null,
   "metadata": {},
   "outputs": [],
   "source": [
    "for idx in range(len(samples[:10])):\n",
    "    max_log_idx = qe_scores_per_seed[:, idx].argmax()\n",
    "    print(samples[idx]['src_text'], end='\\n\\n')\n",
    "    print(qe_scores_per_seed[max_log_idx, idx], logs_per_seed[max_log_idx][idx]['prediction'], end='\\n\\n')\n",
    "    print(qe_scores_ref[idx], samples[idx]['tgt_text'], end='\\n\\n')"
   ]
  },
  {
   "cell_type": "code",
   "execution_count": null,
   "metadata": {},
   "outputs": [],
   "source": [
    "samples[idx]"
   ]
  },
  {
   "cell_type": "markdown",
   "metadata": {},
   "source": [
    "# Convert sampled trajectories"
   ]
  },
  {
   "cell_type": "code",
   "execution_count": 3,
   "metadata": {},
   "outputs": [],
   "source": [
    "root = \"/compute/babel-14-5/siqiouya/en-zh/\"\n",
    "ckpt_root = \"/compute/babel-5-23/siqiouya/runs/8B-traj-s2-v3.0/last.ckpt\"\n",
    "split = \"train\""
   ]
  },
  {
   "cell_type": "code",
   "execution_count": 4,
   "metadata": {},
   "outputs": [],
   "source": [
    "samples = read_tsv(os.path.join(root, f\"{split}_fa_traj_45.tsv\"))"
   ]
  },
  {
   "cell_type": "code",
   "execution_count": null,
   "metadata": {},
   "outputs": [],
   "source": [
    "partition_size = 1000\n",
    "n_partition = 20 # (len(samples) + partition_size - 1) // partition_size\n",
    "for i in tqdm(range(n_partition)):\n",
    "    partition_samples = samples[i * partition_size:(i + 1) * partition_size]\n",
    "    logs = read_logs(os.path.join(ckpt_root, f\"sampling_{split}/cache4000_seg960_beam1_ms0/{i}/instances.log\"))\n",
    "    for sample, log in zip(partition_samples, logs):\n",
    "        n_frame = int(sample['n_frames'])\n",
    "        stepsize = int(0.96 * 16000)\n",
    "        idx = -1\n",
    "        new_traj = []\n",
    "        for offset in range(0, n_frame, stepsize):\n",
    "            text = \"\"\n",
    "            while idx + 1 < len(log['delays']) and int(log['delays'][idx + 1]) * 16 < offset + stepsize:\n",
    "                idx += 1\n",
    "                text += log['prediction'][idx]\n",
    "            new_traj.append(text)\n",
    "        sample['sampling'] = new_traj"
   ]
  },
  {
   "cell_type": "code",
   "execution_count": null,
   "metadata": {},
   "outputs": [],
   "source": [
    "idx = 2\n",
    "print(samples[idx]['trajectory'], samples[idx]['sampling'], sep='\\n')"
   ]
  },
  {
   "cell_type": "code",
   "execution_count": 49,
   "metadata": {},
   "outputs": [],
   "source": [
    "write_tsv(samples, os.path.join(root, f\"{split}_fa_traj_45_sampling.tsv\"))"
   ]
  },
  {
   "cell_type": "code",
   "execution_count": 9,
   "metadata": {},
   "outputs": [],
   "source": [
    "write_tsv(samples[:n_partition * partition_size], os.path.join(root, f\"{split}_fa_traj_45_sampling_{n_partition}k.tsv\"))"
   ]
  },
  {
   "cell_type": "markdown",
   "metadata": {},
   "source": [
    "# Build source target for sampling"
   ]
  },
  {
   "cell_type": "code",
   "execution_count": null,
   "metadata": {},
   "outputs": [],
   "source": [
    "\n",
    "root = \"/compute/babel-14-5/siqiouya/en-zh/\"\n",
    "base_split = \"train\"\n",
    "split = \"train_fa_traj_45\"\n",
    "split_wav_root = os.path.join(root, \"data\", base_split, f\"{split}_wav\")\n",
    "os.makedirs(split_wav_root, exist_ok=True)\n",
    "samples = read_tsv(os.path.join(root, f\"{split}.tsv\"))\n",
    "for x in tqdm(samples):\n",
    "    wav, sr = read_wav(x['audio'])\n",
    "    sf.write(os.path.join(split_wav_root, x['id'] + \".wav\"), wav, sr)\n",
    "def write_source_target(samples, split_wav_root, split_source_path, split_target_path):\n",
    "    with open(split_source_path, \"w\") as w:\n",
    "        for x in samples:\n",
    "            w.write(os.path.join(split_wav_root, x['id'] + \".wav\") + \"\\n\")\n",
    "    with open(split_target_path, \"w\") as w:\n",
    "        for x in samples:\n",
    "            w.write(x['tgt_text'] + \"\\n\")\n",
    "write_source_target(samples, split_wav_root, os.path.join(root, f\"{split}.source\"), os.path.join(root, f\"{split}.target\"))\n",
    "partition_size = 1000\n",
    "for i in range(0, len(samples), partition_size):\n",
    "    partition_samples = samples[i:i+partition_size]\n",
    "    write_source_target(partition_samples, split_wav_root, os.path.join(root, f\"{split}.source.{i//partition_size}\"), os.path.join(root, f\"{split}.target.{i//partition_size}\"))"
   ]
  },
  {
   "cell_type": "markdown",
   "metadata": {},
   "source": [
    "# Rebuild the dataset"
   ]
  },
  {
   "cell_type": "code",
   "execution_count": 57,
   "metadata": {},
   "outputs": [],
   "source": [
    "root = \"/compute/babel-14-5/siqiouya/en-zh/\""
   ]
  },
  {
   "cell_type": "code",
   "execution_count": 48,
   "metadata": {},
   "outputs": [],
   "source": [
    "split = 'train'"
   ]
  },
  {
   "cell_type": "code",
   "execution_count": null,
   "metadata": {},
   "outputs": [],
   "source": [
    "ls $root/data/$split/txt"
   ]
  },
  {
   "cell_type": "code",
   "execution_count": 50,
   "metadata": {},
   "outputs": [],
   "source": [
    "src_lang = 'en'\n",
    "tgt_lang = 'zh'"
   ]
  },
  {
   "cell_type": "code",
   "execution_count": 51,
   "metadata": {},
   "outputs": [],
   "source": [
    "with open(f\"{root}/data/{split}/txt/{split}.yaml\") as f:\n",
    "    manifests = yaml.safe_load(f)"
   ]
  },
  {
   "cell_type": "code",
   "execution_count": 52,
   "metadata": {},
   "outputs": [],
   "source": [
    "with open(f\"{root}/data/{split}/txt/{split}.{src_lang}\", \"r\") as r:\n",
    "    src_texts = [l.strip() for l in r.readlines() if l.strip() != '']\n",
    "with open(f\"{root}/data/{split}/txt/{split}.{tgt_lang}\", \"r\") as r:\n",
    "    tgt_texts = [l.strip() for l in r.readlines() if l.strip() != '']"
   ]
  },
  {
   "cell_type": "code",
   "execution_count": null,
   "metadata": {},
   "outputs": [],
   "source": [
    "src_texts[0], tgt_texts[0], len(src_texts), len(tgt_texts)"
   ]
  },
  {
   "cell_type": "code",
   "execution_count": null,
   "metadata": {},
   "outputs": [],
   "source": [
    "manifests[0]"
   ]
  },
  {
   "cell_type": "code",
   "execution_count": 55,
   "metadata": {},
   "outputs": [],
   "source": [
    "# id\taudio\tn_frames\tspeaker\tsrc_text\ttgt_text\tsrc_lang\ttgt_lang\n",
    "samples = []\n",
    "ted_id = \"\"\n",
    "id_in_ted = 0\n",
    "for i, manifest in enumerate(manifests):\n",
    "    cur_ted_id = manifest['wav'].split('.')[0]\n",
    "    if cur_ted_id != ted_id:\n",
    "        ted_id = cur_ted_id\n",
    "        id_in_ted = 0\n",
    "    else:\n",
    "        id_in_ted += 1\n",
    "\n",
    "    segment_id = f\"{ted_id}_{id_in_ted}\"\n",
    "\n",
    "    offset = int(manifest['offset'] * 16000)\n",
    "    duration = int(manifest['duration'] * 16000)\n",
    "    segment_path = f\"{root}/data/{split}/wav/{manifest['wav']}:{offset}:{duration}\"\n",
    "\n",
    "    samples.append({\n",
    "        \"id\": segment_id,\n",
    "        \"audio\": segment_path,\n",
    "        \"n_frames\": duration,\n",
    "        \"speaker\": manifest['speaker_id'],\n",
    "        \"src_text\": src_texts[i],\n",
    "        \"tgt_text\": tgt_texts[i],\n",
    "        \"src_lang\": src_lang,\n",
    "        \"tgt_lang\": tgt_lang,\n",
    "    })"
   ]
  },
  {
   "cell_type": "code",
   "execution_count": 56,
   "metadata": {},
   "outputs": [],
   "source": [
    "write_tsv(samples, f\"{root}/{split}.tsv\")"
   ]
  },
  {
   "cell_type": "code",
   "execution_count": null,
   "metadata": {},
   "outputs": [],
   "source": []
  },
  {
   "cell_type": "markdown",
   "metadata": {},
   "source": [
    "## re-segment so that each utterance is shorter than 43.2 seconds"
   ]
  },
  {
   "cell_type": "code",
   "execution_count": 12,
   "metadata": {},
   "outputs": [],
   "source": [
    "from openai import OpenAI\n",
    "with open(\"/home/siqiouya/.api_keys/openai\", \"r\") as r:\n",
    "    api_key = r.read().strip()\n",
    "client = OpenAI(api_key=api_key)"
   ]
  },
  {
   "cell_type": "code",
   "execution_count": 87,
   "metadata": {},
   "outputs": [],
   "source": [
    "src = 'He was at Radcliffe Infirmary in Oxford, and fortunately for him, a small team of doctors led by a Dr. Howard Florey had managed to synthesize a very small amount of penicillin, a drug that had been discovered 12 years before by Alexander Fleming but had never actually been  used to treat a human, and indeed no one even  knew if the drug would work, if it was full of impurities  that would kill the patient, but Florey and his team figured if they had to use it,  they might as well use it on someone who was going to die anyway.'\n",
    "tgt = \"他在牛津市的Radcliffe Infirmary 医院接受治疗， 幸运的是， 由霍华德·弗洛里医生 （译注：澳洲药理学家） 带头的一个医疗小组 成功的合成了 少量的盘尼西林， 一种被亚历山大·弗莱明 （译注：苏格兰药学家） 在12年前发现的药物， 但它从来没有被用来给人治病， 事实上甚至没有人知道 这种药是否有效， 如果这种药不纯净是否会致死， 但是弗洛里和他的团队觉得 如果他们需要使用这种药，不妨干脆在 已无药可救的患者身上试试看。\""
   ]
  },
  {
   "cell_type": "code",
   "execution_count": 88,
   "metadata": {},
   "outputs": [],
   "source": [
    "prompt = f\"\"\"Here are the source text in English and translation in Chinese. \n",
    "English: {src}\n",
    "Chinese: {tgt}\n",
    "\n",
    "Segment the source text and the translation by sentence boundary (. ? !) and form a one-to-one mapping between source sentences and translation sentences. Output results with the following JSON format. Do not include any other text.\n",
    "[\n",
    "    {{\n",
    "        \"English\": \"...\",\n",
    "        \"Chinese\": \"...\"\n",
    "    }},\n",
    "    ...\n",
    "]\n",
    "\"\"\""
   ]
  },
  {
   "cell_type": "code",
   "execution_count": 89,
   "metadata": {},
   "outputs": [],
   "source": [
    "completion = client.chat.completions.create(\n",
    "    model=\"gpt-4o\",\n",
    "    messages=[\n",
    "        {\"role\": \"developer\", \"content\": \"You are a helpful assistant.\"},\n",
    "        {\n",
    "            \"role\": \"user\",\n",
    "            \"content\": prompt\n",
    "        }\n",
    "    ],\n",
    "    temperature=0.0,\n",
    ")"
   ]
  },
  {
   "cell_type": "code",
   "execution_count": null,
   "metadata": {},
   "outputs": [],
   "source": [
    "print(completion.choices[0].message.content)"
   ]
  },
  {
   "cell_type": "code",
   "execution_count": 80,
   "metadata": {},
   "outputs": [],
   "source": [
    "import json\n",
    "pairs = json.loads('\\n'.join(completion.choices[0].message.content.split('\\n')[1:-1]))"
   ]
  },
  {
   "cell_type": "code",
   "execution_count": null,
   "metadata": {},
   "outputs": [],
   "source": [
    "src_1 = ' '.join([p['English'] for p in pairs])\n",
    "tgt_1 = ' '.join([p['Chinese'] for p in pairs])"
   ]
  },
  {
   "cell_type": "code",
   "execution_count": null,
   "metadata": {},
   "outputs": [],
   "source": [
    "print(len(src_1), len(tgt_1))\n"
   ]
  },
  {
   "cell_type": "code",
   "execution_count": null,
   "metadata": {},
   "outputs": [],
   "source": [
    "print(len(src), len(tgt))"
   ]
  },
  {
   "cell_type": "markdown",
   "metadata": {},
   "source": [
    "# Examine the forward translation dataset"
   ]
  },
  {
   "cell_type": "code",
   "execution_count": 3,
   "metadata": {},
   "outputs": [],
   "source": [
    "samples = read_tsv(\"/compute/babel-14-5/siqiouya/en-zh/train_ft_traj_45.tsv\")"
   ]
  },
  {
   "cell_type": "code",
   "execution_count": null,
   "metadata": {},
   "outputs": [],
   "source": [
    "idx = 4\n",
    "samples[idx]"
   ]
  },
  {
   "cell_type": "code",
   "execution_count": null,
   "metadata": {},
   "outputs": [],
   "source": [
    "from IPython.display import Audio\n",
    "Audio(read_wav(samples[idx]['audio'])[0], rate=16000)"
   ]
  },
  {
   "cell_type": "markdown",
   "metadata": {},
   "source": [
    "# Examine the DPO training set"
   ]
  },
  {
   "cell_type": "code",
   "execution_count": 4,
   "metadata": {},
   "outputs": [],
   "source": [
    "samples = read_tsv(\"/compute/babel-6-13/xixu/train.tsv\")"
   ]
  },
  {
   "cell_type": "code",
   "execution_count": 5,
   "metadata": {},
   "outputs": [],
   "source": [
    "def fix_format(raw_str):\n",
    "    # Remove the outer quotes\n",
    "    cleaned_str = raw_str.strip('\"')\n",
    "\n",
    "    # Remove the extra quotes around the array\n",
    "    if cleaned_str.startswith('['):\n",
    "        cleaned_str = cleaned_str[1:-1]\n",
    "\n",
    "    # Split on '\", \"' to get individual elements\n",
    "    elements = cleaned_str.split('\", \"')\n",
    "\n",
    "    # Clean up each element\n",
    "    elements = [e.strip('\"').encode().decode('unicode_escape') for e in elements]\n",
    "\n",
    "    return elements"
   ]
  },
  {
   "cell_type": "code",
   "execution_count": null,
   "metadata": {},
   "outputs": [],
   "source": []
  },
  {
   "cell_type": "code",
   "execution_count": null,
   "metadata": {},
   "outputs": [],
   "source": [
    "print(samples[0]['trajectory'])"
   ]
  },
  {
   "cell_type": "code",
   "execution_count": null,
   "metadata": {},
   "outputs": [],
   "source": [
    "print(fix_format(samples[0]['sampling']))"
   ]
  },
  {
   "cell_type": "code",
   "execution_count": 8,
   "metadata": {},
   "outputs": [],
   "source": [
    "for x in samples:\n",
    "    x['sampling'] = fix_format(x['sampling'])"
   ]
  },
  {
   "cell_type": "code",
   "execution_count": null,
   "metadata": {},
   "outputs": [],
   "source": [
    "write_tsv(samples, \"/compute/babel-6-13/xixu/train__formated.tsv\")"
   ]
  },
  {
   "cell_type": "markdown",
   "metadata": {},
   "source": [
    "# Update training set with forward translation"
   ]
  },
  {
   "cell_type": "code",
   "execution_count": 25,
   "metadata": {},
   "outputs": [],
   "source": [
    "samples = read_tsv(\"/compute/babel-14-5/siqiouya/en-zh/train.tsv\")\n",
    "complement_samples = read_tsv(\"/compute/babel-14-5/siqiouya/en-zh/comet_0.50_complement_tower.tsv\")"
   ]
  },
  {
   "cell_type": "code",
   "execution_count": null,
   "metadata": {},
   "outputs": [],
   "source": [
    "len(samples), len(complement_samples)"
   ]
  },
  {
   "cell_type": "code",
   "execution_count": null,
   "metadata": {},
   "outputs": [],
   "source": [
    "samples[0], complement_samples[0]"
   ]
  },
  {
   "cell_type": "code",
   "execution_count": null,
   "metadata": {},
   "outputs": [],
   "source": [
    "comp_indices = set()\n",
    "for x in complement_samples:\n",
    "    id = x['id'].strip()\n",
    "    if id in comp_indices:\n",
    "        print(x)\n",
    "    comp_indices.add(id)"
   ]
  },
  {
   "cell_type": "code",
   "execution_count": 28,
   "metadata": {},
   "outputs": [],
   "source": [
    "id2pair = {}\n",
    "for x in complement_samples:\n",
    "    id2pair[x['id'].strip()] = (x['src_text'].strip(), x['translation'].strip())"
   ]
  },
  {
   "cell_type": "code",
   "execution_count": 29,
   "metadata": {},
   "outputs": [],
   "source": [
    "indices = set(x['id'].strip() for x in samples)"
   ]
  },
  {
   "cell_type": "code",
   "execution_count": 30,
   "metadata": {},
   "outputs": [],
   "source": [
    "comp_indices = set(x['id'].strip() for x in complement_samples)"
   ]
  },
  {
   "cell_type": "code",
   "execution_count": null,
   "metadata": {},
   "outputs": [],
   "source": [
    "len(comp_indices & indices), len(comp_indices)"
   ]
  },
  {
   "cell_type": "code",
   "execution_count": null,
   "metadata": {},
   "outputs": [],
   "source": [
    "cnt = 0\n",
    "for x in samples:\n",
    "    if x['id'].strip() in id2pair:\n",
    "        cnt += 1\n",
    "cnt"
   ]
  },
  {
   "cell_type": "code",
   "execution_count": null,
   "metadata": {},
   "outputs": [],
   "source": [
    "from IPython.display import Audio\n",
    "Audio(read_wav('/compute/babel-14-5/siqiouya/en-zh/data/train/wav/ted_423.wav:1704960:691200')[0], rate=16000)"
   ]
  },
  {
   "cell_type": "code",
   "execution_count": 40,
   "metadata": {},
   "outputs": [],
   "source": [
    "for x in samples:\n",
    "    id = x['id'].strip()\n",
    "    if id in comp_indices:\n",
    "        x['src_text'] = id2pair[id][0]\n",
    "        x['tgt_text'] = id2pair[id][1]"
   ]
  },
  {
   "cell_type": "code",
   "execution_count": 42,
   "metadata": {},
   "outputs": [],
   "source": [
    "write_tsv(samples, \"/compute/babel-14-5/siqiouya/en-zh/train_ft.tsv\")"
   ]
  },
  {
   "cell_type": "markdown",
   "metadata": {},
   "source": [
    "# BLEU on MWERSEGMENT Output"
   ]
  },
  {
   "cell_type": "code",
   "execution_count": 51,
   "metadata": {},
   "outputs": [],
   "source": [
    "import os\n",
    "root = \"/compute/babel-5-23/siqiouya/runs/8B-traj-s2-v3.0/last.ckpt/simul-results-full/seg3840_beam1_ms0/tmp\""
   ]
  },
  {
   "cell_type": "code",
   "execution_count": 56,
   "metadata": {},
   "outputs": [],
   "source": [
    "n_doc = len(os.listdir(root)) // 3"
   ]
  },
  {
   "cell_type": "code",
   "execution_count": 77,
   "metadata": {},
   "outputs": [],
   "source": [
    "hyps = []\n",
    "refs = []\n",
    "hyps_full = []\n",
    "refs_full = []\n",
    "for i in range(n_doc):\n",
    "    with open(os.path.join(root, 'hyp.{}.seg'.format(i)), 'r') as r:\n",
    "        hyps_doc = r.read().strip().split('\\n')\n",
    "    with open(os.path.join(root, 'ref.{}'.format(i)), 'r') as r:\n",
    "        refs_doc = r.read().strip().split('\\n')\n",
    "    hyps_doc = [''.join(h.split(' ')) for h in hyps_doc]\n",
    "    refs_doc = [''.join(r.split(' ')) for r in refs_doc]\n",
    "    hyps.extend(hyps_doc)\n",
    "    refs.extend(refs_doc)\n",
    "\n",
    "    hyps_full.append(' '.join(hyps_doc))\n",
    "    refs_full.append(' '.join(refs_doc))"
   ]
  },
  {
   "cell_type": "code",
   "execution_count": 78,
   "metadata": {},
   "outputs": [],
   "source": [
    "import sacrebleu"
   ]
  },
  {
   "cell_type": "code",
   "execution_count": null,
   "metadata": {},
   "outputs": [],
   "source": [
    "sacrebleu.corpus_bleu(hyps, [refs], tokenize='zh')"
   ]
  },
  {
   "cell_type": "code",
   "execution_count": null,
   "metadata": {},
   "outputs": [],
   "source": [
    "hyps[10], refs[10]"
   ]
  },
  {
   "cell_type": "code",
   "execution_count": null,
   "metadata": {},
   "outputs": [],
   "source": [
    "print(hyps_full[0])"
   ]
  },
  {
   "cell_type": "code",
   "execution_count": null,
   "metadata": {},
   "outputs": [],
   "source": [
    "print(refs_full[0])"
   ]
  },
  {
   "cell_type": "code",
   "execution_count": null,
   "metadata": {},
   "outputs": [],
   "source": [
    "sacrebleu.corpus_bleu(hyps_full, [refs_full], tokenize='zh')"
   ]
  },
  {
   "cell_type": "markdown",
   "metadata": {},
   "source": [
    "# Debug instances"
   ]
  },
  {
   "cell_type": "code",
   "execution_count": 5,
   "metadata": {},
   "outputs": [],
   "source": [
    "# samples = read_logs(\"/compute/babel-5-23/siqiouya/runs/8B-traj-s2-v3.0/last.ckpt/simul-results-full/cache4000_seg960_beam1_ms0/instances.log.corrected\")\n",
    "samples = read_logs(\"/compute/babel-5-23/siqiouya/runs/8B-traj-s2-v3.0/last.ckpt/sampling_dev/cache4000_seg960_beam1_ms0/0/instances.log\")"
   ]
  },
  {
   "cell_type": "code",
   "execution_count": null,
   "metadata": {},
   "outputs": [],
   "source": [
    "samples[0]"
   ]
  },
  {
   "cell_type": "code",
   "execution_count": null,
   "metadata": {},
   "outputs": [],
   "source": [
    "idx = 0\n",
    "delays = np.array(samples[idx]['delays'])\n",
    "elapsed = np.array(samples[idx]['elapsed'])\n",
    "plt.plot(delays / 1000 / 60, label='Delays')\n",
    "plt.plot(elapsed / 1000 / 60, label='Elapsed time') \n",
    "plt.legend()"
   ]
  },
  {
   "cell_type": "code",
   "execution_count": null,
   "metadata": {},
   "outputs": [],
   "source": [
    "delays_diff = delays[1:] - delays[:-1]\n",
    "elapsed_diff = elapsed[1:] - elapsed[:-1]\n",
    "delays_diff = delays_diff[delays_diff > 0]\n",
    "elapsed_diff = elapsed_diff[elapsed_diff > 0]\n",
    "\n",
    "plt.plot(elapsed_diff - delays_diff)\n",
    "plt.ylim(0, 5000)\n",
    "plt.xlabel('Step')\n",
    "plt.ylabel('Per step generation cost (ms)')\n",
    "# plt.yscale('log')"
   ]
  },
  {
   "cell_type": "code",
   "execution_count": null,
   "metadata": {},
   "outputs": [],
   "source": [
    "n_token = []\n",
    "cnt = 0\n",
    "for i in range(1, len(elapsed)):\n",
    "    if elapsed[i] == elapsed[i - 1]:\n",
    "        cnt += 1\n",
    "    else:\n",
    "        n_token.append(cnt)\n",
    "        cnt = 1\n",
    "sum(n_token)\n",
    "\n",
    "nocache_n_token = []\n",
    "cnt = 0\n",
    "for i in range(1, len(nocache_elapsed)):\n",
    "    if nocache_elapsed[i] == nocache_elapsed[i - 1]:\n",
    "        cnt += 1\n",
    "    else:\n",
    "        nocache_n_token.append(cnt)\n",
    "        cnt = 1\n",
    "sum(nocache_n_token)\n",
    "\n",
    "running_avg = np.convolve(n_token, np.ones(10)/10, mode='valid')\n",
    "nocache_running_avg = np.convolve(nocache_n_token, np.ones(10)/10, mode='valid')\n",
    "plt.plot(running_avg)\n",
    "# plt.plot(nocache_running_avg, label='No cache')\n",
    "plt.legend()\n",
    "plt.xlabel('Step')\n",
    "plt.ylabel('Running average # of tokens generated per step')"
   ]
  },
  {
   "cell_type": "code",
   "execution_count": 18,
   "metadata": {},
   "outputs": [],
   "source": [
    "with open(\"/compute/babel-5-23/siqiouya/runs/8B-s2-v2.0-bi/last.ckpt/offline_beam1/tst-COMMON/hyp\", \"r\") as r:\n",
    "    hyps = r.read().strip().split(\"\\n\")"
   ]
  },
  {
   "cell_type": "code",
   "execution_count": 19,
   "metadata": {},
   "outputs": [],
   "source": [
    "hyps = [(int(h.split(\"\\t\")[0]), h.split(\"\\t\")[1]) for h in hyps]"
   ]
  },
  {
   "cell_type": "code",
   "execution_count": 20,
   "metadata": {},
   "outputs": [],
   "source": [
    "hyps = sorted(hyps)"
   ]
  },
  {
   "cell_type": "code",
   "execution_count": 21,
   "metadata": {},
   "outputs": [],
   "source": [
    "segmented_samples = read_tsv(\"/compute/babel-14-5/siqiouya/en-zh/tst-COMMON.tsv\")"
   ]
  },
  {
   "cell_type": "code",
   "execution_count": 22,
   "metadata": {},
   "outputs": [],
   "source": [
    "for i in range(len(segmented_samples)):\n",
    "    segmented_samples[i]['idx'] = i"
   ]
  },
  {
   "cell_type": "code",
   "execution_count": 23,
   "metadata": {},
   "outputs": [],
   "source": [
    "segmented_samples = sorted(segmented_samples, key=lambda x: (int(x['id'].split('_')[1]), int(x['audio'].split(':')[1])))"
   ]
  },
  {
   "cell_type": "code",
   "execution_count": 29,
   "metadata": {},
   "outputs": [],
   "source": [
    "ted_id = int(segmented_samples[0]['id'].split('_')[1])\n",
    "full_hyps = []\n",
    "full_refs = []\n",
    "full_hyp = \"\"\n",
    "full_ref = \"\"\n",
    "for i, s in enumerate(segmented_samples):\n",
    "    cur_ted_id = int(s['id'].split('_')[1])\n",
    "    if cur_ted_id != ted_id:\n",
    "        full_hyps.append(full_hyp)\n",
    "        full_refs.append(full_ref)\n",
    "        full_hyp = \"\"\n",
    "        full_ref = \"\"\n",
    "        ted_id = cur_ted_id        \n",
    "    full_hyp += hyps[s['idx']][1] + '\\n'\n",
    "    full_ref += s['tgt_text'] + '\\n'\n",
    "full_hyps.append(full_hyp)\n",
    "full_refs.append(full_ref)"
   ]
  },
  {
   "cell_type": "code",
   "execution_count": null,
   "metadata": {},
   "outputs": [],
   "source": [
    "print(full_refs[0])"
   ]
  },
  {
   "cell_type": "code",
   "execution_count": 7,
   "metadata": {},
   "outputs": [],
   "source": [
    "bleu = sacrebleu.BLEU(tokenize='zh')"
   ]
  },
  {
   "cell_type": "code",
   "execution_count": null,
   "metadata": {},
   "outputs": [],
   "source": [
    "hyps = full_hyps[0].split(\"\\n\")\n",
    "refs = full_refs[0].split(\"\\n\")\n",
    "sacrebleu.corpus_bleu(\n",
    "    hyps, [refs], tokenize='zh'\n",
    ")"
   ]
  },
  {
   "cell_type": "code",
   "execution_count": null,
   "metadata": {},
   "outputs": [],
   "source": [
    "hyps = full_hyps[:1]\n",
    "refs = full_refs[:1]\n",
    "sacrebleu.corpus_bleu(\n",
    "    hyps, [refs], tokenize='zh'\n",
    ")"
   ]
  },
  {
   "cell_type": "markdown",
   "metadata": {},
   "source": [
    "# Build Full TED tst-COMMON"
   ]
  },
  {
   "cell_type": "code",
   "execution_count": 4,
   "metadata": {},
   "outputs": [],
   "source": [
    "import os\n",
    "def read_tsv(tsv_path):\n",
    "    import csv\n",
    "    with open(tsv_path) as f:\n",
    "        reader = csv.DictReader(\n",
    "            f,\n",
    "            delimiter=\"\\t\",\n",
    "            quotechar=None,\n",
    "            doublequote=False,\n",
    "            lineterminator=\"\\n\",\n",
    "            quoting=csv.QUOTE_NONE,\n",
    "        )\n",
    "        samples = [dict(e) for e in reader]\n",
    "    return samples"
   ]
  },
  {
   "cell_type": "code",
   "execution_count": 2,
   "metadata": {},
   "outputs": [],
   "source": [
    "root = '/compute/babel-14-5/siqiouya/en-zh/'\n",
    "split = 'tst-COMMON'"
   ]
  },
  {
   "cell_type": "code",
   "execution_count": 4,
   "metadata": {},
   "outputs": [],
   "source": [
    "samples = read_tsv(os.path.join(root, split + '.tsv'))"
   ]
  },
  {
   "cell_type": "code",
   "execution_count": 7,
   "metadata": {},
   "outputs": [],
   "source": [
    "def key_func(x):\n",
    "    _, offset, _ = x['audio'].split(':')\n",
    "    offset = int(offset)\n",
    "\n",
    "    ted_id = int(x['id'].split('_')[1])\n",
    "\n",
    "    return (ted_id, offset)"
   ]
  },
  {
   "cell_type": "code",
   "execution_count": 8,
   "metadata": {},
   "outputs": [],
   "source": [
    "sorted_samples = sorted(\n",
    "    samples, \n",
    "    key=key_func\n",
    ")"
   ]
  },
  {
   "cell_type": "code",
   "execution_count": 28,
   "metadata": {},
   "outputs": [],
   "source": [
    "ted_id = -1\n",
    "document = \"\"\n",
    "documents = []\n",
    "for x in sorted_samples:\n",
    "    cur_ted_id = int(x['id'].split('_')[1])\n",
    "    if cur_ted_id != ted_id:\n",
    "        documents.append((ted_id, document))\n",
    "        ted_id = cur_ted_id\n",
    "        document = x['tgt_text']\n",
    "    else:\n",
    "        document += ' ' + x['tgt_text']\n",
    "documents.append((ted_id, document))\n",
    "documents = documents[1:]"
   ]
  },
  {
   "cell_type": "code",
   "execution_count": null,
   "metadata": {},
   "outputs": [],
   "source": [
    "samples[0]"
   ]
  },
  {
   "cell_type": "code",
   "execution_count": 33,
   "metadata": {},
   "outputs": [],
   "source": [
    "with open(os.path.join(root, split + '_full.source'), 'w') as w_source, open(os.path.join(root, split + '_full.target'), 'w') as w_target:\n",
    "    for ted_id, document in documents:\n",
    "        w_source.write(os.path.join(\"/compute/babel-14-5/siqiouya/en-zh/data/tst-COMMON/wav/\", f\"ted_{ted_id}.wav\") + '\\n')\n",
    "        w_target.write(document + '\\n')"
   ]
  },
  {
   "cell_type": "markdown",
   "metadata": {},
   "source": [
    "# Debug Beam Search"
   ]
  },
  {
   "cell_type": "code",
   "execution_count": null,
   "metadata": {},
   "outputs": [],
   "source": [
    "import argparse, os, sys, time, json\n",
    "sys.path.append(\"/home/siqiouya/work/sllama\")\n",
    "from collections import Counter\n",
    "\n",
    "from typing import Optional\n",
    "from simuleval.agents.states import AgentStates\n",
    "from simuleval.utils import entrypoint\n",
    "from simuleval.data.segments import SpeechSegment\n",
    "from simuleval.agents import SpeechToTextAgent\n",
    "from simuleval.agents.actions import WriteAction, ReadAction\n",
    "from simuleval.agents.states import AgentStates\n",
    "from dataclasses import dataclass\n",
    "\n",
    "import numpy\n",
    "import torch\n",
    "import torch.nn.functional as F\n",
    "import transformers\n",
    "import soundfile as sf\n",
    "\n",
    "import conversation as conversation_lib\n",
    "from conversation import SeparatorStyle\n",
    "from eval.utils import disable_torch_init\n",
    "from model.model_new import SpeechLlamaForCausalLM\n",
    "from model.utils import SpaceStoppingCriteria, KeywordsStoppingCriteria\n",
    "# from train.uni_wav2vec_monkey_patch import replace_uni_train\n",
    "from fairseq.data.audio.speech_to_text_dataset import _collate_frames\n",
    "\n",
    "from train.options import (\n",
    "    add_speech_encoder_args,\n",
    "    add_simuleval_args,\n",
    "    add_gen_args\n",
    ")\n",
    "from model.speech_encoder import (\n",
    "    SpeechEncoderHuBERTRope,\n",
    "    SpeechEncoderW2V2RoPE,\n",
    "    SpeechEncoderW2VBERT2\n",
    ")\n",
    "from train.dataset import (\n",
    "    DEFAULT_SPEECH_PATCH_TOKEN,\n",
    "    DEFAULT_SPEECH_START_TOKEN,\n",
    "    DEFAULT_SPEECH_END_TOKEN\n",
    ")"
   ]
  },
  {
   "cell_type": "code",
   "execution_count": null,
   "metadata": {},
   "outputs": [],
   "source": [
    "tokenizer = transformers.AutoTokenizer.from_pretrained(\n",
    "    \"/compute/babel-4-1/siqiouya/llama-3.1-8b-instruct-hf\",\n",
    "    padding_side=\"right\",\n",
    "    use_fast=False,\n",
    ")\n",
    "tokenizer.pad_token = \"<|finetune_right_pad_id|>\"\n",
    "\n",
    "model = SpeechLlamaForCausalLM.from_pretrained(\n",
    "    \"/compute/babel-4-1/siqiouya/llama-3.1-8b-instruct-hf\",\n",
    "    torch_dtype=torch.bfloat16,\n",
    "    device_map='cuda',\n",
    ").eval()\n",
    "\n",
    "speech_encoder_args = [\n",
    "    \"/data/user_data/siqiouya/runs/pretrained/wav2_vec_vox_960h_pl.pt\",\n",
    "    True,\n",
    "    \"[(1024,2,2)] * 2\",\n",
    "    \n",
    "    48,\n",
    "    500,\n",
    "    model.model.embed_tokens.embedding_dim,\n",
    "    None,\n",
    "    False,\n",
    "]\n",
    "speech_encoder = SpeechEncoderW2V2RoPE(*speech_encoder_args).eval()\n",
    "speech_encoder.to(dtype=model.dtype, device=model.device)\n",
    "\n",
    "length_shrink_func = speech_encoder._get_feat_extract_output_lengths\n",
    "\n",
    "model.model.speech_encoder = speech_encoder\n",
    "model.preprocess(tokenizer=tokenizer)\n",
    "\n",
    "state_dict = torch.load(\"/compute/babel-5-23/siqiouya/runs/8B-traj-s2-v2.2/last.ckpt/pytorch_model.bin\", map_location='cpu', weights_only=True)\n",
    "model.load_state_dict(state_dict)\n",
    "model.model.inference = True"
   ]
  },
  {
   "cell_type": "code",
   "execution_count": 4,
   "metadata": {},
   "outputs": [],
   "source": [
    "source, rate = sf.read(\"/compute/babel-14-5/siqiouya/en-zh/data/tst-COMMON/wav_split/ted_1096_11.wav\")\n",
    "segment_size = 960 * 16 * 2\n",
    "source = source[:segment_size]"
   ]
  },
  {
   "cell_type": "code",
   "execution_count": null,
   "metadata": {},
   "outputs": [],
   "source": [
    "from IPython.display import Audio\n",
    "Audio(source, rate=rate)"
   ]
  },
  {
   "cell_type": "code",
   "execution_count": null,
   "metadata": {},
   "outputs": [],
   "source": [
    "source = torch.tensor(source)\n",
    "sp_seg_frame = int(48 // 4 * 0.08 * 16000)\n",
    "if source.size(0) % sp_seg_frame != 0:\n",
    "    n_pad = sp_seg_frame - source.size(0) % sp_seg_frame\n",
    "    source = torch.cat([source, torch.zeros(n_pad).to(source)], dim=0)\n",
    "offset = torch.zeros(79 + 320).to(source)\n",
    "source = torch.cat([offset, source], dim=0)        \n",
    "# old_src_len = states.src_len\n",
    "# states.src_len = source.size(0)\n",
    "# source = source[old_src_len:]\n",
    "\n",
    "speech_batch = source.unsqueeze(0).to(device=model.device, dtype=model.dtype)\n",
    "n_frames = torch.tensor([source.size(0)], dtype=torch.long).to(model.device)\n",
    "speech_lens = length_shrink_func(n_frames)"
   ]
  },
  {
   "cell_type": "code",
   "execution_count": null,
   "metadata": {},
   "outputs": [],
   "source": [
    "speech_batch"
   ]
  },
  {
   "cell_type": "code",
   "execution_count": null,
   "metadata": {},
   "outputs": [],
   "source": [
    "speech_batch.size(), n_frames, speech_lens  "
   ]
  },
  {
   "cell_type": "code",
   "execution_count": 49,
   "metadata": {},
   "outputs": [],
   "source": [
    "messages = []\n",
    "messages.append(\n",
    "        {\n",
    "            \"role\": \"system\",\n",
    "            \"content\": f\"Translate the following speech from English to Chinese.\"\n",
    "        }\n",
    "    )\n",
    "messages.append(\n",
    "    {\n",
    "        \"role\": \"user\",\n",
    "        \"content\": 12 * DEFAULT_SPEECH_PATCH_TOKEN\n",
    "    }\n",
    ")\n",
    "messages.append(\n",
    "    {\n",
    "        \"role\": \"assistant\",\n",
    "        \"content\": \"在我\",\n",
    "    }\n",
    ")\n",
    "messages.append(\n",
    "    {\n",
    "        \"role\": \"user\",\n",
    "        \"content\": 12 * DEFAULT_SPEECH_PATCH_TOKEN\n",
    "    }\n",
    ")\n",
    "\n",
    "\n",
    "messages.append(\n",
    "    {\n",
    "        \"role\": \"assistant\",\n",
    "        \"content\": \"\",\n",
    "    }\n",
    ")"
   ]
  },
  {
   "cell_type": "code",
   "execution_count": 50,
   "metadata": {},
   "outputs": [],
   "source": [
    "input_ids = tokenizer.apply_chat_template(\n",
    "    [messages],\n",
    "    return_tensors='pt',\n",
    "    padding=True, \n",
    "    truncation=False, \n",
    "    add_special_tokens=False\n",
    ")[:, :-1].cuda()"
   ]
  },
  {
   "cell_type": "code",
   "execution_count": null,
   "metadata": {},
   "outputs": [],
   "source": [
    "input_ids"
   ]
  },
  {
   "cell_type": "code",
   "execution_count": 52,
   "metadata": {},
   "outputs": [],
   "source": [
    "model.model.speech_features_extracted = False\n",
    "outputs = model.generate(\n",
    "    attention_mask=None,\n",
    "    input_ids=input_ids,\n",
    "    speech_batch=speech_batch,\n",
    "    src_lengths=n_frames,\n",
    "    after_lens=speech_lens,\n",
    "    do_sample=False,\n",
    "    top_p=1.0,\n",
    "    temperature=1.0,\n",
    "    num_beams=4,\n",
    "    max_new_tokens=100,\n",
    "    no_repeat_ngram_size=3,\n",
    "    repetition_penalty=1.2,\n",
    "    pad_token_id=tokenizer.pad_token_id,\n",
    "    return_dict_in_generate=True,\n",
    "    return_legacy_cache=False,\n",
    "    output_scores=True,\n",
    "    use_cache=True,\n",
    ")"
   ]
  },
  {
   "cell_type": "code",
   "execution_count": null,
   "metadata": {},
   "outputs": [],
   "source": [
    "print(tokenizer.decode(outputs.sequences[0]))"
   ]
  },
  {
   "cell_type": "code",
   "execution_count": null,
   "metadata": {},
   "outputs": [],
   "source": [
    "input_ids[0, :57 + 1]"
   ]
  },
  {
   "cell_type": "code",
   "execution_count": null,
   "metadata": {},
   "outputs": [],
   "source": [
    "outputs.past_key_values[0][0][0, 0][56]"
   ]
  },
  {
   "cell_type": "code",
   "execution_count": null,
   "metadata": {},
   "outputs": [],
   "source": [
    "speech_batch = speech_batch.float()\n",
    "speech_encoder.encode_speech(\n",
    "    speech_batch, n_frames\n",
    ")[0][:, :12]"
   ]
  },
  {
   "cell_type": "code",
   "execution_count": null,
   "metadata": {},
   "outputs": [],
   "source": [
    "speech_encoder.encode_speech(\n",
    "    speech_batch[:, :15759], n_frames * 0 + 15759\n",
    ")"
   ]
  },
  {
   "cell_type": "markdown",
   "metadata": {},
   "source": [
    "# Evaluate"
   ]
  },
  {
   "cell_type": "code",
   "execution_count": 11,
   "metadata": {},
   "outputs": [],
   "source": [
    "import os\n",
    "import numpy as np\n",
    "from sacrebleu import BLEU"
   ]
  },
  {
   "cell_type": "code",
   "execution_count": 5,
   "metadata": {},
   "outputs": [],
   "source": [
    "dirname = \"/compute/babel-5-23/siqiouya/runs/8B-s2-v2.0/last.ckpt/offline_beam4/tst-COMMON/\""
   ]
  },
  {
   "cell_type": "code",
   "execution_count": 17,
   "metadata": {},
   "outputs": [],
   "source": [
    "with open(os.path.join(dirname, 'hyp'), 'r') as f:\n",
    "    hyps = [l.split('\\t')[1].strip() for l in f.readlines() if len(l.split('\\t')) > 1]\n",
    "with open(os.path.join(dirname, 'ref'), 'r') as f:\n",
    "    refs = [l.split('\\t')[1].strip() for l in f.readlines() if len(l.split('\\t')) > 1]"
   ]
  },
  {
   "cell_type": "code",
   "execution_count": 18,
   "metadata": {},
   "outputs": [],
   "source": [
    "hyps = np.array(hyps)\n",
    "refs = np.array(refs)"
   ]
  },
  {
   "cell_type": "code",
   "execution_count": 19,
   "metadata": {},
   "outputs": [],
   "source": [
    "scorer = BLEU(tokenize='zh')"
   ]
  },
  {
   "cell_type": "code",
   "execution_count": 20,
   "metadata": {},
   "outputs": [],
   "source": [
    "lens = [(len(r), i) for i, r in enumerate(refs)]\n",
    "sorted_lens = sorted(lens, key=lambda x: x[0])\n",
    "sorted_indices = [si[1] for si in sorted_lens]"
   ]
  },
  {
   "cell_type": "code",
   "execution_count": null,
   "metadata": {},
   "outputs": [],
   "source": [
    "scorer.corpus_score(\n",
    "    hyps[sorted_indices[-1000:]].tolist(),\n",
    "    [refs[sorted_indices[-1000:]].tolist()],\n",
    ")"
   ]
  },
  {
   "cell_type": "code",
   "execution_count": null,
   "metadata": {},
   "outputs": [],
   "source": []
  },
  {
   "cell_type": "code",
   "execution_count": 40,
   "metadata": {},
   "outputs": [],
   "source": [
    "def read_tsv(tsv_path):\n",
    "    import csv\n",
    "    with open(tsv_path) as f:\n",
    "        reader = csv.DictReader(\n",
    "            f,\n",
    "            delimiter=\"\\t\",\n",
    "            quotechar=None,\n",
    "            doublequote=False,\n",
    "            lineterminator=\"\\n\",\n",
    "            quoting=csv.QUOTE_NONE,\n",
    "        )\n",
    "        samples = [dict(e) for e in reader]\n",
    "    return samples"
   ]
  },
  {
   "cell_type": "code",
   "execution_count": 41,
   "metadata": {},
   "outputs": [],
   "source": [
    "tsv_path = \"/compute/babel-6-17/xixu/datasets/must-c-v2.0/en-zh/{}.tsv\".format(\"train\")\n",
    "full_samples = read_tsv(tsv_path)\n",
    "tsv_path = \"/compute/babel-6-17/xixu/datasets/must-c-v2.0/en-zh/{}.tsv\".format(\"comet_0.50\")\n",
    "half_samples = read_tsv(tsv_path)"
   ]
  },
  {
   "cell_type": "code",
   "execution_count": null,
   "metadata": {},
   "outputs": [],
   "source": [
    "len(full_samples), len(half_samples)"
   ]
  },
  {
   "cell_type": "code",
   "execution_count": 48,
   "metadata": {},
   "outputs": [],
   "source": [
    "full_duration = np.array([s[\"n_frames\"] for s in full_samples], dtype=np.int32) / 16000\n",
    "half_duration = np.array([s[\"n_frames\"] for s in half_samples], dtype=np.int32) / 16000"
   ]
  },
  {
   "cell_type": "code",
   "execution_count": 49,
   "metadata": {},
   "outputs": [],
   "source": [
    "import matplotlib.pyplot as plt"
   ]
  },
  {
   "cell_type": "code",
   "execution_count": null,
   "metadata": {},
   "outputs": [],
   "source": [
    "plt.hist(full_duration, bins=50, alpha=0.5, label='Full Duration')\n",
    "plt.hist(half_duration, bins=50, alpha=0.5, label='Half Duration')\n",
    "plt.xlim(20)\n",
    "plt.ylim(0, 1000)\n",
    "plt.xlabel('Duration (seconds)')\n",
    "plt.ylabel('Frequency')\n",
    "plt.legend(loc='upper right')\n",
    "plt.title('Histogram of Full Duration and Half Duration')\n",
    "plt.show()"
   ]
  },
  {
   "cell_type": "code",
   "execution_count": 58,
   "metadata": {},
   "outputs": [],
   "source": [
    "full_refs = np.array([len(s[\"tgt_text\"]) for s in full_samples])\n",
    "half_refs = np.array([len(s[\"tgt_text\"]) for s in half_samples])"
   ]
  },
  {
   "cell_type": "code",
   "execution_count": null,
   "metadata": {},
   "outputs": [],
   "source": [
    "(full_refs > 100).sum(), (half_refs > 100).sum()"
   ]
  },
  {
   "cell_type": "code",
   "execution_count": null,
   "metadata": {},
   "outputs": [],
   "source": [
    "plt.hist(full_refs, bins=50, alpha=0.5, label='Full Refs')\n",
    "plt.hist(half_refs, bins=50, alpha=0.5, label='Half Refs')\n",
    "plt.xlabel('# of characters')\n",
    "plt.ylabel('Frequency')\n",
    "plt.legend(loc='upper right')\n",
    "plt.title('Histogram of Full Refs and Half Refs')\n",
    "plt.xlim(100)\n",
    "plt.ylim(0, 1000)\n",
    "plt.show()"
   ]
  },
  {
   "cell_type": "code",
   "execution_count": 64,
   "metadata": {},
   "outputs": [],
   "source": [
    "de_samples = read_tsv(\"/compute/babel-6-17/xixu/datasets/must-c-v1.0/en-de/train.tsv\")"
   ]
  },
  {
   "cell_type": "code",
   "execution_count": 67,
   "metadata": {},
   "outputs": [],
   "source": [
    "de_refs = np.array([len(s[\"tgt_text\"].split(' ')) for s in de_samples])"
   ]
  },
  {
   "cell_type": "code",
   "execution_count": null,
   "metadata": {},
   "outputs": [],
   "source": [
    "de_refs"
   ]
  },
  {
   "cell_type": "code",
   "execution_count": null,
   "metadata": {},
   "outputs": [],
   "source": [
    "plt.hist(de_refs, bins=50, alpha=0.5, label='De Refs')\n",
    "plt.xlabel('# of words')\n",
    "plt.ylabel('Frequency')\n",
    "plt.legend(loc='upper right')\n",
    "plt.title('Histogram of Full Refs and Half Refs')\n",
    "\n",
    "plt.show()"
   ]
  },
  {
   "cell_type": "markdown",
   "metadata": {},
   "source": [
    "# Llama 3.1 Instruct"
   ]
  },
  {
   "cell_type": "code",
   "execution_count": 1,
   "metadata": {},
   "outputs": [
    {
     "name": "stdout",
     "output_type": "stream",
     "text": [
      "[2025-02-10 16:02:22,158] [INFO] [real_accelerator.py:222:get_accelerator] Setting ds_accelerator to cuda (auto detect)\n",
      "Warning: The cache directory for DeepSpeed Triton autotune, /home/siqiouya/.triton/autotune, appears to be on an NFS system. While this is generally acceptable, if you experience slowdowns or hanging when DeepSpeed exits, it is recommended to set the TRITON_CACHE_DIR environment variable to a non-NFS path.\n"
     ]
    },
    {
     "name": "stderr",
     "output_type": "stream",
     "text": [
      "/home/siqiouya/anaconda3/envs/speechllama/compiler_compat/ld: warning: librt.so.1, needed by /usr/local/cuda/lib64/libcufile.so, not found (try using -rpath or -rpath-link)\n",
      "/home/siqiouya/anaconda3/envs/speechllama/compiler_compat/ld: warning: libpthread.so.0, needed by /usr/local/cuda/lib64/libcufile.so, not found (try using -rpath or -rpath-link)\n",
      "/home/siqiouya/anaconda3/envs/speechllama/compiler_compat/ld: warning: libm.so.6, needed by /usr/local/cuda/lib64/libcufile.so, not found (try using -rpath or -rpath-link)\n",
      "/home/siqiouya/anaconda3/envs/speechllama/compiler_compat/ld: /usr/local/cuda/lib64/libcufile.so: undefined reference to `log2f@GLIBC_2.2.5'\n",
      "/home/siqiouya/anaconda3/envs/speechllama/compiler_compat/ld: /home/siqiouya/anaconda3/envs/sllama_lightning/lib//libstdc++.so.6: undefined reference to `fesetround@GLIBC_2.2.5'\n",
      "/home/siqiouya/anaconda3/envs/speechllama/compiler_compat/ld: /home/siqiouya/anaconda3/envs/sllama_lightning/lib//libstdc++.so.6: undefined reference to `fegetround@GLIBC_2.2.5'\n",
      "collect2: error: ld returned 1 exit status\n"
     ]
    }
   ],
   "source": [
    "import argparse, os, sys, time, json\n",
    "sys.path.append(\"/home/siqiouya/work/sllama\")\n",
    "os.environ[\"CUDA_VISIBLE_DEVICES\"] = \"0\"\n",
    "from collections import Counter\n",
    "\n",
    "from IPython.display import Audio\n",
    "\n",
    "from typing import Optional\n",
    "from simuleval.agents.states import AgentStates\n",
    "from simuleval.utils import entrypoint\n",
    "from simuleval.data.segments import SpeechSegment\n",
    "from simuleval.agents import SpeechToTextAgent\n",
    "from simuleval.agents.actions import WriteAction, ReadAction\n",
    "from simuleval.agents.states import AgentStates\n",
    "from dataclasses import dataclass\n",
    "\n",
    "import numpy\n",
    "import torch\n",
    "import torch.nn.functional as F\n",
    "from torch.utils.data import DataLoader\n",
    "import transformers\n",
    "\n",
    "import conversation as conversation_lib\n",
    "from conversation import SeparatorStyle\n",
    "from eval.utils import disable_torch_init\n",
    "from model.model_new import SpeechLlamaForCausalLM\n",
    "from model.utils import SpaceStoppingCriteria, KeywordsStoppingCriteria\n",
    "# from train.uni_wav2vec_monkey_patch import replace_uni_train\n",
    "from fairseq.data.audio.speech_to_text_dataset import _collate_frames"
   ]
  },
  {
   "cell_type": "code",
   "execution_count": 5,
   "metadata": {},
   "outputs": [
    {
     "data": {
      "text/plain": [
       "{'bos_token': '<|begin_of_text|>',\n",
       " 'eos_token': '<|eot_id|>',\n",
       " 'pad_token': '<|finetune_right_pad_id|>'}"
      ]
     },
     "execution_count": 5,
     "metadata": {},
     "output_type": "execute_result"
    }
   ],
   "source": [
    "tokenizer.special_tokens_map"
   ]
  },
  {
   "cell_type": "code",
   "execution_count": 6,
   "metadata": {},
   "outputs": [],
   "source": [
    "tokenizer = transformers.AutoTokenizer.from_pretrained(\n",
    "    # \"/compute/babel-4-1/siqiouya/llama-3.1-8b-instruct-hf\",\n",
    "    \"/compute/babel-4-1/siqiouya/llama-3-8b-instruct-hf\",\n",
    "    padding_side=\"right\",\n",
    "    use_fast=False,\n",
    ")"
   ]
  },
  {
   "cell_type": "code",
   "execution_count": 9,
   "metadata": {},
   "outputs": [
    {
     "data": {
      "text/plain": [
       "True"
      ]
     },
     "execution_count": 9,
     "metadata": {},
     "output_type": "execute_result"
    }
   ],
   "source": [
    "tokenizer.pad_token is None"
   ]
  },
  {
   "cell_type": "code",
   "execution_count": null,
   "metadata": {},
   "outputs": [
    {
     "ename": "TypeError",
     "evalue": "'<' not supported between instances of 'NoneType' and 'int'",
     "output_type": "error",
     "traceback": [
      "\u001b[0;31m---------------------------------------------------------------------------\u001b[0m",
      "\u001b[0;31mTypeError\u001b[0m                                 Traceback (most recent call last)",
      "Cell \u001b[0;32mIn[2], line 12\u001b[0m\n\u001b[1;32m      7\u001b[0m tokenizer\u001b[38;5;241m.\u001b[39mpad_token \u001b[38;5;241m=\u001b[39m \u001b[38;5;124m\"\u001b[39m\u001b[38;5;124m<|finetune_right_pad_id|>\u001b[39m\u001b[38;5;124m\"\u001b[39m\n\u001b[1;32m      8\u001b[0m messages \u001b[38;5;241m=\u001b[39m [\n\u001b[1;32m      9\u001b[0m     {\u001b[38;5;124m\"\u001b[39m\u001b[38;5;124mrole\u001b[39m\u001b[38;5;124m\"\u001b[39m: \u001b[38;5;124m\"\u001b[39m\u001b[38;5;124msystem\u001b[39m\u001b[38;5;124m\"\u001b[39m, \u001b[38;5;124m\"\u001b[39m\u001b[38;5;124mcontent\u001b[39m\u001b[38;5;124m\"\u001b[39m: \u001b[38;5;124m\"\u001b[39m\u001b[38;5;124mYou are a pirate chatbot who always responds in pirate speak!\u001b[39m\u001b[38;5;124m\"\u001b[39m},\n\u001b[1;32m     10\u001b[0m     {\u001b[38;5;124m\"\u001b[39m\u001b[38;5;124mrole\u001b[39m\u001b[38;5;124m\"\u001b[39m: \u001b[38;5;124m\"\u001b[39m\u001b[38;5;124muser\u001b[39m\u001b[38;5;124m\"\u001b[39m, \u001b[38;5;124m\"\u001b[39m\u001b[38;5;124mcontent\u001b[39m\u001b[38;5;124m\"\u001b[39m: \u001b[38;5;124m\"\u001b[39m\u001b[38;5;124mWho are you?\u001b[39m\u001b[38;5;124m\"\u001b[39m},\n\u001b[1;32m     11\u001b[0m ]\n\u001b[0;32m---> 12\u001b[0m \u001b[38;5;28mprint\u001b[39m(tokenizer\u001b[38;5;241m.\u001b[39mbatch_decode(\u001b[43mtokenizer\u001b[49m\u001b[38;5;241;43m.\u001b[39;49m\u001b[43mapply_chat_template\u001b[49m\u001b[43m(\u001b[49m\n\u001b[1;32m     13\u001b[0m \u001b[43m    \u001b[49m\u001b[43mmessages\u001b[49m\u001b[43m,\u001b[49m\n\u001b[1;32m     14\u001b[0m \u001b[43m    \u001b[49m\u001b[43mpadding\u001b[49m\u001b[38;5;241;43m=\u001b[39;49m\u001b[38;5;28;43;01mTrue\u001b[39;49;00m\u001b[43m,\u001b[49m\u001b[43m \u001b[49m\n\u001b[1;32m     15\u001b[0m \u001b[43m    \u001b[49m\u001b[43mtruncation\u001b[49m\u001b[38;5;241;43m=\u001b[39;49m\u001b[38;5;28;43;01mFalse\u001b[39;49;00m\u001b[43m,\u001b[49m\u001b[43m \u001b[49m\n\u001b[1;32m     16\u001b[0m \u001b[43m    \u001b[49m\u001b[43madd_special_tokens\u001b[49m\u001b[38;5;241;43m=\u001b[39;49m\u001b[38;5;28;43;01mFalse\u001b[39;49;00m\u001b[43m,\u001b[49m\n\u001b[1;32m     17\u001b[0m \u001b[43m    \u001b[49m\u001b[43mreturn_tensors\u001b[49m\u001b[38;5;241;43m=\u001b[39;49m\u001b[38;5;124;43m'\u001b[39;49m\u001b[38;5;124;43mpt\u001b[39;49m\u001b[38;5;124;43m'\u001b[39;49m\u001b[43m,\u001b[49m\n\u001b[1;32m     18\u001b[0m \u001b[43m)\u001b[49m)[\u001b[38;5;241m0\u001b[39m])\n",
      "File \u001b[0;32m~/anaconda3/envs/speechllama/lib/python3.9/site-packages/transformers/tokenization_utils_base.py:1706\u001b[0m, in \u001b[0;36mPreTrainedTokenizerBase.apply_chat_template\u001b[0;34m(self, conversation, tools, documents, chat_template, add_generation_prompt, continue_final_message, tokenize, padding, truncation, max_length, return_tensors, return_dict, return_assistant_tokens_mask, tokenizer_kwargs, **kwargs)\u001b[0m\n\u001b[1;32m   1703\u001b[0m     rendered \u001b[38;5;241m=\u001b[39m rendered[\u001b[38;5;241m0\u001b[39m]\n\u001b[1;32m   1705\u001b[0m \u001b[38;5;28;01mif\u001b[39;00m tokenize:\n\u001b[0;32m-> 1706\u001b[0m     out \u001b[38;5;241m=\u001b[39m \u001b[38;5;28;43mself\u001b[39;49m\u001b[43m(\u001b[49m\n\u001b[1;32m   1707\u001b[0m \u001b[43m        \u001b[49m\u001b[43mrendered\u001b[49m\u001b[43m,\u001b[49m\n\u001b[1;32m   1708\u001b[0m \u001b[43m        \u001b[49m\u001b[43mpadding\u001b[49m\u001b[38;5;241;43m=\u001b[39;49m\u001b[43mpadding\u001b[49m\u001b[43m,\u001b[49m\n\u001b[1;32m   1709\u001b[0m \u001b[43m        \u001b[49m\u001b[43mtruncation\u001b[49m\u001b[38;5;241;43m=\u001b[39;49m\u001b[43mtruncation\u001b[49m\u001b[43m,\u001b[49m\n\u001b[1;32m   1710\u001b[0m \u001b[43m        \u001b[49m\u001b[43mmax_length\u001b[49m\u001b[38;5;241;43m=\u001b[39;49m\u001b[43mmax_length\u001b[49m\u001b[43m,\u001b[49m\n\u001b[1;32m   1711\u001b[0m \u001b[43m        \u001b[49m\u001b[43madd_special_tokens\u001b[49m\u001b[38;5;241;43m=\u001b[39;49m\u001b[38;5;28;43;01mFalse\u001b[39;49;00m\u001b[43m,\u001b[49m\n\u001b[1;32m   1712\u001b[0m \u001b[43m        \u001b[49m\u001b[43mreturn_tensors\u001b[49m\u001b[38;5;241;43m=\u001b[39;49m\u001b[43mreturn_tensors\u001b[49m\u001b[43m,\u001b[49m\n\u001b[1;32m   1713\u001b[0m \u001b[43m        \u001b[49m\u001b[38;5;241;43m*\u001b[39;49m\u001b[38;5;241;43m*\u001b[39;49m\u001b[43mtokenizer_kwargs\u001b[49m\u001b[43m,\u001b[49m\n\u001b[1;32m   1714\u001b[0m \u001b[43m    \u001b[49m\u001b[43m)\u001b[49m\n\u001b[1;32m   1715\u001b[0m     \u001b[38;5;28;01mif\u001b[39;00m return_dict:\n\u001b[1;32m   1716\u001b[0m         \u001b[38;5;28;01mif\u001b[39;00m return_assistant_tokens_mask:\n",
      "File \u001b[0;32m~/anaconda3/envs/speechllama/lib/python3.9/site-packages/transformers/tokenization_utils_base.py:2860\u001b[0m, in \u001b[0;36mPreTrainedTokenizerBase.__call__\u001b[0;34m(self, text, text_pair, text_target, text_pair_target, add_special_tokens, padding, truncation, max_length, stride, is_split_into_words, pad_to_multiple_of, padding_side, return_tensors, return_token_type_ids, return_attention_mask, return_overflowing_tokens, return_special_tokens_mask, return_offsets_mapping, return_length, verbose, **kwargs)\u001b[0m\n\u001b[1;32m   2858\u001b[0m     \u001b[38;5;28;01mif\u001b[39;00m \u001b[38;5;129;01mnot\u001b[39;00m \u001b[38;5;28mself\u001b[39m\u001b[38;5;241m.\u001b[39m_in_target_context_manager:\n\u001b[1;32m   2859\u001b[0m         \u001b[38;5;28mself\u001b[39m\u001b[38;5;241m.\u001b[39m_switch_to_input_mode()\n\u001b[0;32m-> 2860\u001b[0m     encodings \u001b[38;5;241m=\u001b[39m \u001b[38;5;28;43mself\u001b[39;49m\u001b[38;5;241;43m.\u001b[39;49m\u001b[43m_call_one\u001b[49m\u001b[43m(\u001b[49m\u001b[43mtext\u001b[49m\u001b[38;5;241;43m=\u001b[39;49m\u001b[43mtext\u001b[49m\u001b[43m,\u001b[49m\u001b[43m \u001b[49m\u001b[43mtext_pair\u001b[49m\u001b[38;5;241;43m=\u001b[39;49m\u001b[43mtext_pair\u001b[49m\u001b[43m,\u001b[49m\u001b[43m \u001b[49m\u001b[38;5;241;43m*\u001b[39;49m\u001b[38;5;241;43m*\u001b[39;49m\u001b[43mall_kwargs\u001b[49m\u001b[43m)\u001b[49m\n\u001b[1;32m   2861\u001b[0m \u001b[38;5;28;01mif\u001b[39;00m text_target \u001b[38;5;129;01mis\u001b[39;00m \u001b[38;5;129;01mnot\u001b[39;00m \u001b[38;5;28;01mNone\u001b[39;00m:\n\u001b[1;32m   2862\u001b[0m     \u001b[38;5;28mself\u001b[39m\u001b[38;5;241m.\u001b[39m_switch_to_target_mode()\n",
      "File \u001b[0;32m~/anaconda3/envs/speechllama/lib/python3.9/site-packages/transformers/tokenization_utils_base.py:2970\u001b[0m, in \u001b[0;36mPreTrainedTokenizerBase._call_one\u001b[0;34m(self, text, text_pair, add_special_tokens, padding, truncation, max_length, stride, is_split_into_words, pad_to_multiple_of, padding_side, return_tensors, return_token_type_ids, return_attention_mask, return_overflowing_tokens, return_special_tokens_mask, return_offsets_mapping, return_length, verbose, split_special_tokens, **kwargs)\u001b[0m\n\u001b[1;32m   2948\u001b[0m     \u001b[38;5;28;01mreturn\u001b[39;00m \u001b[38;5;28mself\u001b[39m\u001b[38;5;241m.\u001b[39mbatch_encode_plus(\n\u001b[1;32m   2949\u001b[0m         batch_text_or_text_pairs\u001b[38;5;241m=\u001b[39mbatch_text_or_text_pairs,\n\u001b[1;32m   2950\u001b[0m         add_special_tokens\u001b[38;5;241m=\u001b[39madd_special_tokens,\n\u001b[0;32m   (...)\u001b[0m\n\u001b[1;32m   2967\u001b[0m         \u001b[38;5;241m*\u001b[39m\u001b[38;5;241m*\u001b[39mkwargs,\n\u001b[1;32m   2968\u001b[0m     )\n\u001b[1;32m   2969\u001b[0m \u001b[38;5;28;01melse\u001b[39;00m:\n\u001b[0;32m-> 2970\u001b[0m     \u001b[38;5;28;01mreturn\u001b[39;00m \u001b[38;5;28;43mself\u001b[39;49m\u001b[38;5;241;43m.\u001b[39;49m\u001b[43mencode_plus\u001b[49m\u001b[43m(\u001b[49m\n\u001b[1;32m   2971\u001b[0m \u001b[43m        \u001b[49m\u001b[43mtext\u001b[49m\u001b[38;5;241;43m=\u001b[39;49m\u001b[43mtext\u001b[49m\u001b[43m,\u001b[49m\n\u001b[1;32m   2972\u001b[0m \u001b[43m        \u001b[49m\u001b[43mtext_pair\u001b[49m\u001b[38;5;241;43m=\u001b[39;49m\u001b[43mtext_pair\u001b[49m\u001b[43m,\u001b[49m\n\u001b[1;32m   2973\u001b[0m \u001b[43m        \u001b[49m\u001b[43madd_special_tokens\u001b[49m\u001b[38;5;241;43m=\u001b[39;49m\u001b[43madd_special_tokens\u001b[49m\u001b[43m,\u001b[49m\n\u001b[1;32m   2974\u001b[0m \u001b[43m        \u001b[49m\u001b[43mpadding\u001b[49m\u001b[38;5;241;43m=\u001b[39;49m\u001b[43mpadding\u001b[49m\u001b[43m,\u001b[49m\n\u001b[1;32m   2975\u001b[0m \u001b[43m        \u001b[49m\u001b[43mtruncation\u001b[49m\u001b[38;5;241;43m=\u001b[39;49m\u001b[43mtruncation\u001b[49m\u001b[43m,\u001b[49m\n\u001b[1;32m   2976\u001b[0m \u001b[43m        \u001b[49m\u001b[43mmax_length\u001b[49m\u001b[38;5;241;43m=\u001b[39;49m\u001b[43mmax_length\u001b[49m\u001b[43m,\u001b[49m\n\u001b[1;32m   2977\u001b[0m \u001b[43m        \u001b[49m\u001b[43mstride\u001b[49m\u001b[38;5;241;43m=\u001b[39;49m\u001b[43mstride\u001b[49m\u001b[43m,\u001b[49m\n\u001b[1;32m   2978\u001b[0m \u001b[43m        \u001b[49m\u001b[43mis_split_into_words\u001b[49m\u001b[38;5;241;43m=\u001b[39;49m\u001b[43mis_split_into_words\u001b[49m\u001b[43m,\u001b[49m\n\u001b[1;32m   2979\u001b[0m \u001b[43m        \u001b[49m\u001b[43mpad_to_multiple_of\u001b[49m\u001b[38;5;241;43m=\u001b[39;49m\u001b[43mpad_to_multiple_of\u001b[49m\u001b[43m,\u001b[49m\n\u001b[1;32m   2980\u001b[0m \u001b[43m        \u001b[49m\u001b[43mpadding_side\u001b[49m\u001b[38;5;241;43m=\u001b[39;49m\u001b[43mpadding_side\u001b[49m\u001b[43m,\u001b[49m\n\u001b[1;32m   2981\u001b[0m \u001b[43m        \u001b[49m\u001b[43mreturn_tensors\u001b[49m\u001b[38;5;241;43m=\u001b[39;49m\u001b[43mreturn_tensors\u001b[49m\u001b[43m,\u001b[49m\n\u001b[1;32m   2982\u001b[0m \u001b[43m        \u001b[49m\u001b[43mreturn_token_type_ids\u001b[49m\u001b[38;5;241;43m=\u001b[39;49m\u001b[43mreturn_token_type_ids\u001b[49m\u001b[43m,\u001b[49m\n\u001b[1;32m   2983\u001b[0m \u001b[43m        \u001b[49m\u001b[43mreturn_attention_mask\u001b[49m\u001b[38;5;241;43m=\u001b[39;49m\u001b[43mreturn_attention_mask\u001b[49m\u001b[43m,\u001b[49m\n\u001b[1;32m   2984\u001b[0m \u001b[43m        \u001b[49m\u001b[43mreturn_overflowing_tokens\u001b[49m\u001b[38;5;241;43m=\u001b[39;49m\u001b[43mreturn_overflowing_tokens\u001b[49m\u001b[43m,\u001b[49m\n\u001b[1;32m   2985\u001b[0m \u001b[43m        \u001b[49m\u001b[43mreturn_special_tokens_mask\u001b[49m\u001b[38;5;241;43m=\u001b[39;49m\u001b[43mreturn_special_tokens_mask\u001b[49m\u001b[43m,\u001b[49m\n\u001b[1;32m   2986\u001b[0m \u001b[43m        \u001b[49m\u001b[43mreturn_offsets_mapping\u001b[49m\u001b[38;5;241;43m=\u001b[39;49m\u001b[43mreturn_offsets_mapping\u001b[49m\u001b[43m,\u001b[49m\n\u001b[1;32m   2987\u001b[0m \u001b[43m        \u001b[49m\u001b[43mreturn_length\u001b[49m\u001b[38;5;241;43m=\u001b[39;49m\u001b[43mreturn_length\u001b[49m\u001b[43m,\u001b[49m\n\u001b[1;32m   2988\u001b[0m \u001b[43m        \u001b[49m\u001b[43mverbose\u001b[49m\u001b[38;5;241;43m=\u001b[39;49m\u001b[43mverbose\u001b[49m\u001b[43m,\u001b[49m\n\u001b[1;32m   2989\u001b[0m \u001b[43m        \u001b[49m\u001b[43msplit_special_tokens\u001b[49m\u001b[38;5;241;43m=\u001b[39;49m\u001b[43msplit_special_tokens\u001b[49m\u001b[43m,\u001b[49m\n\u001b[1;32m   2990\u001b[0m \u001b[43m        \u001b[49m\u001b[38;5;241;43m*\u001b[39;49m\u001b[38;5;241;43m*\u001b[39;49m\u001b[43mkwargs\u001b[49m\u001b[43m,\u001b[49m\n\u001b[1;32m   2991\u001b[0m \u001b[43m    \u001b[49m\u001b[43m)\u001b[49m\n",
      "File \u001b[0;32m~/anaconda3/envs/speechllama/lib/python3.9/site-packages/transformers/tokenization_utils_base.py:3037\u001b[0m, in \u001b[0;36mPreTrainedTokenizerBase.encode_plus\u001b[0;34m(self, text, text_pair, add_special_tokens, padding, truncation, max_length, stride, is_split_into_words, pad_to_multiple_of, padding_side, return_tensors, return_token_type_ids, return_attention_mask, return_overflowing_tokens, return_special_tokens_mask, return_offsets_mapping, return_length, verbose, **kwargs)\u001b[0m\n\u001b[1;32m   3016\u001b[0m \u001b[38;5;250m\u001b[39m\u001b[38;5;124;03m\"\"\"\u001b[39;00m\n\u001b[1;32m   3017\u001b[0m \u001b[38;5;124;03mTokenize and prepare for the model a sequence or a pair of sequences.\u001b[39;00m\n\u001b[1;32m   3018\u001b[0m \n\u001b[0;32m   (...)\u001b[0m\n\u001b[1;32m   3033\u001b[0m \u001b[38;5;124;03m        method).\u001b[39;00m\n\u001b[1;32m   3034\u001b[0m \u001b[38;5;124;03m\"\"\"\u001b[39;00m\n\u001b[1;32m   3036\u001b[0m \u001b[38;5;66;03m# Backward compatibility for 'truncation_strategy', 'pad_to_max_length'\u001b[39;00m\n\u001b[0;32m-> 3037\u001b[0m padding_strategy, truncation_strategy, max_length, kwargs \u001b[38;5;241m=\u001b[39m \u001b[38;5;28;43mself\u001b[39;49m\u001b[38;5;241;43m.\u001b[39;49m\u001b[43m_get_padding_truncation_strategies\u001b[49m\u001b[43m(\u001b[49m\n\u001b[1;32m   3038\u001b[0m \u001b[43m    \u001b[49m\u001b[43mpadding\u001b[49m\u001b[38;5;241;43m=\u001b[39;49m\u001b[43mpadding\u001b[49m\u001b[43m,\u001b[49m\n\u001b[1;32m   3039\u001b[0m \u001b[43m    \u001b[49m\u001b[43mtruncation\u001b[49m\u001b[38;5;241;43m=\u001b[39;49m\u001b[43mtruncation\u001b[49m\u001b[43m,\u001b[49m\n\u001b[1;32m   3040\u001b[0m \u001b[43m    \u001b[49m\u001b[43mmax_length\u001b[49m\u001b[38;5;241;43m=\u001b[39;49m\u001b[43mmax_length\u001b[49m\u001b[43m,\u001b[49m\n\u001b[1;32m   3041\u001b[0m \u001b[43m    \u001b[49m\u001b[43mpad_to_multiple_of\u001b[49m\u001b[38;5;241;43m=\u001b[39;49m\u001b[43mpad_to_multiple_of\u001b[49m\u001b[43m,\u001b[49m\n\u001b[1;32m   3042\u001b[0m \u001b[43m    \u001b[49m\u001b[43mverbose\u001b[49m\u001b[38;5;241;43m=\u001b[39;49m\u001b[43mverbose\u001b[49m\u001b[43m,\u001b[49m\n\u001b[1;32m   3043\u001b[0m \u001b[43m    \u001b[49m\u001b[38;5;241;43m*\u001b[39;49m\u001b[38;5;241;43m*\u001b[39;49m\u001b[43mkwargs\u001b[49m\u001b[43m,\u001b[49m\n\u001b[1;32m   3044\u001b[0m \u001b[43m\u001b[49m\u001b[43m)\u001b[49m\n\u001b[1;32m   3046\u001b[0m \u001b[38;5;28;01mreturn\u001b[39;00m \u001b[38;5;28mself\u001b[39m\u001b[38;5;241m.\u001b[39m_encode_plus(\n\u001b[1;32m   3047\u001b[0m     text\u001b[38;5;241m=\u001b[39mtext,\n\u001b[1;32m   3048\u001b[0m     text_pair\u001b[38;5;241m=\u001b[39mtext_pair,\n\u001b[0;32m   (...)\u001b[0m\n\u001b[1;32m   3066\u001b[0m     \u001b[38;5;241m*\u001b[39m\u001b[38;5;241m*\u001b[39mkwargs,\n\u001b[1;32m   3067\u001b[0m )\n",
      "File \u001b[0;32m~/anaconda3/envs/speechllama/lib/python3.9/site-packages/transformers/tokenization_utils_base.py:2761\u001b[0m, in \u001b[0;36mPreTrainedTokenizerBase._get_padding_truncation_strategies\u001b[0;34m(self, padding, truncation, max_length, pad_to_multiple_of, verbose, **kwargs)\u001b[0m\n\u001b[1;32m   2758\u001b[0m             max_length \u001b[38;5;241m=\u001b[39m \u001b[38;5;28mself\u001b[39m\u001b[38;5;241m.\u001b[39mmodel_max_length\n\u001b[1;32m   2760\u001b[0m \u001b[38;5;66;03m# Test if we have a padding token\u001b[39;00m\n\u001b[0;32m-> 2761\u001b[0m \u001b[38;5;28;01mif\u001b[39;00m padding_strategy \u001b[38;5;241m!=\u001b[39m PaddingStrategy\u001b[38;5;241m.\u001b[39mDO_NOT_PAD \u001b[38;5;129;01mand\u001b[39;00m (\u001b[38;5;28mself\u001b[39m\u001b[38;5;241m.\u001b[39mpad_token \u001b[38;5;129;01mis\u001b[39;00m \u001b[38;5;28;01mNone\u001b[39;00m \u001b[38;5;129;01mor\u001b[39;00m \u001b[38;5;28;43mself\u001b[39;49m\u001b[38;5;241;43m.\u001b[39;49m\u001b[43mpad_token_id\u001b[49m\u001b[43m \u001b[49m\u001b[38;5;241;43m<\u001b[39;49m\u001b[43m \u001b[49m\u001b[38;5;241;43m0\u001b[39;49m):\n\u001b[1;32m   2762\u001b[0m     \u001b[38;5;28;01mraise\u001b[39;00m \u001b[38;5;167;01mValueError\u001b[39;00m(\n\u001b[1;32m   2763\u001b[0m         \u001b[38;5;124m\"\u001b[39m\u001b[38;5;124mAsking to pad but the tokenizer does not have a padding token. \u001b[39m\u001b[38;5;124m\"\u001b[39m\n\u001b[1;32m   2764\u001b[0m         \u001b[38;5;124m\"\u001b[39m\u001b[38;5;124mPlease select a token to use as `pad_token` `(tokenizer.pad_token = tokenizer.eos_token e.g.)` \u001b[39m\u001b[38;5;124m\"\u001b[39m\n\u001b[1;32m   2765\u001b[0m         \u001b[38;5;124m\"\u001b[39m\u001b[38;5;124mor add a new pad token via `tokenizer.add_special_tokens(\u001b[39m\u001b[38;5;124m{\u001b[39m\u001b[38;5;124m'\u001b[39m\u001b[38;5;124mpad_token\u001b[39m\u001b[38;5;124m'\u001b[39m\u001b[38;5;124m: \u001b[39m\u001b[38;5;124m'\u001b[39m\u001b[38;5;124m[PAD]\u001b[39m\u001b[38;5;124m'\u001b[39m\u001b[38;5;124m})`.\u001b[39m\u001b[38;5;124m\"\u001b[39m\n\u001b[1;32m   2766\u001b[0m     )\n\u001b[1;32m   2768\u001b[0m \u001b[38;5;66;03m# Check that we will truncate to a multiple of pad_to_multiple_of if both are provided\u001b[39;00m\n",
      "\u001b[0;31mTypeError\u001b[0m: '<' not supported between instances of 'NoneType' and 'int'"
     ]
    }
   ],
   "source": [
    "tokenizer = transformers.AutoTokenizer.from_pretrained(\n",
    "    # \"/compute/babel-4-1/siqiouya/llama-3.1-8b-instruct-hf\",\n",
    "    \"/compute/babel-4-1/siqiouya/llama-3-8b-instruct-hf\",\n",
    "    padding_side=\"right\",\n",
    "    use_fast=False,\n",
    ")\n",
    "tokenizer.pad_token = \"<|finetune_right_pad_id|>\"\n",
    "messages = [\n",
    "    {\"role\": \"system\", \"content\": \"You are a pirate chatbot who always responds in pirate speak!\"},\n",
    "    {\"role\": \"user\", \"content\": \"Who are you?\"},\n",
    "]\n",
    "print(tokenizer.batch_decode(tokenizer.apply_chat_template(\n",
    "    messages,\n",
    "    padding=True, \n",
    "    truncation=False, \n",
    "    add_special_tokens=False,\n",
    "    return_tensors='pt',\n",
    "))[0])"
   ]
  },
  {
   "cell_type": "code",
   "execution_count": 11,
   "metadata": {},
   "outputs": [
    {
     "name": "stdout",
     "output_type": "stream",
     "text": [
      "<|begin_of_text|><|start_header_id|>system<|end_header_id|>\n",
      "\n",
      "Cutting Knowledge Date: December 2023\n",
      "Today Date: 26 Jul 2024\n",
      "\n",
      "You are a pirate chatbot who always responds in pirate speak!<|eot_id|><|start_header_id|>user<|end_header_id|>\n",
      "\n",
      "Who are you?<|eot_id|>\n"
     ]
    }
   ],
   "source": [
    "tokenizer = transformers.AutoTokenizer.from_pretrained(\n",
    "    \"/compute/babel-4-1/siqiouya/llama-3.1-8b-instruct-hf\",\n",
    "    # \"/compute/babel-4-1/siqiouya/llama-3-8b-instruct-hf\",\n",
    "    padding_side=\"right\",\n",
    "    use_fast=False,\n",
    ")\n",
    "tokenizer.pad_token = \"<|finetune_right_pad_id|>\"\n",
    "messages = [\n",
    "    {\"role\": \"system\", \"content\": \"You are a pirate chatbot who always responds in pirate speak!\"},\n",
    "    {\"role\": \"user\", \"content\": \"Who are you?\"},\n",
    "]\n",
    "print(tokenizer.batch_decode(tokenizer.apply_chat_template(\n",
    "    messages,\n",
    "    return_tensors='pt',\n",
    "))[0])"
   ]
  },
  {
   "cell_type": "code",
   "execution_count": null,
   "metadata": {},
   "outputs": [],
   "source": [
    "model = SpeechLlamaForCausalLM.from_pretrained(\n",
    "    \"/compute/babel-4-1/siqiouya/llama-3.1-8b-instruct-hf\",\n",
    "    torch_dtype=torch.bfloat16,\n",
    "    device_map='cuda',\n",
    ").eval()"
   ]
  },
  {
   "cell_type": "code",
   "execution_count": 3,
   "metadata": {},
   "outputs": [],
   "source": [
    "m1 = [\n",
    "    {\"role\": \"system\", \"content\": \"You are a pirate chatbot who always responds in pirate speak!\"},\n",
    "    {\"role\": \"user\", \"content\": \"Who are you?\"},\n",
    "    {\"role\": \"assistant\", \"content\": \"\"}\n",
    "]\n",
    "m2 = [\n",
    "    {\"role\": \"system\", \"content\": \"Translate the following speech from English to Chinese.\"},\n",
    "    {\"role\": \"user\", \"content\": \"Who are you?\"},\n",
    "]"
   ]
  },
  {
   "cell_type": "code",
   "execution_count": null,
   "metadata": {},
   "outputs": [],
   "source": [
    "tokenizer.apply_chat_template(\n",
    "    [m1, m2], \n",
    "    return_tensors='pt',\n",
    "    padding=True, \n",
    "    truncation=False, \n",
    "    add_special_tokens=False\n",
    ")"
   ]
  },
  {
   "cell_type": "code",
   "execution_count": null,
   "metadata": {},
   "outputs": [],
   "source": [
    "tokenizer.convert_ids_to_tokens([128009])"
   ]
  },
  {
   "cell_type": "markdown",
   "metadata": {},
   "source": [
    "# Debug Training"
   ]
  },
  {
   "cell_type": "code",
   "execution_count": null,
   "metadata": {},
   "outputs": [],
   "source": [
    "import argparse, os, sys, time, json\n",
    "sys.path.append(\"/home/siqiouya/work/sllama\")\n",
    "os.environ[\"CUDA_VISIBLE_DEVICES\"] = \"0\"\n",
    "from collections import Counter\n",
    "\n",
    "from IPython.display import Audio\n",
    "\n",
    "from typing import Optional\n",
    "from simuleval.agents.states import AgentStates\n",
    "from simuleval.utils import entrypoint\n",
    "from simuleval.data.segments import SpeechSegment\n",
    "from simuleval.agents import SpeechToTextAgent\n",
    "from simuleval.agents.actions import WriteAction, ReadAction\n",
    "from simuleval.agents.states import AgentStates\n",
    "from dataclasses import dataclass\n",
    "\n",
    "import numpy\n",
    "import torch\n",
    "import torch.nn.functional as F\n",
    "from torch.utils.data import DataLoader\n",
    "import transformers\n",
    "\n",
    "import conversation as conversation_lib\n",
    "from conversation import SeparatorStyle\n",
    "from eval.utils import disable_torch_init\n",
    "from model.model_new import SpeechLlamaForCausalLM\n",
    "from model.utils import SpaceStoppingCriteria, KeywordsStoppingCriteria\n",
    "# from train.uni_wav2vec_monkey_patch import replace_uni_train\n",
    "from fairseq.data.audio.speech_to_text_dataset import _collate_frames"
   ]
  },
  {
   "cell_type": "code",
   "execution_count": 2,
   "metadata": {},
   "outputs": [],
   "source": [
    "from train.options import (\n",
    "    add_speech_encoder_args,\n",
    "    add_simuleval_args,\n",
    "    add_gen_args\n",
    ")\n",
    "from model.speech_encoder import (\n",
    "    SpeechEncoderHuBERTRope,\n",
    "    SpeechEncoderW2V2RoPE,\n",
    "    SpeechEncoderW2VBERT2\n",
    ")\n",
    "from train.dataset import (\n",
    "    DEFAULT_SPEECH_PATCH_TOKEN,\n",
    "    DEFAULT_SPEECH_START_TOKEN,\n",
    "    DEFAULT_SPEECH_END_TOKEN\n",
    ")\n",
    "from train.dataset import (\n",
    "    SpeechSampler, \n",
    "    PromptSpeechToTextDatasetCreator, \n",
    "    SpeechToTextDatasetItem,\n",
    "    DataCollatorForSupervisedDataset,\n",
    "    DataCollatorForTrajectoryDataset,\n",
    "    DataCollatorForTrajectoryInstructDataset\n",
    ")"
   ]
  },
  {
   "cell_type": "code",
   "execution_count": null,
   "metadata": {},
   "outputs": [],
   "source": [
    "# load model\n",
    "tokenizer = transformers.AutoTokenizer.from_pretrained(\n",
    "    \"/compute/babel-4-1/siqiouya/llama-3.1-8b-instruct-hf\",\n",
    "    padding_side=\"right\",\n",
    "    use_fast=False,\n",
    ")\n",
    "tokenizer.pad_token = \"<|finetune_right_pad_id|>\"\n",
    "\n",
    "model = SpeechLlamaForCausalLM.from_pretrained(\n",
    "    \"/compute/babel-4-1/siqiouya/llama-3.1-8b-instruct-hf\",\n",
    "    torch_dtype=torch.bfloat16,\n",
    "    device_map='cuda',\n",
    ").eval()\n",
    "\n",
    "speech_encoder_args = [\n",
    "    \"/data/user_data/siqiouya/runs/pretrained/wav2_vec_vox_960h_pl.pt\",\n",
    "    True,\n",
    "    \"[(1024,2,2)] * 2\",    \n",
    "    48,\n",
    "    500,\n",
    "    model.model.embed_tokens.embedding_dim,\n",
    "    None,\n",
    "    False,\n",
    "]\n",
    "speech_encoder = SpeechEncoderW2V2RoPE(*speech_encoder_args)\n",
    "\n",
    "speech_encoder.to(dtype=model.dtype, device=model.device)\n",
    "length_shrink_func = speech_encoder._get_feat_extract_output_lengths\n",
    "\n",
    "model.model.speech_encoder = speech_encoder\n",
    "model.preprocess(tokenizer=tokenizer)\n",
    "\n",
    "# state_dict = torch.load(\n",
    "#     \"/compute/babel-5-23/siqiouya/runs/8B-traj-s2-v1.2/epoch=0-step=1213.ckpt/pytorch_model.bin\", \n",
    "#     map_location='cpu', \n",
    "#     weights_only=True\n",
    "# )\n",
    "# model.load_state_dict(state_dict)\n",
    "# model.model.inference = True"
   ]
  },
  {
   "cell_type": "code",
   "execution_count": 84,
   "metadata": {},
   "outputs": [],
   "source": [
    "def prepare_speech(states):\n",
    "    source = torch.tensor(states.source)\n",
    "    sp_seg_frame = int(12 * 0.08 * 16000)\n",
    "    if source.size(0) % sp_seg_frame != 0:\n",
    "        n_pad = sp_seg_frame - source.size(0) % sp_seg_frame\n",
    "        source = torch.cat([source, torch.zeros(n_pad).to(source)], dim=0)\n",
    "    offset = torch.zeros(79 + 320).to(source)\n",
    "    source = torch.cat([offset, source], dim=0)\n",
    "    old_src_len = states.src_len\n",
    "    states.src_len = source.size(0)\n",
    "    source = source[old_src_len:]\n",
    "\n",
    "    speech_batch = source.unsqueeze(0).to(device='cuda', dtype=torch.bfloat16)\n",
    "    n_frames = torch.tensor([source.size(0)], dtype=torch.long).to('cuda')\n",
    "    speech_lens = length_shrink_func(n_frames)\n",
    "    return speech_batch, n_frames, speech_lens\n",
    "def prepare_inputs(states, speech_lens):\n",
    "    prompt = \"\"\n",
    "    if states.speech_cache is None:\n",
    "        prompt += f\"Translate the following speech from English to Chinese: \"\n",
    "    sp_tokens = DEFAULT_SPEECH_START_TOKEN + \\\n",
    "        speech_lens[0] * DEFAULT_SPEECH_PATCH_TOKEN + \\\n",
    "        DEFAULT_SPEECH_END_TOKEN\n",
    "    prompt += sp_tokens\n",
    "\n",
    "    inputs = tokenizer(\n",
    "        [prompt],\n",
    "        return_tensors=\"pt\",\n",
    "        padding=True,\n",
    "        truncation=False,\n",
    "        add_special_tokens=False,\n",
    "    )\n",
    "    input_ids = inputs.input_ids.cuda()\n",
    "    return input_ids"
   ]
  },
  {
   "cell_type": "code",
   "execution_count": 4,
   "metadata": {},
   "outputs": [],
   "source": [
    "os.environ[\"MASTER_ADDR\"] = \"0.0.0.0\"\n",
    "os.environ[\"MASTER_PORT\"] = \"9105\"\n",
    "torch.distributed.init_process_group(\n",
    "    rank=0, world_size=1, \n",
    ")"
   ]
  },
  {
   "cell_type": "code",
   "execution_count": null,
   "metadata": {},
   "outputs": [],
   "source": [
    "# load data\n",
    "train_dataset = PromptSpeechToTextDatasetCreator.from_tsv(\n",
    "    \"/compute/babel-6-17/xixu/datasets/must-c-v2.0/en-zh\",\n",
    "    \"comet_0.50_traj\",\n",
    ")\n",
    "data_collator = DataCollatorForTrajectoryInstructDataset(\n",
    "    tokenizer, \n",
    "    length_shrink_func, \n",
    "    \"English\",\n",
    "    \"Chinese\",\n",
    "    block_size=48,\n",
    ")\n",
    "\n",
    "train_sampler = SpeechSampler(\n",
    "    train_dataset, \n",
    "    shuffle=True, \n",
    "    batch_size=800000, \n",
    "    batch_size_sent=20,\n",
    "    min_ms=320,\n",
    "    multiplier=32,\n",
    "    filter=True,\n",
    "    target_lang=\"Chinese\"\n",
    ")\n",
    "train_dataloader = DataLoader(\n",
    "    train_dataset, \n",
    "    batch_sampler=train_sampler, \n",
    "    collate_fn=data_collator\n",
    ")"
   ]
  },
  {
   "cell_type": "code",
   "execution_count": null,
   "metadata": {},
   "outputs": [],
   "source": [
    "tokenizer.convert_tokens_to_ids('<|start_header_id|>')"
   ]
  },
  {
   "cell_type": "code",
   "execution_count": 7,
   "metadata": {},
   "outputs": [],
   "source": [
    "batches = list(train_dataloader)"
   ]
  },
  {
   "cell_type": "code",
   "execution_count": null,
   "metadata": {},
   "outputs": [],
   "source": [
    "batch = batches[-4]\n",
    "print(tokenizer.batch_decode(batch['input_ids']))\n",
    "\n",
    "sp_end_id = tokenizer.convert_tokens_to_ids(DEFAULT_SPEECH_END_TOKEN)\n",
    "sp_end_indices = (batch['input_ids'] == sp_end_id).nonzero()"
   ]
  },
  {
   "cell_type": "code",
   "execution_count": 68,
   "metadata": {},
   "outputs": [],
   "source": [
    "idx = -1"
   ]
  },
  {
   "cell_type": "code",
   "execution_count": null,
   "metadata": {},
   "outputs": [],
   "source": [
    "idx += 1\n",
    "partial_input_ids = batch[\"input_ids\"][:, :sp_end_indices[idx, 1] + 1]\n",
    "print(tokenizer.batch_decode(partial_input_ids))\n",
    "\n",
    "partial_speech_batch = batch[\"speech_batch\"][:, :79 + 320 + 48 * 320 * (idx + 1)]\n",
    "display(Audio(partial_speech_batch, rate=16000))\n",
    "partial_n_frames = torch.tensor([partial_speech_batch.size(1)], dtype=torch.long)\n",
    "partial_speech_lens = length_shrink_func(partial_n_frames)\n",
    "stop_str = \"<|end_of_text|>\"\n",
    "keywords = [stop_str]\n",
    "stopping_criteria = KeywordsStoppingCriteria(\n",
    "    keywords, tokenizer, partial_input_ids.clone()\n",
    ")\n",
    "model.model.speech_features_extracted = False\n",
    "outputs = model.generate(\n",
    "    attention_mask=None,\n",
    "    input_ids=partial_input_ids.to(model.device),\n",
    "    speech_batch=partial_speech_batch.to(model.device, model.dtype),\n",
    "    src_lengths=partial_n_frames.to(model.device),\n",
    "    after_lens=partial_speech_lens.to(model.device),\n",
    "    do_sample=False,\n",
    "    num_beams=1,\n",
    "    max_new_tokens=100,\n",
    "    no_repeat_ngram_size=3,\n",
    "    repetition_penalty=1.2,\n",
    "    temperature=1.0,\n",
    "    top_p=1.0,\n",
    "    stopping_criteria=[stopping_criteria],\n",
    "    pad_token_id=tokenizer.pad_token_id,\n",
    "    return_dict_in_generate=True,\n",
    "    use_cache=True,\n",
    "    # past_key_values=states.past_key_values,\n",
    "    # states=states,\n",
    ")\n",
    "print(tokenizer.batch_decode(outputs.sequences))"
   ]
  },
  {
   "cell_type": "code",
   "execution_count": 85,
   "metadata": {},
   "outputs": [],
   "source": [
    "from eval.agents.streamllama import S2TAgentStates\n",
    "states = S2TAgentStates(0, None, None, [])\n",
    "idx = -1"
   ]
  },
  {
   "cell_type": "code",
   "execution_count": null,
   "metadata": {},
   "outputs": [],
   "source": [
    "idx += 1\n",
    "states.source = list(batch[\"speech_batch\"][0, :48 * 320 * (idx + 1)])\n",
    "speech_batch, n_frames, speech_lens = prepare_speech(states)\n",
    "input_ids = prepare_inputs(states, speech_lens)\n",
    "\n",
    "max_number_of_tokens = 100\n",
    "\n",
    "stop_str = \"<|end_of_text|>\"\n",
    "keywords = [stop_str]\n",
    "stopping_criteria = KeywordsStoppingCriteria(\n",
    "    keywords, tokenizer, torch.tensor(input_ids)\n",
    ")\n",
    "\n",
    "model.model.speech_features_extracted = False\n",
    "outputs = model.generate(\n",
    "    attention_mask=None,\n",
    "    input_ids=input_ids,\n",
    "    speech_batch=speech_batch,\n",
    "    src_lengths=n_frames,\n",
    "    after_lens=speech_lens,\n",
    "    do_sample=False,\n",
    "    num_beams=1,\n",
    "    max_new_tokens=max(1, max_number_of_tokens - len(states.target_ids)),\n",
    "    no_repeat_ngram_size=3,\n",
    "    repetition_penalty=1.2,\n",
    "    temperature=1.0,\n",
    "    top_p=1.0,\n",
    "    stopping_criteria=[stopping_criteria],\n",
    "    pad_token_id=tokenizer.pad_token_id,\n",
    "    return_dict_in_generate=True,\n",
    "    use_cache=True,\n",
    "    past_key_values=states.past_key_values,\n",
    "    states=states,\n",
    ")\n",
    "\n",
    "states.past_key_values = outputs.past_key_values\n",
    "print(tokenizer.batch_decode(outputs.sequences))"
   ]
  },
  {
   "cell_type": "code",
   "execution_count": null,
   "metadata": {},
   "outputs": [],
   "source": [
    "states.src_len"
   ]
  },
  {
   "cell_type": "code",
   "execution_count": null,
   "metadata": {},
   "outputs": [],
   "source": [
    "partial_input_ids, input_ids, speech_lens"
   ]
  },
  {
   "cell_type": "markdown",
   "metadata": {},
   "source": [
    "# prepare data for simuleval"
   ]
  },
  {
   "cell_type": "code",
   "execution_count": 1,
   "metadata": {},
   "outputs": [],
   "source": [
    "import os\n",
    "import csv\n",
    "import soundfile as sf\n",
    "from tqdm.notebook import tqdm"
   ]
  },
  {
   "cell_type": "code",
   "execution_count": 5,
   "metadata": {},
   "outputs": [],
   "source": [
    "base_split = 'train'\n",
    "split = 'train_st_zh_ft_traj_30_filtered_po10k_gpt-4o-mini-2024-07-18_fa_traj'"
   ]
  },
  {
   "cell_type": "code",
   "execution_count": 3,
   "metadata": {},
   "outputs": [],
   "source": [
    "tsv_path = \"/compute/babel-14-5/siqiouya/en-zh/{}.tsv\".format(split)\n",
    "with open(tsv_path, encoding='utf-8') as f:\n",
    "    reader = csv.DictReader(\n",
    "        f,\n",
    "        delimiter=\"\\t\",\n",
    "        quotechar=None,\n",
    "        doublequote=False,\n",
    "        lineterminator=\"\\n\",\n",
    "        quoting=csv.QUOTE_NONE,\n",
    "    )\n",
    "    samples = [dict(e) for e in reader]"
   ]
  },
  {
   "cell_type": "code",
   "execution_count": null,
   "metadata": {},
   "outputs": [],
   "source": [
    "samples[0]"
   ]
  },
  {
   "cell_type": "code",
   "execution_count": 6,
   "metadata": {},
   "outputs": [],
   "source": [
    "os.makedirs(\"/compute/babel-14-5/siqiouya/en-zh/data/{}/wav_split_30/\".format(base_split))"
   ]
  },
  {
   "cell_type": "code",
   "execution_count": null,
   "metadata": {},
   "outputs": [],
   "source": [
    "for x in tqdm(samples):\n",
    "    path, offset, n_frame = x['audio'].split(':')\n",
    "    wav, sr = sf.read(path, frames=int(n_frame), start=int(offset))\n",
    "    sf.write(f\"/compute/babel-14-5/siqiouya/en-zh/data/{base_split}/wav_split_30/{x['id']}.wav\", wav, sr)"
   ]
  },
  {
   "cell_type": "code",
   "execution_count": 12,
   "metadata": {},
   "outputs": [],
   "source": [
    "n_partition = 8\n",
    "partition_size = (len(samples) + n_partition - 1) // n_partition\n",
    "for idx in range(8):\n",
    "    with open(f\"/compute/babel-14-5/siqiouya/en-zh/{split}.source.{idx}\", \"w\") as w_src, \\\n",
    "         open(f\"/compute/babel-14-5/siqiouya/en-zh/{split}.target.{idx}\", \"w\") as w_tgt:\n",
    "        for x in samples[idx * partition_size:(idx + 1) * partition_size]:  # Split samples into 8 parts\n",
    "            w_src.write(f\"/compute/babel-14-5/siqiouya/en-zh/data/{base_split}/wav_split_30/{x['id']}.wav\" + \"\\n\")\n",
    "            w_tgt.write(x[\"tgt_text\"] + \"\\n\")"
   ]
  },
  {
   "cell_type": "code",
   "execution_count": null,
   "metadata": {},
   "outputs": [],
   "source": []
  },
  {
   "cell_type": "markdown",
   "metadata": {},
   "source": [
    "# filter tsv"
   ]
  },
  {
   "cell_type": "code",
   "execution_count": 2,
   "metadata": {},
   "outputs": [],
   "source": [
    "import csv"
   ]
  },
  {
   "cell_type": "code",
   "execution_count": 23,
   "metadata": {},
   "outputs": [],
   "source": [
    "tsv_path = \"/compute/babel-6-17/xixu/datasets/must-c-v2.0/en-zh/dev_traj.tsv\"\n",
    "with open(tsv_path) as f:\n",
    "    reader = csv.DictReader(\n",
    "        f,\n",
    "        delimiter=\"\\t\",\n",
    "        quotechar=None,\n",
    "        doublequote=False,\n",
    "        lineterminator=\"\\n\",\n",
    "        quoting=csv.QUOTE_NONE,\n",
    "    )\n",
    "    samples = [dict(e) for e in reader]"
   ]
  },
  {
   "cell_type": "code",
   "execution_count": null,
   "metadata": {},
   "outputs": [],
   "source": [
    "print(len(samples))\n",
    "samples = [s for s in samples if s[\"trajectory\"] != \"\"]\n",
    "print(len(samples))"
   ]
  },
  {
   "cell_type": "code",
   "execution_count": 25,
   "metadata": {},
   "outputs": [],
   "source": [
    "with open(tsv_path, \"w\") as w:\n",
    "    writer = csv.DictWriter(\n",
    "        w,\n",
    "        reader.fieldnames + ['trajectory'],\n",
    "        delimiter=\"\\t\",\n",
    "        quotechar=None,\n",
    "        doublequote=False,\n",
    "        lineterminator=\"\\n\",\n",
    "        quoting=csv.QUOTE_NONE,\n",
    "    )\n",
    "    writer.writeheader()\n",
    "    writer.writerows(samples)"
   ]
  },
  {
   "cell_type": "code",
   "execution_count": null,
   "metadata": {},
   "outputs": [],
   "source": []
  },
  {
   "cell_type": "code",
   "execution_count": null,
   "metadata": {},
   "outputs": [],
   "source": []
  },
  {
   "cell_type": "markdown",
   "metadata": {},
   "source": [
    "# load w2v2-conformer"
   ]
  },
  {
   "cell_type": "code",
   "execution_count": 77,
   "metadata": {},
   "outputs": [],
   "source": [
    "import torch\n",
    "from transformers import AutoFeatureExtractor, Wav2Vec2BertModel, Wav2Vec2BertConfig"
   ]
  },
  {
   "cell_type": "code",
   "execution_count": null,
   "metadata": {},
   "outputs": [],
   "source": [
    "feature_extractor = AutoFeatureExtractor.from_pretrained(\"/data/user_data/siqiouya/runs/pretrained/w2v-bert-2.0\")"
   ]
  },
  {
   "cell_type": "code",
   "execution_count": 68,
   "metadata": {},
   "outputs": [],
   "source": [
    "audio = torch.rand(300000)"
   ]
  },
  {
   "cell_type": "code",
   "execution_count": 69,
   "metadata": {},
   "outputs": [],
   "source": [
    "f1 = feature_extractor(audio[:320 + 79 + 320 * 1], sampling_rate=16000, return_tensors=\"pt\", do_normalize_per_mel_bins=False)\n",
    "f2 = feature_extractor(audio[:320 + 79 + 320 * 2], sampling_rate=16000, return_tensors=\"pt\", do_normalize_per_mel_bins=False)"
   ]
  },
  {
   "cell_type": "code",
   "execution_count": null,
   "metadata": {},
   "outputs": [],
   "source": [
    "model_config = Wav2Vec2BertConfig.from_pretrained(\"/data/user_data/siqiouya/runs/pretrained/w2v-bert-2.0\")\n",
    "model_config.layerdrop = 0.0"
   ]
  },
  {
   "cell_type": "code",
   "execution_count": null,
   "metadata": {},
   "outputs": [],
   "source": [
    "model = Wav2Vec2BertModel.from_pretrained(\n",
    "    \"/data/user_data/siqiouya/runs/pretrained/w2v-bert-2.0\",\n",
    "    config=model_config\n",
    ")"
   ]
  },
  {
   "cell_type": "code",
   "execution_count": null,
   "metadata": {},
   "outputs": [],
   "source": [
    "print(model_config)"
   ]
  },
  {
   "cell_type": "markdown",
   "metadata": {},
   "source": [
    "# Load Model New"
   ]
  },
  {
   "cell_type": "code",
   "execution_count": 14,
   "metadata": {},
   "outputs": [],
   "source": [
    "import sys\n",
    "sys.path.append(\"/home/siqiouya/work/sllama\")\n",
    "\n",
    "import os\n",
    "import json\n",
    "\n",
    "import torch\n",
    "import transformers\n",
    "\n",
    "from eval.utils import disable_torch_init\n",
    "from model.model_new import SpeechLlamaForCausalLM"
   ]
  },
  {
   "cell_type": "code",
   "execution_count": 6,
   "metadata": {},
   "outputs": [],
   "source": [
    "path = \"/compute/babel-7-1/siqiouya/runs/3.1-8B-s1-english-german-w2v2-rope/checkpoint-3400/\""
   ]
  },
  {
   "cell_type": "code",
   "execution_count": 7,
   "metadata": {},
   "outputs": [],
   "source": [
    "disable_torch_init()"
   ]
  },
  {
   "cell_type": "code",
   "execution_count": 12,
   "metadata": {},
   "outputs": [],
   "source": [
    "tokenizer = transformers.AutoTokenizer.from_pretrained(\n",
    "    path,\n",
    "    padding_side=\"left\",\n",
    "    use_fast=False,\n",
    ")\n",
    "tokenizer.pad_token = \"<|finetune_right_pad_id|>\"\n",
    "\n",
    "config = json.load(open(os.path.join(path, 'config.json')))\n",
    "config['large_model'] = True\n",
    "update_config = os.path.join(path, 'config_large.json')\n",
    "if not os.path.exists(update_config):\n",
    "    json.dump(config, open(update_config, 'w'), indent=2)"
   ]
  },
  {
   "cell_type": "code",
   "execution_count": null,
   "metadata": {},
   "outputs": [],
   "source": [
    "model = SpeechLlamaForCausalLM.from_pretrained(\n",
    "    path,\n",
    "    torch_dtype=torch.bfloat16,\n",
    "    device_map='auto',\n",
    "    config=update_config\n",
    ").eval()"
   ]
  },
  {
   "cell_type": "code",
   "execution_count": 21,
   "metadata": {},
   "outputs": [],
   "source": [
    "import torch\n",
    "ckpt = torch.load(\"/compute/babel-7-1/siqiouya/runs/3.1-8B-s1-english-german-w2v2-rope/checkpoint-3400/speech_encoder.bin\")"
   ]
  },
  {
   "cell_type": "code",
   "execution_count": null,
   "metadata": {},
   "outputs": [],
   "source": [
    "ckpt.keys()"
   ]
  },
  {
   "cell_type": "markdown",
   "metadata": {},
   "source": [
    "# HuBERT"
   ]
  },
  {
   "cell_type": "code",
   "execution_count": null,
   "metadata": {},
   "outputs": [],
   "source": [
    "import torch\n",
    "import fairseq\n",
    "from fairseq.models.hubert import HubertEncoder\n",
    "from fairseq.models.wav2vec import Wav2VecEncoder"
   ]
  },
  {
   "cell_type": "code",
   "execution_count": 2,
   "metadata": {},
   "outputs": [],
   "source": [
    "ckpt_path = \"/mnt/data/siqiouyang/download/hubert_large_ll60k_finetune_ls960.pt\""
   ]
  },
  {
   "cell_type": "code",
   "execution_count": null,
   "metadata": {},
   "outputs": [],
   "source": [
    "models, cfg, task = fairseq.checkpoint_utils.load_model_ensemble_and_task([ckpt_path])\n",
    "model = models[0]"
   ]
  },
  {
   "cell_type": "code",
   "execution_count": null,
   "metadata": {},
   "outputs": [],
   "source": [
    "print(cfg.model.w2v_args.model.encoder_embed_dim)\n",
    "print(cfg.model.w2v_args.model.encoder_layers)"
   ]
  },
  {
   "cell_type": "code",
   "execution_count": null,
   "metadata": {},
   "outputs": [],
   "source": [
    "model.w2v_encoder.w2v_model.encoder"
   ]
  },
  {
   "cell_type": "markdown",
   "metadata": {},
   "source": [
    "# Simplified Wav2Vec2"
   ]
  },
  {
   "cell_type": "code",
   "execution_count": 1,
   "metadata": {},
   "outputs": [],
   "source": [
    "import sys\n",
    "sys.path.append(\"/home/siqiouyang/work/projects/sllama\")\n",
    "sys.path.append(\"/home/siqiouyang/work/projects/sllama/wav2vec/src\")\n",
    "import torch"
   ]
  },
  {
   "cell_type": "code",
   "execution_count": 2,
   "metadata": {},
   "outputs": [],
   "source": [
    "ckpt = torch.load(\"/mnt/taurus/data/xixu/models/wav2_vec_vox_960h_pl.pt\")"
   ]
  },
  {
   "cell_type": "code",
   "execution_count": null,
   "metadata": {},
   "outputs": [],
   "source": [
    "print(ckpt['args'])"
   ]
  },
  {
   "cell_type": "markdown",
   "metadata": {},
   "source": [
    "# RoPE"
   ]
  },
  {
   "cell_type": "code",
   "execution_count": 1,
   "metadata": {},
   "outputs": [],
   "source": [
    "import torch\n",
    "from rotary_embedding_torch import RotaryEmbedding"
   ]
  },
  {
   "cell_type": "code",
   "execution_count": 2,
   "metadata": {},
   "outputs": [],
   "source": [
    "rotary_emb = RotaryEmbedding(dim = 32)\n",
    "\n",
    "# mock queries and keys - dimensions should end with (seq_len, feature dimension), and any number of preceding dimensions (batch, heads, etc)\n",
    "\n",
    "q = torch.randn(1, 8, 1024, 64) # queries - (batch, heads, seq len, dimension of head)\n",
    "k = torch.randn(1, 8, 1024, 64) # keys\n",
    "\n",
    "# apply the rotations to your queries and keys after the heads have been split out, but prior to the dot product and subsequent softmax (attention)\n",
    "\n",
    "q = rotary_emb.rotate_queries_or_keys(q)\n",
    "k = rotary_emb.rotate_queries_or_keys(k)"
   ]
  },
  {
   "cell_type": "code",
   "execution_count": 3,
   "metadata": {},
   "outputs": [],
   "source": [
    "rotary_emb = RotaryEmbedding(dim = 16)\n",
    "\n",
    "# mock queries and keys - dimensions should end with (seq_len, feature dimension), and any number of preceding dimensions (batch, heads, etc)\n",
    "\n",
    "q = torch.randn(1, 8, 1024, 64) # queries - (batch, heads, seq len, dimension of head)\n",
    "k = torch.randn(1, 8, 1024, 64) # keys\n",
    "\n",
    "# apply the rotations to your queries and keys after the heads have been split out, but prior to the dot product and subsequent softmax (attention)\n",
    "\n",
    "q = rotary_emb.rotate_queries_or_keys(q)\n",
    "k = rotary_emb.rotate_queries_or_keys(k)"
   ]
  },
  {
   "cell_type": "code",
   "execution_count": null,
   "metadata": {},
   "outputs": [],
   "source": [
    "rotary_emb.freqs.size(), \n",
    "q.size()"
   ]
  },
  {
   "cell_type": "markdown",
   "metadata": {},
   "source": [
    "# Evaluate New Speech Encoder on Long Context"
   ]
  },
  {
   "cell_type": "code",
   "execution_count": null,
   "metadata": {},
   "outputs": [],
   "source": [
    "import sys\n",
    "sys.path.append('/home/siqiouya/work/sllama')\n",
    "import os\n",
    "os.environ[\"CUDA_VISIBLE_DEVICES\"] = \"0\"\n",
    "\n",
    "import copy\n",
    "from tqdm.notebook import tqdm\n",
    "import pandas as pd\n",
    "import torch\n",
    "import torch.nn.functional as F\n",
    "import torchaudio\n",
    "import transformers\n",
    "from model.speech_encoder import SpeechEncoder, SpeechEncoderW2V2RoPE\n",
    "from model.model import SpeechLlamaForCausalLM\n",
    "from fairseq.examples.speech_to_text.data_utils import load_df_from_tsv, save_df_to_tsv\n",
    "\n",
    "import numpy as np\n",
    "import matplotlib.pyplot as plt"
   ]
  },
  {
   "cell_type": "code",
   "execution_count": null,
   "metadata": {},
   "outputs": [],
   "source": [
    "llm = SpeechLlamaForCausalLM.from_pretrained(\n",
    "    # \"/mnt/taurus/data/siqiouyang/download/llama3.1-8b-hf\",\n",
    "    \"/compute/babel-4-1/siqiouya/llama-3.1-8b-hf\",\n",
    "    # low_cpu_mem_usage=True,\n",
    "    load_in_8bit=False,\n",
    "    device_map='cuda'\n",
    "    # device_map='cpu',\n",
    ")\n",
    "\n",
    "tokenizer = transformers.AutoTokenizer.from_pretrained(\n",
    "    # \"/mnt/taurus/data/siqiouyang/download/llama3.1-8b-hf\",\n",
    "    \"/compute/babel-4-1/siqiouya/llama-3.1-8b-hf\",\n",
    "    padding_side=\"right\",\n",
    "    use_fast=False,\n",
    ")\n",
    "tokenizer.pad_token = \"<|finetune_right_pad_id|>\""
   ]
  },
  {
   "cell_type": "code",
   "execution_count": null,
   "metadata": {},
   "outputs": [],
   "source": [
    "model = SpeechEncoderW2V2RoPE(\n",
    "    \"/mnt/taurus/data/xixu/models/wav2_vec_vox_960h_pl.pt\",\n",
    "    True,\n",
    "    \"[(1024,2,2)] * 2\",    \n",
    "    48,\n",
    "    500,      \n",
    "    copy.deepcopy(llm.model.embed_tokens),\n",
    ").to('cuda')\n",
    "del llm"
   ]
  },
  {
   "cell_type": "code",
   "execution_count": null,
   "metadata": {},
   "outputs": [],
   "source": [
    "ckpt = torch.load(\"/mnt/taurus/data/siqiouyang/runs/sllama/en-de/crtl-stage0-w2v2-cache10s/epoch=57-step=75021.ckpt\")\n",
    "model.load_state_dict(ckpt['state_dict'])\n",
    "del ckpt\n",
    "\n",
    "model.eval()\n",
    "torch.set_grad_enabled(False)"
   ]
  },
  {
   "cell_type": "code",
   "execution_count": 5,
   "metadata": {},
   "outputs": [],
   "source": [
    "df = load_df_from_tsv(\"/mnt/aries/data/siqiouyang/datasets/must-c-v1.0/dev_st_de_full_mfa_llama3.tsv\")\n",
    "df_tst = load_df_from_tsv(\"/mnt/aries/data/siqiouyang/datasets/must-c-v1.0/tst-COMMON_st_de_full_mfa_llama3.tsv\")\n",
    "\n",
    "df_seg = load_df_from_tsv(\"/mnt/aries/data/siqiouyang/datasets/must-c-v1.0/dev_st_de_mfa_llama3.tsv\")\n",
    "df_tst_seg = load_df_from_tsv(\"/mnt/aries/data/siqiouyang/datasets/must-c-v1.0/tst-COMMON_st_de_mfa_llama3.tsv\")"
   ]
  },
  {
   "cell_type": "code",
   "execution_count": 6,
   "metadata": {},
   "outputs": [],
   "source": [
    "df = pd.concat([df, df_tst], ignore_index=True)\n",
    "df_seg = pd.concat([df_seg, df_tst_seg], ignore_index=True)"
   ]
  },
  {
   "cell_type": "code",
   "execution_count": 7,
   "metadata": {},
   "outputs": [],
   "source": [
    "def get_sims(df):\n",
    "    all_sims = []\n",
    "    for df_idx in tqdm(range(len(df))):\n",
    "        d = df.iloc[df_idx]\n",
    "\n",
    "        if d['speech_word'] is None or d['speech_word'] == '':\n",
    "            continue\n",
    "\n",
    "        path, offset, duration = d['audio'].split(':')\n",
    "        offset = int(offset)\n",
    "        duration = int(duration)\n",
    "        wav, sr = torchaudio.load(path, frame_offset=offset, num_frames=duration)\n",
    "\n",
    "        ted_id = int(d['id'].split('_')[1])\n",
    "\n",
    "        cache = None\n",
    "        outputs = []\n",
    "        last_frame = 0\n",
    "        for i in range(79 + 320, wav.size(1), 320 * 48):\n",
    "            x = wav[:, last_frame : i + 320 * 48].to('cuda')\n",
    "\n",
    "            if x.size(1) < 320 * 48:\n",
    "                pad = torch.zeros(1, 320 * 48 - x.size(1)).to(x)\n",
    "                x = torch.cat([x, pad], dim=1)\n",
    "            \n",
    "            x_len = torch.LongTensor([x.size(1)]).to('cuda')\n",
    "\n",
    "            output, cache = model.encode_speech(x, x_len, cache=cache)\n",
    "            outputs.append(output)\n",
    "            last_frame = i + 320 * 48\n",
    "                \n",
    "        full_output = torch.cat(outputs, dim=1)\n",
    "\n",
    "        speech_words = torch.tensor(eval(d['speech_word']))\n",
    "        text_words = torch.tensor(eval(d['text_word']))\n",
    "        src_text = tokenizer.encode(\n",
    "            d['src_text'],\n",
    "            return_tensors=\"pt\",\n",
    "            padding=\"longest\",\n",
    "            truncation=False,\n",
    "            add_special_tokens=False\n",
    "        ).to('cuda')\n",
    "        src_text_emb = model.llm_embedding(src_text)\n",
    "        for i in range(speech_words.size(0)):\n",
    "            s_l, s_r = speech_words[i]\n",
    "            t_l, t_r = text_words[i]\n",
    "\n",
    "            s_l = int((s_l / 0.08).floor())\n",
    "            s_r = min(int((s_r / 0.08).ceil()), full_output.size(1)) - 1\n",
    "\n",
    "            s_word_emb = full_output[0][s_l : s_r + 1].mean(dim=0)\n",
    "            t_word_emb = src_text_emb[0][t_l : t_r + 1].mean(dim=0)\n",
    "\n",
    "            sim = F.cosine_similarity(s_word_emb, t_word_emb, dim=0)\n",
    "            all_sims.append((ted_id, speech_words[i][1].item() + offset / 16000, sim.item()))  \n",
    "    return all_sims"
   ]
  },
  {
   "cell_type": "code",
   "execution_count": null,
   "metadata": {},
   "outputs": [],
   "source": [
    "all_sims = get_sims(df)\n",
    "all_sims_seg = get_sims(df_seg)"
   ]
  },
  {
   "cell_type": "code",
   "execution_count": 9,
   "metadata": {},
   "outputs": [],
   "source": [
    "d_full = {}\n",
    "d_seg = {}\n",
    "for ted_id, offset, sim in all_sims:\n",
    "    d_full[ted_id] = d_full.get(ted_id, []) + [(offset, sim)]\n",
    "for ted_id, offset, sim in all_sims_seg:\n",
    "    d_seg[ted_id] = d_seg.get(ted_id, []) + [(offset, sim)]"
   ]
  },
  {
   "cell_type": "code",
   "execution_count": null,
   "metadata": {},
   "outputs": [],
   "source": [
    "time_simr = []\n",
    "for ted_id in d_full.keys():\n",
    "    d_full[ted_id].sort(key=lambda x: x[0])\n",
    "    d_seg[ted_id].sort(key=lambda x: x[0])\n",
    "    for x, y in zip(d_full[ted_id], d_seg[ted_id]):\n",
    "        assert x[0] - y[0] < 1e-2\n",
    "        time_simr.append((x[0], np.log(x[1] / y[1])))"
   ]
  },
  {
   "cell_type": "code",
   "execution_count": null,
   "metadata": {},
   "outputs": [],
   "source": [
    "time_simr = np.array(time_simr)\n",
    "mean_simrs = []\n",
    "for i in range(30 * 6):\n",
    "    mean_simrs.append(np.nanmean(time_simr[(time_simr[:, 0] >= i * 10) & (time_simr[:, 0] < (i + 1) * 10), -1]))\n",
    "plt.plot(mean_simrs)\n",
    "plt.xlabel('Time (10s)')\n",
    "plt.ylabel('log(sim from full / sim from seg)')"
   ]
  },
  {
   "cell_type": "code",
   "execution_count": null,
   "metadata": {},
   "outputs": [],
   "source": [
    "all_sims = np.array(all_sims)\n",
    "mean_sims = []\n",
    "for i in range(30 * 6):\n",
    "    mean_sims.append(all_sims[(all_sims[:, 1] >= i * 10) & (all_sims[:, 1] < (i + 1) * 10), -1].mean())\n",
    "plt.plot(mean_sims)\n",
    "plt.xlabel('Time (10s)')\n",
    "plt.ylabel('sim from full')\n",
    "# plt.xlabel(\"Input Length (unit: 10 seconds)\")\n",
    "# plt.ylabel(\"Cosine Similarity of Speech and Text Embeddings\")\n",
    "# plt.savefig(\"/home/siqiouyang/work/projects/sllama/notebooks/length_extrapolation.png\")"
   ]
  },
  {
   "cell_type": "code",
   "execution_count": 3,
   "metadata": {},
   "outputs": [],
   "source": [
    "df = load_df_from_tsv(\"/mnt/aries/data/siqiouyang/datasets/must-c-v1.0/train_st_de_full_mfa_llama3.tsv\")"
   ]
  },
  {
   "cell_type": "code",
   "execution_count": null,
   "metadata": {},
   "outputs": [],
   "source": [
    "(df['n_frames'] >= 15 * 60 * 16000).sum()"
   ]
  },
  {
   "cell_type": "code",
   "execution_count": 6,
   "metadata": {},
   "outputs": [],
   "source": [
    "save_df_to_tsv(df[df['n_frames'] >= 15 * 60 * 16000], \"/mnt/aries/data/siqiouyang/datasets/must-c-v1.0/train_st_de_full_15min_mfa_llama3.tsv\")"
   ]
  },
  {
   "cell_type": "markdown",
   "metadata": {},
   "source": [
    "# New Speech Encoder"
   ]
  },
  {
   "cell_type": "code",
   "execution_count": 1,
   "metadata": {},
   "outputs": [],
   "source": [
    "import torch\n",
    "cfgs = [(1024, 10, 5)] + [(1024, 3, 2)] * 4 + [(1024,2,2)] * 4"
   ]
  },
  {
   "cell_type": "code",
   "execution_count": null,
   "metadata": {},
   "outputs": [],
   "source": [
    "import sys\n",
    "sys.path.append('/home/siqiouya/work/sllama')\n",
    "from model.speech_encoder import ConvFeatureExtractionModel\n",
    "feature_extractor = ConvFeatureExtractionModel(cfgs)"
   ]
  },
  {
   "cell_type": "code",
   "execution_count": 18,
   "metadata": {},
   "outputs": [],
   "source": [
    "x1 = torch.rand(1, 79 + 1280 * 2)\n",
    "x2 = torch.cat([x1, torch.rand(1, 1280)], dim=1)"
   ]
  },
  {
   "cell_type": "code",
   "execution_count": 21,
   "metadata": {},
   "outputs": [],
   "source": [
    "y1 = feature_extractor(x1)\n",
    "y2 = feature_extractor(x2)"
   ]
  },
  {
   "cell_type": "code",
   "execution_count": null,
   "metadata": {},
   "outputs": [],
   "source": [
    "(y1[0, :, 0] - y2[0, :, 0]) / y1[0, :, 0].abs()"
   ]
  },
  {
   "cell_type": "code",
   "execution_count": null,
   "metadata": {},
   "outputs": [],
   "source": [
    "def get_feat_extract_output_lengths(input_lengths):\n",
    "    \"\"\"\n",
    "    Computes the output length of the convolutional layers\n",
    "    \"\"\"\n",
    "\n",
    "    def _conv_out_length(input_length, kernel_size, stride):\n",
    "        return torch.floor((input_length - kernel_size) / stride + 1)\n",
    "\n",
    "    for cfg in cfgs:\n",
    "        input_lengths = _conv_out_length(\n",
    "            input_lengths, cfg[1], cfg[2]\n",
    "        )\n",
    "\n",
    "    return input_lengths.to(torch.long)"
   ]
  },
  {
   "cell_type": "code",
   "execution_count": null,
   "metadata": {},
   "outputs": [],
   "source": [
    "out_lens = get_feat_extract_output_lengths(torch.arange(0, 160000))"
   ]
  },
  {
   "cell_type": "code",
   "execution_count": 27,
   "metadata": {},
   "outputs": [],
   "source": [
    "t = []\n",
    "for i in range(len(out_lens) - 1):\n",
    "    if out_lens[i] != out_lens[i + 1]:\n",
    "        t.append(i)"
   ]
  },
  {
   "cell_type": "code",
   "execution_count": 29,
   "metadata": {},
   "outputs": [],
   "source": [
    "t = torch.tensor(t)"
   ]
  },
  {
   "cell_type": "code",
   "execution_count": null,
   "metadata": {},
   "outputs": [],
   "source": [
    "get_feat_extract_output_lengths(torch.tensor([80]))"
   ]
  },
  {
   "cell_type": "code",
   "execution_count": 26,
   "metadata": {},
   "outputs": [],
   "source": [
    "from x_transformers.x_transformers import RotaryEmbedding"
   ]
  },
  {
   "cell_type": "code",
   "execution_count": 28,
   "metadata": {},
   "outputs": [],
   "source": [
    "emb = RotaryEmbedding(512)"
   ]
  },
  {
   "cell_type": "code",
   "execution_count": 40,
   "metadata": {},
   "outputs": [],
   "source": [
    "freq, scale = emb(torch.ones(10))"
   ]
  },
  {
   "cell_type": "code",
   "execution_count": null,
   "metadata": {},
   "outputs": [],
   "source": [
    "freq.size()"
   ]
  },
  {
   "cell_type": "markdown",
   "metadata": {},
   "source": [
    "# Llama"
   ]
  },
  {
   "cell_type": "code",
   "execution_count": 1,
   "metadata": {},
   "outputs": [],
   "source": [
    "import transformers"
   ]
  },
  {
   "cell_type": "code",
   "execution_count": null,
   "metadata": {},
   "outputs": [],
   "source": [
    "tokenizer = transformers.AutoTokenizer.from_pretrained(\"/data/user_data/siqiouya/runs/pretrained/llama-2-7b/hf\")"
   ]
  },
  {
   "cell_type": "code",
   "execution_count": 5,
   "metadata": {},
   "outputs": [],
   "source": [
    "tokenizer.pad_token = tokenizer.eos_token"
   ]
  },
  {
   "cell_type": "code",
   "execution_count": null,
   "metadata": {},
   "outputs": [],
   "source": [
    "tokenizer(\n",
    "    [\"Hello\", \"Hello 1\"],\n",
    "    padding=True,\n",
    "    padding_side='left',\n",
    ")"
   ]
  },
  {
   "cell_type": "markdown",
   "metadata": {},
   "source": [
    "# Eval"
   ]
  },
  {
   "cell_type": "code",
   "execution_count": 2,
   "metadata": {},
   "outputs": [],
   "source": [
    "import os\n",
    "import json\n",
    "import types\n",
    "from comet import download_model, load_from_checkpoint"
   ]
  },
  {
   "cell_type": "code",
   "execution_count": 3,
   "metadata": {},
   "outputs": [],
   "source": [
    "import os\n",
    "def read_tsv(tsv_path):\n",
    "    import csv\n",
    "    with open(tsv_path) as f:\n",
    "        reader = csv.DictReader(\n",
    "            f,\n",
    "            delimiter=\"\\t\",\n",
    "            quotechar=None,\n",
    "            doublequote=False,\n",
    "            lineterminator=\"\\n\",\n",
    "            quoting=csv.QUOTE_NONE,\n",
    "        )\n",
    "        samples = [dict(e) for e in reader]\n",
    "    return samples"
   ]
  },
  {
   "cell_type": "code",
   "execution_count": null,
   "metadata": {},
   "outputs": [],
   "source": [
    "comet_model = load_from_checkpoint(\"/compute/babel-7-5/siqiouya/xcomet_xxl/snapshots/bad20b47daa64c41a8b29f3d3016be75baf0d7b4/checkpoints/model.ckpt\")"
   ]
  },
  {
   "cell_type": "code",
   "execution_count": 5,
   "metadata": {},
   "outputs": [],
   "source": [
    "data_root = \"/compute/babel-14-5/siqiouya/en-zh/\"\n",
    "samples = read_tsv(os.path.join(data_root, \"tst-COMMON.tsv\"))\n",
    "srcs = [s[\"src_text\"] for s in samples]"
   ]
  },
  {
   "cell_type": "code",
   "execution_count": 6,
   "metadata": {},
   "outputs": [],
   "source": [
    "with open(\"/compute/babel-5-23/siqiouya/runs/8B-traj-s2-v2.2/last.ckpt/simul-results/beam1_mult1_ms0/instances.log\", \"r\") as r:\n",
    "    instances = [json.loads(line) for line in r.readlines()]"
   ]
  },
  {
   "cell_type": "code",
   "execution_count": 7,
   "metadata": {},
   "outputs": [],
   "source": [
    "comet_data = [\n",
    "    {\n",
    "        \"src\": srcs[i],\n",
    "        \"mt\" : instances[i]['prediction'].strip(),\n",
    "        \"ref\": instances[i]['reference'].strip()\n",
    "    }\n",
    "    for i in range(len(srcs))\n",
    "]"
   ]
  },
  {
   "cell_type": "code",
   "execution_count": null,
   "metadata": {},
   "outputs": [],
   "source": [
    "comet_output = comet_model.predict(comet_data, batch_size=4, gpus=1)"
   ]
  },
  {
   "cell_type": "code",
   "execution_count": null,
   "metadata": {},
   "outputs": [],
   "source": [
    "comet_output.system_score"
   ]
  },
  {
   "cell_type": "code",
   "execution_count": 13,
   "metadata": {},
   "outputs": [],
   "source": [
    "offline_results_dir = \"/compute/babel-5-23/siqiouya/runs/8B-s2-v2.0-bi/last.ckpt/offline_beam1/tst-COMMON/\""
   ]
  },
  {
   "cell_type": "code",
   "execution_count": 25,
   "metadata": {},
   "outputs": [],
   "source": [
    "with open(os.path.join(offline_results_dir, 'hyp'), 'r') as f:\n",
    "    hyps = [l for l in f.readlines() if len(l.split('\\t')) > 1]\n",
    "with open(os.path.join(offline_results_dir, 'ref'), 'r') as f:\n",
    "    refs = [l for l in f.readlines() if len(l.split('\\t')) > 1]\n",
    "\n",
    "hs = []\n",
    "rs = []\n",
    "for hyp, ref in zip(hyps, refs):\n",
    "    idx = int(hyp.split('\\t')[0])\n",
    "    hs.append((idx, hyp.split('\\t')[1].strip()))\n",
    "    rs.append((idx, ref.split('\\t')[1].strip()))"
   ]
  },
  {
   "cell_type": "code",
   "execution_count": 26,
   "metadata": {},
   "outputs": [],
   "source": [
    "hs = sorted(hs)\n",
    "rs = sorted(rs)"
   ]
  },
  {
   "cell_type": "code",
   "execution_count": 32,
   "metadata": {},
   "outputs": [],
   "source": [
    "comet_data_off = [\n",
    "    {\n",
    "        \"src\": srcs[i],\n",
    "        \"mt\" : hs[i][1],\n",
    "        \"ref\": rs[i][1],\n",
    "    }\n",
    "    for i in range(len(srcs))\n",
    "]"
   ]
  },
  {
   "cell_type": "code",
   "execution_count": null,
   "metadata": {},
   "outputs": [],
   "source": [
    "comet_output_off = comet_model.predict(comet_data_off, batch_size=4, gpus=1)\n",
    "comet_output_off.system_score"
   ]
  },
  {
   "cell_type": "markdown",
   "metadata": {},
   "source": [
    "# tst-COMMON de"
   ]
  },
  {
   "cell_type": "code",
   "execution_count": null,
   "metadata": {},
   "outputs": [],
   "source": [
    "import json\n",
    "import yaml\n",
    "import pandas as pd\n",
    "from fairseq.examples.speech_to_text.data_utils import load_df_from_tsv, save_df_to_tsv\n",
    "from fairseq.data.audio.audio_utils import (\n",
    "    get_fbank,\n",
    "    get_waveform,\n",
    "    read_from_stored_zip,\n",
    "    is_npy_data,\n",
    "    is_sf_audio_data,\n",
    "    parse_path,\n",
    "    FEATURE_OR_SF_AUDIO_FILE_EXTENSIONS,\n",
    ")"
   ]
  },
  {
   "cell_type": "code",
   "execution_count": 32,
   "metadata": {},
   "outputs": [],
   "source": [
    "def get_features_or_waveform(\n",
    "        path: str,\n",
    "):\n",
    "    import soundfile as sf\n",
    "    _path, slice_ptr = parse_path(path)\n",
    "    if len(slice_ptr) == 0:\n",
    "        waveform, sample_rate = sf.read(_path, dtype=\"float32\",)\n",
    "    elif len(slice_ptr) == 2:\n",
    "        waveform, sample_rate = sf.read(_path, dtype=\"float32\",\n",
    "                                start=int(slice_ptr[0]), frames=int(slice_ptr[1]))\n",
    "    else:\n",
    "        raise ValueError(f\"Invalid path: {_path}\")\n",
    "    return waveform, sample_rate"
   ]
  },
  {
   "cell_type": "code",
   "execution_count": 2,
   "metadata": {},
   "outputs": [],
   "source": [
    "with open('alignatt_instances.log', 'r') as r:\n",
    "    instances = [json.loads(l) for l in r.readlines() if l.strip() != '']"
   ]
  },
  {
   "cell_type": "code",
   "execution_count": null,
   "metadata": {},
   "outputs": [],
   "source": [
    "instances[0]['reference']"
   ]
  },
  {
   "cell_type": "code",
   "execution_count": 6,
   "metadata": {},
   "outputs": [],
   "source": [
    "df = load_df_from_tsv('/data/user_data/siqiouya/dataset/must-c-v1.0/en-de/tst-COMMON.tsv')"
   ]
  },
  {
   "cell_type": "code",
   "execution_count": 15,
   "metadata": {},
   "outputs": [],
   "source": [
    "with open('/data/user_data/siqiouya/dataset/must-c-v1.0/en-de/data/tst-COMMON/txt/tst-COMMON.yaml', 'r') as r:\n",
    "    manifest = yaml.safe_load(r)\n",
    "with open('/data/user_data/siqiouya/dataset/must-c-v1.0/en-de/data/tst-COMMON/txt/tst-COMMON.en', 'r') as r:\n",
    "    src_text = [l.strip() for l in r.readlines() if l.strip() != '']\n",
    "with open('/data/user_data/siqiouya/dataset/must-c-v1.0/en-de/data/tst-COMMON/txt/tst-COMMON.de', 'r') as r:\n",
    "    tgt_text = [l.strip() for l in r.readlines() if l.strip() != '']"
   ]
  },
  {
   "cell_type": "code",
   "execution_count": null,
   "metadata": {},
   "outputs": [],
   "source": [
    "manifest[0]"
   ]
  },
  {
   "cell_type": "code",
   "execution_count": null,
   "metadata": {},
   "outputs": [],
   "source": [
    "df[:1]"
   ]
  },
  {
   "cell_type": "code",
   "execution_count": null,
   "metadata": {},
   "outputs": [],
   "source": [
    "df['audio'][0]"
   ]
  },
  {
   "cell_type": "code",
   "execution_count": null,
   "metadata": {},
   "outputs": [],
   "source": [
    "columns = df.columns\n",
    "columns[:-1]"
   ]
  },
  {
   "cell_type": "code",
   "execution_count": 42,
   "metadata": {},
   "outputs": [],
   "source": [
    "new_df = pd.DataFrame(columns=df.columns[:-1])"
   ]
  },
  {
   "cell_type": "code",
   "execution_count": 43,
   "metadata": {},
   "outputs": [],
   "source": [
    "cnt = 0\n",
    "ids = []\n",
    "audios = []\n",
    "n_frames = []\n",
    "speakers = []\n",
    "for i in range(len(manifest)):\n",
    "    if i > 0 and manifest[i]['wav'] != manifest[i - 1]['wav']:\n",
    "        cnt = 0\n",
    "\n",
    "    wav = manifest[i]['wav']\n",
    "    ids.append(wav.split('.')[0] + '_{}'.format(cnt))\n",
    "    offset_frame = int(manifest[i]['offset'] * 16000)\n",
    "    duration_frame = int(manifest[i]['duration'] * 16000)\n",
    "    audio = \"/data/user_data/siqiouya/dataset/must-c-v1.0/en-de/data/tst-COMMON/wav/{}:{}:{}\".format(wav, offset_frame, duration_frame)\n",
    "    audios.append(audio)\n",
    "    n_frames.append(duration_frame)\n",
    "    speakers.append(manifest[i]['speaker_id'])\n",
    "\n",
    "    cnt += 1"
   ]
  },
  {
   "cell_type": "code",
   "execution_count": 44,
   "metadata": {},
   "outputs": [],
   "source": [
    "new_df['id'] = ids\n",
    "new_df['audio'] = audios\n",
    "new_df['n_frames'] = n_frames\n",
    "new_df['speaker'] = speakers\n",
    "new_df['src_text'] = src_text\n",
    "new_df['tgt_text'] = tgt_text\n",
    "new_df['src_lang'] = ['en'] * len(src_text)\n",
    "new_df['tgt_lang'] = ['de'] * len(tgt_text)"
   ]
  },
  {
   "cell_type": "code",
   "execution_count": 47,
   "metadata": {},
   "outputs": [],
   "source": [
    "save_df_to_tsv(new_df, '/data/user_data/siqiouya/dataset/must-c-v1.0/en-de/tst-COMMON.tsv')"
   ]
  },
  {
   "cell_type": "markdown",
   "metadata": {},
   "source": [
    "# Per 10s Dataset"
   ]
  },
  {
   "cell_type": "code",
   "execution_count": 1,
   "metadata": {},
   "outputs": [],
   "source": [
    "import numpy as np\n",
    "from tqdm.notebook import tqdm\n",
    "import torchaudio"
   ]
  },
  {
   "cell_type": "code",
   "execution_count": 22,
   "metadata": {},
   "outputs": [],
   "source": [
    "with open('/data/user_data/siqiouya/dataset/must-c-v1.0/en-es/tst-COMMON.source', 'r') as r:\n",
    "    sources = np.array([line.strip() for line in r.readlines() if line.strip() != \"\"])\n",
    "with open('/data/user_data/siqiouya/dataset/must-c-v1.0/en-es/tst-COMMON.target', 'r') as r:\n",
    "    targets = np.array([line.strip() for line in r.readlines() if line.strip() != \"\"])"
   ]
  },
  {
   "cell_type": "code",
   "execution_count": null,
   "metadata": {},
   "outputs": [],
   "source": [
    "n_frames = np.array([torchaudio.info(src).num_frames for src in tqdm(sources)])"
   ]
  },
  {
   "cell_type": "code",
   "execution_count": 7,
   "metadata": {},
   "outputs": [],
   "source": [
    "durations = n_frames / 16000"
   ]
  },
  {
   "cell_type": "code",
   "execution_count": 26,
   "metadata": {},
   "outputs": [],
   "source": [
    "for duration in [10, 20, 30, 40, 50, 60]:\n",
    "    source = sources[(duration - 1 < durations) & (durations < duration + 1)][0]\n",
    "    target = targets[(duration - 1 < durations) & (durations < duration + 1)][0]\n",
    "    with open('/data/user_data/siqiouya/dataset/must-c-v1.0/en-es/tst-COMMON-profile-{}s.source'.format(duration), 'w') as w:\n",
    "        w.write('\\n'.join([source] * 5))\n",
    "\n",
    "    with open('/data/user_data/siqiouya/dataset/must-c-v1.0/en-es/tst-COMMON-profile-{}s.target'.format(duration), 'w') as w:\n",
    "        w.write('\\n'.join([target] * 5))"
   ]
  },
  {
   "cell_type": "markdown",
   "metadata": {},
   "source": [
    "# Computation Overhead"
   ]
  },
  {
   "cell_type": "code",
   "execution_count": 9,
   "metadata": {},
   "outputs": [],
   "source": [
    "import json\n",
    "import numpy as np"
   ]
  },
  {
   "cell_type": "code",
   "execution_count": 76,
   "metadata": {},
   "outputs": [],
   "source": [
    "path = \"/data/user_data/siqiouya/runs/stage3-uni-waco-word-block50-fixed-mix-from-stage0/simul-results/30s-wait-k-word-inc-opt-1000ms-n3-bsz8/wait-1000ms-2/instances.log\"\n",
    "# path = \"/data/user_data/siqiouya/runs/stage3-uni-waco-word-block50-fixed-mix-from-stage0/simul-results/30s-wait-k-word-inc-opt-1000ms-n3-bsz8-recomp-w2v2/wait-1000ms-2/instances.log\"\n",
    "# path = \"/data/user_data/siqiouya/runs/stage3-uni-waco-word-block50-fixed-mix-from-stage0/simul-results/30s-wait-k-word-inc-opt-1000ms-n3-bsz8-recomp-llm/wait-1000ms-2/instances.log\"\n",
    "# path = \"/data/user_data/siqiouya/runs/stage2-bi-mix-fix/simul-results/30s-wait-k-word-1000ms-n3-bsz8/wait-1000ms-2/instances.log\""
   ]
  },
  {
   "cell_type": "code",
   "execution_count": 77,
   "metadata": {},
   "outputs": [],
   "source": [
    "instances = []\n",
    "with open(path, 'r') as r:\n",
    "    for line in r.readlines():\n",
    "        line = line.strip()\n",
    "        if line != \"\":\n",
    "            instances.append(json.loads(line))"
   ]
  },
  {
   "cell_type": "code",
   "execution_count": null,
   "metadata": {},
   "outputs": [],
   "source": [
    "sum = n = m = 0\n",
    "for ist in instances:\n",
    "    elapsed = np.array(ist['elapsed'])\n",
    "    delays = np.array(ist['delays'])\n",
    "    src_len = ist['source_length']\n",
    "    elapsed = elapsed[delays < src_len]\n",
    "    if len(elapsed) > 0:\n",
    "        sum += elapsed[-1]\n",
    "        n += len(elapsed)\n",
    "\n",
    "        # sum += ist['elapsed'][-1]\n",
    "        # n += len(ist['elapsed'])\n",
    "    else:\n",
    "        m += 1\n",
    "print(sum / n, m)"
   ]
  },
  {
   "cell_type": "code",
   "execution_count": null,
   "metadata": {},
   "outputs": [],
   "source": [
    "ist['elapsed']"
   ]
  },
  {
   "cell_type": "markdown",
   "metadata": {},
   "source": [
    "# en-de"
   ]
  },
  {
   "cell_type": "code",
   "execution_count": null,
   "metadata": {},
   "outputs": [],
   "source": [
    "from IPython.display import Audio\n",
    "from train.dataset import get_features_or_waveform"
   ]
  },
  {
   "cell_type": "code",
   "execution_count": null,
   "metadata": {},
   "outputs": [],
   "source": [
    "wav = get_features_or_waveform(\"/data/user_data/siqiouya/dataset/must-c-v1.0/en-es/data/tst-COMMON/wav/ted_1096.wav:201760:1816160\")\n",
    "Audio(wav[0], rate=wav[1])"
   ]
  },
  {
   "cell_type": "markdown",
   "metadata": {},
   "source": [
    "# Previous"
   ]
  },
  {
   "cell_type": "code",
   "execution_count": null,
   "metadata": {},
   "outputs": [],
   "source": [
    "import os\n",
    "from fairseq.examples.speech_to_text.data_utils import load_df_from_tsv, save_df_to_tsv"
   ]
  },
  {
   "cell_type": "code",
   "execution_count": 2,
   "metadata": {},
   "outputs": [],
   "source": [
    "dirname = '/data/user_data/siqiouya/dataset/must-c-v1.0/en-es'\n",
    "split = 'train_mfa'\n",
    "df = load_df_from_tsv(os.path.join(dirname, split + '.tsv'))\n",
    "# new_paths = []\n",
    "# for a in df['audio']:\n",
    "#     new_paths.append('/scratch/siqiouya/dataset/must-c-v1.0/' + a)\n",
    "# df['audio'] = new_paths\n",
    "# save_df_to_tsv(df, os.path.join(dirname, split + '.tsv'))"
   ]
  },
  {
   "cell_type": "code",
   "execution_count": null,
   "metadata": {},
   "outputs": [],
   "source": [
    "df[df['text_word'] == '']"
   ]
  },
  {
   "cell_type": "markdown",
   "metadata": {},
   "source": [
    "# Debug Train"
   ]
  },
  {
   "cell_type": "code",
   "execution_count": null,
   "metadata": {},
   "outputs": [],
   "source": [
    "update_config = os.path.join(, 'config_large.json')"
   ]
  },
  {
   "cell_type": "code",
   "execution_count": null,
   "metadata": {},
   "outputs": [],
   "source": []
  },
  {
   "cell_type": "markdown",
   "metadata": {},
   "source": [
    "# Change path of tsv"
   ]
  },
  {
   "cell_type": "code",
   "execution_count": 4,
   "metadata": {},
   "outputs": [],
   "source": [
    "import os\n",
    "from fairseq.examples.speech_to_text.data_utils import load_df_from_tsv, save_df_to_tsv"
   ]
  },
  {
   "cell_type": "code",
   "execution_count": 2,
   "metadata": {},
   "outputs": [],
   "source": [
    "dev = 'train'"
   ]
  },
  {
   "cell_type": "code",
   "execution_count": null,
   "metadata": {},
   "outputs": [],
   "source": [
    "df = load_df_from_tsv(os.path.join('/scratch/siqiouya/dataset/must-c-v1.0/en-es/', '{}.tsv'.format(dev)))"
   ]
  },
  {
   "cell_type": "code",
   "execution_count": null,
   "metadata": {},
   "outputs": [],
   "source": []
  },
  {
   "cell_type": "markdown",
   "metadata": {},
   "source": [
    "# Mask"
   ]
  },
  {
   "cell_type": "code",
   "execution_count": 1,
   "metadata": {},
   "outputs": [],
   "source": [
    "import torch"
   ]
  },
  {
   "cell_type": "code",
   "execution_count": 2,
   "metadata": {},
   "outputs": [],
   "source": [
    "def generate_2d_causal_mask(seq_len, dtype, device='gpu', blocksize=1):\n",
    "    \"\"\"\n",
    "    Generates a 2D causal mask for multi-head attention.\n",
    "    \n",
    "    Args:\n",
    "        seq_len (int): The length of the sequence.\n",
    "        dtype (torch.dtype): The data type for the mask.\n",
    "        device (str): The device on which to create the mask.\n",
    "    \n",
    "    Returns:\n",
    "        torch.Tensor: A 2D causal attention mask.\n",
    "    \"\"\"\n",
    "    blocksizes = [min(blocksize, seq_len - i * blocksize) for i in range((seq_len + blocksize - 1) // blocksize)]\n",
    "    blocks = [torch.ones((s, s), device=device, dtype=dtype) for s in blocksizes]\n",
    "    mask = torch.block_diag(*blocks)\n",
    "\n",
    "    tril_row, tril_col = torch.tril_indices(seq_len, seq_len)\n",
    "    mask[tril_row, tril_col] = 1\n",
    "\n",
    "    mask.masked_fill_(mask == 0, float('-inf'))\n",
    "    mask.masked_fill_(mask == 1, 0)\n",
    "\n",
    "    return mask"
   ]
  },
  {
   "cell_type": "code",
   "execution_count": null,
   "metadata": {},
   "outputs": [],
   "source": [
    "generate_2d_causal_mask(6, float, device='cpu', blocksize=4)"
   ]
  },
  {
   "cell_type": "code",
   "execution_count": null,
   "metadata": {},
   "outputs": [],
   "source": []
  },
  {
   "cell_type": "markdown",
   "metadata": {},
   "source": [
    "# mfa_30s_mix_filtered"
   ]
  },
  {
   "cell_type": "code",
   "execution_count": 2,
   "metadata": {},
   "outputs": [],
   "source": [
    "import torchaudio"
   ]
  },
  {
   "cell_type": "code",
   "execution_count": 3,
   "metadata": {},
   "outputs": [],
   "source": [
    "train_df = load_df_from_tsv(\"/data/user_data/siqiouya/dataset/must-c-v1.0/en-es/train_mfa_30s_mix_filtered.tsv\")"
   ]
  },
  {
   "cell_type": "code",
   "execution_count": null,
   "metadata": {},
   "outputs": [],
   "source": [
    "train_df.iloc[231870]"
   ]
  },
  {
   "cell_type": "code",
   "execution_count": null,
   "metadata": {},
   "outputs": [],
   "source": [
    "print(torchaudio.info(\"/scratch/siqiouya/dataset/must-c-v1.0/en-es/data/train/wav/ted_26.wav\"))"
   ]
  },
  {
   "cell_type": "code",
   "execution_count": null,
   "metadata": {},
   "outputs": [],
   "source": [
    "17256479\n",
    "3857750"
   ]
  },
  {
   "cell_type": "markdown",
   "metadata": {},
   "source": [
    "# tst-COMMON_30s"
   ]
  },
  {
   "cell_type": "code",
   "execution_count": 12,
   "metadata": {},
   "outputs": [],
   "source": [
    "import os\n",
    "import torchaudio\n",
    "import IPython.display\n",
    "from fairseq.examples.speech_to_text.data_utils import load_df_from_tsv, save_df_to_tsv"
   ]
  },
  {
   "cell_type": "code",
   "execution_count": 25,
   "metadata": {},
   "outputs": [],
   "source": [
    "ori_path = '/data/user_data/siqiouya/dataset/must-c-v1.0/en-es/tst-COMMON.tsv'\n",
    "long_path = '/data/user_data/siqiouya/dataset/must-c-v1.0/en-es/tst-COMMON_st_es_30s.tsv'"
   ]
  },
  {
   "cell_type": "code",
   "execution_count": 26,
   "metadata": {},
   "outputs": [],
   "source": [
    "ori_df = load_df_from_tsv(ori_path)\n",
    "long_df = load_df_from_tsv(long_path)"
   ]
  },
  {
   "cell_type": "code",
   "execution_count": null,
   "metadata": {},
   "outputs": [],
   "source": [
    "ori_df.iloc[19]"
   ]
  },
  {
   "cell_type": "code",
   "execution_count": 10,
   "metadata": {},
   "outputs": [],
   "source": [
    "def read_wav(path):\n",
    "    path, offset, duration = path.split(':')\n",
    "    wav, _ = torchaudio.load(path, int(offset), int(duration))\n",
    "    return wav"
   ]
  },
  {
   "cell_type": "code",
   "execution_count": null,
   "metadata": {},
   "outputs": [],
   "source": [
    "IPython.display.Audio(read_wav(ori_df['audio'][19]), rate=16000)"
   ]
  },
  {
   "cell_type": "code",
   "execution_count": null,
   "metadata": {},
   "outputs": [],
   "source": [
    "ori_df['src_text'][19]"
   ]
  },
  {
   "cell_type": "code",
   "execution_count": null,
   "metadata": {},
   "outputs": [],
   "source": []
  },
  {
   "cell_type": "markdown",
   "metadata": {},
   "source": [
    "# COMET"
   ]
  },
  {
   "cell_type": "code",
   "execution_count": null,
   "metadata": {},
   "outputs": [],
   "source": [
    "import os\n",
    "import json\n",
    "import types\n",
    "from comet import download_model, load_from_checkpoint\n",
    "from fairseq.examples.speech_to_text.data_utils import load_df_from_tsv"
   ]
  },
  {
   "cell_type": "code",
   "execution_count": null,
   "metadata": {},
   "outputs": [],
   "source": [
    "comet_model = load_from_checkpoint(\"/data/user_data/siqiouya/runs/pretrained/models--Unbabel--XCOMET-XXL/snapshots/bad20b47daa64c41a8b29f3d3016be75baf0d7b4/checkpoints\")"
   ]
  },
  {
   "cell_type": "code",
   "execution_count": 5,
   "metadata": {},
   "outputs": [],
   "source": [
    "df = load_df_from_tsv('/data/user_data/siqiouya/dataset/must-c-v1.0/en-es/tst-COMMON_30s.tsv')\n",
    "src_texts = df['src_text'].tolist()"
   ]
  },
  {
   "cell_type": "code",
   "execution_count": 6,
   "metadata": {},
   "outputs": [],
   "source": [
    "paths = [\n",
    "    '/data/user_data/siqiouya/runs/stage3-uni-waco-word-block16-fixed-mix-from-stage0-l40/simul-results/30s-wait-k-word-inc-opt-bsz8/wait-320ms-13/',\n",
    "    '/data/user_data/siqiouya/runs/stage2-bi-mix-fix/simul-results/30s-wait-k-word-bsz8/wait-320ms-13/'\n",
    "]"
   ]
  },
  {
   "cell_type": "code",
   "execution_count": null,
   "metadata": {},
   "outputs": [],
   "source": [
    "for path in paths:\n",
    "    instances = []\n",
    "    instances_log_path = os.path.join(path, 'instances.log')\n",
    "    hyps = []\n",
    "    refs = []\n",
    "    with open(instances_log_path, 'r') as r:\n",
    "        for line in r.readlines():\n",
    "            line = line.strip()\n",
    "            if line != '':\n",
    "                d = json.loads(line)\n",
    "                instance = types.SimpleNamespace(**d)\n",
    "                hyps.append(instance.prediction)\n",
    "                refs.append(instance.reference)\n",
    "    comet_data = [\n",
    "        {\n",
    "            \"src\": src_texts[i],\n",
    "            \"mt\" : hyps[i],\n",
    "            \"ref\": refs[i]\n",
    "        }\n",
    "        for i in range(len(hyps))\n",
    "    ]\n",
    "    comet_output = comet_model.predict(comet_data[:10], batch_size=7, gpus=1)\n",
    "    break"
   ]
  }
 ],
 "metadata": {
  "kernelspec": {
   "display_name": "comet",
   "language": "python",
   "name": "python3"
  },
  "language_info": {
   "codemirror_mode": {
    "name": "ipython",
    "version": 3
   },
   "file_extension": ".py",
   "mimetype": "text/x-python",
   "name": "python",
   "nbconvert_exporter": "python",
   "pygments_lexer": "ipython3",
   "version": "3.9.20"
  }
 },
 "nbformat": 4,
 "nbformat_minor": 2
}
