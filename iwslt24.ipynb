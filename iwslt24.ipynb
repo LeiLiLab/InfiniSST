{
 "cells": [
  {
   "cell_type": "code",
   "execution_count": 50,
   "metadata": {},
   "outputs": [],
   "source": [
    "import torchaudio\n",
    "import pandas as pd\n",
    "from fairseq.examples.speech_to_text.data_utils import save_df_to_tsv"
   ]
  },
  {
   "cell_type": "markdown",
   "metadata": {},
   "source": [
    "# Build TSV"
   ]
  },
  {
   "cell_type": "code",
   "execution_count": 32,
   "metadata": {},
   "outputs": [],
   "source": [
    "roor_dir = '/mnt/taurus/data1/siqiouyang/datasets/iwslt24'\n",
    "subsets = ['tst2021', 'tst2022']\n",
    "lang='de'"
   ]
  },
  {
   "cell_type": "code",
   "execution_count": 45,
   "metadata": {},
   "outputs": [],
   "source": [
    "subset = subsets[0]\n",
    "subset_dir = f'{roor_dir}/raw/en-{lang}/{subset}'\n",
    "wav_scp_path = f'{subset_dir}/wav.scp'\n",
    "utt2spk_path = f'{subset_dir}/utt2spk'"
   ]
  },
  {
   "cell_type": "code",
   "execution_count": 41,
   "metadata": {},
   "outputs": [],
   "source": [
    "with open(wav_scp_path, 'r') as f:\n",
    "    wav_ids = []\n",
    "    lines = []\n",
    "    for l in f.readlines():\n",
    "        if l.strip() != '':\n",
    "            wav_ids.append(l.split()[0])\n",
    "            l = l[l.find('data'):].strip()\n",
    "            lines.append(l)\n",
    "    wav_paths = [f'{subset_dir}/{line}' for line in lines]"
   ]
  },
  {
   "cell_type": "code",
   "execution_count": 46,
   "metadata": {},
   "outputs": [],
   "source": [
    "with open(utt2spk_path, 'r') as f:\n",
    "    wav_spk = []\n",
    "    for l in f.readlines():\n",
    "        if l.strip() != '':\n",
    "            utt_id, spk_id = l.strip().split()\n",
    "            wav_spk.append(spk_id)"
   ]
  },
  {
   "cell_type": "code",
   "execution_count": 44,
   "metadata": {},
   "outputs": [],
   "source": [
    "df = pd.DataFrame(columns=['id', 'audio', 'n_frames', 'speaker', 'src_lang'])"
   ]
  },
  {
   "cell_type": "code",
   "execution_count": 53,
   "metadata": {},
   "outputs": [
    {
     "data": {
      "text/plain": [
       "116000"
      ]
     },
     "execution_count": 53,
     "metadata": {},
     "output_type": "execute_result"
    }
   ],
   "source": [
    "torchaudio.info(wav_paths[0]).num_frames"
   ]
  },
  {
   "cell_type": "code",
   "execution_count": 54,
   "metadata": {},
   "outputs": [],
   "source": [
    "df['id'] = wav_ids\n",
    "df['audio'] = wav_paths\n",
    "df['speaker'] = wav_spk\n",
    "df['src_lang'] = ['en'] * len(wav_ids)\n",
    "df['n_frames'] = [torchaudio.info(p).num_frames for p in wav_paths]"
   ]
  },
  {
   "cell_type": "code",
   "execution_count": 55,
   "metadata": {},
   "outputs": [],
   "source": [
    "save_df_to_tsv(df, f'{subset_dir}/test.tsv')"
   ]
  },
  {
   "cell_type": "code",
   "execution_count": null,
   "metadata": {},
   "outputs": [],
   "source": []
  }
 ],
 "metadata": {
  "kernelspec": {
   "display_name": "sllama",
   "language": "python",
   "name": "python3"
  },
  "language_info": {
   "codemirror_mode": {
    "name": "ipython",
    "version": 3
   },
   "file_extension": ".py",
   "mimetype": "text/x-python",
   "name": "python",
   "nbconvert_exporter": "python",
   "pygments_lexer": "ipython3",
   "version": "3.8.18"
  }
 },
 "nbformat": 4,
 "nbformat_minor": 2
}
