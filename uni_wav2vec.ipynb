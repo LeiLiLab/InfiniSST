{
 "cells": [
  {
   "cell_type": "code",
   "execution_count": null,
   "metadata": {},
   "outputs": [],
   "source": [
    "import fairseq\n",
    "import torch \n",
    "import torch.nn as nn\n",
    "from fairseq.models import (\n",
    "    FairseqEncoder, \n",
    "    register_model, \n",
    "    register_model_architecture\n",
    ")\n",
    "from fairseq.models.wav2vec.wav2vec2 import Wav2Vec2Model, Wav2Vec2Config\n",
    "from fairseq.models import BaseFairseqModel, register_model\n",
    "from fairseq.models.wav2vec import (\n",
    "    TransformerEncoder,\n",
    "    TransformerSentenceEncoderLayer,\n",
    "    Wav2Vec2Model,\n",
    "    Wav2VecEncoder    \n",
    ")\n",
    "from fairseq.data.audio.speech_to_text_dataset import _collate_frames\n"
   ]
  },
  {
   "cell_type": "code",
   "execution_count": null,
   "metadata": {},
   "outputs": [],
   "source": [
    "# original_forward = TransformerSentenceEncoderLayer.forward\n",
    "\n",
    "# def generate_2d_causal_mask(seq_len, device='cpu'):\n",
    "#     \"\"\"\n",
    "#     Generates a 2D causal mask for multi-head attention.\n",
    "    \n",
    "#     Args:\n",
    "#         seq_len (int): The length of the sequence.\n",
    "#         device (str): The device on which to create the mask.\n",
    "    \n",
    "#     Returns:\n",
    "#         torch.Tensor: A 2D causal attention mask.\n",
    "#     \"\"\"\n",
    "#     mask = torch.triu(torch.ones((seq_len, seq_len), device=device), diagonal=1)\n",
    "#     mask = mask.masked_fill(mask == 1, float('-inf'))\n",
    "#     return mask\n",
    "\n",
    "# def causal_forward(\n",
    "#     self,\n",
    "#     x: torch.Tensor,\n",
    "#     self_attn_mask: torch.Tensor = None,\n",
    "#     self_attn_padding_mask: torch.Tensor = None,\n",
    "#     need_weights: bool = False,\n",
    "#     att_args=None,\n",
    "# ):\n",
    "#     # Generate the causal mask\n",
    "#     # print(x)\n",
    "#     # print(x.size(2))\n",
    "#     # print(self_attn_mask)\n",
    "#     causal_mask = generate_2d_causal_mask(x.size(0), device=x.device)\n",
    "    \n",
    "#     if self_attn_mask is not None:\n",
    "#         self_attn_mask = self_attn_mask + causal_mask\n",
    "#     else:\n",
    "#         self_attn_mask = causal_mask\n",
    "\n",
    "#     return original_forward(\n",
    "#         self, x, \n",
    "#         self_attn_mask=self_attn_mask, \n",
    "#         self_attn_padding_mask=self_attn_padding_mask, \n",
    "#         need_weights=need_weights,\n",
    "#         att_args=att_args)\n"
   ]
  },
  {
   "cell_type": "code",
   "execution_count": null,
   "metadata": {},
   "outputs": [],
   "source": [
    "def generate_2d_causal_mask(seq_len, dtype, device='cpu'):\n",
    "    \"\"\"\n",
    "    Generates a 2D causal mask for multi-head attention.\n",
    "    \n",
    "    Args:\n",
    "        seq_len (int): The length of the sequence.\n",
    "        device (str): The device on which to create the mask.\n",
    "    \n",
    "    Returns:\n",
    "        torch.Tensor: A 2D causal attention mask.\n",
    "    \"\"\"\n",
    "    # mask = torch.triu(torch.ones((seq_len, seq_len), device=device), diagonal=1)\n",
    "    mask = torch.triu(torch.ones((seq_len, seq_len), device=device, dtype=dtype), diagonal=1)\n",
    "    mask = mask.masked_fill(mask == 1, float('-inf'))\n",
    "    return mask\n",
    "\n",
    "def causal_forward(\n",
    "    self,\n",
    "    x: torch.Tensor,\n",
    "    self_attn_mask: torch.Tensor = None,\n",
    "    self_attn_padding_mask: torch.Tensor = None,\n",
    "    need_weights: bool = False,\n",
    "    att_args=None,\n",
    "):\n",
    "    \"\"\"\n",
    "    LayerNorm is applied either before or after the self-attention/ffn\n",
    "    modules similar to the original Transformer imlementation.\n",
    "    \"\"\"\n",
    "    # causal_mask = generate_2d_causal_mask(x.size(0), device=x.device)\n",
    "    causal_mask = generate_2d_causal_mask(x.size(0), dtype=x.dtype,device=x.device)\n",
    "    \n",
    "    if self_attn_mask is not None:\n",
    "        self_attn_mask = self_attn_mask + causal_mask\n",
    "    else:\n",
    "        self_attn_mask = causal_mask\n",
    "        \n",
    "    residual = x\n",
    "\n",
    "    if self.layer_norm_first:\n",
    "        x = self.self_attn_layer_norm(x)\n",
    "        x, attn = self.self_attn(\n",
    "            query=x,\n",
    "            key=x,\n",
    "            value=x,\n",
    "            key_padding_mask=self_attn_padding_mask,\n",
    "            attn_mask=self_attn_mask,\n",
    "            need_weights=True,\n",
    "        )\n",
    "        x = self.dropout1(x)\n",
    "        x = residual + x\n",
    "\n",
    "        residual = x\n",
    "        x = self.final_layer_norm(x)\n",
    "        x = self.activation_fn(self.fc1(x))\n",
    "        x = self.dropout2(x)\n",
    "        x = self.fc2(x)\n",
    "\n",
    "        layer_result = x\n",
    "\n",
    "        x = self.dropout3(x)\n",
    "        x = residual + x\n",
    "    else:\n",
    "        x, attn = self.self_attn(\n",
    "            query=x,\n",
    "            key=x,\n",
    "            value=x,\n",
    "            key_padding_mask=self_attn_padding_mask,\n",
    "            need_weights=True,\n",
    "        )\n",
    "\n",
    "        x = self.dropout1(x)\n",
    "        x = residual + x\n",
    "\n",
    "        x = self.self_attn_layer_norm(x)\n",
    "\n",
    "        residual = x\n",
    "        x = self.activation_fn(self.fc1(x))\n",
    "        x = self.dropout2(x)\n",
    "        x = self.fc2(x)\n",
    "\n",
    "        layer_result = x\n",
    "\n",
    "        x = self.dropout3(x)\n",
    "        x = residual + x\n",
    "        x = self.final_layer_norm(x)\n",
    "\n",
    "    return x, (attn, layer_result)"
   ]
  },
  {
   "cell_type": "code",
   "execution_count": null,
   "metadata": {},
   "outputs": [],
   "source": [
    "# try replace multihead attention with causal multihead attention\n"
   ]
  },
  {
   "cell_type": "code",
   "execution_count": null,
   "metadata": {},
   "outputs": [],
   "source": [
    "# try replace wav2vec forward"
   ]
  },
  {
   "cell_type": "code",
   "execution_count": null,
   "metadata": {},
   "outputs": [],
   "source": [
    "def replace_forward():\n",
    "    TransformerSentenceEncoderLayer.forward = causal_forward"
   ]
  },
  {
   "cell_type": "code",
   "execution_count": null,
   "metadata": {},
   "outputs": [],
   "source": [
    "speech_tower_path = '/mnt/taurus/data/xixu/models/wav2_vec_vox_960h_pl.pt'\n",
    "state = fairseq.checkpoint_utils.load_checkpoint_to_cpu(speech_tower_path)\n",
    "model = Wav2VecEncoder(state['cfg']['model'], None)\n",
    "new = {}\n",
    "for key in state['model'].keys():\n",
    "    new_key = key.replace('w2v_encoder.', '')\n",
    "    if not new_key.startswith('proj'):\n",
    "        new[new_key] = state['model'][key]\n",
    "model.load_state_dict(new, strict=True)\n",
    "model = model.w2v_model\n",
    "replace_forward()"
   ]
  },
  {
   "cell_type": "code",
   "execution_count": null,
   "metadata": {},
   "outputs": [],
   "source": [
    "#Attention Weight\n",
    "import matplotlib.pyplot as plt\n",
    "import torchaudio\n",
    "import numpy\n",
    "from train.dataset import PromptSpeechToTextDatasetCreator, SpeechToTextDatasetItem\n",
    "\n",
    "\n",
    "replace_forward()\n",
    "def visualize_attention_weights(model, plot_size=10):\n",
    "    test_dataset = PromptSpeechToTextDatasetCreator.from_tsv(\"/mnt/data/xixu/datasets/must-c-v1.0/en-es/\", 'tst-COMMON_1' )\n",
    "    for test_data in test_dataset:\n",
    "        source, ref, id = test_data.source, test_data.target, test_data.id                  \n",
    "        speech_batch = _collate_frames([source], is_audio_input=True)\n",
    "\n",
    "        model.eval()\n",
    "        # Forward pass through the model\n",
    "        with torch.no_grad():\n",
    "            result = model.extract_features(speech_batch, padding_mask=None)\n",
    "        # ((x, z, lr))\n",
    "        # changed https://github.com/facebookresearch/fairseq/blob/fad2c4d1ebe14d974876de52dcb06db6d99b0b4a/fairseq/models/wav2vec/wav2vec2.py#L1330C34-L1330C34 \n",
    "        # to get attention weights  \n",
    "        attn = result['layer_results'][0][1]\n",
    "        feature = result[\"x\"]\n",
    "        print(feature.size())\n",
    "        # print(attn.size())\n",
    "        attn = attn[0] if attn.ndim == 3 else attn\n",
    "        # print(attn.size())\n",
    "        # Select a smaller portion of the attention matrix to visualize\n",
    "        small_attn = attn[:plot_size, :plot_size].cpu().numpy()\n",
    "\n",
    "        # Visualize the attention weights\n",
    "        plt.matshow(small_attn)\n",
    "        plt.title(f\"Attention Weights - First {plot_size} Timesteps\")\n",
    "        plt.xlabel(\"Key Positions\")\n",
    "        plt.ylabel(\"Query Positions\")\n",
    "        plt.colorbar()\n",
    "        plt.show()\n",
    "\n",
    "# Call the function with the model and desired input length\n",
    "visualize_attention_weights(model, plot_size=10)\n"
   ]
  },
  {
   "cell_type": "code",
   "execution_count": null,
   "metadata": {},
   "outputs": [],
   "source": []
  },
  {
   "cell_type": "markdown",
   "metadata": {},
   "source": [
    "# Inference"
   ]
  },
  {
   "cell_type": "markdown",
   "metadata": {},
   "source": [
    "## Incremental w2v2 encoding"
   ]
  },
  {
   "cell_type": "code",
   "execution_count": null,
   "metadata": {},
   "outputs": [],
   "source": [
    "from fairseq.modules import MultiheadAttention"
   ]
  },
  {
   "cell_type": "code",
   "execution_count": null,
   "metadata": {},
   "outputs": [],
   "source": [
    "mha = MultiheadAttention(512, 8, dropout=0.0, self_attention=True)"
   ]
  },
  {
   "cell_type": "code",
   "execution_count": null,
   "metadata": {},
   "outputs": [],
   "source": [
    "incremental_state = {}"
   ]
  },
  {
   "cell_type": "code",
   "execution_count": null,
   "metadata": {},
   "outputs": [],
   "source": [
    "x = torch.rand(2, 1, 512)"
   ]
  },
  {
   "cell_type": "code",
   "execution_count": null,
   "metadata": {},
   "outputs": [],
   "source": [
    "attn_mask = generate_2d_causal_mask(x.size(0), dtype=x.dtype, device=x.device)"
   ]
  },
  {
   "cell_type": "code",
   "execution_count": null,
   "metadata": {},
   "outputs": [],
   "source": [
    "attn, attn_weights = mha.forward(x, x, x, incremental_state=incremental_state, attn_mask=attn_mask)"
   ]
  },
  {
   "cell_type": "code",
   "execution_count": null,
   "metadata": {},
   "outputs": [],
   "source": [
    "y = torch.rand(3, 1, 512)"
   ]
  },
  {
   "cell_type": "code",
   "execution_count": null,
   "metadata": {},
   "outputs": [],
   "source": [
    "attn_mask = generate_2d_causal_mask(5, dtype=x.dtype, device=x.device)[2:]"
   ]
  },
  {
   "cell_type": "code",
   "execution_count": null,
   "metadata": {},
   "outputs": [],
   "source": [
    "attn, attn_weights = mha.forward(y, y, y, incremental_state=incremental_state, attn_mask=attn_mask)"
   ]
  },
  {
   "cell_type": "code",
   "execution_count": null,
   "metadata": {},
   "outputs": [],
   "source": [
    "list(incremental_state.values())[0]['prev_key'].size()"
   ]
  },
  {
   "cell_type": "markdown",
   "metadata": {},
   "source": [
    "## Incremental llama encoding with w2v2 input"
   ]
  },
  {
   "cell_type": "code",
   "execution_count": 1,
   "metadata": {},
   "outputs": [
    {
     "name": "stdout",
     "output_type": "stream",
     "text": [
      "[2024-01-30 08:58:34,402] [INFO] [real_accelerator.py:158:get_accelerator] Setting ds_accelerator to cuda (auto detect)\n"
     ]
    },
    {
     "name": "stderr",
     "output_type": "stream",
     "text": [
      "2024-01-30 08:58:37 | INFO | numexpr.utils | Note: detected 112 virtual cores but NumExpr set to maximum of 64, check \"NUMEXPR_MAX_THREADS\" environment variable.\n",
      "2024-01-30 08:58:37 | INFO | numexpr.utils | Note: NumExpr detected 112 cores but \"NUMEXPR_MAX_THREADS\" not set, so enforcing safe limit of 8.\n",
      "2024-01-30 08:58:37 | INFO | numexpr.utils | NumExpr defaulting to 8 threads.\n",
      "Special tokens have been added in the vocabulary, make sure the associated word embeddings are fine-tuned or trained.\n"
     ]
    },
    {
     "data": {
      "application/vnd.jupyter.widget-view+json": {
       "model_id": "1f8062df35784c338ef64149ce17da53",
       "version_major": 2,
       "version_minor": 0
      },
      "text/plain": [
       "Loading checkpoint shards:   0%|          | 0/3 [00:00<?, ?it/s]"
      ]
     },
     "metadata": {},
     "output_type": "display_data"
    },
    {
     "name": "stderr",
     "output_type": "stream",
     "text": [
      "Some weights of the model checkpoint at /mnt/taurus/data/xixu/runs/sllama/en-es/7b/uni/stage2/checkpoint-2000 were not used when initializing SpeechLlamaForCausalLM: ['model.speech_tower.encoder.layers.16.self_attn.out_proj.bias', 'model.speech_tower.feature_extractor.conv_layers.0.0.bias', 'model.speech_tower.encoder.layers.15.self_attn.out_proj.weight', 'model.speech_tower.encoder.layers.3.self_attn.v_proj.weight', 'model.speech_tower.encoder.layers.10.fc1.weight', 'model.speech_tower.encoder.layers.17.fc2.bias', 'model.speech_tower.encoder.layers.11.self_attn_layer_norm.weight', 'model.speech_tower.encoder.layers.19.self_attn.v_proj.bias', 'model.speech_tower.encoder.layers.23.self_attn.v_proj.weight', 'model.speech_tower.encoder.layers.21.self_attn.out_proj.bias', 'model.speech_tower.encoder.layers.19.self_attn.q_proj.weight', 'model.speech_tower.encoder.layers.20.fc2.bias', 'model.speech_tower.encoder.layers.8.self_attn.out_proj.weight', 'model.speech_tower.encoder.layers.1.self_attn.v_proj.weight', 'model.speech_tower.encoder.layers.16.self_attn.q_proj.bias', 'model.speech_tower.encoder.layers.0.self_attn_layer_norm.weight', 'model.speech_tower.encoder.layers.1.self_attn.v_proj.bias', 'model.speech_tower.encoder.layers.10.self_attn.v_proj.bias', 'model.speech_tower.encoder.layers.18.self_attn.q_proj.weight', 'model.speech_tower.encoder.layers.13.self_attn.k_proj.bias', 'model.speech_tower.encoder.layers.23.self_attn_layer_norm.weight', 'model.speech_tower.encoder.layers.19.fc1.bias', 'model.speech_tower.encoder.layers.15.self_attn.k_proj.bias', 'model.speech_tower.encoder.layers.12.self_attn_layer_norm.weight', 'model.speech_tower.post_extract_proj.bias', 'model.speech_tower.encoder.layers.0.fc2.bias', 'model.speech_tower.encoder.layers.14.self_attn.k_proj.weight', 'model.speech_tower.encoder.layers.20.final_layer_norm.bias', 'model.speech_tower.encoder.layers.10.final_layer_norm.weight', 'model.speech_tower.encoder.layers.12.final_layer_norm.bias', 'model.speech_tower.encoder.layers.9.self_attn_layer_norm.bias', 'model.speech_tower.feature_extractor.conv_layers.1.2.1.bias', 'model.speech_tower.encoder.layers.12.self_attn.k_proj.weight', 'model.speech_tower.feature_extractor.conv_layers.1.0.weight', 'model.speech_tower.encoder.layers.15.self_attn_layer_norm.weight', 'model.speech_tower.encoder.layers.1.fc1.bias', 'model.speech_tower.encoder.layers.11.self_attn.k_proj.weight', 'model.speech_tower.encoder.layers.11.fc1.weight', 'model.speech_tower.encoder.layers.22.fc1.weight', 'model.speech_tower.encoder.layers.7.fc2.weight', 'model.speech_tower.encoder.layer_norm.weight', 'model.speech_tower.encoder.layers.3.self_attn_layer_norm.bias', 'model.speech_tower.encoder.layers.3.final_layer_norm.bias', 'model.speech_tower.encoder.layers.0.self_attn.q_proj.weight', 'model.speech_tower.encoder.layers.5.fc2.weight', 'model.speech_tower.encoder.layers.11.fc1.bias', 'model.speech_tower.encoder.layers.14.self_attn.q_proj.weight', 'model.speech_tower.encoder.layers.16.fc1.weight', 'model.speech_tower.encoder.layers.18.self_attn.q_proj.bias', 'model.speech_tower.encoder.layers.4.final_layer_norm.bias', 'model.speech_tower.encoder.layers.19.self_attn.v_proj.weight', 'model.speech_tower.feature_extractor.conv_layers.6.2.1.bias', 'model.speech_tower.encoder.layers.17.final_layer_norm.weight', 'model.speech_tower.encoder.layers.22.fc1.bias', 'model.speech_tower.encoder.layers.6.self_attn.q_proj.weight', 'model.speech_tower.encoder.layers.21.fc2.bias', 'model.speech_tower.encoder.layers.14.self_attn.out_proj.weight', 'model.speech_tower.encoder.layers.5.self_attn.v_proj.weight', 'model.speech_tower.encoder.layers.16.fc1.bias', 'model.speech_tower.encoder.layers.7.self_attn.v_proj.weight', 'model.speech_tower.encoder.layers.23.fc1.weight', 'model.speech_tower.encoder.layers.12.self_attn.v_proj.bias', 'model.speech_tower.encoder.layers.4.fc2.bias', 'model.speech_tower.encoder.layers.6.final_layer_norm.weight', 'model.speech_tower.encoder.layers.2.fc2.bias', 'model.speech_tower.encoder.layers.21.self_attn.out_proj.weight', 'model.speech_tower.encoder.layers.10.fc2.weight', 'model.speech_tower.encoder.layers.3.final_layer_norm.weight', 'model.speech_tower.encoder.layers.16.self_attn.k_proj.weight', 'model.speech_tower.encoder.layers.15.fc2.bias', 'model.speech_tower.encoder.layers.17.fc2.weight', 'model.speech_tower.encoder.layers.0.self_attn.out_proj.weight', 'model.speech_tower.encoder.layers.1.self_attn.out_proj.bias', 'model.speech_tower.encoder.layers.4.self_attn.k_proj.weight', 'model.speech_tower.encoder.layers.11.self_attn.q_proj.weight', 'model.speech_tower.encoder.layers.10.self_attn.out_proj.weight', 'model.speech_tower.encoder.layers.1.final_layer_norm.bias', 'model.speech_tower.encoder.layers.23.self_attn.q_proj.bias', 'model.speech_tower.encoder.layers.22.self_attn.v_proj.bias', 'model.speech_tower.encoder.layers.22.self_attn_layer_norm.weight', 'model.speech_tower.encoder.layers.18.self_attn.out_proj.weight', 'model.speech_tower.encoder.layers.10.self_attn.k_proj.weight', 'model.speech_tower.feature_extractor.conv_layers.2.2.1.weight', 'model.speech_tower.encoder.layers.13.self_attn_layer_norm.bias', 'model.speech_tower.encoder.layers.22.self_attn.k_proj.bias', 'model.speech_tower.encoder.layers.23.self_attn.k_proj.weight', 'model.speech_tower.encoder.layers.20.self_attn.v_proj.bias', 'model.speech_tower.encoder.layers.11.fc2.bias', 'model.speech_tower.encoder.layers.2.self_attn.out_proj.weight', 'model.speech_tower.encoder.layers.12.self_attn.out_proj.bias', 'model.speech_tower.encoder.layers.2.self_attn.out_proj.bias', 'model.speech_tower.encoder.layers.15.self_attn.v_proj.bias', 'model.speech_tower.encoder.layers.2.fc1.weight', 'model.speech_tower.encoder.layers.11.final_layer_norm.bias', 'model.speech_tower.encoder.layers.20.self_attn.k_proj.bias', 'model.speech_tower.encoder.layers.6.self_attn.k_proj.weight', 'model.speech_tower.encoder.layers.17.self_attn.q_proj.weight', 'model.mm_length_adapter.conv_layers.1.weight', 'model.speech_tower.encoder.layers.21.fc2.weight', 'model.speech_tower.encoder.layers.20.final_layer_norm.weight', 'model.speech_tower.encoder.layers.10.fc1.bias', 'model.speech_tower.encoder.layers.12.self_attn_layer_norm.bias', 'model.speech_tower.encoder.layers.14.self_attn_layer_norm.bias', 'model.speech_tower.encoder.layers.13.self_attn_layer_norm.weight', 'model.speech_tower.encoder.layers.5.self_attn.out_proj.weight', 'model.speech_tower.encoder.layers.20.self_attn.q_proj.bias', 'model.speech_tower.encoder.layers.15.self_attn.q_proj.weight', 'model.speech_tower.encoder.layers.19.final_layer_norm.bias', 'model.speech_tower.layer_norm.weight', 'model.speech_tower.feature_extractor.conv_layers.4.0.bias', 'model.speech_tower.encoder.layers.7.self_attn.k_proj.bias', 'model.speech_tower.encoder.layers.9.final_layer_norm.bias', 'model.speech_tower.encoder.layers.14.self_attn.v_proj.bias', 'model.speech_tower.encoder.layers.13.self_attn.out_proj.bias', 'model.speech_tower.encoder.layers.0.self_attn.q_proj.bias', 'model.speech_tower.encoder.layers.0.fc2.weight', 'model.speech_tower.encoder.layers.10.self_attn_layer_norm.bias', 'model.speech_tower.encoder.pos_conv.0.weight_g', 'model.speech_tower.encoder.layers.10.self_attn.v_proj.weight', 'model.speech_tower.encoder.layers.9.fc1.weight', 'model.speech_tower.encoder.layers.1.fc2.weight', 'model.speech_tower.encoder.layers.20.fc1.bias', 'model.speech_tower.encoder.layers.9.fc2.weight', 'model.speech_tower.encoder.layers.1.self_attn.q_proj.bias', 'model.speech_tower.encoder.layers.21.self_attn.v_proj.bias', 'model.speech_tower.encoder.layers.3.fc2.bias', 'model.speech_tower.encoder.layers.9.self_attn.k_proj.weight', 'model.speech_tower.feature_extractor.conv_layers.5.2.1.weight', 'model.speech_tower.encoder.layers.15.self_attn.out_proj.bias', 'model.speech_tower.encoder.layers.20.fc2.weight', 'model.speech_tower.encoder.layers.5.self_attn_layer_norm.bias', 'model.speech_tower.encoder.layers.0.fc1.bias', 'model.speech_tower.encoder.layers.7.fc1.weight', 'model.speech_tower.encoder.layers.0.final_layer_norm.weight', 'model.speech_tower.encoder.layers.14.final_layer_norm.weight', 'model.speech_tower.encoder.layers.15.final_layer_norm.weight', 'model.speech_tower.encoder.layers.3.self_attn_layer_norm.weight', 'model.speech_tower.encoder.layers.12.final_layer_norm.weight', 'model.speech_tower.feature_extractor.conv_layers.4.2.1.weight', 'model.speech_tower.encoder.layers.21.self_attn_layer_norm.bias', 'model.speech_tower.encoder.layers.20.self_attn.v_proj.weight', 'model.speech_tower.feature_extractor.conv_layers.5.0.weight', 'model.speech_tower.encoder.layers.18.fc1.bias', 'model.speech_tower.encoder.layers.8.self_attn_layer_norm.weight', 'model.speech_tower.encoder.layers.2.self_attn.k_proj.weight', 'model.speech_tower.encoder.layers.4.self_attn_layer_norm.weight', 'model.speech_tower.encoder.layers.17.self_attn.k_proj.bias', 'model.speech_tower.encoder.layers.6.self_attn.q_proj.bias', 'model.speech_tower.encoder.layers.17.self_attn.out_proj.bias', 'model.speech_tower.encoder.layers.8.self_attn_layer_norm.bias', 'model.speech_tower.feature_extractor.conv_layers.5.0.bias', 'model.speech_tower.encoder.layers.2.self_attn.v_proj.bias', 'model.speech_tower.encoder.layers.15.fc1.bias', 'model.speech_tower.encoder.layers.17.self_attn_layer_norm.weight', 'model.speech_tower.encoder.layers.9.self_attn.out_proj.bias', 'model.speech_tower.encoder.layers.9.self_attn_layer_norm.weight', 'model.speech_tower.encoder.layers.2.self_attn_layer_norm.bias', 'model.speech_tower.encoder.layers.5.fc1.bias', 'model.speech_tower.encoder.layers.12.fc1.bias', 'model.speech_tower.encoder.layers.8.self_attn.v_proj.bias', 'model.speech_tower.encoder.layers.17.self_attn.k_proj.weight', 'model.speech_tower.feature_extractor.conv_layers.0.0.weight', 'model.speech_tower.encoder.layers.23.fc1.bias', 'model.speech_tower.encoder.layers.15.self_attn.v_proj.weight', 'model.speech_tower.encoder.layers.6.self_attn.k_proj.bias', 'model.speech_tower.encoder.layers.11.self_attn.v_proj.weight', 'model.speech_tower.encoder.layers.21.fc1.weight', 'model.speech_tower.encoder.layers.6.self_attn_layer_norm.weight', 'model.speech_tower.encoder.layers.20.self_attn_layer_norm.weight', 'model.speech_tower.encoder.layers.9.self_attn.q_proj.bias', 'model.speech_tower.encoder.layers.8.self_attn.k_proj.bias', 'model.speech_tower.encoder.layers.16.self_attn_layer_norm.weight', 'model.speech_tower.encoder.layers.7.self_attn.q_proj.bias', 'model.speech_tower.feature_extractor.conv_layers.6.0.bias', 'model.speech_tower.encoder.layers.22.final_layer_norm.bias', 'model.speech_tower.encoder.layers.2.final_layer_norm.weight', 'model.speech_tower.encoder.layers.21.final_layer_norm.bias', 'model.mm_length_adapter.conv_layers.0.bias', 'model.speech_tower.encoder.layers.13.self_attn.k_proj.weight', 'model.speech_tower.encoder.layers.19.self_attn.out_proj.bias', 'model.speech_tower.encoder.layers.2.self_attn.q_proj.bias', 'model.speech_tower.encoder.layers.21.self_attn.v_proj.weight', 'model.speech_tower.encoder.layers.7.fc1.bias', 'model.speech_tower.feature_extractor.conv_layers.6.2.1.weight', 'model.speech_tower.feature_extractor.conv_layers.0.2.1.weight', 'model.mm_length_adapter.conv_layers.1.bias', 'model.speech_tower.encoder.layers.3.self_attn.k_proj.weight', 'model.speech_tower.encoder.layers.9.self_attn.q_proj.weight', 'model.speech_tower.encoder.layers.17.self_attn.v_proj.weight', 'model.speech_tower.encoder.layers.4.self_attn.q_proj.weight', 'model.speech_tower.encoder.layers.0.fc1.weight', 'model.speech_tower.encoder.layers.10.fc2.bias', 'model.speech_tower.encoder.layers.1.self_attn.out_proj.weight', 'model.speech_tower.encoder.layers.4.self_attn.out_proj.bias', 'model.speech_tower.encoder.layers.9.self_attn.out_proj.weight', 'model.speech_tower.post_extract_proj.weight', 'model.mm_length_adapter.conv_layers.0.weight', 'model.speech_tower.encoder.layers.20.fc1.weight', 'model.speech_tower.encoder.layers.2.self_attn.k_proj.bias', 'model.speech_tower.encoder.layers.8.self_attn.out_proj.bias', 'model.speech_tower.encoder.layers.16.final_layer_norm.bias', 'model.speech_tower.encoder.layers.13.fc2.bias', 'model.speech_tower.encoder.layers.13.self_attn.q_proj.bias', 'model.speech_tower.encoder.layers.21.self_attn_layer_norm.weight', 'model.speech_tower.encoder.layers.23.self_attn_layer_norm.bias', 'model.speech_tower.encoder.layers.5.self_attn.q_proj.weight', 'model.speech_tower.encoder.layers.4.self_attn.q_proj.bias', 'model.speech_tower.encoder.layers.8.self_attn.q_proj.bias', 'model.speech_tower.encoder.layers.16.fc2.bias', 'model.speech_tower.encoder.layers.9.fc1.bias', 'model.speech_tower.encoder.layers.11.fc2.weight', 'model.speech_tower.encoder.layers.5.self_attn.q_proj.bias', 'model.speech_tower.encoder.layers.4.self_attn_layer_norm.bias', 'model.speech_tower.encoder.layers.23.final_layer_norm.bias', 'model.speech_tower.encoder.layers.8.self_attn.q_proj.weight', 'model.speech_tower.encoder.layers.19.final_layer_norm.weight', 'model.speech_tower.encoder.layers.1.self_attn_layer_norm.weight', 'model.speech_tower.encoder.layers.4.fc1.bias', 'model.speech_tower.encoder.layers.0.self_attn_layer_norm.bias', 'model.speech_tower.encoder.layers.0.self_attn.out_proj.bias', 'model.speech_tower.encoder.layers.14.fc2.bias', 'model.speech_tower.encoder.layers.2.self_attn.v_proj.weight', 'model.speech_tower.encoder.layers.7.final_layer_norm.bias', 'model.speech_tower.encoder.layers.4.self_attn.k_proj.bias', 'model.speech_tower.encoder.layers.8.fc1.bias', 'model.speech_tower.encoder.layers.8.fc1.weight', 'model.speech_tower.encoder.layers.21.self_attn.q_proj.bias', 'model.speech_tower.encoder.layers.11.self_attn.k_proj.bias', 'model.speech_tower.encoder.layers.23.final_layer_norm.weight', 'model.speech_tower.encoder.layers.12.self_attn.q_proj.bias', 'model.speech_tower.encoder.layers.3.fc2.weight', 'model.speech_tower.encoder.layers.2.final_layer_norm.bias', 'model.speech_tower.encoder.layers.16.self_attn.out_proj.weight', 'model.speech_tower.encoder.layers.14.fc2.weight', 'model.speech_tower.feature_extractor.conv_layers.2.0.weight', 'model.speech_tower.encoder.layers.12.fc2.weight', 'model.speech_tower.encoder.layers.7.fc2.bias', 'model.speech_tower.encoder.layers.18.self_attn.v_proj.weight', 'model.speech_tower.encoder.layers.4.self_attn.out_proj.weight', 'model.speech_tower.encoder.layers.19.self_attn_layer_norm.weight', 'model.speech_tower.encoder.layers.6.self_attn.out_proj.bias', 'model.speech_tower.encoder.layers.8.self_attn.v_proj.weight', 'model.speech_tower.encoder.layers.9.self_attn.k_proj.bias', 'model.speech_tower.encoder.layers.14.self_attn.v_proj.weight', 'model.speech_tower.encoder.layers.23.fc2.bias', 'model.speech_tower.encoder.layers.18.final_layer_norm.weight', 'model.speech_tower.encoder.layers.20.self_attn_layer_norm.bias', 'model.speech_tower.encoder.layers.19.fc1.weight', 'model.speech_tower.encoder.layers.5.self_attn_layer_norm.weight', 'model.speech_tower.encoder.layers.8.fc2.bias', 'model.speech_tower.encoder.layers.22.self_attn.out_proj.weight', 'model.mm_mlp_adapter.bias', 'model.speech_tower.encoder.layers.14.self_attn.k_proj.bias', 'model.speech_tower.encoder.layers.18.fc2.weight', 'model.speech_tower.encoder.layers.3.self_attn.v_proj.bias', 'model.speech_tower.encoder.layers.22.self_attn.k_proj.weight', 'model.speech_tower.encoder.layers.5.final_layer_norm.bias', 'model.speech_tower.encoder.layers.17.fc1.bias', 'model.speech_tower.encoder.layers.0.self_attn.v_proj.weight', 'model.speech_tower.encoder.layers.1.self_attn.k_proj.weight', 'model.speech_tower.feature_extractor.conv_layers.3.2.1.bias', 'model.speech_tower.encoder.layers.0.final_layer_norm.bias', 'model.speech_tower.encoder.layers.3.self_attn.out_proj.bias', 'model.speech_tower.encoder.layers.6.fc2.bias', 'model.speech_tower.encoder.layers.22.final_layer_norm.weight', 'model.speech_tower.encoder.layers.3.self_attn.out_proj.weight', 'model.speech_tower.encoder.layers.3.self_attn.q_proj.weight', 'model.speech_tower.encoder.layers.16.self_attn_layer_norm.bias', 'model.speech_tower.encoder.layers.11.self_attn.v_proj.bias', 'model.speech_tower.feature_extractor.conv_layers.3.0.bias', 'model.speech_tower.encoder.layers.17.self_attn_layer_norm.bias', 'model.speech_tower.encoder.layers.1.self_attn_layer_norm.bias', 'model.speech_tower.encoder.layers.19.self_attn_layer_norm.bias', 'model.speech_tower.encoder.layers.10.self_attn.q_proj.weight', 'model.speech_tower.encoder.layers.17.self_attn.v_proj.bias', 'model.speech_tower.encoder.layers.7.self_attn.q_proj.weight', 'model.speech_tower.feature_extractor.conv_layers.0.2.1.bias', 'model.speech_tower.encoder.layers.8.final_layer_norm.weight', 'model.speech_tower.encoder.layers.13.final_layer_norm.bias', 'model.speech_tower.encoder.layers.12.fc1.weight', 'model.speech_tower.encoder.layers.13.self_attn.v_proj.bias', 'model.speech_tower.encoder.layers.5.self_attn.k_proj.bias', 'model.speech_tower.encoder.layers.18.self_attn.k_proj.bias', 'model.speech_tower.encoder.layers.18.self_attn.out_proj.bias', 'model.speech_tower.encoder.layers.3.self_attn.q_proj.bias', 'model.speech_tower.encoder.layers.4.fc2.weight', 'model.speech_tower.encoder.layers.7.self_attn.k_proj.weight', 'model.speech_tower.layer_norm.bias', 'model.speech_tower.encoder.layers.12.self_attn.v_proj.weight', 'model.speech_tower.encoder.layers.15.self_attn_layer_norm.bias', 'model.speech_tower.encoder.layers.9.final_layer_norm.weight', 'model.speech_tower.encoder.layers.4.fc1.weight', 'model.speech_tower.encoder.layers.20.self_attn.out_proj.weight', 'model.speech_tower.encoder.layers.4.self_attn.v_proj.weight', 'model.speech_tower.encoder.layers.13.fc1.weight', 'model.speech_tower.encoder.layers.14.fc1.weight', 'model.speech_tower.encoder.layers.12.self_attn.out_proj.weight', 'model.speech_tower.encoder.layers.22.fc2.weight', 'model.speech_tower.encoder.layers.1.fc2.bias', 'model.speech_tower.encoder.layers.21.self_attn.q_proj.weight', 'model.speech_tower.encoder.layers.15.fc2.weight', 'model.speech_tower.encoder.layers.6.fc1.bias', 'model.speech_tower.encoder.layers.9.fc2.bias', 'model.speech_tower.encoder.layers.21.fc1.bias', 'model.speech_tower.encoder.layers.10.self_attn_layer_norm.weight', 'model.speech_tower.encoder.layers.14.self_attn.q_proj.bias', 'model.speech_tower.encoder.layers.14.fc1.bias', 'model.speech_tower.encoder.layers.6.self_attn.v_proj.weight', 'model.speech_tower.encoder.layers.0.self_attn.k_proj.weight', 'model.speech_tower.encoder.layers.12.fc2.bias', 'model.speech_tower.encoder.layers.22.self_attn.out_proj.bias', 'model.speech_tower.encoder.layers.17.self_attn.q_proj.bias', 'model.speech_tower.encoder.layers.7.self_attn.out_proj.bias', 'model.speech_tower.encoder.layers.16.self_attn.q_proj.weight', 'model.speech_tower.encoder.layers.7.self_attn_layer_norm.weight', 'model.speech_tower.encoder.layers.2.fc2.weight', 'model.speech_tower.encoder.layers.7.self_attn_layer_norm.bias', 'model.speech_tower.encoder.layers.15.fc1.weight', 'model.speech_tower.feature_extractor.conv_layers.2.2.1.bias', 'model.speech_tower.encoder.layers.23.self_attn.v_proj.bias', 'model.speech_tower.encoder.layers.8.final_layer_norm.bias', 'model.speech_tower.encoder.layers.18.fc2.bias', 'model.speech_tower.encoder.layers.21.self_attn.k_proj.weight', 'model.speech_tower.encoder.layers.8.self_attn.k_proj.weight', 'model.speech_tower.encoder.layers.23.self_attn.out_proj.bias', 'model.speech_tower.encoder.layers.22.self_attn.v_proj.weight', 'model.speech_tower.encoder.layers.11.final_layer_norm.weight', 'model.speech_tower.encoder.layers.13.fc2.weight', 'model.speech_tower.encoder.layers.22.self_attn.q_proj.weight', 'model.speech_tower.feature_extractor.conv_layers.2.0.bias', 'model.speech_tower.encoder.layers.11.self_attn_layer_norm.bias', 'model.speech_tower.encoder.layer_norm.bias', 'model.speech_tower.feature_extractor.conv_layers.3.2.1.weight', 'model.speech_tower.encoder.layers.10.self_attn.out_proj.bias', 'model.speech_tower.encoder.layers.19.fc2.weight', 'model.speech_tower.encoder.layers.6.final_layer_norm.bias', 'model.speech_tower.encoder.layers.2.fc1.bias', 'model.speech_tower.encoder.layers.1.fc1.weight', 'model.speech_tower.encoder.layers.2.self_attn.q_proj.weight', 'model.speech_tower.encoder.layers.16.self_attn.v_proj.bias', 'model.speech_tower.encoder.layers.21.self_attn.k_proj.bias', 'model.speech_tower.encoder.layers.5.self_attn.out_proj.bias', 'model.speech_tower.encoder.layers.16.final_layer_norm.weight', 'model.speech_tower.encoder.layers.18.self_attn.v_proj.bias', 'model.speech_tower.encoder.layers.1.self_attn.k_proj.bias', 'model.speech_tower.encoder.layers.6.fc1.weight', 'model.speech_tower.encoder.layers.15.self_attn.k_proj.weight', 'model.speech_tower.encoder.layers.18.self_attn_layer_norm.weight', 'model.speech_tower.encoder.layers.19.fc2.bias', 'model.speech_tower.encoder.layers.6.self_attn.out_proj.weight', 'model.speech_tower.encoder.layers.11.self_attn.out_proj.bias', 'model.speech_tower.encoder.layers.16.self_attn.k_proj.bias', 'model.speech_tower.encoder.layers.19.self_attn.k_proj.weight', 'model.speech_tower.encoder.layers.13.fc1.bias', 'model.speech_tower.encoder.layers.17.final_layer_norm.bias', 'model.speech_tower.encoder.layers.20.self_attn.out_proj.bias', 'model.speech_tower.encoder.layers.10.final_layer_norm.bias', 'model.speech_tower.encoder.layers.16.self_attn.v_proj.weight', 'model.speech_tower.encoder.layers.5.fc2.bias', 'model.speech_tower.encoder.layers.9.self_attn.v_proj.weight', 'model.speech_tower.feature_extractor.conv_layers.4.2.1.bias', 'model.speech_tower.encoder.layers.7.self_attn.out_proj.weight', 'model.speech_tower.feature_extractor.conv_layers.5.2.1.bias', 'model.speech_tower.encoder.layers.19.self_attn.k_proj.bias', 'model.speech_tower.encoder.layers.22.fc2.bias', 'model.speech_tower.encoder.layers.8.fc2.weight', 'model.speech_tower.encoder.layers.3.self_attn.k_proj.bias', 'model.speech_tower.encoder.layers.18.self_attn_layer_norm.bias', 'model.speech_tower.encoder.layers.13.self_attn.q_proj.weight', 'model.speech_tower.encoder.layers.23.self_attn.q_proj.weight', 'model.speech_tower.encoder.layers.10.self_attn.q_proj.bias', 'model.speech_tower.encoder.layers.5.self_attn.v_proj.bias', 'model.speech_tower.encoder.layers.15.self_attn.q_proj.bias', 'model.speech_tower.encoder.layers.19.self_attn.q_proj.bias', 'model.speech_tower.mask_emb', 'model.speech_tower.encoder.layers.7.self_attn.v_proj.bias', 'model.speech_tower.encoder.layers.20.self_attn.q_proj.weight', 'model.speech_tower.encoder.pos_conv.0.weight_v', 'model.speech_tower.encoder.layers.5.self_attn.k_proj.weight', 'model.speech_tower.encoder.layers.1.final_layer_norm.weight', 'model.speech_tower.encoder.layers.20.self_attn.k_proj.weight', 'model.speech_tower.encoder.layers.4.self_attn.v_proj.bias', 'model.speech_tower.encoder.layers.16.fc2.weight', 'model.speech_tower.encoder.layers.5.fc1.weight', 'model.speech_tower.encoder.layers.21.final_layer_norm.weight', 'model.speech_tower.feature_extractor.conv_layers.4.0.weight', 'model.speech_tower.encoder.layers.2.self_attn_layer_norm.weight', 'model.speech_tower.encoder.layers.11.self_attn.out_proj.weight', 'model.speech_tower.encoder.layers.12.self_attn.k_proj.bias', 'model.speech_tower.encoder.layers.23.self_attn.k_proj.bias', 'model.speech_tower.encoder.layers.5.final_layer_norm.weight', 'model.speech_tower.feature_extractor.conv_layers.6.0.weight', 'model.speech_tower.encoder.layers.18.fc1.weight', 'model.speech_tower.encoder.layers.6.fc2.weight', 'model.speech_tower.feature_extractor.conv_layers.1.2.1.weight', 'model.speech_tower.encoder.layers.18.self_attn.k_proj.weight', 'model.speech_tower.encoder.layers.10.self_attn.k_proj.bias', 'model.speech_tower.encoder.layers.3.fc1.bias', 'model.speech_tower.encoder.layers.14.final_layer_norm.bias', 'model.speech_tower.encoder.layers.17.self_attn.out_proj.weight', 'model.speech_tower.encoder.layers.22.self_attn.q_proj.bias', 'model.speech_tower.encoder.layers.11.self_attn.q_proj.bias', 'model.speech_tower.encoder.layers.23.self_attn.out_proj.weight', 'model.speech_tower.encoder.layers.14.self_attn.out_proj.bias', 'model.speech_tower.encoder.pos_conv.0.bias', 'model.speech_tower.encoder.layers.9.self_attn.v_proj.bias', 'model.speech_tower.encoder.layers.23.fc2.weight', 'model.speech_tower.encoder.layers.13.self_attn.v_proj.weight', 'model.speech_tower.encoder.layers.12.self_attn.q_proj.weight', 'model.speech_tower.encoder.layers.18.final_layer_norm.bias', 'model.speech_tower.encoder.layers.13.self_attn.out_proj.weight', 'model.speech_tower.encoder.layers.3.fc1.weight', 'model.speech_tower.encoder.layers.13.final_layer_norm.weight', 'model.speech_tower.encoder.layers.17.fc1.weight', 'model.speech_tower.encoder.layers.0.self_attn.v_proj.bias', 'model.speech_tower.encoder.layers.15.final_layer_norm.bias', 'model.speech_tower.feature_extractor.conv_layers.3.0.weight', 'model.mm_mlp_adapter.weight', 'model.speech_tower.encoder.layers.22.self_attn_layer_norm.bias', 'model.speech_tower.encoder.layers.14.self_attn_layer_norm.weight', 'model.speech_tower.encoder.layers.6.self_attn.v_proj.bias', 'model.speech_tower.encoder.layers.1.self_attn.q_proj.weight', 'model.speech_tower.encoder.layers.7.final_layer_norm.weight', 'model.speech_tower.feature_extractor.conv_layers.1.0.bias', 'model.speech_tower.encoder.layers.4.final_layer_norm.weight', 'model.speech_tower.encoder.layers.19.self_attn.out_proj.weight', 'model.speech_tower.encoder.layers.0.self_attn.k_proj.bias', 'model.speech_tower.encoder.layers.6.self_attn_layer_norm.bias']\n",
      "- This IS expected if you are initializing SpeechLlamaForCausalLM from the checkpoint of a model trained on another task or with another architecture (e.g. initializing a BertForSequenceClassification model from a BertForPreTraining model).\n",
      "- This IS NOT expected if you are initializing SpeechLlamaForCausalLM from the checkpoint of a model that you expect to be exactly identical (initializing a BertForSequenceClassification model from a BertForSequenceClassification model).\n",
      "/mnt/taurus/home/siqiouyang/anaconda3/envs/sllama/lib/python3.8/site-packages/torch/nn/utils/weight_norm.py:30: UserWarning: torch.nn.utils.weight_norm is deprecated in favor of torch.nn.utils.parametrizations.weight_norm.\n",
      "  warnings.warn(\"torch.nn.utils.weight_norm is deprecated in favor of torch.nn.utils.parametrizations.weight_norm.\")\n"
     ]
    }
   ],
   "source": [
    "%load_ext autoreload\n",
    "\n",
    "import os\n",
    "os.environ['CUDA_VISIBLE_DEVICES'] = '2'\n",
    "import sys\n",
    "sys.path.append('/mnt/taurus/home/siqiouyang/work/projects/SimulEval/')\n",
    "\n",
    "import argparse, time, json\n",
    "from transformers import AutoTokenizer, AutoModelForCausalLM\n",
    "from tqdm import tqdm\n",
    "import torch, transformers\n",
    "import torch.nn as nn\n",
    "from eval.utils import disable_torch_init\n",
    "from model.model import SpeechLlamaForCausalLM, SpeechLlamaModel, SpeechLlamaConfig\n",
    "from model.utils import KeywordsStoppingCriteria\n",
    "from fairseq.data.audio.speech_to_text_dataset import _collate_frames\n",
    "from train.dataset import PromptSpeechToTextDatasetCreator, SpeechToTextDatasetItem\n",
    "import conversation as conversation_lib\n",
    "from conversation import SeparatorStyle\n",
    "\n",
    "import requests\n",
    "\n",
    "import torch.nn.functional as F\n",
    "\n",
    "import importlib\n",
    "import numpy as np\n",
    "from eval.agents.tt_waitk_sllama import S2TAgentStates\n",
    "from eval.agents.tt_waitk_sllama_incremental import IncrementalS2TAgentStates\n",
    "from fairseq.models.speech_to_text import lengths_to_padding_mask\n",
    "from train.uni_wav2vec_monkey_patch import replace_forward, replace_forward_incremental, uni_self_attn_forward, uni_w2v2_extract_features\n",
    "\n",
    "transformers.set_seed(998244353)\n",
    "torch.use_deterministic_algorithms(True)\n",
    "\n",
    "args = argparse.Namespace()\n",
    "args.model_name = '/mnt/taurus/data/xixu/runs/sllama/en-es/7b/uni/stage2/checkpoint-2000'\n",
    "args.length_adapter_path = os.path.join(args.model_name, 'length_adapter.bin')\n",
    "args.mlp_adapter_path = os.path.join(args.model_name, 'mlp_adapter.bin')\n",
    "args.speech_tower_path = os.path.join(args.model_name, 'speech_tower.bin')\n",
    "\n",
    "load_type = torch.float32\n",
    "disable_torch_init()\n",
    "model_name = os.path.expanduser(args.model_name)\n",
    "tokenizer = transformers.AutoTokenizer.from_pretrained(\n",
    "    args.model_name,\n",
    "    padding_side=\"right\",\n",
    "    use_fast=False,\n",
    ")\n",
    "config = json.load(open(os.path.join(args.model_name, 'config.json')))\n",
    "config['large_model'] = True\n",
    "update_config = os.path.join(args.model_name, 'config_large.json')\n",
    "json.dump(config, open(update_config, 'w'), indent=2)\n",
    "# replace_llama_attn_with_flash_attn()\n",
    "\n",
    "replace_forward()\n",
    "\n",
    "model = SpeechLlamaForCausalLM.from_pretrained(args.model_name,\n",
    "                                                torch_dtype=load_type,\n",
    "                                                low_cpu_mem_usage=True,\n",
    "                                                device_map='cpu',\n",
    "                                                config=update_config,).eval()\n",
    "\n",
    "device_input = device_output = 'cpu'\n",
    "\n",
    "length_after_ssl, length_after_adp = model.model.initialize_speech_modules(\n",
    "    speech_tower_path='/mnt/taurus/data/xixu/models/wav2_vec_vox_960h_pl.pt',\n",
    "    speech_tower_type=None,\n",
    "    len_adapter_channels=model.config.len_adapter_channels,\n",
    "    len_adapter_kernel_sizes=model.config.len_adapter_kernel_sizes,\n",
    "    ssl_fintuned=model.config.ssl_fintuned,\n",
    ")\n",
    "model.model.speech_tower.to(dtype=load_type, device=device_input)\n",
    "\n",
    "length_adapter_weights = torch.load(args.length_adapter_path, map_location='cpu')\n",
    "mlp_adapter_weights = torch.load(args.mlp_adapter_path, map_location='cpu')\n",
    "speech_tower_weights = torch.load(args.speech_tower_path, map_location='cpu')\n",
    "\n",
    "\n",
    "model.model.mm_length_adapter.load_state_dict(length_adapter_weights)\n",
    "model.model.mm_mlp_adapter.load_state_dict(mlp_adapter_weights)\n",
    "model.model.speech_tower.load_state_dict(speech_tower_weights)\n",
    "\n",
    "model.model.mm_length_adapter.to(dtype=load_type, device=device_input).eval()\n",
    "model.model.mm_mlp_adapter.to(dtype=load_type, device=device_input).eval()\n",
    "model.model.speech_tower.to(dtype=load_type, device=device_input).eval()\n",
    "\n",
    "IGNORE_INDEX = -100\n",
    "DEFAULT_PAD_TOKEN = \"[PAD]\"\n",
    "DEFAULT_EOS_TOKEN = \"</s>\"\n",
    "DEFAULT_BOS_TOKEN = \"<s>\"\n",
    "DEFAULT_UNK_TOKEN = \"<unk>\"\n",
    "DEFAULT_SPEECH_TOKEN = \"<speech>\"\n",
    "DEFAULT_SPEECH_PATCH_TOKEN = \"<sp_patch>\"\n",
    "DEFAULT_SPEECH_START_TOKEN = \"<sp_start>\"\n",
    "DEFAULT_SPEECH_END_TOKEN = \"<sp_end>\"\n",
    "\n",
    "def process(states):\n",
    "    source = torch.tensor(states.source).to(\n",
    "        device=model.device, dtype=model.dtype\n",
    "    )\n",
    "    speech_batch = _collate_frames([source], is_audio_input=True)\n",
    "    n_frames = torch.tensor([source.size(0)], dtype=torch.long)\n",
    "    # source = F.layer_norm(source, source.size())\n",
    "    speech_lens = length_after_adp(length_after_ssl(n_frames))\n",
    "\n",
    "    to_adds = [100*DEFAULT_SPEECH_PATCH_TOKEN for speech_len in speech_lens]\n",
    "    to_adds = [DEFAULT_SPEECH_START_TOKEN + to_add + DEFAULT_SPEECH_END_TOKEN for to_add in to_adds]\n",
    "\n",
    "    conv = conversation_lib.default_conversation.copy()\n",
    "    conv.messages = []\n",
    "    conv.append_message(conv.roles[0], to_adds[0])\n",
    "    conv.append_message(conv.roles[1], None)\n",
    "    prompt_inputs = conv.get_prompt()\n",
    "\n",
    "    inputs = tokenizer([prompt_inputs])\n",
    "    input_ids = inputs.input_ids[0] + states.target_ids\n",
    "    input_ids_tensor = torch.as_tensor([input_ids])\n",
    "    model.model.speech_features_extracted = False\n",
    "\n",
    "    with torch.inference_mode():\n",
    "        output = model.model(\n",
    "            attention_mask=None, # input_ids_tensor.ne(tokenizer.pad_token_id),\n",
    "            input_ids=input_ids_tensor,\n",
    "            speech_batch=speech_batch,\n",
    "            src_lengths=n_frames.to(device=model.device),\n",
    "            after_lens=speech_lens.to(device=model.device),\n",
    "        )\n",
    "        # output = model.model.speech_tower.extract_features(speech_batch, None)\n",
    "        \n",
    "    return output"
   ]
  },
  {
   "cell_type": "code",
   "execution_count": 2,
   "metadata": {},
   "outputs": [
    {
     "name": "stderr",
     "output_type": "stream",
     "text": [
      "/mnt/taurus/home/siqiouyang/anaconda3/envs/sllama/lib/python3.8/site-packages/torch/nn/functional.py:5076: UserWarning: Support for mismatched key_padding_mask and attn_mask is deprecated. Use same type for both instead.\n",
      "  warnings.warn(\n"
     ]
    }
   ],
   "source": [
    "states1 = S2TAgentStates([])\n",
    "states1.source_finished = False\n",
    "states1.source_sample_rate = 16000\n",
    "states1.source = np.random.rand(25600).tolist()\n",
    "\n",
    "states2 = S2TAgentStates([])\n",
    "states2.source_finished = False\n",
    "states2.source_sample_rate = 16000\n",
    "states2.source = states1.source + np.random.rand(5120).tolist()\n",
    "\n",
    "states3 = S2TAgentStates([])\n",
    "states3.source_finished = False\n",
    "states3.source_sample_rate = 16000\n",
    "states3.source = states2.source + np.random.rand(5120).tolist()\n",
    "\n",
    "o1 = process(states1)\n",
    "o2 = process(states2)\n",
    "o3 = process(states3)"
   ]
  },
  {
   "cell_type": "code",
   "execution_count": 7,
   "metadata": {},
   "outputs": [],
   "source": [
    "def incremental_process(states):\n",
    "    source = torch.tensor(states.source).to(\n",
    "        device=model.device, dtype=model.dtype\n",
    "    )\n",
    "    speech_batch = _collate_frames([source], is_audio_input=True)\n",
    "    n_frames = torch.tensor([source.size(0)], dtype=torch.long)\n",
    "    speech_lens = length_after_adp(length_after_ssl(n_frames))\n",
    "\n",
    "    to_adds = [100*DEFAULT_SPEECH_PATCH_TOKEN for speech_len in speech_lens]\n",
    "    to_adds = [DEFAULT_SPEECH_START_TOKEN + to_add + DEFAULT_SPEECH_END_TOKEN for to_add in to_adds]\n",
    "\n",
    "    conv = conversation_lib.default_conversation.copy()\n",
    "    conv.messages = []\n",
    "    conv.append_message(conv.roles[0], to_adds[0])\n",
    "    conv.append_message(conv.roles[1], None)\n",
    "    prompt_inputs = conv.get_prompt()\n",
    "\n",
    "    inputs = tokenizer([prompt_inputs])\n",
    "    input_ids = inputs.input_ids[0] + states.target_ids\n",
    "    input_ids_tensor = torch.as_tensor([input_ids])\n",
    "    model.model.speech_features_extracted = False\n",
    "\n",
    "    with torch.inference_mode():\n",
    "        output = model.model(\n",
    "            attention_mask=input_ids_tensor.ne(tokenizer.pad_token_id),\n",
    "            input_ids=input_ids_tensor,\n",
    "            speech_batch=speech_batch,\n",
    "            src_lengths=n_frames.to(device=model.device),\n",
    "            after_lens=speech_lens.to(device=model.device),\n",
    "            states=states,\n",
    "            use_cache=True\n",
    "        )\n",
    "        # output = uni_w2v2_extract_features(\n",
    "        #     model.model.speech_tower,\n",
    "        #     speech_batch, \n",
    "        #     None,\n",
    "        #     past_key_values=states.w2v2_past_key_values,\n",
    "        #     past_features=states.w2v2_past_features,\n",
    "        # )\n",
    "        # states.w2v2_past_features = output[\"x\"]\n",
    "        \n",
    "    # states.num_frames_read = len(states.source)\n",
    "\n",
    "    return output"
   ]
  },
  {
   "cell_type": "code",
   "execution_count": 8,
   "metadata": {},
   "outputs": [],
   "source": [
    "replace_forward_incremental()\n",
    "inc_states = IncrementalS2TAgentStates([], [], None, None, -1, 0)\n",
    "inc_states.source_sample_rate = 16000\n",
    "inc_states.source_finished = False\n",
    "inc_states.w2v2_past_key_values = [\n",
    "    {} for _ in range(model.model.speech_tower.cfg.encoder_layers)\n",
    "]\n",
    "inc_states.source = states1.source\n",
    "io1 = incremental_process(inc_states)"
   ]
  },
  {
   "cell_type": "code",
   "execution_count": 9,
   "metadata": {},
   "outputs": [],
   "source": [
    "inc_states.source = states2.source\n",
    "io2 = incremental_process(inc_states)"
   ]
  }
 ],
 "metadata": {
  "kernelspec": {
   "display_name": "sllama",
   "language": "python",
   "name": "python3"
  },
  "language_info": {
   "codemirror_mode": {
    "name": "ipython",
    "version": 3
   },
   "file_extension": ".py",
   "mimetype": "text/x-python",
   "name": "python",
   "nbconvert_exporter": "python",
   "pygments_lexer": "ipython3",
   "version": "3.8.18"
  }
 },
 "nbformat": 4,
 "nbformat_minor": 2
}
