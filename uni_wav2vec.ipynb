{
 "cells": [
  {
   "cell_type": "code",
   "execution_count": 1,
   "metadata": {},
   "outputs": [
    {
     "name": "stdout",
     "output_type": "stream",
     "text": [
      "[2024-01-23 06:39:58,288] [INFO] [real_accelerator.py:158:get_accelerator] Setting ds_accelerator to cuda (auto detect)\n"
     ]
    }
   ],
   "source": [
    "import fairseq\n",
    "import torch \n",
    "import torch.nn as nn\n",
    "from fairseq.models import (\n",
    "    FairseqEncoder, \n",
    "    register_model, \n",
    "    register_model_architecture\n",
    ")\n",
    "from fairseq.models.wav2vec.wav2vec2 import Wav2Vec2Model, Wav2Vec2Config\n",
    "from fairseq.models import BaseFairseqModel, register_model\n",
    "from fairseq.models.wav2vec import (\n",
    "    TransformerEncoder,\n",
    "    TransformerSentenceEncoderLayer,\n",
    "    Wav2Vec2Model,\n",
    "    Wav2VecEncoder    \n",
    ")\n",
    "from fairseq.data.audio.speech_to_text_dataset import _collate_frames\n"
   ]
  },
  {
   "cell_type": "code",
   "execution_count": 2,
   "metadata": {},
   "outputs": [],
   "source": [
    "# original_forward = TransformerSentenceEncoderLayer.forward\n",
    "\n",
    "# def generate_2d_causal_mask(seq_len, device='cpu'):\n",
    "#     \"\"\"\n",
    "#     Generates a 2D causal mask for multi-head attention.\n",
    "    \n",
    "#     Args:\n",
    "#         seq_len (int): The length of the sequence.\n",
    "#         device (str): The device on which to create the mask.\n",
    "    \n",
    "#     Returns:\n",
    "#         torch.Tensor: A 2D causal attention mask.\n",
    "#     \"\"\"\n",
    "#     mask = torch.triu(torch.ones((seq_len, seq_len), device=device), diagonal=1)\n",
    "#     mask = mask.masked_fill(mask == 1, float('-inf'))\n",
    "#     return mask\n",
    "\n",
    "# def causal_forward(\n",
    "#     self,\n",
    "#     x: torch.Tensor,\n",
    "#     self_attn_mask: torch.Tensor = None,\n",
    "#     self_attn_padding_mask: torch.Tensor = None,\n",
    "#     need_weights: bool = False,\n",
    "#     att_args=None,\n",
    "# ):\n",
    "#     # Generate the causal mask\n",
    "#     # print(x)\n",
    "#     # print(x.size(2))\n",
    "#     # print(self_attn_mask)\n",
    "#     causal_mask = generate_2d_causal_mask(x.size(0), device=x.device)\n",
    "    \n",
    "#     if self_attn_mask is not None:\n",
    "#         self_attn_mask = self_attn_mask + causal_mask\n",
    "#     else:\n",
    "#         self_attn_mask = causal_mask\n",
    "\n",
    "#     return original_forward(\n",
    "#         self, x, \n",
    "#         self_attn_mask=self_attn_mask, \n",
    "#         self_attn_padding_mask=self_attn_padding_mask, \n",
    "#         need_weights=need_weights,\n",
    "#         att_args=att_args)\n"
   ]
  },
  {
   "cell_type": "code",
   "execution_count": 3,
   "metadata": {},
   "outputs": [],
   "source": [
    "def generate_2d_causal_mask(seq_len, dtype, device='cpu'):\n",
    "    \"\"\"\n",
    "    Generates a 2D causal mask for multi-head attention.\n",
    "    \n",
    "    Args:\n",
    "        seq_len (int): The length of the sequence.\n",
    "        device (str): The device on which to create the mask.\n",
    "    \n",
    "    Returns:\n",
    "        torch.Tensor: A 2D causal attention mask.\n",
    "    \"\"\"\n",
    "    # mask = torch.triu(torch.ones((seq_len, seq_len), device=device), diagonal=1)\n",
    "    mask = torch.triu(torch.ones((seq_len, seq_len), device=device, dtype=dtype), diagonal=1)\n",
    "    mask = mask.masked_fill(mask == 1, float('-inf'))\n",
    "    return mask\n",
    "\n",
    "def causal_forward(\n",
    "    self,\n",
    "    x: torch.Tensor,\n",
    "    self_attn_mask: torch.Tensor = None,\n",
    "    self_attn_padding_mask: torch.Tensor = None,\n",
    "    need_weights: bool = False,\n",
    "    att_args=None,\n",
    "):\n",
    "    \"\"\"\n",
    "    LayerNorm is applied either before or after the self-attention/ffn\n",
    "    modules similar to the original Transformer imlementation.\n",
    "    \"\"\"\n",
    "    # causal_mask = generate_2d_causal_mask(x.size(0), device=x.device)\n",
    "    causal_mask = generate_2d_causal_mask(x.size(0), dtype=x.dtype,device=x.device)\n",
    "    \n",
    "    if self_attn_mask is not None:\n",
    "        self_attn_mask = self_attn_mask + causal_mask\n",
    "    else:\n",
    "        self_attn_mask = causal_mask\n",
    "        \n",
    "    residual = x\n",
    "\n",
    "    if self.layer_norm_first:\n",
    "        x = self.self_attn_layer_norm(x)\n",
    "        x, attn = self.self_attn(\n",
    "            query=x,\n",
    "            key=x,\n",
    "            value=x,\n",
    "            key_padding_mask=self_attn_padding_mask,\n",
    "            attn_mask=self_attn_mask,\n",
    "            need_weights=True,\n",
    "        )\n",
    "        x = self.dropout1(x)\n",
    "        x = residual + x\n",
    "\n",
    "        residual = x\n",
    "        x = self.final_layer_norm(x)\n",
    "        x = self.activation_fn(self.fc1(x))\n",
    "        x = self.dropout2(x)\n",
    "        x = self.fc2(x)\n",
    "\n",
    "        layer_result = x\n",
    "\n",
    "        x = self.dropout3(x)\n",
    "        x = residual + x\n",
    "    else:\n",
    "        x, attn = self.self_attn(\n",
    "            query=x,\n",
    "            key=x,\n",
    "            value=x,\n",
    "            key_padding_mask=self_attn_padding_mask,\n",
    "            need_weights=True,\n",
    "        )\n",
    "\n",
    "        x = self.dropout1(x)\n",
    "        x = residual + x\n",
    "\n",
    "        x = self.self_attn_layer_norm(x)\n",
    "\n",
    "        residual = x\n",
    "        x = self.activation_fn(self.fc1(x))\n",
    "        x = self.dropout2(x)\n",
    "        x = self.fc2(x)\n",
    "\n",
    "        layer_result = x\n",
    "\n",
    "        x = self.dropout3(x)\n",
    "        x = residual + x\n",
    "        x = self.final_layer_norm(x)\n",
    "\n",
    "    return x, (attn, layer_result)"
   ]
  },
  {
   "cell_type": "code",
   "execution_count": 4,
   "metadata": {},
   "outputs": [],
   "source": [
    "# try replace multihead attention with causal multihead attention\n"
   ]
  },
  {
   "cell_type": "code",
   "execution_count": 5,
   "metadata": {},
   "outputs": [],
   "source": [
    "# try replace wav2vec forward"
   ]
  },
  {
   "cell_type": "code",
   "execution_count": 6,
   "metadata": {},
   "outputs": [],
   "source": [
    "def replace_forward():\n",
    "    TransformerSentenceEncoderLayer.forward = causal_forward"
   ]
  },
  {
   "cell_type": "code",
   "execution_count": 7,
   "metadata": {},
   "outputs": [
    {
     "name": "stderr",
     "output_type": "stream",
     "text": [
      "/mnt/taurus/home/siqiouyang/anaconda3/envs/sllama/lib/python3.8/site-packages/torch/nn/utils/weight_norm.py:30: UserWarning: torch.nn.utils.weight_norm is deprecated in favor of torch.nn.utils.parametrizations.weight_norm.\n",
      "  warnings.warn(\"torch.nn.utils.weight_norm is deprecated in favor of torch.nn.utils.parametrizations.weight_norm.\")\n"
     ]
    }
   ],
   "source": [
    "speech_tower_path = '/mnt/taurus/data/xixu/models/wav2_vec_vox_960h_pl.pt'\n",
    "state = fairseq.checkpoint_utils.load_checkpoint_to_cpu(speech_tower_path)\n",
    "model = Wav2VecEncoder(state['cfg']['model'], None)\n",
    "new = {}\n",
    "for key in state['model'].keys():\n",
    "    new_key = key.replace('w2v_encoder.', '')\n",
    "    if not new_key.startswith('proj'):\n",
    "        new[new_key] = state['model'][key]\n",
    "model.load_state_dict(new, strict=True)\n",
    "model = model.w2v_model\n",
    "replace_forward()"
   ]
  },
  {
   "cell_type": "code",
   "execution_count": 8,
   "metadata": {},
   "outputs": [
    {
     "name": "stdout",
     "output_type": "stream",
     "text": [
      "torch.Size([1, 466, 1024])\n"
     ]
    },
    {
     "data": {
      "image/png": "[encoded data removed]",
      "text/plain": [
       "<Figure size 480x480 with 2 Axes>"
      ]
     },
     "metadata": {},
     "output_type": "display_data"
    }
   ],
   "source": [
    "#Attention Weight\n",
    "import matplotlib.pyplot as plt\n",
    "import torchaudio\n",
    "import numpy\n",
    "from train.dataset import PromptSpeechToTextDatasetCreator, SpeechToTextDatasetItem\n",
    "\n",
    "\n",
    "replace_forward()\n",
    "def visualize_attention_weights(model, plot_size=10):\n",
    "    test_dataset = PromptSpeechToTextDatasetCreator.from_tsv(\"/mnt/data/xixu/datasets/must-c-v1.0/en-es/\", 'tst-COMMON_1' )\n",
    "    for test_data in test_dataset:\n",
    "        source, ref, id = test_data.source, test_data.target, test_data.id                  \n",
    "        speech_batch = _collate_frames([source], is_audio_input=True)\n",
    "\n",
    "        model.eval()\n",
    "        # Forward pass through the model\n",
    "        with torch.no_grad():\n",
    "            result = model.extract_features(speech_batch, padding_mask=None)\n",
    "        # ((x, z, lr))\n",
    "        # changed https://github.com/facebookresearch/fairseq/blob/fad2c4d1ebe14d974876de52dcb06db6d99b0b4a/fairseq/models/wav2vec/wav2vec2.py#L1330C34-L1330C34 \n",
    "        # to get attention weights  \n",
    "        attn = result['layer_results'][0][1]\n",
    "        feature = result[\"x\"]\n",
    "        print(feature.size())\n",
    "        # print(attn.size())\n",
    "        attn = attn[0] if attn.ndim == 3 else attn\n",
    "        # print(attn.size())\n",
    "        # Select a smaller portion of the attention matrix to visualize\n",
    "        small_attn = attn[:plot_size, :plot_size].cpu().numpy()\n",
    "\n",
    "        # Visualize the attention weights\n",
    "        plt.matshow(small_attn)\n",
    "        plt.title(f\"Attention Weights - First {plot_size} Timesteps\")\n",
    "        plt.xlabel(\"Key Positions\")\n",
    "        plt.ylabel(\"Query Positions\")\n",
    "        plt.colorbar()\n",
    "        plt.show()\n",
    "\n",
    "# Call the function with the model and desired input length\n",
    "visualize_attention_weights(model, plot_size=10)\n"
   ]
  },
  {
   "cell_type": "code",
   "execution_count": null,
   "metadata": {},
   "outputs": [],
   "source": []
  },
  {
   "cell_type": "markdown",
   "metadata": {},
   "source": [
    "# Inference"
   ]
  },
  {
   "cell_type": "markdown",
   "metadata": {},
   "source": [
    "## Incremental w2v2 encoding"
   ]
  },
  {
   "cell_type": "code",
   "execution_count": 38,
   "metadata": {},
   "outputs": [],
   "source": [
    "from fairseq.modules import MultiheadAttention"
   ]
  },
  {
   "cell_type": "code",
   "execution_count": 39,
   "metadata": {},
   "outputs": [],
   "source": [
    "mha = MultiheadAttention(512, 8, dropout=0.0, self_attention=True)"
   ]
  },
  {
   "cell_type": "code",
   "execution_count": 40,
   "metadata": {},
   "outputs": [],
   "source": [
    "incremental_state = {}"
   ]
  },
  {
   "cell_type": "code",
   "execution_count": 41,
   "metadata": {},
   "outputs": [],
   "source": [
    "x = torch.rand(2, 1, 512)"
   ]
  },
  {
   "cell_type": "code",
   "execution_count": 42,
   "metadata": {},
   "outputs": [],
   "source": [
    "attn_mask = generate_2d_causal_mask(x.size(0), dtype=x.dtype, device=x.device)"
   ]
  },
  {
   "cell_type": "code",
   "execution_count": 43,
   "metadata": {},
   "outputs": [
    {
     "name": "stdout",
     "output_type": "stream",
     "text": [
      "{}\n",
      "torch.Size([8, 2, 2]) torch.Size([1, 2, 2])\n"
     ]
    }
   ],
   "source": [
    "attn, attn_weights = mha.forward(x, x, x, incremental_state=incremental_state, attn_mask=attn_mask)"
   ]
  },
  {
   "cell_type": "code",
   "execution_count": 51,
   "metadata": {},
   "outputs": [],
   "source": [
    "y = torch.rand(3, 1, 512)"
   ]
  },
  {
   "cell_type": "code",
   "execution_count": 48,
   "metadata": {},
   "outputs": [],
   "source": [
    "attn_mask = generate_2d_causal_mask(5, dtype=x.dtype, device=x.device)[2:]"
   ]
  },
  {
   "cell_type": "code",
   "execution_count": 52,
   "metadata": {},
   "outputs": [
    {
     "name": "stdout",
     "output_type": "stream",
     "text": [
      "{'prev_key': tensor([[[[-3.4721e-01,  6.8438e-02,  2.2853e-01,  ..., -9.4461e-02,\n",
      "           -2.8663e-01, -2.4116e-01],\n",
      "          [-3.7732e-01,  9.6393e-02,  2.8277e-01,  ...,  4.0914e-01,\n",
      "            1.9507e-01, -2.6538e-01]],\n",
      "\n",
      "         [[ 6.2529e-01, -4.8792e-02,  4.1974e-01,  ..., -2.0654e-02,\n",
      "            6.9791e-04, -1.5041e-02],\n",
      "          [ 1.7753e-01, -5.4947e-01,  9.4435e-01,  ...,  6.4753e-01,\n",
      "            1.6760e-01, -3.7800e-02]],\n",
      "\n",
      "         [[ 1.4639e-01, -1.9122e-02,  5.2609e-01,  ..., -4.8424e-01,\n",
      "            1.6980e-01,  2.9214e-01],\n",
      "          [ 1.7522e-01, -4.4485e-01,  7.2312e-01,  ..., -4.6651e-01,\n",
      "           -6.8658e-02,  3.8094e-01]],\n",
      "\n",
      "         ...,\n",
      "\n",
      "         [[-2.4122e-01, -5.7706e-02,  4.5700e-02,  ...,  1.0203e-01,\n",
      "           -6.2049e-01,  3.3837e-01],\n",
      "          [-1.7787e-01,  1.5897e-01,  1.5635e-02,  ...,  1.3330e-01,\n",
      "            6.1628e-02,  5.4253e-01]],\n",
      "\n",
      "         [[ 1.7910e-01,  2.5651e-01,  1.2945e-01,  ...,  3.1836e-01,\n",
      "           -1.8421e-01, -2.0488e-01],\n",
      "          [ 6.4342e-01, -2.5835e-02,  2.6876e-01,  ...,  1.2632e-01,\n",
      "            1.0412e-01, -5.1139e-01]],\n",
      "\n",
      "         [[-1.5559e-01, -6.0589e-01, -5.8342e-01,  ...,  4.8206e-01,\n",
      "            3.1285e-01, -2.9716e-01],\n",
      "          [ 4.7728e-01, -9.1020e-02, -2.9905e-01,  ...,  3.2042e-01,\n",
      "            2.3963e-01,  1.0729e-02]]]], grad_fn=<ViewBackward0>), 'prev_value': tensor([[[[-0.4672, -0.3779, -0.5797,  ...,  0.0346, -0.4637,  0.0266],\n",
      "          [-0.3301, -0.5545, -0.7620,  ..., -0.1434, -0.6904,  0.4113]],\n",
      "\n",
      "         [[ 0.5324,  0.2100,  0.3516,  ...,  0.3891, -0.6924, -0.1719],\n",
      "          [ 0.3956, -0.4170,  0.1692,  ...,  0.2522, -0.1988, -0.2220]],\n",
      "\n",
      "         [[-0.2027, -0.8578, -0.0356,  ..., -0.4511,  0.2573, -0.0323],\n",
      "          [ 0.0468, -0.5124,  0.1253,  ..., -0.1604,  0.3941,  0.2984]],\n",
      "\n",
      "         ...,\n",
      "\n",
      "         [[ 0.3477,  0.2017, -0.3710,  ..., -0.1488, -0.2837,  0.9358],\n",
      "          [-0.1666, -0.1019,  0.0678,  ...,  0.2011, -0.2804,  0.6909]],\n",
      "\n",
      "         [[-0.8544, -0.3870, -0.3005,  ..., -0.3821, -0.0628, -0.0915],\n",
      "          [-0.5406, -0.3082, -0.8331,  ..., -0.5906, -0.2459,  0.0608]],\n",
      "\n",
      "         [[-0.7119, -0.3641, -0.1951,  ..., -0.1893,  0.3785,  0.1234],\n",
      "          [-0.3732, -0.4336, -0.3552,  ...,  0.0025, -0.1264,  0.1926]]]],\n",
      "       grad_fn=<ViewBackward0>), 'prev_key_padding_mask': None}\n",
      "torch.Size([8, 3, 5]) torch.Size([1, 3, 5])\n"
     ]
    }
   ],
   "source": [
    "attn, attn_weights = mha.forward(y, y, y, incremental_state=incremental_state, attn_mask=attn_mask)"
   ]
  },
  {
   "cell_type": "code",
   "execution_count": 71,
   "metadata": {},
   "outputs": [
    {
     "data": {
      "text/plain": [
       "torch.Size([1, 8, 5, 64])"
      ]
     },
     "execution_count": 71,
     "metadata": {},
     "output_type": "execute_result"
    }
   ],
   "source": [
    "list(incremental_state.values())[0]['prev_key'].size()"
   ]
  },
  {
   "cell_type": "markdown",
   "metadata": {},
   "source": [
    "## Incremental llama encoding with w2v2 input"
   ]
  },
  {
   "cell_type": "code",
   "execution_count": 1,
   "metadata": {},
   "outputs": [
    {
     "name": "stdout",
     "output_type": "stream",
     "text": [
      "[2024-01-23 19:26:11,734] [INFO] [real_accelerator.py:158:get_accelerator] Setting ds_accelerator to cuda (auto detect)\n"
     ]
    },
    {
     "name": "stderr",
     "output_type": "stream",
     "text": [
      "Special tokens have been added in the vocabulary, make sure the associated word embeddings are fine-tuned or trained.\n",
      "2024-01-23 19:26:16 | INFO | accelerate.utils.modeling | We will use 90% of the memory on device 0 for storing the model, and 10% for the buffer to avoid OOM. You can set `max_memory` in to a higher value to use more memory (at your own risk).\n"
     ]
    },
    {
     "data": {
      "application/vnd.jupyter.widget-view+json": {
       "model_id": "aaa7a815611f4dc7bc07456f486b3a91",
       "version_major": 2,
       "version_minor": 0
      },
      "text/plain": [
       "Loading checkpoint shards:   0%|          | 0/3 [00:00<?, ?it/s]"
      ]
     },
     "metadata": {},
     "output_type": "display_data"
    },
    {
     "name": "stderr",
     "output_type": "stream",
     "text": [
      "Some weights of the model checkpoint at /mnt/taurus/data/xixu/runs/sllama/en-es/7b/uni/stage2/checkpoint-2000 were not used when initializing SpeechLlamaForCausalLM: ['model.speech_tower.encoder.layers.18.final_layer_norm.weight', 'model.speech_tower.encoder.layers.1.final_layer_norm.weight', 'model.speech_tower.encoder.layers.22.fc2.weight', 'model.speech_tower.encoder.layers.21.fc2.weight', 'model.mm_mlp_adapter.weight', 'model.speech_tower.encoder.layers.17.final_layer_norm.weight', 'model.speech_tower.encoder.layers.19.fc2.weight', 'model.speech_tower.encoder.layers.22.self_attn.k_proj.weight', 'model.speech_tower.encoder.layers.11.fc1.bias', 'model.speech_tower.encoder.layers.0.self_attn.v_proj.weight', 'model.speech_tower.encoder.layers.17.self_attn.out_proj.bias', 'model.speech_tower.encoder.layers.2.self_attn.k_proj.weight', 'model.speech_tower.encoder.layers.6.self_attn.v_proj.weight', 'model.speech_tower.encoder.layers.12.self_attn_layer_norm.weight', 'model.speech_tower.encoder.layers.19.fc1.weight', 'model.speech_tower.encoder.layers.11.self_attn.out_proj.bias', 'model.speech_tower.encoder.layers.15.fc2.bias', 'model.speech_tower.encoder.layers.5.self_attn.k_proj.weight', 'model.speech_tower.encoder.layers.17.fc2.bias', 'model.speech_tower.encoder.layers.23.final_layer_norm.bias', 'model.speech_tower.encoder.layers.23.fc1.bias', 'model.speech_tower.encoder.layers.15.self_attn.out_proj.weight', 'model.speech_tower.encoder.layers.15.self_attn_layer_norm.bias', 'model.speech_tower.encoder.layers.8.self_attn.out_proj.weight', 'model.speech_tower.encoder.layers.23.final_layer_norm.weight', 'model.speech_tower.feature_extractor.conv_layers.5.2.1.weight', 'model.speech_tower.encoder.layers.16.final_layer_norm.weight', 'model.speech_tower.encoder.layers.22.fc2.bias', 'model.speech_tower.feature_extractor.conv_layers.1.2.1.bias', 'model.mm_length_adapter.conv_layers.1.weight', 'model.speech_tower.encoder.layers.4.self_attn.k_proj.bias', 'model.speech_tower.encoder.layers.6.self_attn.q_proj.bias', 'model.speech_tower.encoder.layers.10.self_attn_layer_norm.weight', 'model.speech_tower.encoder.layers.12.final_layer_norm.weight', 'model.speech_tower.encoder.layers.2.self_attn_layer_norm.bias', 'model.speech_tower.encoder.layers.11.self_attn.out_proj.weight', 'model.speech_tower.feature_extractor.conv_layers.1.2.1.weight', 'model.speech_tower.feature_extractor.conv_layers.6.0.weight', 'model.speech_tower.encoder.layers.23.self_attn.k_proj.bias', 'model.speech_tower.encoder.layers.16.fc2.bias', 'model.speech_tower.encoder.layers.17.fc1.bias', 'model.speech_tower.encoder.layers.17.final_layer_norm.bias', 'model.speech_tower.encoder.layers.19.self_attn_layer_norm.bias', 'model.speech_tower.encoder.layers.3.fc1.weight', 'model.speech_tower.encoder.layers.13.self_attn.out_proj.weight', 'model.speech_tower.encoder.layers.17.fc1.weight', 'model.speech_tower.encoder.layers.20.self_attn.out_proj.weight', 'model.speech_tower.encoder.layers.14.fc1.weight', 'model.speech_tower.encoder.layers.4.final_layer_norm.weight', 'model.speech_tower.encoder.layers.7.self_attn.out_proj.bias', 'model.speech_tower.encoder.layers.2.self_attn_layer_norm.weight', 'model.speech_tower.feature_extractor.conv_layers.6.2.1.weight', 'model.speech_tower.encoder.layers.21.fc1.bias', 'model.speech_tower.encoder.layers.18.self_attn.k_proj.weight', 'model.speech_tower.encoder.layers.19.self_attn.v_proj.weight', 'model.speech_tower.encoder.layers.10.fc1.bias', 'model.speech_tower.encoder.layers.14.fc1.bias', 'model.speech_tower.encoder.layers.14.self_attn_layer_norm.weight', 'model.speech_tower.encoder.layers.11.final_layer_norm.weight', 'model.speech_tower.encoder.layers.1.fc1.bias', 'model.speech_tower.encoder.layers.1.self_attn.k_proj.bias', 'model.speech_tower.encoder.layers.10.final_layer_norm.bias', 'model.speech_tower.encoder.layers.6.self_attn_layer_norm.bias', 'model.speech_tower.encoder.layers.8.final_layer_norm.weight', 'model.speech_tower.encoder.layers.3.self_attn.out_proj.bias', 'model.speech_tower.encoder.layers.11.self_attn_layer_norm.weight', 'model.speech_tower.encoder.layers.23.self_attn.k_proj.weight', 'model.speech_tower.encoder.layers.23.self_attn.v_proj.bias', 'model.speech_tower.encoder.layers.9.self_attn.q_proj.weight', 'model.speech_tower.encoder.layers.11.self_attn.k_proj.bias', 'model.speech_tower.encoder.layers.13.self_attn.out_proj.bias', 'model.mm_length_adapter.conv_layers.1.bias', 'model.speech_tower.encoder.layers.16.self_attn.v_proj.bias', 'model.speech_tower.encoder.layers.10.self_attn.out_proj.bias', 'model.speech_tower.encoder.layers.6.self_attn.out_proj.weight', 'model.speech_tower.encoder.layers.18.fc2.bias', 'model.speech_tower.encoder.layers.13.fc2.weight', 'model.speech_tower.encoder.layers.16.final_layer_norm.bias', 'model.speech_tower.encoder.layers.4.self_attn.q_proj.weight', 'model.speech_tower.encoder.layers.7.self_attn_layer_norm.weight', 'model.speech_tower.feature_extractor.conv_layers.5.0.weight', 'model.speech_tower.encoder.layers.1.fc1.weight', 'model.speech_tower.encoder.layers.1.self_attn.out_proj.bias', 'model.speech_tower.encoder.layers.13.self_attn.k_proj.weight', 'model.speech_tower.encoder.layers.19.self_attn.q_proj.weight', 'model.speech_tower.encoder.layers.3.fc1.bias', 'model.speech_tower.encoder.layers.17.fc2.weight', 'model.mm_mlp_adapter.bias', 'model.speech_tower.encoder.layers.19.self_attn.out_proj.bias', 'model.speech_tower.encoder.layers.1.self_attn.v_proj.bias', 'model.speech_tower.encoder.layers.16.fc2.weight', 'model.speech_tower.encoder.layers.20.self_attn_layer_norm.weight', 'model.speech_tower.encoder.layers.10.self_attn.q_proj.bias', 'model.speech_tower.encoder.layers.21.self_attn_layer_norm.weight', 'model.speech_tower.encoder.layers.20.self_attn.v_proj.bias', 'model.speech_tower.encoder.layers.4.fc1.bias', 'model.speech_tower.encoder.layers.18.self_attn.k_proj.bias', 'model.speech_tower.encoder.layers.11.fc2.weight', 'model.speech_tower.encoder.layers.15.self_attn.k_proj.bias', 'model.speech_tower.encoder.layers.20.fc1.bias', 'model.speech_tower.encoder.layers.4.self_attn_layer_norm.weight', 'model.speech_tower.encoder.layers.1.final_layer_norm.bias', 'model.speech_tower.encoder.layers.20.fc1.weight', 'model.speech_tower.encoder.layers.23.fc2.bias', 'model.speech_tower.encoder.layers.7.final_layer_norm.bias', 'model.speech_tower.feature_extractor.conv_layers.2.0.bias', 'model.speech_tower.encoder.layers.3.final_layer_norm.bias', 'model.speech_tower.encoder.layers.4.fc1.weight', 'model.speech_tower.encoder.layers.2.self_attn.k_proj.bias', 'model.speech_tower.encoder.layers.8.fc1.bias', 'model.speech_tower.encoder.layers.8.fc2.weight', 'model.speech_tower.encoder.layers.5.self_attn.v_proj.weight', 'model.speech_tower.feature_extractor.conv_layers.0.2.1.weight', 'model.speech_tower.encoder.layers.2.self_attn.out_proj.bias', 'model.speech_tower.encoder.layers.22.self_attn.k_proj.bias', 'model.speech_tower.encoder.pos_conv.0.bias', 'model.speech_tower.encoder.layers.16.self_attn.out_proj.bias', 'model.speech_tower.feature_extractor.conv_layers.4.0.weight', 'model.speech_tower.encoder.layers.7.fc2.bias', 'model.speech_tower.encoder.layers.16.self_attn.q_proj.weight', 'model.speech_tower.encoder.layers.7.self_attn.q_proj.bias', 'model.speech_tower.encoder.layers.22.final_layer_norm.bias', 'model.speech_tower.encoder.layers.16.self_attn.out_proj.weight', 'model.speech_tower.encoder.layers.21.final_layer_norm.bias', 'model.speech_tower.feature_extractor.conv_layers.3.0.bias', 'model.speech_tower.encoder.layers.8.final_layer_norm.bias', 'model.speech_tower.feature_extractor.conv_layers.1.0.bias', 'model.speech_tower.encoder.layers.1.fc2.weight', 'model.speech_tower.encoder.layers.11.self_attn.k_proj.weight', 'model.speech_tower.encoder.layers.10.self_attn.k_proj.weight', 'model.speech_tower.encoder.layers.21.self_attn.k_proj.weight', 'model.speech_tower.encoder.layers.21.self_attn.v_proj.weight', 'model.speech_tower.encoder.layers.18.self_attn_layer_norm.weight', 'model.speech_tower.encoder.layers.20.self_attn.v_proj.weight', 'model.speech_tower.encoder.layers.7.final_layer_norm.weight', 'model.speech_tower.encoder.layers.2.self_attn.q_proj.bias', 'model.speech_tower.encoder.layers.8.self_attn.k_proj.bias', 'model.speech_tower.encoder.layers.10.self_attn_layer_norm.bias', 'model.speech_tower.encoder.layers.15.self_attn.q_proj.bias', 'model.speech_tower.encoder.layers.22.self_attn_layer_norm.bias', 'model.speech_tower.encoder.layers.6.self_attn.out_proj.bias', 'model.speech_tower.encoder.layers.13.fc1.bias', 'model.speech_tower.encoder.layers.5.fc1.weight', 'model.speech_tower.encoder.layers.5.fc1.bias', 'model.speech_tower.encoder.layers.18.fc1.weight', 'model.speech_tower.feature_extractor.conv_layers.0.0.bias', 'model.speech_tower.encoder.layers.21.fc1.weight', 'model.speech_tower.encoder.layers.4.self_attn.v_proj.bias', 'model.speech_tower.encoder.layers.3.fc2.weight', 'model.speech_tower.encoder.layers.4.fc2.bias', 'model.speech_tower.encoder.layers.3.self_attn.q_proj.weight', 'model.speech_tower.encoder.layers.14.self_attn.q_proj.bias', 'model.speech_tower.encoder.layers.23.self_attn.v_proj.weight', 'model.speech_tower.feature_extractor.conv_layers.5.0.bias', 'model.speech_tower.post_extract_proj.weight', 'model.speech_tower.encoder.layers.10.fc2.weight', 'model.speech_tower.encoder.layers.21.fc2.bias', 'model.speech_tower.encoder.layers.19.fc2.bias', 'model.speech_tower.encoder.layers.22.self_attn.q_proj.weight', 'model.speech_tower.encoder.layers.12.self_attn.v_proj.weight', 'model.speech_tower.encoder.layers.8.self_attn_layer_norm.bias', 'model.speech_tower.encoder.layers.8.fc2.bias', 'model.speech_tower.encoder.layers.9.self_attn.k_proj.bias', 'model.speech_tower.encoder.layers.12.final_layer_norm.bias', 'model.speech_tower.encoder.layers.23.self_attn.out_proj.weight', 'model.speech_tower.encoder.layers.6.self_attn.k_proj.bias', 'model.speech_tower.encoder.layers.4.self_attn.v_proj.weight', 'model.speech_tower.encoder.layers.4.self_attn_layer_norm.bias', 'model.speech_tower.encoder.layers.2.final_layer_norm.weight', 'model.speech_tower.encoder.layers.9.fc1.bias', 'model.speech_tower.encoder.layers.12.self_attn.v_proj.bias', 'model.speech_tower.encoder.layers.0.final_layer_norm.weight', 'model.speech_tower.feature_extractor.conv_layers.1.0.weight', 'model.speech_tower.encoder.layers.21.self_attn.q_proj.weight', 'model.speech_tower.encoder.layers.7.self_attn.k_proj.bias', 'model.speech_tower.layer_norm.bias', 'model.speech_tower.encoder.layers.11.final_layer_norm.bias', 'model.speech_tower.encoder.layers.5.self_attn_layer_norm.weight', 'model.speech_tower.encoder.layers.19.fc1.bias', 'model.speech_tower.encoder.layers.22.self_attn.out_proj.bias', 'model.speech_tower.encoder.layers.22.self_attn.q_proj.bias', 'model.speech_tower.encoder.layers.13.fc2.bias', 'model.speech_tower.encoder.layers.8.self_attn.v_proj.bias', 'model.speech_tower.encoder.layers.4.self_attn.k_proj.weight', 'model.speech_tower.encoder.layers.9.self_attn.v_proj.bias', 'model.speech_tower.feature_extractor.conv_layers.2.2.1.weight', 'model.speech_tower.encoder.layers.17.self_attn.k_proj.weight', 'model.speech_tower.encoder.layers.6.fc1.bias', 'model.speech_tower.encoder.layers.3.self_attn.out_proj.weight', 'model.speech_tower.encoder.layers.8.self_attn.out_proj.bias', 'model.speech_tower.encoder.layers.8.self_attn_layer_norm.weight', 'model.speech_tower.layer_norm.weight', 'model.speech_tower.encoder.layers.22.final_layer_norm.weight', 'model.speech_tower.encoder.layers.13.self_attn.q_proj.bias', 'model.speech_tower.encoder.layers.20.final_layer_norm.bias', 'model.speech_tower.encoder.layers.6.self_attn.v_proj.bias', 'model.speech_tower.encoder.layers.18.self_attn.q_proj.bias', 'model.speech_tower.encoder.layers.3.final_layer_norm.weight', 'model.speech_tower.encoder.layers.19.self_attn.out_proj.weight', 'model.speech_tower.encoder.layers.23.self_attn_layer_norm.weight', 'model.speech_tower.encoder.layers.14.self_attn.k_proj.weight', 'model.speech_tower.encoder.layers.5.self_attn.out_proj.bias', 'model.speech_tower.encoder.layers.4.self_attn.q_proj.bias', 'model.speech_tower.encoder.layers.9.self_attn.out_proj.weight', 'model.speech_tower.encoder.layers.23.self_attn.out_proj.bias', 'model.speech_tower.encoder.layers.12.fc2.bias', 'model.speech_tower.encoder.layer_norm.bias', 'model.speech_tower.encoder.layers.0.self_attn.k_proj.weight', 'model.mm_length_adapter.conv_layers.0.bias', 'model.speech_tower.encoder.layers.5.fc2.bias', 'model.speech_tower.encoder.layers.0.fc1.weight', 'model.speech_tower.encoder.layers.12.fc2.weight', 'model.speech_tower.encoder.layers.2.self_attn.out_proj.weight', 'model.speech_tower.encoder.layers.9.self_attn.q_proj.bias', 'model.speech_tower.encoder.layers.15.self_attn.k_proj.weight', 'model.speech_tower.encoder.layers.22.self_attn_layer_norm.weight', 'model.speech_tower.encoder.layers.4.self_attn.out_proj.bias', 'model.speech_tower.encoder.layers.14.self_attn.v_proj.bias', 'model.speech_tower.encoder.layers.19.final_layer_norm.weight', 'model.speech_tower.encoder.pos_conv.0.weight_g', 'model.speech_tower.encoder.layers.12.self_attn_layer_norm.bias', 'model.speech_tower.encoder.layers.2.fc1.weight', 'model.speech_tower.encoder.layers.14.fc2.bias', 'model.speech_tower.encoder.pos_conv.0.weight_v', 'model.speech_tower.encoder.layers.1.self_attn_layer_norm.weight', 'model.speech_tower.encoder.layers.8.self_attn.q_proj.weight', 'model.speech_tower.encoder.layers.20.self_attn.k_proj.weight', 'model.speech_tower.encoder.layers.15.final_layer_norm.weight', 'model.speech_tower.encoder.layers.2.fc2.weight', 'model.speech_tower.encoder.layers.2.self_attn.q_proj.weight', 'model.speech_tower.encoder.layers.17.self_attn.q_proj.bias', 'model.speech_tower.encoder.layers.10.fc2.bias', 'model.speech_tower.feature_extractor.conv_layers.3.0.weight', 'model.speech_tower.encoder.layers.1.self_attn.q_proj.weight', 'model.speech_tower.encoder.layers.3.self_attn.v_proj.bias', 'model.speech_tower.encoder.layers.12.self_attn.out_proj.bias', 'model.speech_tower.encoder.layers.23.fc2.weight', 'model.speech_tower.encoder.layers.8.self_attn.v_proj.weight', 'model.speech_tower.feature_extractor.conv_layers.3.2.1.weight', 'model.speech_tower.encoder.layers.17.self_attn.v_proj.weight', 'model.speech_tower.encoder.layers.0.fc2.weight', 'model.speech_tower.encoder.layers.1.self_attn_layer_norm.bias', 'model.speech_tower.encoder.layers.17.self_attn.v_proj.bias', 'model.speech_tower.encoder.layers.12.fc1.weight', 'model.speech_tower.encoder.layers.19.self_attn.q_proj.bias', 'model.speech_tower.encoder.layers.5.final_layer_norm.bias', 'model.speech_tower.encoder.layers.5.self_attn.q_proj.weight', 'model.speech_tower.encoder.layers.14.self_attn.k_proj.bias', 'model.speech_tower.encoder.layers.6.fc2.weight', 'model.speech_tower.encoder.layers.22.fc1.weight', 'model.speech_tower.encoder.layers.11.self_attn_layer_norm.bias', 'model.speech_tower.encoder.layers.18.fc1.bias', 'model.speech_tower.encoder.layers.20.self_attn_layer_norm.bias', 'model.speech_tower.encoder.layers.21.self_attn.v_proj.bias', 'model.speech_tower.mask_emb', 'model.speech_tower.encoder.layers.11.self_attn.v_proj.weight', 'model.speech_tower.encoder.layers.1.self_attn.q_proj.bias', 'model.speech_tower.encoder.layers.16.self_attn.k_proj.weight', 'model.speech_tower.encoder.layers.0.fc1.bias', 'model.speech_tower.encoder.layers.18.self_attn.out_proj.weight', 'model.speech_tower.encoder.layers.23.self_attn.q_proj.bias', 'model.speech_tower.encoder.layers.14.final_layer_norm.bias', 'model.speech_tower.encoder.layers.7.self_attn.k_proj.weight', 'model.speech_tower.encoder.layers.17.self_attn.k_proj.bias', 'model.speech_tower.encoder.layers.19.self_attn_layer_norm.weight', 'model.speech_tower.encoder.layers.0.self_attn_layer_norm.bias', 'model.speech_tower.encoder.layers.13.self_attn.v_proj.bias', 'model.speech_tower.encoder.layers.5.self_attn.k_proj.bias', 'model.speech_tower.encoder.layers.3.self_attn_layer_norm.weight', 'model.speech_tower.encoder.layers.7.self_attn.out_proj.weight', 'model.speech_tower.encoder.layers.0.final_layer_norm.bias', 'model.speech_tower.encoder.layers.3.self_attn.k_proj.bias', 'model.speech_tower.encoder.layers.20.fc2.weight', 'model.speech_tower.encoder.layers.8.self_attn.k_proj.weight', 'model.speech_tower.encoder.layers.15.self_attn.q_proj.weight', 'model.speech_tower.encoder.layers.5.self_attn.v_proj.bias', 'model.speech_tower.encoder.layers.11.fc2.bias', 'model.speech_tower.encoder.layers.19.self_attn.v_proj.bias', 'model.speech_tower.encoder.layers.6.self_attn_layer_norm.weight', 'model.speech_tower.encoder.layers.6.self_attn.q_proj.weight', 'model.speech_tower.encoder.layers.10.self_attn.v_proj.weight', 'model.speech_tower.encoder.layers.22.fc1.bias', 'model.speech_tower.encoder.layers.9.self_attn_layer_norm.bias', 'model.speech_tower.encoder.layers.2.fc1.bias', 'model.speech_tower.encoder.layers.16.self_attn_layer_norm.weight', 'model.speech_tower.encoder.layers.2.fc2.bias', 'model.speech_tower.encoder.layers.6.self_attn.k_proj.weight', 'model.speech_tower.encoder.layers.15.self_attn_layer_norm.weight', 'model.speech_tower.feature_extractor.conv_layers.4.0.bias', 'model.speech_tower.feature_extractor.conv_layers.2.0.weight', 'model.speech_tower.encoder.layers.23.self_attn.q_proj.weight', 'model.speech_tower.encoder.layers.1.self_attn.k_proj.weight', 'model.speech_tower.encoder.layers.0.self_attn.q_proj.bias', 'model.speech_tower.encoder.layers.9.self_attn.k_proj.weight', 'model.speech_tower.encoder.layers.5.fc2.weight', 'model.speech_tower.encoder.layers.6.fc2.bias', 'model.speech_tower.encoder.layers.21.self_attn.q_proj.bias', 'model.speech_tower.encoder.layers.17.self_attn.out_proj.weight', 'model.speech_tower.encoder.layers.13.self_attn.k_proj.bias', 'model.speech_tower.encoder.layers.0.self_attn.out_proj.bias', 'model.speech_tower.encoder.layers.18.fc2.weight', 'model.speech_tower.encoder.layers.7.self_attn.v_proj.bias', 'model.speech_tower.encoder.layers.3.fc2.bias', 'model.speech_tower.encoder.layers.20.final_layer_norm.weight', 'model.speech_tower.feature_extractor.conv_layers.0.0.weight', 'model.speech_tower.encoder.layers.1.fc2.bias', 'model.speech_tower.encoder.layers.20.self_attn.out_proj.bias', 'model.speech_tower.encoder.layers.16.self_attn.k_proj.bias', 'model.speech_tower.encoder.layers.23.self_attn_layer_norm.bias', 'model.speech_tower.encoder.layer_norm.weight', 'model.speech_tower.encoder.layers.21.self_attn.out_proj.bias', 'model.speech_tower.encoder.layers.10.fc1.weight', 'model.speech_tower.encoder.layers.11.self_attn.q_proj.weight', 'model.speech_tower.encoder.layers.21.self_attn.out_proj.weight', 'model.speech_tower.encoder.layers.4.fc2.weight', 'model.speech_tower.encoder.layers.7.fc2.weight', 'model.speech_tower.encoder.layers.9.final_layer_norm.weight', 'model.speech_tower.encoder.layers.11.self_attn.q_proj.bias', 'model.speech_tower.encoder.layers.14.final_layer_norm.weight', 'model.speech_tower.encoder.layers.7.self_attn.v_proj.weight', 'model.speech_tower.encoder.layers.7.fc1.weight', 'model.speech_tower.encoder.layers.5.self_attn.q_proj.bias', 'model.speech_tower.encoder.layers.0.fc2.bias', 'model.speech_tower.feature_extractor.conv_layers.0.2.1.bias', 'model.speech_tower.encoder.layers.14.fc2.weight', 'model.speech_tower.feature_extractor.conv_layers.4.2.1.weight', 'model.speech_tower.encoder.layers.7.fc1.bias', 'model.speech_tower.encoder.layers.5.self_attn.out_proj.weight', 'model.speech_tower.encoder.layers.13.final_layer_norm.bias', 'model.speech_tower.encoder.layers.2.final_layer_norm.bias', 'model.speech_tower.encoder.layers.8.self_attn.q_proj.bias', 'model.speech_tower.encoder.layers.16.self_attn.v_proj.weight', 'model.speech_tower.encoder.layers.0.self_attn_layer_norm.weight', 'model.speech_tower.encoder.layers.12.self_attn.q_proj.weight', 'model.speech_tower.encoder.layers.8.fc1.weight', 'model.speech_tower.encoder.layers.2.self_attn.v_proj.weight', 'model.speech_tower.encoder.layers.4.final_layer_norm.bias', 'model.speech_tower.encoder.layers.13.self_attn_layer_norm.bias', 'model.speech_tower.feature_extractor.conv_layers.6.2.1.bias', 'model.speech_tower.encoder.layers.9.fc2.bias', 'model.speech_tower.encoder.layers.10.self_attn.k_proj.bias', 'model.speech_tower.encoder.layers.20.self_attn.k_proj.bias', 'model.speech_tower.encoder.layers.15.self_attn.v_proj.weight', 'model.speech_tower.encoder.layers.18.self_attn_layer_norm.bias', 'model.speech_tower.encoder.layers.16.self_attn.q_proj.bias', 'model.speech_tower.encoder.layers.12.self_attn.k_proj.weight', 'model.speech_tower.encoder.layers.16.fc1.weight', 'model.speech_tower.encoder.layers.21.self_attn.k_proj.bias', 'model.speech_tower.encoder.layers.10.self_attn.v_proj.bias', 'model.speech_tower.encoder.layers.22.self_attn.v_proj.weight', 'model.speech_tower.encoder.layers.16.self_attn_layer_norm.bias', 'model.speech_tower.encoder.layers.19.final_layer_norm.bias', 'model.speech_tower.encoder.layers.18.self_attn.q_proj.weight', 'model.speech_tower.encoder.layers.17.self_attn_layer_norm.weight', 'model.speech_tower.encoder.layers.20.self_attn.q_proj.weight', 'model.speech_tower.feature_extractor.conv_layers.3.2.1.bias', 'model.speech_tower.encoder.layers.22.self_attn.out_proj.weight', 'model.speech_tower.encoder.layers.7.self_attn.q_proj.weight', 'model.speech_tower.encoder.layers.23.fc1.weight', 'model.speech_tower.encoder.layers.12.self_attn.q_proj.bias', 'model.speech_tower.encoder.layers.15.final_layer_norm.bias', 'model.speech_tower.encoder.layers.2.self_attn.v_proj.bias', 'model.speech_tower.encoder.layers.13.fc1.weight', 'model.speech_tower.encoder.layers.12.fc1.bias', 'model.speech_tower.encoder.layers.13.self_attn_layer_norm.weight', 'model.speech_tower.encoder.layers.6.final_layer_norm.weight', 'model.speech_tower.encoder.layers.17.self_attn_layer_norm.bias', 'model.speech_tower.encoder.layers.20.fc2.bias', 'model.speech_tower.encoder.layers.13.self_attn.v_proj.weight', 'model.speech_tower.feature_extractor.conv_layers.4.2.1.bias', 'model.speech_tower.feature_extractor.conv_layers.6.0.bias', 'model.speech_tower.encoder.layers.18.final_layer_norm.bias', 'model.speech_tower.encoder.layers.18.self_attn.out_proj.bias', 'model.speech_tower.encoder.layers.11.fc1.weight', 'model.speech_tower.encoder.layers.7.self_attn_layer_norm.bias', 'model.speech_tower.encoder.layers.16.fc1.bias', 'model.speech_tower.encoder.layers.18.self_attn.v_proj.weight', 'model.speech_tower.encoder.layers.19.self_attn.k_proj.weight', 'model.speech_tower.encoder.layers.11.self_attn.v_proj.bias', 'model.speech_tower.encoder.layers.3.self_attn.v_proj.weight', 'model.speech_tower.encoder.layers.9.self_attn.v_proj.weight', 'model.speech_tower.encoder.layers.5.final_layer_norm.weight', 'model.mm_length_adapter.conv_layers.0.weight', 'model.speech_tower.encoder.layers.3.self_attn.q_proj.bias', 'model.speech_tower.encoder.layers.3.self_attn_layer_norm.bias', 'model.speech_tower.encoder.layers.14.self_attn_layer_norm.bias', 'model.speech_tower.encoder.layers.3.self_attn.k_proj.weight', 'model.speech_tower.encoder.layers.1.self_attn.v_proj.weight', 'model.speech_tower.encoder.layers.0.self_attn.q_proj.weight', 'model.speech_tower.encoder.layers.5.self_attn_layer_norm.bias', 'model.speech_tower.encoder.layers.0.self_attn.out_proj.weight', 'model.speech_tower.encoder.layers.15.self_attn.v_proj.bias', 'model.speech_tower.feature_extractor.conv_layers.2.2.1.bias', 'model.speech_tower.encoder.layers.12.self_attn.k_proj.bias', 'model.speech_tower.encoder.layers.15.fc1.weight', 'model.speech_tower.encoder.layers.0.self_attn.v_proj.bias', 'model.speech_tower.encoder.layers.9.self_attn_layer_norm.weight', 'model.speech_tower.encoder.layers.6.final_layer_norm.bias', 'model.speech_tower.encoder.layers.20.self_attn.q_proj.bias', 'model.speech_tower.encoder.layers.15.self_attn.out_proj.bias', 'model.speech_tower.feature_extractor.conv_layers.5.2.1.bias', 'model.speech_tower.post_extract_proj.bias', 'model.speech_tower.encoder.layers.14.self_attn.out_proj.bias', 'model.speech_tower.encoder.layers.19.self_attn.k_proj.bias', 'model.speech_tower.encoder.layers.9.self_attn.out_proj.bias', 'model.speech_tower.encoder.layers.0.self_attn.k_proj.bias', 'model.speech_tower.encoder.layers.1.self_attn.out_proj.weight', 'model.speech_tower.encoder.layers.9.fc2.weight', 'model.speech_tower.encoder.layers.9.final_layer_norm.bias', 'model.speech_tower.encoder.layers.14.self_attn.out_proj.weight', 'model.speech_tower.encoder.layers.21.final_layer_norm.weight', 'model.speech_tower.encoder.layers.18.self_attn.v_proj.bias', 'model.speech_tower.encoder.layers.13.final_layer_norm.weight', 'model.speech_tower.encoder.layers.4.self_attn.out_proj.weight', 'model.speech_tower.encoder.layers.22.self_attn.v_proj.bias', 'model.speech_tower.encoder.layers.12.self_attn.out_proj.weight', 'model.speech_tower.encoder.layers.17.self_attn.q_proj.weight', 'model.speech_tower.encoder.layers.14.self_attn.q_proj.weight', 'model.speech_tower.encoder.layers.14.self_attn.v_proj.weight', 'model.speech_tower.encoder.layers.15.fc2.weight', 'model.speech_tower.encoder.layers.10.final_layer_norm.weight', 'model.speech_tower.encoder.layers.10.self_attn.q_proj.weight', 'model.speech_tower.encoder.layers.21.self_attn_layer_norm.bias', 'model.speech_tower.encoder.layers.9.fc1.weight', 'model.speech_tower.encoder.layers.15.fc1.bias', 'model.speech_tower.encoder.layers.6.fc1.weight', 'model.speech_tower.encoder.layers.10.self_attn.out_proj.weight', 'model.speech_tower.encoder.layers.13.self_attn.q_proj.weight']\n",
      "- This IS expected if you are initializing SpeechLlamaForCausalLM from the checkpoint of a model trained on another task or with another architecture (e.g. initializing a BertForSequenceClassification model from a BertForPreTraining model).\n",
      "- This IS NOT expected if you are initializing SpeechLlamaForCausalLM from the checkpoint of a model that you expect to be exactly identical (initializing a BertForSequenceClassification model from a BertForSequenceClassification model).\n",
      "/mnt/taurus/home/siqiouyang/anaconda3/envs/sllama/lib/python3.8/site-packages/torch/nn/utils/weight_norm.py:30: UserWarning: torch.nn.utils.weight_norm is deprecated in favor of torch.nn.utils.parametrizations.weight_norm.\n",
      "  warnings.warn(\"torch.nn.utils.weight_norm is deprecated in favor of torch.nn.utils.parametrizations.weight_norm.\")\n"
     ]
    },
    {
     "data": {
      "text/plain": [
       "Wav2Vec2Model(\n",
       "  (feature_extractor): ConvFeatureExtractionModel(\n",
       "    (conv_layers): ModuleList(\n",
       "      (0): Sequential(\n",
       "        (0): Conv1d(1, 512, kernel_size=(10,), stride=(5,))\n",
       "        (1): Dropout(p=0.0, inplace=False)\n",
       "        (2): Sequential(\n",
       "          (0): TransposeLast()\n",
       "          (1): Fp32LayerNorm((512,), eps=1e-05, elementwise_affine=True)\n",
       "          (2): TransposeLast()\n",
       "        )\n",
       "        (3): GELU(approximate='none')\n",
       "      )\n",
       "      (1-4): 4 x Sequential(\n",
       "        (0): Conv1d(512, 512, kernel_size=(3,), stride=(2,))\n",
       "        (1): Dropout(p=0.0, inplace=False)\n",
       "        (2): Sequential(\n",
       "          (0): TransposeLast()\n",
       "          (1): Fp32LayerNorm((512,), eps=1e-05, elementwise_affine=True)\n",
       "          (2): TransposeLast()\n",
       "        )\n",
       "        (3): GELU(approximate='none')\n",
       "      )\n",
       "      (5-6): 2 x Sequential(\n",
       "        (0): Conv1d(512, 512, kernel_size=(2,), stride=(2,))\n",
       "        (1): Dropout(p=0.0, inplace=False)\n",
       "        (2): Sequential(\n",
       "          (0): TransposeLast()\n",
       "          (1): Fp32LayerNorm((512,), eps=1e-05, elementwise_affine=True)\n",
       "          (2): TransposeLast()\n",
       "        )\n",
       "        (3): GELU(approximate='none')\n",
       "      )\n",
       "    )\n",
       "  )\n",
       "  (post_extract_proj): Linear(in_features=512, out_features=1024, bias=True)\n",
       "  (dropout_input): Dropout(p=0.1, inplace=False)\n",
       "  (dropout_features): Dropout(p=0.1, inplace=False)\n",
       "  (quantizer): None\n",
       "  (project_q): None\n",
       "  (encoder): TransformerEncoder(\n",
       "    (pos_conv): Sequential(\n",
       "      (0): Conv1d(1024, 1024, kernel_size=(128,), stride=(1,), padding=(64,), groups=16)\n",
       "      (1): SamePad()\n",
       "      (2): GELU(approximate='none')\n",
       "    )\n",
       "    (layers): ModuleList(\n",
       "      (0-23): 24 x TransformerSentenceEncoderLayer(\n",
       "        (self_attn): MultiheadAttention(\n",
       "          (dropout_module): FairseqDropout()\n",
       "          (k_proj): Linear(in_features=1024, out_features=1024, bias=True)\n",
       "          (v_proj): Linear(in_features=1024, out_features=1024, bias=True)\n",
       "          (q_proj): Linear(in_features=1024, out_features=1024, bias=True)\n",
       "          (out_proj): Linear(in_features=1024, out_features=1024, bias=True)\n",
       "        )\n",
       "        (dropout1): Dropout(p=0.0, inplace=False)\n",
       "        (dropout2): Dropout(p=0.0, inplace=False)\n",
       "        (dropout3): Dropout(p=0.0, inplace=False)\n",
       "        (self_attn_layer_norm): LayerNorm((1024,), eps=1e-05, elementwise_affine=True)\n",
       "        (fc1): Linear(in_features=1024, out_features=4096, bias=True)\n",
       "        (fc2): Linear(in_features=4096, out_features=1024, bias=True)\n",
       "        (final_layer_norm): LayerNorm((1024,), eps=1e-05, elementwise_affine=True)\n",
       "      )\n",
       "    )\n",
       "    (layer_norm): LayerNorm((1024,), eps=1e-05, elementwise_affine=True)\n",
       "  )\n",
       "  (layer_norm): LayerNorm((512,), eps=1e-05, elementwise_affine=True)\n",
       "  (final_proj): None\n",
       ")"
      ]
     },
     "execution_count": 1,
     "metadata": {},
     "output_type": "execute_result"
    }
   ],
   "source": [
    "import os\n",
    "os.environ['CUDA_VISIBLE_DEVICES'] = '2'\n",
    "\n",
    "import argparse, sys, time, json\n",
    "from transformers import AutoTokenizer, AutoModelForCausalLM\n",
    "from tqdm import tqdm\n",
    "import torch, transformers\n",
    "from eval.utils import disable_torch_init\n",
    "from model.model import SpeechLlamaForCausalLM, SpeechLlamaModel, SpeechLlamaConfig\n",
    "from model.utils import KeywordsStoppingCriteria\n",
    "from fairseq.data.audio.speech_to_text_dataset import _collate_frames\n",
    "from train.dataset import PromptSpeechToTextDatasetCreator, SpeechToTextDatasetItem\n",
    "import conversation as conversation_lib\n",
    "from conversation import SeparatorStyle\n",
    "from train.uni_wav2vec_monkey_patch import replace_forward\n",
    "\n",
    "import requests\n",
    "\n",
    "import torch.nn.functional as F\n",
    "\n",
    "args = argparse.Namespace()\n",
    "args.model_name = '/mnt/taurus/data/xixu/runs/sllama/en-es/7b/uni/stage2/checkpoint-2000'\n",
    "args.length_adapter_path = os.path.join(args.model_name, 'length_adapter.bin')\n",
    "args.mlp_adapter_path = os.path.join(args.model_name, 'mlp_adapter.bin')\n",
    "args.speech_tower_path = os.path.join(args.model_name, 'speech_tower.bin')\n",
    "\n",
    "load_type = torch.float16\n",
    "disable_torch_init()\n",
    "model_name = os.path.expanduser(args.model_name)\n",
    "tokenizer = transformers.AutoTokenizer.from_pretrained(\n",
    "    args.model_name,\n",
    "    padding_side=\"right\",\n",
    "    use_fast=False,\n",
    ")\n",
    "config = json.load(open(os.path.join(args.model_name, 'config.json')))\n",
    "config['large_model'] = True\n",
    "update_config = os.path.join(args.model_name, 'config_large.json')\n",
    "json.dump(config, open(update_config, 'w'), indent=2)\n",
    "# replace_llama_attn_with_flash_attn()\n",
    "model = SpeechLlamaForCausalLM.from_pretrained(args.model_name,\n",
    "                                                torch_dtype=load_type,\n",
    "                                                low_cpu_mem_usage=True,\n",
    "                                                device_map='auto',\n",
    "                                                config=update_config,).eval()\n",
    "if 'model.embed_tokens' in model.hf_device_map.keys():\n",
    "    device_input = 'cuda:' + str(model.hf_device_map['model.embed_tokens'])    \n",
    "    device_output = 'cuda:' + str(model.hf_device_map['lm_head'])    \n",
    "else:\n",
    "    device_input = 'cuda'  \n",
    "    device_input = 'cuda'\n",
    "length_after_ssl, length_after_adp = model.model.initialize_speech_modules(\n",
    "    speech_tower_path='/mnt/taurus/data/xixu/models/wav2_vec_vox_960h_pl.pt',\n",
    "    speech_tower_type=None,\n",
    "    len_adapter_channels=model.config.len_adapter_channels,\n",
    "    len_adapter_kernel_sizes=model.config.len_adapter_kernel_sizes,\n",
    "    ssl_fintuned=model.config.ssl_fintuned,\n",
    ")\n",
    "model.model.speech_tower.to(dtype=load_type, device=device_input)\n",
    "\n",
    "length_adapter_weights = torch.load(args.length_adapter_path, map_location='cpu')\n",
    "mlp_adapter_weights = torch.load(args.mlp_adapter_path, map_location='cpu')\n",
    "speech_tower_weights = torch.load(args.speech_tower_path, map_location='cpu')\n",
    "\n",
    "\n",
    "model.model.mm_length_adapter.load_state_dict(length_adapter_weights)\n",
    "model.model.mm_mlp_adapter.load_state_dict(mlp_adapter_weights)\n",
    "model.model.speech_tower.load_state_dict(speech_tower_weights)\n",
    "\n",
    "model.model.mm_length_adapter.to(dtype=load_type, device=device_input)\n",
    "model.model.mm_mlp_adapter.to(dtype=load_type, device=device_input)\n",
    "model.model.speech_tower.to(dtype=load_type, device=device_input)"
   ]
  },
  {
   "cell_type": "code",
   "execution_count": 2,
   "metadata": {},
   "outputs": [],
   "source": [
    "llama_forward = super(SpeechLlamaModel, model.model).forward\n",
    "input_ids = torch.LongTensor([[0, 1, 2, 3, 4]]).to('cuda')\n",
    "llama_output = llama_forward(\n",
    "    input_ids=input_ids,\n",
    "    use_cache=True\n",
    ")\n",
    "llama_output_3 = [\n",
    "    [llama_output.past_key_values[i][j][:, :, :3, :] for j in range(2)]\n",
    "    for i in range(32) \n",
    "]"
   ]
  },
  {
   "cell_type": "code",
   "execution_count": 3,
   "metadata": {},
   "outputs": [],
   "source": [
    "llama_output_incremental = llama_forward(\n",
    "    input_ids=input_ids[:, 3:],\n",
    "    past_key_values=llama_output_3,\n",
    "    use_cache=True,\n",
    ")"
   ]
  },
  {
   "cell_type": "code",
   "execution_count": 24,
   "metadata": {},
   "outputs": [
    {
     "data": {
      "text/plain": [
       "torch.Size([1, 32, 3, 128])"
      ]
     },
     "execution_count": 24,
     "metadata": {},
     "output_type": "execute_result"
    }
   ],
   "source": [
    "llama_output_3[0][0].size()"
   ]
  },
  {
   "cell_type": "code",
   "execution_count": 25,
   "metadata": {},
   "outputs": [
    {
     "data": {
      "text/plain": [
       "torch.Size([1, 32, 5, 128])"
      ]
     },
     "execution_count": 25,
     "metadata": {},
     "output_type": "execute_result"
    }
   ],
   "source": [
    "llama_output_incremental.past_key_values[0][0].size()"
   ]
  }
 ],
 "metadata": {
  "kernelspec": {
   "display_name": "sllama",
   "language": "python",
   "name": "python3"
  },
  "language_info": {
   "codemirror_mode": {
    "name": "ipython",
    "version": 3
   },
   "file_extension": ".py",
   "mimetype": "text/x-python",
   "name": "python",
   "nbconvert_exporter": "python",
   "pygments_lexer": "ipython3",
   "version": "3.8.18"
  }
 },
 "nbformat": 4,
 "nbformat_minor": 2
}
