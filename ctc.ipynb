{
 "cells": [
  {
   "cell_type": "code",
   "execution_count": 1,
   "metadata": {},
   "outputs": [
    {
     "name": "stderr",
     "output_type": "stream",
     "text": [
      "/mnt/taurus/home/xixu/anaconda3/envs/sllama/lib/python3.8/site-packages/tqdm/auto.py:22: TqdmWarning: IProgress not found. Please update jupyter and ipywidgets. See https://ipywidgets.readthedocs.io/en/stable/user_install.html\n",
      "  from .autonotebook import tqdm as notebook_tqdm\n"
     ]
    },
    {
     "name": "stdout",
     "output_type": "stream",
     "text": [
      "32000\n"
     ]
    }
   ],
   "source": [
    "from transformers import AutoTokenizer\n",
    "\n",
    "tokenizer = AutoTokenizer.from_pretrained(\n",
    "    \"/mnt/taurus/data/xixu/llm/llama-2-7b/hf\",\n",
    "    padding_side=\"right\",\n",
    "    use_fast=False,\n",
    ")\n",
    "print(len(tokenizer))"
   ]
  },
  {
   "cell_type": "code",
   "execution_count": 1,
   "metadata": {},
   "outputs": [
    {
     "name": "stderr",
     "output_type": "stream",
     "text": [
      "/home/xixu/anaconda3/envs/sllama/lib/python3.8/site-packages/tqdm/auto.py:21: TqdmWarning: IProgress not found. Please update jupyter and ipywidgets. See https://ipywidgets.readthedocs.io/en/stable/user_install.html\n",
      "  from .autonotebook import tqdm as notebook_tqdm\n"
     ]
    },
    {
     "name": "stdout",
     "output_type": "stream",
     "text": [
      "[2024-02-13 23:48:37,825] [INFO] [real_accelerator.py:158:get_accelerator] Setting ds_accelerator to cuda (auto detect)\n"
     ]
    },
    {
     "name": "stderr",
     "output_type": "stream",
     "text": [
      "Special tokens have been added in the vocabulary, make sure the associated word embeddings are fine-tuned or trained.\n",
      "Loading checkpoint shards: 100%|██████████| 3/3 [00:03<00:00,  1.24s/it]\n",
      "Some weights of the model checkpoint at /mnt/taurus/data/xixu/runs/sllama/en-es/7b/uni/stage2/checkpoint-2000 were not used when initializing SpeechLlamaForCausalLM: ['model.speech_tower.encoder.layers.4.final_layer_norm.weight', 'model.speech_tower.encoder.layers.4.self_attn.k_proj.weight', 'model.speech_tower.feature_extractor.conv_layers.0.0.weight', 'model.speech_tower.encoder.layers.10.self_attn.k_proj.bias', 'model.speech_tower.encoder.layers.22.fc2.bias', 'model.speech_tower.encoder.layers.1.fc1.weight', 'model.speech_tower.feature_extractor.conv_layers.2.2.1.bias', 'model.speech_tower.encoder.layers.5.self_attn.k_proj.weight', 'model.speech_tower.encoder.layers.23.self_attn.k_proj.bias', 'model.speech_tower.encoder.layers.2.self_attn_layer_norm.weight', 'model.speech_tower.encoder.layers.20.self_attn.v_proj.weight', 'model.speech_tower.encoder.layers.16.self_attn.v_proj.bias', 'model.speech_tower.encoder.layers.12.final_layer_norm.weight', 'model.speech_tower.encoder.layers.3.fc1.weight', 'model.mm_mlp_adapter.bias', 'model.speech_tower.encoder.layers.17.self_attn.v_proj.weight', 'model.speech_tower.encoder.layers.5.fc1.bias', 'model.speech_tower.encoder.layers.19.self_attn.v_proj.bias', 'model.speech_tower.encoder.layers.4.self_attn.q_proj.weight', 'model.speech_tower.encoder.pos_conv.0.bias', 'model.speech_tower.encoder.layers.23.self_attn.k_proj.weight', 'model.speech_tower.encoder.layers.10.self_attn.out_proj.bias', 'model.speech_tower.encoder.layers.11.fc1.bias', 'model.speech_tower.encoder.layers.13.self_attn.q_proj.bias', 'model.speech_tower.encoder.layers.20.final_layer_norm.weight', 'model.speech_tower.encoder.layers.17.self_attn.v_proj.bias', 'model.speech_tower.encoder.layers.15.self_attn.out_proj.weight', 'model.speech_tower.encoder.layers.18.self_attn.q_proj.weight', 'model.speech_tower.encoder.layers.6.fc2.bias', 'model.speech_tower.encoder.layers.18.final_layer_norm.weight', 'model.speech_tower.encoder.layers.8.self_attn.v_proj.bias', 'model.speech_tower.encoder.layers.22.self_attn.v_proj.bias', 'model.speech_tower.layer_norm.bias', 'model.speech_tower.encoder.layers.15.self_attn.q_proj.weight', 'model.speech_tower.encoder.layers.7.fc1.weight', 'model.speech_tower.encoder.layers.1.self_attn.q_proj.bias', 'model.speech_tower.encoder.layers.10.self_attn.q_proj.weight', 'model.speech_tower.encoder.layers.17.fc2.weight', 'model.speech_tower.encoder.layers.17.self_attn_layer_norm.bias', 'model.speech_tower.encoder.layers.8.self_attn.k_proj.bias', 'model.speech_tower.encoder.layers.20.self_attn.k_proj.weight', 'model.speech_tower.encoder.layers.20.self_attn.out_proj.bias', 'model.speech_tower.encoder.layers.6.self_attn.out_proj.weight', 'model.speech_tower.encoder.layers.14.fc1.bias', 'model.speech_tower.encoder.layers.8.self_attn.k_proj.weight', 'model.speech_tower.encoder.layers.2.final_layer_norm.weight', 'model.speech_tower.feature_extractor.conv_layers.5.2.1.bias', 'model.speech_tower.encoder.layers.7.self_attn.k_proj.weight', 'model.speech_tower.encoder.layers.6.final_layer_norm.bias', 'model.speech_tower.encoder.layers.12.self_attn.k_proj.bias', 'model.speech_tower.encoder.layers.4.self_attn.v_proj.weight', 'model.speech_tower.encoder.layers.11.fc2.weight', 'model.speech_tower.encoder.layers.11.final_layer_norm.weight', 'model.mm_length_adapter.conv_layers.1.bias', 'model.speech_tower.encoder.layers.8.fc1.weight', 'model.speech_tower.feature_extractor.conv_layers.6.0.weight', 'model.speech_tower.encoder.layers.6.fc2.weight', 'model.speech_tower.encoder.layers.7.self_attn.v_proj.bias', 'model.speech_tower.encoder.layers.19.self_attn.q_proj.weight', 'model.speech_tower.mask_emb', 'model.speech_tower.encoder.layers.1.self_attn_layer_norm.weight', 'model.speech_tower.encoder.layers.15.self_attn.out_proj.bias', 'model.speech_tower.encoder.layers.10.final_layer_norm.bias', 'model.speech_tower.encoder.layers.9.fc1.bias', 'model.speech_tower.encoder.layers.12.self_attn.q_proj.weight', 'model.speech_tower.encoder.layers.17.fc1.bias', 'model.speech_tower.encoder.layers.12.self_attn.out_proj.bias', 'model.speech_tower.encoder.layers.14.self_attn.out_proj.bias', 'model.speech_tower.encoder.layers.5.self_attn_layer_norm.bias', 'model.speech_tower.encoder.layers.8.self_attn_layer_norm.weight', 'model.speech_tower.encoder.layers.3.fc2.bias', 'model.speech_tower.encoder.layers.5.final_layer_norm.weight', 'model.speech_tower.encoder.layers.11.self_attn_layer_norm.weight', 'model.speech_tower.encoder.layers.21.fc1.weight', 'model.speech_tower.encoder.layers.14.self_attn.v_proj.bias', 'model.speech_tower.encoder.layers.16.self_attn.k_proj.weight', 'model.speech_tower.encoder.layers.13.self_attn.k_proj.weight', 'model.speech_tower.encoder.layers.13.fc1.weight', 'model.speech_tower.encoder.layers.19.self_attn.out_proj.bias', 'model.mm_length_adapter.conv_layers.1.weight', 'model.speech_tower.encoder.layers.7.self_attn_layer_norm.weight', 'model.speech_tower.encoder.layers.8.fc2.bias', 'model.speech_tower.encoder.layers.8.final_layer_norm.weight', 'model.speech_tower.encoder.layers.14.self_attn_layer_norm.bias', 'model.speech_tower.encoder.layers.18.self_attn.k_proj.bias', 'model.speech_tower.encoder.layers.2.self_attn.out_proj.weight', 'model.speech_tower.encoder.layers.23.self_attn.q_proj.bias', 'model.speech_tower.encoder.layers.6.self_attn.v_proj.bias', 'model.speech_tower.encoder.layers.6.self_attn.k_proj.bias', 'model.speech_tower.encoder.layers.5.self_attn.v_proj.weight', 'model.speech_tower.encoder.layers.9.self_attn.out_proj.bias', 'model.speech_tower.encoder.layers.11.self_attn.q_proj.weight', 'model.speech_tower.encoder.layer_norm.bias', 'model.speech_tower.encoder.layers.9.self_attn.q_proj.bias', 'model.speech_tower.encoder.layers.1.self_attn.v_proj.bias', 'model.speech_tower.encoder.layers.21.self_attn.q_proj.bias', 'model.speech_tower.encoder.layers.1.self_attn.k_proj.bias', 'model.speech_tower.encoder.layers.10.self_attn.v_proj.bias', 'model.speech_tower.encoder.layers.22.self_attn.out_proj.weight', 'model.speech_tower.encoder.layers.21.self_attn.k_proj.weight', 'model.speech_tower.encoder.layers.9.self_attn.q_proj.weight', 'model.speech_tower.encoder.layers.16.final_layer_norm.weight', 'model.speech_tower.encoder.layers.19.self_attn.q_proj.bias', 'model.speech_tower.encoder.layers.13.fc2.bias', 'model.speech_tower.encoder.layers.19.self_attn_layer_norm.weight', 'model.speech_tower.encoder.layers.21.self_attn.v_proj.bias', 'model.speech_tower.encoder.layers.16.self_attn.out_proj.weight', 'model.speech_tower.encoder.layers.14.final_layer_norm.weight', 'model.speech_tower.encoder.layers.3.self_attn_layer_norm.bias', 'model.speech_tower.encoder.layers.16.self_attn.q_proj.weight', 'model.speech_tower.encoder.layers.9.self_attn_layer_norm.bias', 'model.speech_tower.encoder.layers.21.self_attn_layer_norm.bias', 'model.speech_tower.encoder.layers.16.self_attn.v_proj.weight', 'model.speech_tower.encoder.layers.0.final_layer_norm.bias', 'model.speech_tower.encoder.layers.12.self_attn_layer_norm.bias', 'model.speech_tower.encoder.layers.18.self_attn.v_proj.weight', 'model.speech_tower.encoder.layers.6.fc1.bias', 'model.speech_tower.encoder.layers.15.fc2.bias', 'model.speech_tower.encoder.layers.4.fc1.bias', 'model.speech_tower.encoder.layers.14.self_attn.q_proj.weight', 'model.speech_tower.encoder.layers.19.self_attn_layer_norm.bias', 'model.speech_tower.encoder.layers.23.self_attn_layer_norm.bias', 'model.speech_tower.encoder.layers.6.self_attn.k_proj.weight', 'model.speech_tower.encoder.layers.23.fc2.bias', 'model.speech_tower.encoder.layers.7.fc2.weight', 'model.speech_tower.encoder.layers.9.self_attn.v_proj.weight', 'model.speech_tower.encoder.layers.22.final_layer_norm.weight', 'model.speech_tower.encoder.layers.23.final_layer_norm.bias', 'model.speech_tower.encoder.layers.20.fc1.weight', 'model.mm_mlp_adapter.weight', 'model.speech_tower.encoder.layers.7.self_attn.q_proj.bias', 'model.speech_tower.encoder.layers.22.fc1.weight', 'model.speech_tower.encoder.layers.8.fc1.bias', 'model.speech_tower.encoder.layers.7.self_attn_layer_norm.bias', 'model.speech_tower.encoder.layers.19.final_layer_norm.weight', 'model.speech_tower.encoder.layers.6.self_attn.out_proj.bias', 'model.speech_tower.encoder.layers.21.self_attn.v_proj.weight', 'model.speech_tower.encoder.layers.2.self_attn.v_proj.weight', 'model.speech_tower.encoder.layers.9.fc2.bias', 'model.speech_tower.encoder.layers.9.self_attn.out_proj.weight', 'model.speech_tower.encoder.layers.11.self_attn.out_proj.bias', 'model.speech_tower.encoder.layers.14.fc2.bias', 'model.speech_tower.feature_extractor.conv_layers.2.2.1.weight', 'model.speech_tower.encoder.layers.5.fc2.weight', 'model.speech_tower.encoder.layers.14.self_attn.q_proj.bias', 'model.speech_tower.encoder.layers.19.fc1.bias', 'model.speech_tower.encoder.layers.9.self_attn.k_proj.bias', 'model.speech_tower.encoder.layers.20.fc2.bias', 'model.speech_tower.encoder.layers.11.self_attn.v_proj.weight', 'model.speech_tower.encoder.layers.12.fc2.bias', 'model.speech_tower.encoder.layers.3.fc2.weight', 'model.speech_tower.feature_extractor.conv_layers.6.2.1.weight', 'model.speech_tower.encoder.layers.3.self_attn.k_proj.weight', 'model.speech_tower.feature_extractor.conv_layers.5.0.weight', 'model.speech_tower.encoder.layers.0.fc1.weight', 'model.speech_tower.encoder.layers.13.self_attn_layer_norm.bias', 'model.speech_tower.feature_extractor.conv_layers.2.0.weight', 'model.speech_tower.feature_extractor.conv_layers.0.0.bias', 'model.speech_tower.encoder.layers.11.fc1.weight', 'model.speech_tower.encoder.layers.6.self_attn_layer_norm.bias', 'model.speech_tower.encoder.layers.17.self_attn.k_proj.bias', 'model.speech_tower.encoder.layers.10.fc1.weight', 'model.speech_tower.encoder.layers.7.self_attn.v_proj.weight', 'model.speech_tower.encoder.layers.3.self_attn.out_proj.bias', 'model.speech_tower.encoder.layers.9.fc1.weight', 'model.speech_tower.encoder.layers.18.fc1.weight', 'model.speech_tower.encoder.layers.12.self_attn.out_proj.weight', 'model.speech_tower.encoder.layers.15.self_attn_layer_norm.bias', 'model.speech_tower.encoder.layers.0.self_attn.k_proj.bias', 'model.speech_tower.feature_extractor.conv_layers.2.0.bias', 'model.speech_tower.feature_extractor.conv_layers.3.0.bias', 'model.speech_tower.encoder.layers.18.self_attn.out_proj.weight', 'model.speech_tower.encoder.layers.5.self_attn.q_proj.bias', 'model.speech_tower.feature_extractor.conv_layers.3.2.1.weight', 'model.speech_tower.post_extract_proj.bias', 'model.speech_tower.encoder.layers.19.self_attn.k_proj.bias', 'model.speech_tower.encoder.layers.2.final_layer_norm.bias', 'model.speech_tower.encoder.layers.4.self_attn.k_proj.bias', 'model.speech_tower.encoder.layers.13.final_layer_norm.weight', 'model.speech_tower.encoder.layers.18.self_attn.out_proj.bias', 'model.speech_tower.encoder.layers.5.self_attn.k_proj.bias', 'model.speech_tower.encoder.layers.3.self_attn.q_proj.bias', 'model.speech_tower.encoder.layers.22.self_attn.v_proj.weight', 'model.speech_tower.encoder.layers.6.self_attn.q_proj.weight', 'model.speech_tower.encoder.layers.22.self_attn.q_proj.weight', 'model.speech_tower.encoder.layers.0.self_attn.q_proj.weight', 'model.speech_tower.encoder.layers.20.final_layer_norm.bias', 'model.speech_tower.feature_extractor.conv_layers.3.2.1.bias', 'model.speech_tower.encoder.pos_conv.0.weight_v', 'model.speech_tower.encoder.layers.5.self_attn_layer_norm.weight', 'model.speech_tower.encoder.layers.14.self_attn.out_proj.weight', 'model.speech_tower.encoder.layers.12.self_attn.v_proj.weight', 'model.speech_tower.encoder.layers.14.fc1.weight', 'model.speech_tower.encoder.layers.19.self_attn.v_proj.weight', 'model.speech_tower.encoder.layers.10.fc1.bias', 'model.speech_tower.encoder.layers.13.self_attn.k_proj.bias', 'model.speech_tower.encoder.layers.11.fc2.bias', 'model.speech_tower.encoder.layers.11.self_attn.k_proj.weight', 'model.speech_tower.encoder.layers.8.fc2.weight', 'model.speech_tower.encoder.layers.5.final_layer_norm.bias', 'model.speech_tower.encoder.layers.2.self_attn.v_proj.bias', 'model.speech_tower.encoder.layers.20.self_attn.k_proj.bias', 'model.speech_tower.encoder.layers.0.self_attn.k_proj.weight', 'model.speech_tower.encoder.layers.9.final_layer_norm.weight', 'model.speech_tower.encoder.layers.1.self_attn.v_proj.weight', 'model.speech_tower.encoder.layers.17.self_attn.out_proj.bias', 'model.speech_tower.encoder.layers.18.final_layer_norm.bias', 'model.speech_tower.encoder.layers.19.self_attn.out_proj.weight', 'model.speech_tower.encoder.layers.5.self_attn.q_proj.weight', 'model.speech_tower.encoder.layers.17.self_attn.q_proj.bias', 'model.speech_tower.feature_extractor.conv_layers.5.2.1.weight', 'model.speech_tower.encoder.layers.7.fc2.bias', 'model.speech_tower.encoder.layer_norm.weight', 'model.speech_tower.encoder.layers.13.self_attn.out_proj.bias', 'model.speech_tower.encoder.layers.7.self_attn.out_proj.bias', 'model.speech_tower.encoder.layers.13.fc1.bias', 'model.speech_tower.feature_extractor.conv_layers.4.0.bias', 'model.speech_tower.encoder.layers.12.fc2.weight', 'model.speech_tower.encoder.layers.21.fc1.bias', 'model.speech_tower.encoder.layers.12.self_attn.v_proj.bias', 'model.speech_tower.encoder.layers.19.final_layer_norm.bias', 'model.speech_tower.encoder.layers.22.self_attn.k_proj.weight', 'model.speech_tower.encoder.layers.0.self_attn.out_proj.bias', 'model.speech_tower.encoder.layers.1.final_layer_norm.bias', 'model.speech_tower.encoder.layers.10.self_attn_layer_norm.weight', 'model.speech_tower.encoder.layers.11.final_layer_norm.bias', 'model.speech_tower.layer_norm.weight', 'model.speech_tower.encoder.layers.21.final_layer_norm.bias', 'model.speech_tower.feature_extractor.conv_layers.3.0.weight', 'model.speech_tower.encoder.layers.15.self_attn_layer_norm.weight', 'model.speech_tower.encoder.layers.4.self_attn.out_proj.bias', 'model.speech_tower.encoder.layers.16.fc1.bias', 'model.speech_tower.encoder.layers.11.self_attn.v_proj.bias', 'model.speech_tower.encoder.layers.1.final_layer_norm.weight', 'model.speech_tower.encoder.layers.10.self_attn.v_proj.weight', 'model.speech_tower.encoder.layers.4.self_attn.out_proj.weight', 'model.speech_tower.encoder.layers.3.self_attn.q_proj.weight', 'model.speech_tower.feature_extractor.conv_layers.0.2.1.bias', 'model.speech_tower.encoder.layers.12.self_attn.q_proj.bias', 'model.speech_tower.encoder.layers.11.self_attn.q_proj.bias', 'model.speech_tower.encoder.layers.3.self_attn.out_proj.weight', 'model.speech_tower.encoder.layers.0.self_attn.q_proj.bias', 'model.speech_tower.encoder.layers.2.fc1.weight', 'model.speech_tower.encoder.layers.1.self_attn_layer_norm.bias', 'model.speech_tower.encoder.layers.3.final_layer_norm.bias', 'model.speech_tower.encoder.layers.22.self_attn_layer_norm.weight', 'model.speech_tower.encoder.layers.13.fc2.weight', 'model.speech_tower.encoder.layers.2.self_attn.k_proj.weight', 'model.speech_tower.encoder.layers.0.final_layer_norm.weight', 'model.speech_tower.encoder.layers.16.self_attn.q_proj.bias', 'model.speech_tower.feature_extractor.conv_layers.1.0.weight', 'model.speech_tower.encoder.layers.15.self_attn.v_proj.weight', 'model.speech_tower.encoder.layers.8.self_attn.q_proj.weight', 'model.speech_tower.encoder.layers.5.self_attn.v_proj.bias', 'model.speech_tower.encoder.layers.4.final_layer_norm.bias', 'model.speech_tower.encoder.layers.1.self_attn.out_proj.weight', 'model.speech_tower.encoder.layers.13.self_attn.q_proj.weight', 'model.speech_tower.encoder.layers.2.self_attn.q_proj.bias', 'model.speech_tower.encoder.layers.2.self_attn.out_proj.bias', 'model.speech_tower.encoder.layers.10.final_layer_norm.weight', 'model.speech_tower.encoder.layers.23.fc2.weight', 'model.speech_tower.encoder.layers.17.self_attn_layer_norm.weight', 'model.speech_tower.encoder.layers.16.self_attn.k_proj.bias', 'model.speech_tower.encoder.layers.6.final_layer_norm.weight', 'model.speech_tower.encoder.layers.13.self_attn.v_proj.weight', 'model.speech_tower.encoder.layers.17.fc2.bias', 'model.speech_tower.encoder.layers.5.fc2.bias', 'model.speech_tower.encoder.layers.4.fc1.weight', 'model.speech_tower.encoder.layers.13.self_attn.v_proj.bias', 'model.speech_tower.encoder.layers.17.self_attn.q_proj.weight', 'model.speech_tower.encoder.layers.23.self_attn.out_proj.weight', 'model.speech_tower.encoder.layers.21.self_attn_layer_norm.weight', 'model.speech_tower.encoder.layers.21.fc2.weight', 'model.speech_tower.encoder.layers.8.self_attn.q_proj.bias', 'model.speech_tower.encoder.layers.16.fc2.weight', 'model.speech_tower.encoder.layers.11.self_attn.k_proj.bias', 'model.speech_tower.encoder.layers.12.final_layer_norm.bias', 'model.speech_tower.encoder.layers.14.self_attn_layer_norm.weight', 'model.speech_tower.encoder.layers.20.self_attn_layer_norm.weight', 'model.speech_tower.post_extract_proj.weight', 'model.speech_tower.encoder.layers.8.self_attn.v_proj.weight', 'model.speech_tower.encoder.layers.3.self_attn.v_proj.weight', 'model.speech_tower.encoder.layers.10.fc2.weight', 'model.speech_tower.encoder.layers.0.self_attn.out_proj.weight', 'model.speech_tower.feature_extractor.conv_layers.1.2.1.weight', 'model.speech_tower.encoder.layers.23.self_attn_layer_norm.weight', 'model.speech_tower.encoder.layers.3.self_attn.v_proj.bias', 'model.speech_tower.encoder.layers.21.final_layer_norm.weight', 'model.speech_tower.encoder.layers.13.self_attn.out_proj.weight', 'model.speech_tower.encoder.layers.10.fc2.bias', 'model.speech_tower.encoder.layers.14.self_attn.v_proj.weight', 'model.speech_tower.encoder.layers.1.fc2.weight', 'model.mm_length_adapter.conv_layers.0.weight', 'model.speech_tower.encoder.layers.18.self_attn.q_proj.bias', 'model.speech_tower.encoder.layers.17.fc1.weight', 'model.speech_tower.encoder.layers.5.self_attn.out_proj.bias', 'model.speech_tower.encoder.layers.16.final_layer_norm.bias', 'model.speech_tower.encoder.layers.20.fc1.bias', 'model.speech_tower.encoder.layers.8.final_layer_norm.bias', 'model.speech_tower.encoder.layers.9.fc2.weight', 'model.speech_tower.encoder.layers.22.self_attn.out_proj.bias', 'model.speech_tower.encoder.layers.21.fc2.bias', 'model.speech_tower.encoder.layers.4.self_attn_layer_norm.bias', 'model.speech_tower.encoder.layers.0.self_attn_layer_norm.bias', 'model.speech_tower.encoder.layers.17.final_layer_norm.weight', 'model.speech_tower.encoder.layers.14.self_attn.k_proj.bias', 'model.speech_tower.encoder.layers.23.self_attn.out_proj.bias', 'model.speech_tower.feature_extractor.conv_layers.4.2.1.bias', 'model.speech_tower.encoder.layers.9.self_attn.v_proj.bias', 'model.speech_tower.encoder.layers.18.self_attn_layer_norm.weight', 'model.speech_tower.encoder.layers.0.fc1.bias', 'model.speech_tower.encoder.layers.9.self_attn_layer_norm.weight', 'model.speech_tower.encoder.layers.23.self_attn.v_proj.weight', 'model.speech_tower.encoder.pos_conv.0.weight_g', 'model.speech_tower.encoder.layers.14.self_attn.k_proj.weight', 'model.speech_tower.encoder.layers.2.fc2.weight', 'model.speech_tower.encoder.layers.1.fc2.bias', 'model.speech_tower.encoder.layers.2.self_attn.q_proj.weight', 'model.speech_tower.encoder.layers.21.self_attn.q_proj.weight', 'model.speech_tower.feature_extractor.conv_layers.1.2.1.bias', 'model.speech_tower.feature_extractor.conv_layers.1.0.bias', 'model.speech_tower.encoder.layers.4.self_attn.q_proj.bias', 'model.speech_tower.encoder.layers.11.self_attn_layer_norm.bias', 'model.speech_tower.encoder.layers.7.self_attn.k_proj.bias', 'model.speech_tower.encoder.layers.6.self_attn_layer_norm.weight', 'model.speech_tower.encoder.layers.18.self_attn.v_proj.bias', 'model.speech_tower.encoder.layers.21.self_attn.out_proj.weight', 'model.speech_tower.encoder.layers.18.fc1.bias', 'model.speech_tower.encoder.layers.15.fc1.bias', 'model.speech_tower.encoder.layers.8.self_attn.out_proj.weight', 'model.speech_tower.encoder.layers.12.fc1.bias', 'model.speech_tower.encoder.layers.12.self_attn.k_proj.weight', 'model.speech_tower.encoder.layers.10.self_attn.out_proj.weight', 'model.speech_tower.encoder.layers.16.self_attn_layer_norm.weight', 'model.speech_tower.encoder.layers.20.fc2.weight', 'model.speech_tower.encoder.layers.8.self_attn_layer_norm.bias', 'model.speech_tower.encoder.layers.3.self_attn.k_proj.bias', 'model.speech_tower.encoder.layers.16.self_attn_layer_norm.bias', 'model.speech_tower.encoder.layers.19.fc2.weight', 'model.speech_tower.encoder.layers.14.fc2.weight', 'model.speech_tower.encoder.layers.22.self_attn.k_proj.bias', 'model.speech_tower.encoder.layers.1.self_attn.q_proj.weight', 'model.speech_tower.encoder.layers.19.fc1.weight', 'model.speech_tower.encoder.layers.16.fc1.weight', 'model.speech_tower.encoder.layers.7.self_attn.out_proj.weight', 'model.speech_tower.encoder.layers.22.fc1.bias', 'model.speech_tower.encoder.layers.20.self_attn_layer_norm.bias', 'model.speech_tower.encoder.layers.15.self_attn.v_proj.bias', 'model.speech_tower.encoder.layers.8.self_attn.out_proj.bias', 'model.speech_tower.encoder.layers.9.final_layer_norm.bias', 'model.speech_tower.encoder.layers.20.self_attn.out_proj.weight', 'model.speech_tower.encoder.layers.18.fc2.bias', 'model.speech_tower.encoder.layers.7.fc1.bias', 'model.speech_tower.feature_extractor.conv_layers.0.2.1.weight', 'model.speech_tower.encoder.layers.18.self_attn_layer_norm.bias', 'model.speech_tower.encoder.layers.3.fc1.bias', 'model.speech_tower.encoder.layers.16.fc2.bias', 'model.speech_tower.encoder.layers.5.fc1.weight', 'model.speech_tower.encoder.layers.0.self_attn_layer_norm.weight', 'model.speech_tower.encoder.layers.7.self_attn.q_proj.weight', 'model.speech_tower.encoder.layers.20.self_attn.v_proj.bias', 'model.speech_tower.encoder.layers.6.fc1.weight', 'model.speech_tower.feature_extractor.conv_layers.6.0.bias', 'model.speech_tower.encoder.layers.22.final_layer_norm.bias', 'model.speech_tower.encoder.layers.15.final_layer_norm.weight', 'model.speech_tower.encoder.layers.3.final_layer_norm.weight', 'model.speech_tower.encoder.layers.10.self_attn.k_proj.weight', 'model.speech_tower.encoder.layers.6.self_attn.v_proj.weight', 'model.speech_tower.encoder.layers.15.final_layer_norm.bias', 'model.speech_tower.encoder.layers.15.self_attn.k_proj.weight', 'model.speech_tower.encoder.layers.5.self_attn.out_proj.weight', 'model.speech_tower.encoder.layers.16.self_attn.out_proj.bias', 'model.speech_tower.encoder.layers.4.self_attn.v_proj.bias', 'model.speech_tower.encoder.layers.19.self_attn.k_proj.weight', 'model.speech_tower.encoder.layers.2.fc2.bias', 'model.speech_tower.encoder.layers.22.self_attn.q_proj.bias', 'model.speech_tower.encoder.layers.12.self_attn_layer_norm.weight', 'model.speech_tower.encoder.layers.15.self_attn.q_proj.bias', 'model.speech_tower.encoder.layers.2.fc1.bias', 'model.speech_tower.encoder.layers.7.final_layer_norm.bias', 'model.speech_tower.encoder.layers.15.fc2.weight', 'model.speech_tower.encoder.layers.4.fc2.bias', 'model.speech_tower.encoder.layers.14.final_layer_norm.bias', 'model.speech_tower.encoder.layers.2.self_attn_layer_norm.bias', 'model.speech_tower.encoder.layers.23.fc1.weight', 'model.speech_tower.encoder.layers.21.self_attn.k_proj.bias', 'model.speech_tower.encoder.layers.0.self_attn.v_proj.bias', 'model.speech_tower.encoder.layers.20.self_attn.q_proj.bias', 'model.speech_tower.encoder.layers.7.final_layer_norm.weight', 'model.speech_tower.encoder.layers.19.fc2.bias', 'model.speech_tower.encoder.layers.2.self_attn.k_proj.bias', 'model.speech_tower.encoder.layers.13.self_attn_layer_norm.weight', 'model.speech_tower.encoder.layers.12.fc1.weight', 'model.speech_tower.encoder.layers.23.fc1.bias', 'model.speech_tower.encoder.layers.20.self_attn.q_proj.weight', 'model.speech_tower.feature_extractor.conv_layers.4.2.1.weight', 'model.speech_tower.encoder.layers.21.self_attn.out_proj.bias', 'model.speech_tower.encoder.layers.1.self_attn.k_proj.weight', 'model.speech_tower.encoder.layers.4.fc2.weight', 'model.speech_tower.encoder.layers.17.self_attn.k_proj.weight', 'model.speech_tower.encoder.layers.0.fc2.bias', 'model.speech_tower.encoder.layers.0.self_attn.v_proj.weight', 'model.speech_tower.encoder.layers.23.final_layer_norm.weight', 'model.speech_tower.encoder.layers.3.self_attn_layer_norm.weight', 'model.speech_tower.encoder.layers.0.fc2.weight', 'model.speech_tower.encoder.layers.17.final_layer_norm.bias', 'model.speech_tower.encoder.layers.10.self_attn_layer_norm.bias', 'model.speech_tower.encoder.layers.1.fc1.bias', 'model.speech_tower.encoder.layers.23.self_attn.q_proj.weight', 'model.speech_tower.encoder.layers.22.fc2.weight', 'model.speech_tower.encoder.layers.13.final_layer_norm.bias', 'model.speech_tower.encoder.layers.10.self_attn.q_proj.bias', 'model.speech_tower.encoder.layers.15.fc1.weight', 'model.speech_tower.encoder.layers.11.self_attn.out_proj.weight', 'model.speech_tower.encoder.layers.17.self_attn.out_proj.weight', 'model.speech_tower.encoder.layers.9.self_attn.k_proj.weight', 'model.speech_tower.encoder.layers.1.self_attn.out_proj.bias', 'model.speech_tower.encoder.layers.6.self_attn.q_proj.bias', 'model.speech_tower.encoder.layers.22.self_attn_layer_norm.bias', 'model.speech_tower.feature_extractor.conv_layers.4.0.weight', 'model.speech_tower.encoder.layers.15.self_attn.k_proj.bias', 'model.speech_tower.encoder.layers.23.self_attn.v_proj.bias', 'model.speech_tower.encoder.layers.4.self_attn_layer_norm.weight', 'model.speech_tower.encoder.layers.18.fc2.weight', 'model.speech_tower.feature_extractor.conv_layers.6.2.1.bias', 'model.speech_tower.encoder.layers.18.self_attn.k_proj.weight', 'model.speech_tower.feature_extractor.conv_layers.5.0.bias', 'model.mm_length_adapter.conv_layers.0.bias']\n",
      "- This IS expected if you are initializing SpeechLlamaForCausalLM from the checkpoint of a model trained on another task or with another architecture (e.g. initializing a BertForSequenceClassification model from a BertForPreTraining model).\n",
      "- This IS NOT expected if you are initializing SpeechLlamaForCausalLM from the checkpoint of a model that you expect to be exactly identical (initializing a BertForSequenceClassification model from a BertForSequenceClassification model).\n",
      "/home/xixu/anaconda3/envs/sllama/lib/python3.8/site-packages/torch/nn/utils/weight_norm.py:30: UserWarning: torch.nn.utils.weight_norm is deprecated in favor of torch.nn.utils.parametrizations.weight_norm.\n",
      "  warnings.warn(\"torch.nn.utils.weight_norm is deprecated in favor of torch.nn.utils.parametrizations.weight_norm.\")\n"
     ]
    }
   ],
   "source": [
    "%load_ext autoreload\n",
    "\n",
    "import os\n",
    "os.environ['CUDA_VISIBLE_DEVICES'] = '2'\n",
    "import sys\n",
    "sys.path.append('/mnt/taurus/home/siqiouyang/work/projects/SimulEval/')\n",
    "\n",
    "import argparse, time, json\n",
    "from transformers import AutoTokenizer, AutoModelForCausalLM\n",
    "from tqdm import tqdm\n",
    "import torch, transformers\n",
    "import torch.nn as nn\n",
    "from eval.utils import disable_torch_init\n",
    "from model.model import SpeechLlamaForCausalLM, SpeechLlamaModel, SpeechLlamaConfig\n",
    "from model.utils import KeywordsStoppingCriteria\n",
    "from fairseq.data.audio.speech_to_text_dataset import _collate_frames\n",
    "from train.dataset import PromptSpeechToTextDatasetCreator, SpeechToTextDatasetItem\n",
    "import conversation as conversation_lib\n",
    "from conversation import SeparatorStyle\n",
    "\n",
    "import requests\n",
    "\n",
    "import torch.nn.functional as F\n",
    "\n",
    "import importlib\n",
    "import numpy as np\n",
    "from eval.agents.tt_waitk_sllama import S2TAgentStates\n",
    "from eval.agents.tt_waitk_sllama_incremental import IncrementalS2TAgentStates\n",
    "from fairseq.models.speech_to_text import lengths_to_padding_mask\n",
    "from train.uni_wav2vec_monkey_patch import replace_uni_train, replace_uni_decode, uni_self_attn_forward, uni_w2v2_extract_features\n",
    "\n",
    "transformers.set_seed(998244353)\n",
    "torch.use_deterministic_algorithms(True)\n",
    "\n",
    "args = argparse.Namespace()\n",
    "args.model_name = '/mnt/taurus/data/xixu/runs/sllama/en-es/7b/uni/stage2/checkpoint-2000'\n",
    "args.length_adapter_path = os.path.join(args.model_name, 'length_adapter.bin')\n",
    "args.mlp_adapter_path = os.path.join(args.model_name, 'mlp_adapter.bin')\n",
    "args.speech_tower_path = os.path.join(args.model_name, 'speech_tower.bin')\n",
    "\n",
    "load_type = torch.float32\n",
    "disable_torch_init()\n",
    "model_name = os.path.expanduser(args.model_name)\n",
    "tokenizer = transformers.AutoTokenizer.from_pretrained(\n",
    "    args.model_name,\n",
    "    padding_side=\"right\",\n",
    "    use_fast=False,\n",
    ")\n",
    "config = json.load(open(os.path.join(args.model_name, 'config.json')))\n",
    "config['large_model'] = True\n",
    "update_config = os.path.join(args.model_name, 'config_large.json')\n",
    "json.dump(config, open(update_config, 'w'), indent=2)\n",
    "# replace_llama_attn_with_flash_attn()\n",
    "\n",
    "replace_uni_train()\n",
    "\n",
    "model = SpeechLlamaForCausalLM.from_pretrained(args.model_name,\n",
    "                                                torch_dtype=load_type,\n",
    "                                                low_cpu_mem_usage=True,\n",
    "                                                device_map='cpu',\n",
    "                                                config=update_config,).eval()\n",
    "\n",
    "device_input = device_output = 'cpu'\n",
    "\n",
    "length_after_ssl, length_after_adp = model.model.initialize_speech_modules(\n",
    "    speech_tower_path='/mnt/taurus/data/xixu/models/wav2_vec_vox_960h_pl.pt',\n",
    "    speech_tower_type=None,\n",
    "    len_adapter_channels=model.config.len_adapter_channels,\n",
    "    len_adapter_kernel_sizes=model.config.len_adapter_kernel_sizes,\n",
    "    ssl_fintuned=model.config.ssl_fintuned,\n",
    ")\n",
    "model.model.speech_tower.to(dtype=load_type, device=device_input)\n",
    "\n",
    "length_adapter_weights = torch.load(args.length_adapter_path, map_location='cpu')\n",
    "mlp_adapter_weights = torch.load(args.mlp_adapter_path, map_location='cpu')\n",
    "speech_tower_weights = torch.load(args.speech_tower_path, map_location='cpu')\n",
    "\n",
    "\n",
    "model.model.mm_length_adapter.load_state_dict(length_adapter_weights)\n",
    "model.model.mm_mlp_adapter.load_state_dict(mlp_adapter_weights)\n",
    "model.model.speech_tower.load_state_dict(speech_tower_weights)\n",
    "\n",
    "model.model.mm_length_adapter.to(dtype=load_type, device=device_input).eval()\n",
    "model.model.mm_mlp_adapter.to(dtype=load_type, device=device_input).eval()\n",
    "model.model.speech_tower.to(dtype=load_type, device=device_input).eval()\n",
    "\n",
    "IGNORE_INDEX = -100\n",
    "DEFAULT_PAD_TOKEN = \"[PAD]\"\n",
    "DEFAULT_EOS_TOKEN = \"</s>\"\n",
    "DEFAULT_BOS_TOKEN = \"<s>\"\n",
    "DEFAULT_UNK_TOKEN = \"<unk>\"\n",
    "DEFAULT_SPEECH_TOKEN = \"<speech>\"\n",
    "DEFAULT_SPEECH_PATCH_TOKEN = \"<sp_patch>\"\n",
    "DEFAULT_SPEECH_START_TOKEN = \"<sp_start>\"\n",
    "DEFAULT_SPEECH_END_TOKEN = \"<sp_end>\""
   ]
  },
  {
   "cell_type": "code",
   "execution_count": 3,
   "metadata": {},
   "outputs": [
    {
     "name": "stdout",
     "output_type": "stream",
     "text": [
      "4096\n",
      "4096\n",
      "Embedding(32003, 4096)\n"
     ]
    }
   ],
   "source": [
    "print(model.config.hidden_size)\n",
    "# print(length_after_ssl)\n",
    "print(model.model.embed_tokens.embedding_dim)\n",
    "print(model.model.embed_tokens)"
   ]
  },
  {
   "cell_type": "code",
   "execution_count": 13,
   "metadata": {},
   "outputs": [],
   "source": [
    "import fairseq\n",
    "state = fairseq.checkpoint_utils.load_checkpoint_to_cpu(model.config.speech_tower_path)\n",
    "speech_dimension = state['cfg']['model']['w2v_args']['model'].encoder_embed_dim"
   ]
  },
  {
   "cell_type": "code",
   "execution_count": 14,
   "metadata": {},
   "outputs": [
    {
     "name": "stdout",
     "output_type": "stream",
     "text": [
      "1024\n"
     ]
    }
   ],
   "source": [
    "print(speech_dimension)"
   ]
  },
  {
   "cell_type": "code",
   "execution_count": 16,
   "metadata": {},
   "outputs": [
    {
     "name": "stdout",
     "output_type": "stream",
     "text": [
      "tensor([115])\n",
      "tensor([149440])\n",
      "torch.Size([115, 1, 4096])\n"
     ]
    }
   ],
   "source": [
    "test_dataset = PromptSpeechToTextDatasetCreator.from_tsv(\"/mnt/taurus/data/xixu/datasets/must-c-v1.0/en-es/\", 'tst-COMMON_1' )\n",
    "for test_data in test_dataset:\n",
    "    source, ref, id = test_data.source, test_data.target, test_data.id                  \n",
    "    speech_batch = _collate_frames([source], is_audio_input=True)\n",
    "    n_frames = torch.tensor([source.size(0)], dtype=torch.long)\n",
    "    speech_lens = length_after_adp(length_after_ssl(n_frames)) # after forward ssl model and length adapter\n",
    "    print(speech_lens)\n",
    "    print(n_frames)\n",
    "    model.eval()\n",
    "    # Forward pass through the model\n",
    "    with torch.no_grad():\n",
    "        result = model.model.get_ssl_feature_w2v(speech_batch, n_frames, speech_lens)\n",
    "        print(result.shape)"
   ]
  },
  {
   "cell_type": "code",
   "execution_count": 17,
   "metadata": {},
   "outputs": [
    {
     "name": "stdout",
     "output_type": "stream",
     "text": [
      "torch.Size([1, 115, 4096])\n",
      "torch.Size([1, 115, 32001])\n",
      "torch.Size([115, 1, 32001])\n"
     ]
    }
   ],
   "source": [
    "ctc_head = nn.Linear(4096, 32001) \n",
    "result = result.transpose(0, 1).float()\n",
    "print(result.shape)\n",
    "result_after_ctc_head = ctc_head(result)\n",
    "print(result_after_ctc_head.shape)\n",
    "log_probs = F.log_softmax(result_after_ctc_head, dim=2).transpose(0, 1)\n",
    "print(log_probs.shape)\n"
   ]
  }
 ],
 "metadata": {
  "kernelspec": {
   "display_name": "sllama",
   "language": "python",
   "name": "python3"
  },
  "language_info": {
   "codemirror_mode": {
    "name": "ipython",
    "version": 3
   },
   "file_extension": ".py",
   "mimetype": "text/x-python",
   "name": "python",
   "nbconvert_exporter": "python",
   "pygments_lexer": "ipython3",
   "version": "3.8.18"
  }
 },
 "nbformat": 4,
 "nbformat_minor": 2
}
