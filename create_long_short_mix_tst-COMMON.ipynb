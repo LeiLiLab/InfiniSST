{
 "cells": [
  {
   "cell_type": "code",
   "execution_count": 23,
   "metadata": {},
   "outputs": [],
   "source": [
    "import os\n",
    "import torchaudio\n",
    "import pandas as pd\n",
    "import transformers\n",
    "from tqdm.notebook import tqdm\n",
    "from fairseq.examples.speech_to_text.data_utils import load_df_from_tsv, save_df_to_tsv"
   ]
  },
  {
   "cell_type": "code",
   "execution_count": 2,
   "metadata": {},
   "outputs": [],
   "source": [
    "tokenizer = transformers.AutoTokenizer.from_pretrained(\n",
    "    \"/data/user_data/siqiouya/runs/pretrained/llama-2-7b/hf\",\n",
    "    padding_side=\"right\",    \n",
    "    truncation=False,\n",
    "    add_special_tokens=False\n",
    ")"
   ]
  },
  {
   "cell_type": "code",
   "execution_count": 3,
   "metadata": {},
   "outputs": [],
   "source": [
    "root = '/data/user_data/siqiouya/dataset/must-c-v1.0/en-es'"
   ]
  },
  {
   "cell_type": "code",
   "execution_count": 4,
   "metadata": {},
   "outputs": [],
   "source": [
    "splits = ['tst-COMMON']"
   ]
  },
  {
   "cell_type": "code",
   "execution_count": 5,
   "metadata": {},
   "outputs": [],
   "source": [
    "dfs = {}\n",
    "for split in splits:\n",
    "    df = load_df_from_tsv(os.path.join(root, '{}.tsv'.format(split)))\n",
    "    dfs[split] = df"
   ]
  },
  {
   "cell_type": "code",
   "execution_count": 10,
   "metadata": {},
   "outputs": [
    {
     "data": {
      "application/vnd.jupyter.widget-view+json": {
       "model_id": "a6a7dbb8fe0e4aa08e7decad45a8b615",
       "version_major": 2,
       "version_minor": 0
      },
      "text/plain": [
       "  0%|          | 0/2449 [00:00<?, ?it/s]"
      ]
     },
     "metadata": {},
     "output_type": "display_data"
    }
   ],
   "source": [
    "new_dfs = {}\n",
    "for split in splits:\n",
    "    df = dfs[split]\n",
    "    max_duration = 30\n",
    "    ted_offsets = [(int(df['id'][i].split('_')[1]), int(df['audio'][i].split(':')[1]), i) for i in range(len(df))]\n",
    "    sorted_ted_offsets = sorted(ted_offsets)\n",
    "    indices = [i for _, _, i in sorted_ted_offsets]\n",
    "    df = df.reindex(indices)\n",
    "    df.reset_index(inplace=True)\n",
    "\n",
    "    last_ted_id = ''\n",
    "    last_path = ''\n",
    "    last_spk = ''\n",
    "    counter = 0\n",
    "    offset = 0\n",
    "    duration = 0\n",
    "    n_token = 0\n",
    "    src_text_buffer = ''\n",
    "    tgt_text_buffer = ''\n",
    "    # speech_word_buffer = []\n",
    "    # text_word_buffer = []\n",
    "\n",
    "    columns = list(df.columns)[1:]\n",
    "    new_df = pd.DataFrame(columns=columns)\n",
    "\n",
    "    for i in tqdm(range(len(df))):\n",
    "        cur_ted_id = df['id'][i].split('_')[1]\n",
    "        path, cur_offset, cur_n_frames = df['audio'][i].split(':')\n",
    "        cur_offset = int(cur_offset)\n",
    "        cur_n_frames = int(cur_n_frames)\n",
    "        if (cur_ted_id == last_ted_id and (cur_offset + cur_n_frames - offset) / 16000 >= max_duration) or cur_ted_id != last_ted_id:\n",
    "            if i > 0 and duration > 0:\n",
    "                cur_df = pd.DataFrame(\n",
    "                    {\n",
    "                        \"id\": [\"ted_{}_{}\".format(last_ted_id, counter)],\n",
    "                        \"audio\": [\"{}:{}:{}\".format(last_path, offset, duration)],\n",
    "                        \"n_frames\": [duration],\n",
    "                        \"speaker\": [last_spk],\n",
    "                        \"src_text\": src_text_buffer,\n",
    "                        \"tgt_text\": tgt_text_buffer,\n",
    "                        \"src_lang\": [\"en\"],\n",
    "                        \"tgt_lang\": [\"es\"],\n",
    "                    }\n",
    "                )\n",
    "                new_df = pd.concat([new_df, cur_df], ignore_index=True)\n",
    "\n",
    "            counter = counter + 1 if cur_ted_id == last_ted_id else 0\n",
    "            last_ted_id = cur_ted_id\n",
    "            last_path = path\n",
    "            last_spk = df['speaker'][i]\n",
    "            offset = cur_offset\n",
    "            duration = cur_n_frames\n",
    "            src_text_buffer = df['src_text'][i]\n",
    "            tgt_text_buffer = df['tgt_text'][i]\n",
    "\n",
    "        else:\n",
    "            duration = cur_offset + cur_n_frames - offset\n",
    "            assert duration > 0, (i, offset)\n",
    "            src_text_buffer = src_text_buffer + ' ' + df['src_text'][i]\n",
    "            tgt_text_buffer = tgt_text_buffer + ' ' + df['tgt_text'][i]\n",
    "\n",
    "    if duration > 0:\n",
    "        cur_df = pd.DataFrame(\n",
    "            {\n",
    "                \"id\": [\"ted_{}_{}\".format(last_ted_id, counter)],\n",
    "                \"audio\": [\"{}:{}:{}\".format(last_path, offset, duration)],\n",
    "                \"n_frames\": [duration],\n",
    "                \"speaker\": [last_spk],\n",
    "                \"src_text\": src_text_buffer,\n",
    "                \"tgt_text\": tgt_text_buffer,\n",
    "                \"src_lang\": [\"en\"],\n",
    "                \"tgt_lang\": [\"es\"],\n",
    "            }\n",
    "        )\n",
    "        new_df = pd.concat([new_df, cur_df], ignore_index=True)\n",
    "    new_dfs[split] = new_df"
   ]
  },
  {
   "cell_type": "code",
   "execution_count": 12,
   "metadata": {},
   "outputs": [
    {
     "data": {
      "text/html": [
       "<div>\n",
       "<style scoped>\n",
       "    .dataframe tbody tr th:only-of-type {\n",
       "        vertical-align: middle;\n",
       "    }\n",
       "\n",
       "    .dataframe tbody tr th {\n",
       "        vertical-align: top;\n",
       "    }\n",
       "\n",
       "    .dataframe thead th {\n",
       "        text-align: right;\n",
       "    }\n",
       "</style>\n",
       "<table border=\"1\" class=\"dataframe\">\n",
       "  <thead>\n",
       "    <tr style=\"text-align: right;\">\n",
       "      <th></th>\n",
       "      <th>id</th>\n",
       "      <th>audio</th>\n",
       "      <th>n_frames</th>\n",
       "      <th>speaker</th>\n",
       "      <th>src_text</th>\n",
       "      <th>tgt_text</th>\n",
       "      <th>src_lang</th>\n",
       "      <th>tgt_lang</th>\n",
       "    </tr>\n",
       "  </thead>\n",
       "  <tbody>\n",
       "    <tr>\n",
       "      <th>0</th>\n",
       "      <td>ted_1096_0</td>\n",
       "      <td>/data/user_data/siqiouya/dataset/must-c-v1.0/e...</td>\n",
       "      <td>398080</td>\n",
       "      <td>spk.1096</td>\n",
       "      <td>Back in New York, I am the head of development...</td>\n",
       "      <td>En Nueva York soy responsable de desarrollo de...</td>\n",
       "      <td>en</td>\n",
       "      <td>es</td>\n",
       "    </tr>\n",
       "    <tr>\n",
       "      <th>1</th>\n",
       "      <td>ted_1096_1</td>\n",
       "      <td>/data/user_data/siqiouya/dataset/must-c-v1.0/e...</td>\n",
       "      <td>404959</td>\n",
       "      <td>spk.1096</td>\n",
       "      <td>But still it was a real footrace against the o...</td>\n",
       "      <td>Pero aún así hubo una carrera a pie contra los...</td>\n",
       "      <td>en</td>\n",
       "      <td>es</td>\n",
       "    </tr>\n",
       "    <tr>\n",
       "      <th>2</th>\n",
       "      <td>ted_1096_2</td>\n",
       "      <td>/data/user_data/siqiouya/dataset/must-c-v1.0/e...</td>\n",
       "      <td>462399</td>\n",
       "      <td>spk.1096</td>\n",
       "      <td>The other volunteer who had arrived just befor...</td>\n",
       "      <td>El otro voluntario que acababa de llegar antes...</td>\n",
       "      <td>en</td>\n",
       "      <td>es</td>\n",
       "    </tr>\n",
       "    <tr>\n",
       "      <th>3</th>\n",
       "      <td>ted_1096_3</td>\n",
       "      <td>/data/user_data/siqiouya/dataset/must-c-v1.0/e...</td>\n",
       "      <td>264320</td>\n",
       "      <td>spk.1096</td>\n",
       "      <td>Well, I was next. The captain waved me over. H...</td>\n",
       "      <td>Bueno, yo era el siguiente. El capitán me hizo...</td>\n",
       "      <td>en</td>\n",
       "      <td>es</td>\n",
       "    </tr>\n",
       "    <tr>\n",
       "      <th>4</th>\n",
       "      <td>ted_1096_4</td>\n",
       "      <td>/data/user_data/siqiouya/dataset/must-c-v1.0/e...</td>\n",
       "      <td>224000</td>\n",
       "      <td>spk.1096</td>\n",
       "      <td>So, not exactly what I was hoping for, but off...</td>\n",
       "      <td>No era exactamente lo que esperaba pero fui......</td>\n",
       "      <td>en</td>\n",
       "      <td>es</td>\n",
       "    </tr>\n",
       "    <tr>\n",
       "      <th>...</th>\n",
       "      <td>...</td>\n",
       "      <td>...</td>\n",
       "      <td>...</td>\n",
       "      <td>...</td>\n",
       "      <td>...</td>\n",
       "      <td>...</td>\n",
       "      <td>...</td>\n",
       "      <td>...</td>\n",
       "    </tr>\n",
       "    <tr>\n",
       "      <th>651</th>\n",
       "      <td>ted_1404_6</td>\n",
       "      <td>/data/user_data/siqiouya/dataset/must-c-v1.0/e...</td>\n",
       "      <td>478560</td>\n",
       "      <td>spk.1404</td>\n",
       "      <td>Add this buzzer for some extra punch and you'v...</td>\n",
       "      <td>Añadimos este timbre para crear más impacto y ...</td>\n",
       "      <td>en</td>\n",
       "      <td>es</td>\n",
       "    </tr>\n",
       "    <tr>\n",
       "      <th>652</th>\n",
       "      <td>ted_1404_7</td>\n",
       "      <td>/data/user_data/siqiouya/dataset/must-c-v1.0/e...</td>\n",
       "      <td>463521</td>\n",
       "      <td>spk.1404</td>\n",
       "      <td>We want to make every single interaction in th...</td>\n",
       "      <td>Queremos que todas las interacciones en el mun...</td>\n",
       "      <td>en</td>\n",
       "      <td>es</td>\n",
       "    </tr>\n",
       "    <tr>\n",
       "      <th>653</th>\n",
       "      <td>ted_1404_8</td>\n",
       "      <td>/data/user_data/siqiouya/dataset/must-c-v1.0/e...</td>\n",
       "      <td>178719</td>\n",
       "      <td>spk.1404</td>\n",
       "      <td>So for example, we've had designers with no ex...</td>\n",
       "      <td>Así, por ejemplo, los diseñadores sin experien...</td>\n",
       "      <td>en</td>\n",
       "      <td>es</td>\n",
       "    </tr>\n",
       "    <tr>\n",
       "      <th>654</th>\n",
       "      <td>ted_1404_9</td>\n",
       "      <td>/data/user_data/siqiouya/dataset/must-c-v1.0/e...</td>\n",
       "      <td>429921</td>\n",
       "      <td>spk.1404</td>\n",
       "      <td>A few weeks ago we took littleBits to RISD and...</td>\n",
       "      <td>Hace unas semanas llevamos littleBits a los di...</td>\n",
       "      <td>en</td>\n",
       "      <td>es</td>\n",
       "    </tr>\n",
       "    <tr>\n",
       "      <th>655</th>\n",
       "      <td>ted_1404_10</td>\n",
       "      <td>/data/user_data/siqiouya/dataset/must-c-v1.0/e...</td>\n",
       "      <td>391520</td>\n",
       "      <td>spk.1404</td>\n",
       "      <td>To these non-engineers, littleBits became anot...</td>\n",
       "      <td>Para estos no ingenieros, littleBits se convir...</td>\n",
       "      <td>en</td>\n",
       "      <td>es</td>\n",
       "    </tr>\n",
       "  </tbody>\n",
       "</table>\n",
       "<p>656 rows × 8 columns</p>\n",
       "</div>"
      ],
      "text/plain": [
       "              id                                              audio n_frames  \\\n",
       "0     ted_1096_0  /data/user_data/siqiouya/dataset/must-c-v1.0/e...   398080   \n",
       "1     ted_1096_1  /data/user_data/siqiouya/dataset/must-c-v1.0/e...   404959   \n",
       "2     ted_1096_2  /data/user_data/siqiouya/dataset/must-c-v1.0/e...   462399   \n",
       "3     ted_1096_3  /data/user_data/siqiouya/dataset/must-c-v1.0/e...   264320   \n",
       "4     ted_1096_4  /data/user_data/siqiouya/dataset/must-c-v1.0/e...   224000   \n",
       "..           ...                                                ...      ...   \n",
       "651   ted_1404_6  /data/user_data/siqiouya/dataset/must-c-v1.0/e...   478560   \n",
       "652   ted_1404_7  /data/user_data/siqiouya/dataset/must-c-v1.0/e...   463521   \n",
       "653   ted_1404_8  /data/user_data/siqiouya/dataset/must-c-v1.0/e...   178719   \n",
       "654   ted_1404_9  /data/user_data/siqiouya/dataset/must-c-v1.0/e...   429921   \n",
       "655  ted_1404_10  /data/user_data/siqiouya/dataset/must-c-v1.0/e...   391520   \n",
       "\n",
       "      speaker                                           src_text  \\\n",
       "0    spk.1096  Back in New York, I am the head of development...   \n",
       "1    spk.1096  But still it was a real footrace against the o...   \n",
       "2    spk.1096  The other volunteer who had arrived just befor...   \n",
       "3    spk.1096  Well, I was next. The captain waved me over. H...   \n",
       "4    spk.1096  So, not exactly what I was hoping for, but off...   \n",
       "..        ...                                                ...   \n",
       "651  spk.1404  Add this buzzer for some extra punch and you'v...   \n",
       "652  spk.1404  We want to make every single interaction in th...   \n",
       "653  spk.1404  So for example, we've had designers with no ex...   \n",
       "654  spk.1404  A few weeks ago we took littleBits to RISD and...   \n",
       "655  spk.1404  To these non-engineers, littleBits became anot...   \n",
       "\n",
       "                                              tgt_text src_lang tgt_lang  \n",
       "0    En Nueva York soy responsable de desarrollo de...       en       es  \n",
       "1    Pero aún así hubo una carrera a pie contra los...       en       es  \n",
       "2    El otro voluntario que acababa de llegar antes...       en       es  \n",
       "3    Bueno, yo era el siguiente. El capitán me hizo...       en       es  \n",
       "4    No era exactamente lo que esperaba pero fui......       en       es  \n",
       "..                                                 ...      ...      ...  \n",
       "651  Añadimos este timbre para crear más impacto y ...       en       es  \n",
       "652  Queremos que todas las interacciones en el mun...       en       es  \n",
       "653  Así, por ejemplo, los diseñadores sin experien...       en       es  \n",
       "654  Hace unas semanas llevamos littleBits a los di...       en       es  \n",
       "655  Para estos no ingenieros, littleBits se convir...       en       es  \n",
       "\n",
       "[656 rows x 8 columns]"
      ]
     },
     "execution_count": 12,
     "metadata": {},
     "output_type": "execute_result"
    }
   ],
   "source": [
    "new_dfs['tst-COMMON']"
   ]
  },
  {
   "cell_type": "code",
   "execution_count": 13,
   "metadata": {},
   "outputs": [],
   "source": [
    "for split in splits:\n",
    "    save_df_to_tsv(new_dfs[split], os.path.join(root, '{}_30s.tsv'.format(split)))"
   ]
  },
  {
   "cell_type": "code",
   "execution_count": 20,
   "metadata": {},
   "outputs": [
    {
     "data": {
      "text/plain": [
       "id                                             30s_ted_1096_0\n",
       "audio       /data/user_data/siqiouya/dataset/must-c-v1.0/e...\n",
       "n_frames                                               398080\n",
       "speaker                                              spk.1096\n",
       "src_text    Back in New York, I am the head of development...\n",
       "tgt_text    En Nueva York soy responsable de desarrollo de...\n",
       "src_lang                                                   en\n",
       "tgt_lang                                                   es\n",
       "Name: 0, dtype: object"
      ]
     },
     "execution_count": 20,
     "metadata": {},
     "output_type": "execute_result"
    }
   ],
   "source": [
    "new_dfs[splits[0]].iloc[0]"
   ]
  },
  {
   "cell_type": "code",
   "execution_count": 21,
   "metadata": {},
   "outputs": [
    {
     "data": {
      "text/plain": [
       "'/data/user_data/siqiouya/dataset/must-c-v1.0/en-es'"
      ]
     },
     "execution_count": 21,
     "metadata": {},
     "output_type": "execute_result"
    }
   ],
   "source": [
    "root"
   ]
  },
  {
   "cell_type": "code",
   "execution_count": 24,
   "metadata": {},
   "outputs": [
    {
     "data": {
      "application/vnd.jupyter.widget-view+json": {
       "model_id": "ca1e447929a7437eadf32f5523dd69ee",
       "version_major": 2,
       "version_minor": 0
      },
      "text/plain": [
       "  0%|          | 0/656 [00:00<?, ?it/s]"
      ]
     },
     "metadata": {},
     "output_type": "display_data"
    }
   ],
   "source": [
    "for split in splits:\n",
    "    df = new_dfs[split]\n",
    "    with open(os.path.join(root, '{}_30s.source'.format(split)), 'w') as w_source, \\\n",
    "        open(os.path.join(root, '{}_30s.target'.format(split)), 'w') as w_target:\n",
    "        for i in tqdm(range(len(df))):\n",
    "            id = df['id'][i]\n",
    "            path = os.path.join(root, 'data/{}/split/{}.wav'.format(split, id))\n",
    "            w_source.write(path + '\\n')\n",
    "            w_target.write(df['tgt_text'][i] + '\\n')\n",
    "\n",
    "            ori_path, offset, duration = df['audio'][i].split(':')\n",
    "            wav, _ = torchaudio.load(ori_path, int(offset), int(duration))\n",
    "            torchaudio.save(path, wav, 16000)"
   ]
  }
 ],
 "metadata": {
  "kernelspec": {
   "display_name": "sllama_lightning",
   "language": "python",
   "name": "python3"
  },
  "language_info": {
   "codemirror_mode": {
    "name": "ipython",
    "version": 3
   },
   "file_extension": ".py",
   "mimetype": "text/x-python",
   "name": "python",
   "nbconvert_exporter": "python",
   "pygments_lexer": "ipython3",
   "version": "3.8.18"
  }
 },
 "nbformat": 4,
 "nbformat_minor": 2
}
