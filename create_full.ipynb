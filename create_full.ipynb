{
 "cells": [
  {
   "cell_type": "code",
   "execution_count": 2,
   "metadata": {},
   "outputs": [],
   "source": [
    "import os\n",
    "import yaml"
   ]
  },
  {
   "cell_type": "code",
   "execution_count": 3,
   "metadata": {},
   "outputs": [],
   "source": [
    "src_lang = \"en\"\n",
    "tgt_lang = \"de\"\n",
    "root = \"/data/user_data/siqiouya/dataset/must-c-v1.0/{}-{}/data/tst-COMMON/txt\".format(src_lang, tgt_lang)\n",
    "wav_root = \"/data/user_data/siqiouya/dataset/must-c-v1.0/{}-{}/data/tst-COMMON/wav\".format(src_lang, tgt_lang)\n",
    "manifest_root = \"/data/user_data/siqiouya/dataset/must-c-v1.0/{}-{}/\".format(src_lang, tgt_lang)"
   ]
  },
  {
   "cell_type": "code",
   "execution_count": 4,
   "metadata": {},
   "outputs": [
    {
     "name": "stdout",
     "output_type": "stream",
     "text": [
      "Back in New York, I am the head of development for a non-profit called Robin Hood.\n",
      "When I'm not fighting poverty, I'm fighting fires as the assistant captain of a volunteer fire company.\n",
      "Now in our town, where the volunteers supplement a highly skilled career staff, you have to get to the fire scene pretty early to get in on any action.\n",
      "I remember my first fire.\n",
      "I was the second volunteer on the scene, so there was a pretty good chance I was going to get in.\n",
      "But still it was a real footrace against the other volunteers to get to the captain in charge to find out what our assignments would be.\n",
      "When I found the captain, he was having a very engaging conversation with the homeowner, who was surely having one of the worst days of her life.\n",
      "Here it was, the middle of the night, she was standing outside in the pouring rain, under an umbrella, in her pajamas, barefoot, while her house was in flames.\n",
      "The other volunteer who had arrived just before me — let's call him Lex Luther — (Laughter) got to the captain first and was asked to go inside and save the homeowner's dog. The dog! I was stunned with jealousy.\n",
      "Here was some lawyer or money manager who, for the rest of his life, gets to tell people that he went into a burning building to save a living creature, just because he beat me by five seconds.\n"
     ]
    }
   ],
   "source": [
    "!head $root/tst-COMMON.en"
   ]
  },
  {
   "cell_type": "code",
   "execution_count": 5,
   "metadata": {},
   "outputs": [],
   "source": [
    "with open(os.path.join(root, \"tst-COMMON.yaml\"), \"r\") as r:\n",
    "    metas = yaml.load(r, yaml.Loader)\n",
    "with open(os.path.join(root, \"tst-COMMON.{}\".format(tgt_lang)), \"r\") as r:\n",
    "    refs = r.read().strip().split(\"\\n\")\n",
    "with open(os.path.join(root, \"tst-COMMON.{}\".format(src_lang)), \"r\") as r:\n",
    "    srcs = r.read().strip().split(\"\\n\")"
   ]
  },
  {
   "cell_type": "code",
   "execution_count": 6,
   "metadata": {},
   "outputs": [
    {
     "data": {
      "text/plain": [
       "{'duration': 8.1,\n",
       " 'offset': 22.53,\n",
       " 'speaker_id': 'spk.1096',\n",
       " 'wav': 'ted_1096.wav'}"
      ]
     },
     "execution_count": 6,
     "metadata": {},
     "output_type": "execute_result"
    }
   ],
   "source": [
    "metas[2]"
   ]
  },
  {
   "cell_type": "code",
   "execution_count": 7,
   "metadata": {},
   "outputs": [],
   "source": [
    "full_wavs = []\n",
    "seg_wavs = []\n",
    "full_refs = []\n",
    "seg_refs = []\n",
    "full_srcs = []\n",
    "for i, (meta, ref, src) in enumerate(zip(metas, refs, srcs)):\n",
    "    assert i == 0 or meta['wav'] != metas[i - 1]['wav'] or meta['offset'] > metas[i - 1]['offset']\n",
    "    if i == 0 or meta['wav'] != metas[i - 1]['wav']:\n",
    "        full_wavs.append(meta['wav'])\n",
    "        seg_wavs.append(\"{} {}\\n\".format(meta['offset'], meta['duration']))\n",
    "        full_refs.append(ref)\n",
    "        seg_refs.append(ref)\n",
    "        full_srcs.append(src)\n",
    "    else:\n",
    "        seg_wavs[-1] += \"{} {}\\n\".format(meta['offset'], meta['duration'])\n",
    "        full_refs[-1] += ' ' + ref\n",
    "        seg_refs[-1] += '\\n' + ref\n",
    "        full_srcs[-1] += ' ' + src"
   ]
  },
  {
   "cell_type": "code",
   "execution_count": 8,
   "metadata": {},
   "outputs": [],
   "source": [
    "with open(os.path.join(manifest_root, \"tst-COMMON_full.source\"), \"w\") as w_source, \\\n",
    "    open(os.path.join(manifest_root, \"tst-COMMON_full_segmented.source\"), \"w\") as w_source_s, \\\n",
    "    open(os.path.join(manifest_root, \"tst-COMMON_full.target\"), \"w\") as w_target, \\\n",
    "    open(os.path.join(manifest_root, \"tst-COMMON_full_segmented.target\"), \"w\") as w_target_s:\n",
    "    for wav, wav_s, ref, ref_s in zip(full_wavs, seg_wavs, full_refs, seg_refs):\n",
    "        w_source.write(os.path.join(wav_root, wav) + '\\n')\n",
    "        w_source_s.write(wav_s + '\\n\\n')\n",
    "        w_target.write(ref + '\\n')\n",
    "        w_target_s.write(ref_s + '\\n\\n')"
   ]
  },
  {
   "cell_type": "code",
   "execution_count": 14,
   "metadata": {},
   "outputs": [],
   "source": [
    "with open(os.path.join(manifest_root, \"tst-COMMON_full.source.txt\"), \"w\") as w_source:\n",
    "    for src in full_srcs:\n",
    "        w_source.write(src + '\\n')"
   ]
  },
  {
   "cell_type": "code",
   "execution_count": 54,
   "metadata": {},
   "outputs": [
    {
     "name": "stdout",
     "output_type": "stream",
     "text": [
      "Zu Hause in New York, bin ich Chef der Entwicklungsabteilung einer gemeinnützigen Organisation namens Robin Hood. Wenn ich nicht die Armut bekämpfe, bekämpfe ich als Gehilfe eines Feuerwehr-Hauptmanns bei einem freiwilligen Löschzug das Feuer. Nun, in unserer Stadt, in der Freiwillige eine hochqualifizierte Berufsfeuerwehr unterstützten, muss man ziemlich früh an der Brandstelle sein, um mitmischen zu können. Ich erinnere mich an mein erstes Feuer. Ich war der zweite Freiwillige an der Brandstelle, ich hatte also recht gute Chancen hinein zu können. Aber es war immer noch ein Wettrennen gegen die anderen Freiwilligen um den verantwortlichen Hauptmann zu erreichen und herauszufinden was unsere Aufgaben sein würden. Als ich den Hauptmann fand, hatte er gerade in eine sehr ernste Unterhaltung mit der Hausbesitzerin, die sicherlich einen der schlimmsten Tage ihres Lebens hatte. Es war mitten in der Nacht und sie stand im Schlafanzug und barfuß unter einem Schirm draußen im strömenden Regen, während ihr Haus in Flammen stand. Der andere Freiwillige, der knapp vor mir angekommen war — nennen wir ihn Lex Luther — (Gelächter) erreichte den Hauptmann als erstes und wurde gebeten in das Haus zu gehen und den Hund der Hausbesitzerin zu retten. Den Hund! Ich war sprachlos vor Neid. Da war irgendein Anwalt oder Vermögensverwalter, der nun für den Rest seines Lebens, den Menschen erzählen konnte, dass er in ein brennendes Haus ging um ein Lebewesen zu retten, nur weil er fünf Sekunden schneller war als ich. Nun, ich war der Nächste. Der Hauptmann winkte mich zu sich. Er sagte, \"Bezos, Sie müssen in das Haus gehen. Sie müssen nach oben gehen, an dem Feuer vorbei, und müssen dieser Frau ein Paar Schuhe holen. \"(Gelächter) Ich schwöre es. Nun, nicht genau das, was ich mir erhofft hatte, doch ich ging los — die Treppen hoch, den Flur entlang, an den \"echten\" Feuerwehrmännern vorbei, die zu diesem Zeitpunkt mit dem Löschen schon so ziemlich fertig waren, in das Schlafzimmer um ein Paar Schuhe zu holen. Ich weiß was Sie jetzt denken, aber ich bin kein Held. (Gelächter) Ich trug meine Beute zurück nach unten, wo ich an der Haustür meinen Erzfeind und den geliebten Hund traf. Wir trugen unsere Schätze nach draußen zur Hausbesitzerin, wo, nicht überraschend, seiner wesentlich mehr Aufmerksamkeit bekam als meiner. Einige Wochen später, erhielt die Feuerwache einen Brief der Hausbesitzerin, in dem sie sich für den tapferen Einsatz bei der Rettung ihres Hauses bedankte. Eine über allem Maßen geschätzte Freundlichkeit: Jemand hatte ihr sogar ein Paar Schuhe gebracht. (Gelächter) Sowohl in meinem Beruf bei Robin Hood als auch in meinem Nebenberuf als freiwilliger Feuerwehrmann bin ich Zeuge von Großzügigkeit und Freundlichkeit im großen Maßstab, aber ich sehe auch Taten der Nächstenliebe und des Muts von Einzelnen. Und wissen Sie was ich gelernt habe? Sie sind alle wichtig. Wenn ich mich also in diesem Raum umsehe und Menschen sehe, die entweder schon einen beachtenswerten Erfolg erreicht haben oder auf ihrem Weg dorthin sind, möchte ich folgende Erinnerung anbieten: Warten Sie nicht. Warten Sie nicht damit, einen Unterschied im Leben eines anderen zu machen, bis Sie Ihre erste Million erreicht haben. Wenn Sie etwas zu geben haben, geben Sie es jetzt. Bedienen Sie in einer Suppenküche, räumen Sie einen Park in der Nachbarschaft auf, seien Sie ein Mentor. Nicht jeder Tag wird uns eine Chance bieten, das Leben eines Menschen zu retten, aber jeder Tag bietet uns die Möglichkeit, eins zu verändern. Also legen Sie los; retten Sie die Schuhe. Vielen Dank. (Applaus) Bruno Guissani: Mark, Mark, komm zurück. Mark Bezos: Vielen Dank.\n"
     ]
    }
   ],
   "source": [
    "print(full_refs[0])"
   ]
  },
  {
   "cell_type": "code",
   "execution_count": 46,
   "metadata": {},
   "outputs": [],
   "source": [
    "import transformers\n",
    "import torchaudio\n",
    "tokenizer = transformers.AutoTokenizer.from_pretrained(\n",
    "    \"/data/user_data/siqiouya/runs/pretrained/llama-2-7b/hf\",\n",
    "    padding_side=\"right\",    \n",
    "    truncation=False,\n",
    "    add_special_tokens=False\n",
    ")"
   ]
  },
  {
   "cell_type": "code",
   "execution_count": 51,
   "metadata": {},
   "outputs": [
    {
     "data": {
      "text/plain": [
       "1069"
      ]
     },
     "execution_count": 51,
     "metadata": {},
     "output_type": "execute_result"
    }
   ],
   "source": []
  },
  {
   "cell_type": "code",
   "execution_count": 52,
   "metadata": {},
   "outputs": [
    {
     "name": "stdout",
     "output_type": "stream",
     "text": [
      "4.370257718472004\n",
      "3.699776417034397\n",
      "3.4563542460835515\n",
      "5.299428039719741\n",
      "5.048043494628684\n",
      "4.082369117860166\n",
      "4.321981241997159\n",
      "4.584028203504232\n",
      "4.9589603283173735\n",
      "4.343389088012744\n",
      "5.1406950682194905\n",
      "5.6329289452725\n",
      "2.941286979484372\n",
      "3.9284438237883683\n",
      "3.5791166846288522\n",
      "4.940720835369553\n",
      "4.745152098650434\n",
      "4.7848183391003465\n",
      "4.005777462018934\n",
      "4.055033760387812\n",
      "3.4629846612843997\n",
      "4.170849336592179\n",
      "3.894420787186417\n",
      "4.56000912928657\n",
      "5.024235960635608\n",
      "4.701513729077847\n",
      "4.5411693974268\n"
     ]
    }
   ],
   "source": [
    "for wav, ref in zip(full_wavs, full_refs):\n",
    "    wav_path = os.path.join(wav_root, wav)\n",
    "    wav_info = torchaudio.info(wav_path)\n",
    "    wav_dur = wav_info.num_frames / wav_info.sample_rate\n",
    "    n_token = len(tokenizer(ref)['input_ids'])\n",
    "    print(n_token / wav_dur)"
   ]
  },
  {
   "cell_type": "code",
   "execution_count": null,
   "metadata": {},
   "outputs": [],
   "source": []
  }
 ],
 "metadata": {
  "kernelspec": {
   "display_name": "sllama_lightning",
   "language": "python",
   "name": "python3"
  },
  "language_info": {
   "codemirror_mode": {
    "name": "ipython",
    "version": 3
   },
   "file_extension": ".py",
   "mimetype": "text/x-python",
   "name": "python",
   "nbconvert_exporter": "python",
   "pygments_lexer": "ipython3",
   "version": "3.8.18"
  }
 },
 "nbformat": 4,
 "nbformat_minor": 2
}
