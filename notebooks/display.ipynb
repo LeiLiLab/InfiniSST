{
 "cells": [
  {
   "cell_type": "code",
   "execution_count": 18,
   "metadata": {},
   "outputs": [],
   "source": [
    "import os\n",
    "os.environ[\"CUDA_VISIBLE_DEVICES\"] = \"1\"\n",
    "import csv\n",
    "import json\n",
    "\n",
    "import numpy as np\n",
    "import matplotlib.pyplot as plt\n",
    "\n",
    "import sacrebleu\n",
    "import soundfile as sf\n",
    "\n",
    "import yaml\n",
    "from tqdm.notebook import tqdm\n",
    "\n",
    "from IPython.display import display, Audio\n",
    "\n",
    "def read_logs(path):\n",
    "    logs = []\n",
    "    with open(path, \"r\") as r:\n",
    "        for l in r.readlines():\n",
    "            l = l.strip()\n",
    "            if l != \"\":\n",
    "                logs.append(json.loads(l))\n",
    "    return logs\n",
    "\n",
    "def read_wav(wav_path):\n",
    "    if ':' in wav_path:\n",
    "        wav_path, offset, duration = wav_path.split(':')\n",
    "        offset = int(offset)\n",
    "        duration = int(duration)\n",
    "    else:\n",
    "        offset = 0\n",
    "        duration = -1\n",
    "    source, rate = sf.read(wav_path, start=offset, frames=duration)\n",
    "    return source, rate\n",
    "\n",
    "def read_tsv(tsv_path):\n",
    "    import csv\n",
    "    with open(tsv_path) as f:\n",
    "        reader = csv.DictReader(\n",
    "            f,\n",
    "            delimiter=\"\\t\",\n",
    "            quotechar=None,\n",
    "            doublequote=False,\n",
    "            lineterminator=\"\\n\",\n",
    "            quoting=csv.QUOTE_NONE,\n",
    "        )\n",
    "        samples = [dict(e) for e in reader]\n",
    "    return samples\n",
    "\n",
    "def write_tsv(samples, tsv_path):\n",
    "    with open(tsv_path, \"w\") as w:\n",
    "        writer = csv.DictWriter(\n",
    "            w,\n",
    "            samples[0].keys(),\n",
    "            delimiter=\"\\t\",\n",
    "            quotechar=None,\n",
    "            doublequote=False,\n",
    "            lineterminator=\"\\n\",\n",
    "            quoting=csv.QUOTE_NONE,\n",
    "        )\n",
    "        writer.writeheader()\n",
    "        writer.writerows(samples)\n",
    "\n",
    "def play(audio_path):\n",
    "    from IPython.display import display, Audio\n",
    "    display(Audio(read_wav(audio_path)[0], rate=16000))"
   ]
  },
  {
   "cell_type": "markdown",
   "metadata": {},
   "source": [
    "# instance logs"
   ]
  },
  {
   "cell_type": "code",
   "execution_count": null,
   "metadata": {},
   "outputs": [],
   "source": [
    "!ls /compute/babel-5-23/siqiouya/runs/8B-traj-s2-v3.0/last.ckpt/simul-results-full/"
   ]
  },
  {
   "cell_type": "code",
   "execution_count": 28,
   "metadata": {},
   "outputs": [],
   "source": [
    "multiplier = 1\n",
    "logs = read_logs(\"/compute/babel-5-23/siqiouya/runs/8B-traj-s2-v3.0/last.ckpt/simul-results-full/cache4000_seg{}_beam1_ms0/instances.log\".format(multiplier * 960))"
   ]
  },
  {
   "cell_type": "code",
   "execution_count": 31,
   "metadata": {},
   "outputs": [],
   "source": [
    "new_trajs = []\n",
    "for log in logs:\n",
    "    n_frame = int(log['source_length'] * 16)\n",
    "    stepsize = int(0.96 * 16000) * multiplier\n",
    "    idx = -1\n",
    "    new_traj = []\n",
    "    for offset in range(0, n_frame, stepsize):\n",
    "        text = \"\"\n",
    "        while idx + 1 < len(log['delays']) and int(log['delays'][idx + 1]) * 16 < offset + stepsize:\n",
    "            idx += 1\n",
    "            text += log['prediction'][idx]\n",
    "        new_traj.append(text)\n",
    "    new_trajs.append(new_traj)"
   ]
  },
  {
   "cell_type": "code",
   "execution_count": null,
   "metadata": {},
   "outputs": [],
   "source": [
    "idx = 1\n",
    "wav, sr = read_wav(logs[idx]['source'][0])\n",
    "trajectory = new_trajs[idx]\n",
    "\n",
    "step = int(sr * 0.96) * multiplier\n",
    "for i, action in zip(range(0, len(wav), step), trajectory):\n",
    "    display(Audio(wav[i : i + step], rate=sr, autoplay=False))\n",
    "    print(i // step, \"[T_START]\", action, \"[T_END]\")"
   ]
  },
  {
   "cell_type": "code",
   "execution_count": null,
   "metadata": {},
   "outputs": [],
   "source": []
  }
 ],
 "metadata": {
  "kernelspec": {
   "display_name": "speechllama",
   "language": "python",
   "name": "python3"
  },
  "language_info": {
   "codemirror_mode": {
    "name": "ipython",
    "version": 3
   },
   "file_extension": ".py",
   "mimetype": "text/x-python",
   "name": "python",
   "nbconvert_exporter": "python",
   "pygments_lexer": "ipython3",
   "version": "3.9.21"
  }
 },
 "nbformat": 4,
 "nbformat_minor": 2
}
