{
 "cells": [
  {
   "cell_type": "code",
   "execution_count": 2,
   "metadata": {},
   "outputs": [],
   "source": [
    "import os\n",
    "os.environ[\"CUDA_VISIBLE_DEVICES\"] = \"1\"\n",
    "import csv\n",
    "import json\n",
    "\n",
    "import numpy as np\n",
    "import matplotlib.pyplot as plt\n",
    "\n",
    "import sacrebleu\n",
    "import soundfile as sf\n",
    "\n",
    "import yaml\n",
    "from tqdm.notebook import tqdm\n",
    "\n",
    "def read_logs(path):\n",
    "    logs = []\n",
    "    with open(path, \"r\") as r:\n",
    "        for l in r.readlines():\n",
    "            l = l.strip()\n",
    "            if l != \"\":\n",
    "                logs.append(json.loads(l))\n",
    "    return logs\n",
    "\n",
    "def read_wav(wav_path):\n",
    "    wav_path, offset, duration = wav_path.split(':')\n",
    "    offset = int(offset)\n",
    "    duration = int(duration)\n",
    "    source, rate = sf.read(wav_path, start=offset, frames=duration)\n",
    "    return source, rate\n",
    "\n",
    "def read_tsv(tsv_path):\n",
    "    import csv\n",
    "    with open(tsv_path, encoding='utf-8') as f:\n",
    "        reader = csv.DictReader(\n",
    "            f,\n",
    "            delimiter=\"\\t\",\n",
    "            quotechar=None,\n",
    "            doublequote=False,\n",
    "            lineterminator=\"\\n\",\n",
    "            quoting=csv.QUOTE_NONE,\n",
    "        )\n",
    "        samples = [dict(e) for e in reader]\n",
    "    return samples\n",
    "\n",
    "def write_tsv(samples, tsv_path):\n",
    "    with open(tsv_path, \"w\", encoding='utf-8') as w:\n",
    "        writer = csv.DictWriter(\n",
    "            w,\n",
    "            samples[0].keys(),\n",
    "            delimiter=\"\\t\",\n",
    "            quotechar=None,\n",
    "            doublequote=False,\n",
    "            lineterminator=\"\\n\",\n",
    "            quoting=csv.QUOTE_NONE,\n",
    "        )\n",
    "        writer.writeheader()\n",
    "        writer.writerows(samples)\n",
    "\n",
    "def play(audio_path):\n",
    "    from IPython.display import display, Audio\n",
    "    display(Audio(read_wav(audio_path)[0], rate=16000))"
   ]
  },
  {
   "cell_type": "code",
   "execution_count": 3,
   "metadata": {},
   "outputs": [],
   "source": [
    "import os\n",
    "import csv\n",
    "import soundfile as sf\n",
    "from tqdm.notebook import tqdm"
   ]
  },
  {
   "cell_type": "code",
   "execution_count": 5,
   "metadata": {},
   "outputs": [],
   "source": [
    "base_split = 'dev'\n",
    "split = 'dev_st_zh_traj_30_gpt-4o-mini-2024-07-18_fa_traj'\n",
    "tsv_path = \"/compute/babel-14-5/siqiouya/en-zh/{}.tsv\".format(split)\n",
    "with open(tsv_path, encoding='utf-8') as f:\n",
    "    reader = csv.DictReader(\n",
    "        f,\n",
    "        delimiter=\"\\t\",\n",
    "        quotechar=None,\n",
    "        doublequote=False,\n",
    "        lineterminator=\"\\n\",\n",
    "        quoting=csv.QUOTE_NONE,\n",
    "    )\n",
    "    samples = [dict(e) for e in reader]"
   ]
  },
  {
   "cell_type": "code",
   "execution_count": 6,
   "metadata": {},
   "outputs": [
    {
     "data": {
      "application/vnd.jupyter.widget-view+json": {
       "model_id": "e126d0b46539427faf89674dfd4a3cfc",
       "version_major": 2,
       "version_minor": 0
      },
      "text/plain": [
       "  0%|          | 0/381 [00:00<?, ?it/s]"
      ]
     },
     "metadata": {},
     "output_type": "display_data"
    }
   ],
   "source": [
    "os.makedirs(\"/compute/babel-14-5/siqiouya/en-zh/data/{}/wav_split_30/\".format(base_split))\n",
    "for x in tqdm(samples):\n",
    "    path, offset, n_frame = x['audio'].split(':')\n",
    "    wav, sr = sf.read(path, frames=int(n_frame), start=int(offset))\n",
    "    sf.write(f\"/compute/babel-14-5/siqiouya/en-zh/data/{base_split}/wav_split_30/{x['id']}.wav\", wav, sr)"
   ]
  },
  {
   "cell_type": "code",
   "execution_count": 7,
   "metadata": {},
   "outputs": [],
   "source": [
    "n_partition = 8\n",
    "partition_size = (len(samples) + n_partition - 1) // n_partition\n",
    "for idx in range(8):\n",
    "    with open(f\"/compute/babel-14-5/siqiouya/en-zh/{split}.source.{idx}\", \"w\") as w_src, \\\n",
    "         open(f\"/compute/babel-14-5/siqiouya/en-zh/{split}.target.{idx}\", \"w\") as w_tgt:\n",
    "        for x in samples[idx * partition_size:(idx + 1) * partition_size]:  # Split samples into 8 parts\n",
    "            w_src.write(f\"/compute/babel-14-5/siqiouya/en-zh/data/{base_split}/wav_split_30/{x['id']}.wav\" + \"\\n\")\n",
    "            w_tgt.write(x[\"tgt_text\"] + \"\\n\")"
   ]
  }
 ],
 "metadata": {
  "kernelspec": {
   "display_name": "speechllama",
   "language": "python",
   "name": "python3"
  },
  "language_info": {
   "codemirror_mode": {
    "name": "ipython",
    "version": 3
   },
   "file_extension": ".py",
   "mimetype": "text/x-python",
   "name": "python",
   "nbconvert_exporter": "python",
   "pygments_lexer": "ipython3",
   "version": "3.9.21"
  }
 },
 "nbformat": 4,
 "nbformat_minor": 2
}
