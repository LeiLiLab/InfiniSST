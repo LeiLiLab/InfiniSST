{
 "cells": [
  {
   "cell_type": "code",
   "execution_count": 2,
   "metadata": {},
   "outputs": [],
   "source": [
    "import os\n",
    "import yaml"
   ]
  },
  {
   "cell_type": "code",
   "execution_count": 1,
   "metadata": {},
   "outputs": [],
   "source": [
    "src_lang = \"en\"\n",
    "tgt_lang = \"zh\"\n",
    "\n",
    "root = \"/compute/babel-14-5/siqiouya/{}-{}/data/tst-COMMON/txt\".format(src_lang, tgt_lang)\n",
    "wav_root = \"/compute/babel-14-5/siqiouya/{}-{}/data/tst-COMMON/wav\".format(src_lang, tgt_lang)\n",
    "manifest_root = \"/compute/babel-14-5/siqiouya/{}-{}/\".format(src_lang, tgt_lang)"
   ]
  },
  {
   "cell_type": "code",
   "execution_count": 3,
   "metadata": {},
   "outputs": [
    {
     "name": "stdout",
     "output_type": "stream",
     "text": [
      "Back in New York, I am the head of development for a non-profit called Robin Hood.\n",
      "When I'm not fighting poverty, I'm fighting fires as the assistant captain of a volunteer fire company.\n",
      "Now in our town, where the volunteers supplement a highly skilled career staff, you have to get to the fire scene pretty early to get in on any action.\n",
      "I remember my first fire.\n",
      "I was the second volunteer on the scene, so there was a pretty good chance I was going to get in.\n",
      "But still it was a real footrace against the other volunteers to get to the captain in charge to find out what our assignments would be.\n",
      "When I found the captain, he was having a very engaging conversation with the homeowner, who was surely having one of the worst days of her life.\n",
      "Here it was, the middle of the night, she was standing outside in the pouring rain, under an umbrella, in her pajamas, barefoot, while her house was in flames.\n",
      "The other volunteer who had arrived just before me -- let's call him Lex Luther --\n",
      "(Laughter)\n"
     ]
    }
   ],
   "source": [
    "!head $root/tst-COMMON.en"
   ]
  },
  {
   "cell_type": "code",
   "execution_count": 4,
   "metadata": {},
   "outputs": [],
   "source": [
    "with open(os.path.join(root, \"tst-COMMON.yaml\"), \"r\") as r:\n",
    "    metas = yaml.load(r, yaml.Loader)\n",
    "with open(os.path.join(root, \"tst-COMMON.{}\".format(tgt_lang)), \"r\") as r:\n",
    "    refs = r.read().strip().split(\"\\n\")\n",
    "with open(os.path.join(root, \"tst-COMMON.{}\".format(src_lang)), \"r\") as r:\n",
    "    srcs = r.read().strip().split(\"\\n\")"
   ]
  },
  {
   "cell_type": "code",
   "execution_count": 6,
   "metadata": {},
   "outputs": [],
   "source": [
    "full_wavs = []\n",
    "seg_wavs = []\n",
    "full_refs = []\n",
    "seg_refs = []\n",
    "full_srcs = []\n",
    "for i, (meta, ref, src) in enumerate(zip(metas, refs, srcs)):\n",
    "    assert i == 0 or meta['wav'] != metas[i - 1]['wav'] or meta['offset'] > metas[i - 1]['offset']\n",
    "    if i == 0 or meta['wav'] != metas[i - 1]['wav']:\n",
    "        full_wavs.append(meta['wav'])\n",
    "        seg_wavs.append(\"{} {}\\n\".format(meta['offset'], meta['duration']))\n",
    "        full_refs.append(ref)\n",
    "        seg_refs.append(ref)\n",
    "        full_srcs.append(src)\n",
    "    else:\n",
    "        seg_wavs[-1] += \"{} {}\\n\".format(meta['offset'], meta['duration'])\n",
    "        full_refs[-1] += ' ' + ref\n",
    "        seg_refs[-1] += '\\n' + ref\n",
    "        full_srcs[-1] += ' ' + src"
   ]
  },
  {
   "cell_type": "code",
   "execution_count": 7,
   "metadata": {},
   "outputs": [],
   "source": [
    "with open(os.path.join(manifest_root, \"tst-COMMON_full.source\"), \"w\") as w_source, \\\n",
    "    open(os.path.join(manifest_root, \"tst-COMMON_full_segmented.source\"), \"w\") as w_source_s, \\\n",
    "    open(os.path.join(manifest_root, \"tst-COMMON_full.target\"), \"w\") as w_target, \\\n",
    "    open(os.path.join(manifest_root, \"tst-COMMON_full_segmented.target\"), \"w\") as w_target_s:\n",
    "    for wav, wav_s, ref, ref_s in zip(full_wavs, seg_wavs, full_refs, seg_refs):\n",
    "        w_source.write(os.path.join(wav_root, wav) + '\\n')\n",
    "        w_source_s.write(wav_s + '\\n\\n')\n",
    "        w_target.write(ref + '\\n')\n",
    "        w_target_s.write(ref_s + '\\n\\n')"
   ]
  },
  {
   "cell_type": "code",
   "execution_count": 8,
   "metadata": {},
   "outputs": [],
   "source": [
    "with open(os.path.join(manifest_root, \"tst-COMMON_full.source.txt\"), \"w\") as w_source:\n",
    "    for src in full_srcs:\n",
    "        w_source.write(src + '\\n')"
   ]
  },
  {
   "cell_type": "code",
   "execution_count": 9,
   "metadata": {},
   "outputs": [
    {
     "name": "stdout",
     "output_type": "stream",
     "text": [
      "在纽约，我是“罗宾汉”非营利机构 发展部门的主管 在我消灭贫穷之余，我也灭火 我是志愿消防居的副指挥 在我们的小镇 在一个志愿者都是成功人士的地方 你必须要很早到现场 才有可能加入战况 我记得我第一场火 我是第二个到现场的志愿者 很有可能可以进火场 但你还得跑赢其它志愿者 先找到总指挥 让他分配工作给你 当我好不容易找到总指挥 他正全神贯注地 和屋主讨论 她显然正经历人生中最糟糕的一天 当时是大半夜 她站在滂沱大雨中 穿着睡衣、打赤脚、撑着伞 她的房子正在熊熊燃烧 另外一个比我先来一步的志愿者 就叫他Lex Luther （超人中的反派）好了 （笑声） 先到了总指挥身边 他被分配到 杀进火场去拯救屋主的小狗 小狗哎！我嫉妒死了 这个律师或财务经理 终身都可以告诉别人 他深入火场 救出一条活生生的小狗 就因为他比我早到五秒 好吧，接下来轮到我了 总指挥叫我过去 他说，“Bezos，我需要你杀进火场 我需要你上楼，越过火焰 我需要你为这位女士拿双鞋。 “ （笑声） 是真的，我发誓 这不是我心中描绘的图像 但我去了 上楼，走到走廊底，穿过那些”真正的“消防员 他们差不多已经把火熄灭了 我走进主卧室，拿了一双鞋 我知道你在想什么 但我非英雄 我把我的任务带下楼 在前门遇见那位早我五秒的先生 和他救出的那条狗 我们带着我们的宝藏走向前门 毫无意外的 他比我获得更多关注 几个礼拜后 我们部门收到从屋主来的一封信 谢谢我们的拯救她家的 义勇行为 她特别提到一件温馨的细节 甚至有人为她拿来一双鞋 无论是我在“罗宾汉”的工作 或是我身为志愿消防员的副业 我目睹许多非常慷慨的 善行 我同时也目睹一个人的勇气和慈悲 能带来多大的不同 你知道我学到什么？ 它们都一样重要。 当我环顾四周 这些成功的 或正要成功的人士 你们都有着令人激赏的成就 我想在这里提醒你们： 不要等待 不要等待你赚到第一个一百万 才开始改变别人的生活 如果你有什么可以给予 现在就开始付出 无论是供应穷人食物 做个榜样 不是每一天我们都有机会 拯救他人的生命 但每一天我们都有机会影响他人的生命 来吧：救那双鞋。 谢谢各位 Bruno Giussani：Mark，Mark，回来 谢谢各位\n"
     ]
    }
   ],
   "source": [
    "print(full_refs[0])"
   ]
  },
  {
   "cell_type": "code",
   "execution_count": 46,
   "metadata": {},
   "outputs": [],
   "source": [
    "import transformers\n",
    "import torchaudio\n",
    "tokenizer = transformers.AutoTokenizer.from_pretrained(\n",
    "    \"/data/user_data/siqiouya/runs/pretrained/llama-2-7b/hf\",\n",
    "    padding_side=\"right\",    \n",
    "    truncation=False,\n",
    "    add_special_tokens=False\n",
    ")"
   ]
  },
  {
   "cell_type": "code",
   "execution_count": 51,
   "metadata": {},
   "outputs": [
    {
     "data": {
      "text/plain": [
       "1069"
      ]
     },
     "execution_count": 51,
     "metadata": {},
     "output_type": "execute_result"
    }
   ],
   "source": []
  },
  {
   "cell_type": "code",
   "execution_count": 52,
   "metadata": {},
   "outputs": [
    {
     "name": "stdout",
     "output_type": "stream",
     "text": [
      "4.370257718472004\n",
      "3.699776417034397\n",
      "3.4563542460835515\n",
      "5.299428039719741\n",
      "5.048043494628684\n",
      "4.082369117860166\n",
      "4.321981241997159\n",
      "4.584028203504232\n",
      "4.9589603283173735\n",
      "4.343389088012744\n",
      "5.1406950682194905\n",
      "5.6329289452725\n",
      "2.941286979484372\n",
      "3.9284438237883683\n",
      "3.5791166846288522\n",
      "4.940720835369553\n",
      "4.745152098650434\n",
      "4.7848183391003465\n",
      "4.005777462018934\n",
      "4.055033760387812\n",
      "3.4629846612843997\n",
      "4.170849336592179\n",
      "3.894420787186417\n",
      "4.56000912928657\n",
      "5.024235960635608\n",
      "4.701513729077847\n",
      "4.5411693974268\n"
     ]
    }
   ],
   "source": [
    "for wav, ref in zip(full_wavs, full_refs):\n",
    "    wav_path = os.path.join(wav_root, wav)\n",
    "    wav_info = torchaudio.info(wav_path)\n",
    "    wav_dur = wav_info.num_frames / wav_info.sample_rate\n",
    "    n_token = len(tokenizer(ref)['input_ids'])\n",
    "    print(n_token / wav_dur)"
   ]
  },
  {
   "cell_type": "code",
   "execution_count": null,
   "metadata": {},
   "outputs": [],
   "source": []
  }
 ],
 "metadata": {
  "kernelspec": {
   "display_name": "speechllama",
   "language": "python",
   "name": "python3"
  },
  "language_info": {
   "codemirror_mode": {
    "name": "ipython",
    "version": 3
   },
   "file_extension": ".py",
   "mimetype": "text/x-python",
   "name": "python",
   "nbconvert_exporter": "python",
   "pygments_lexer": "ipython3",
   "version": "3.9.21"
  }
 },
 "nbformat": 4,
 "nbformat_minor": 2
}
