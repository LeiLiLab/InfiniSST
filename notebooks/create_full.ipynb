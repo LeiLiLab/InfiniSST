{
 "cells": [
  {
   "cell_type": "code",
   "execution_count": 4,
   "metadata": {},
   "outputs": [],
   "source": [
    "import os\n",
    "import yaml"
   ]
  },
  {
   "cell_type": "code",
   "execution_count": 1,
   "metadata": {},
   "outputs": [],
   "source": [
    "src_lang = \"en\"\n",
    "tgt_lang = \"de\"\n",
    "\n",
    "root = \"/compute/babel-14-5/siqiouya/{}-{}/data/tst-COMMON/txt\".format(src_lang, tgt_lang)\n",
    "wav_root = \"/compute/babel-14-5/siqiouya/{}-{}/data/tst-COMMON/wav\".format(src_lang, tgt_lang)\n",
    "manifest_root = \"/compute/babel-14-5/siqiouya/{}-{}/\".format(src_lang, tgt_lang)"
   ]
  },
  {
   "cell_type": "code",
   "execution_count": 2,
   "metadata": {},
   "outputs": [
    {
     "name": "stdout",
     "output_type": "stream",
     "text": [
      "Back in New York, I am the head of development for a non-profit called Robin Hood.\n",
      "When I'm not fighting poverty, I'm fighting fires as the assistant captain of a volunteer fire company.\n",
      "Now in our town, where the volunteers supplement a highly skilled career staff, you have to get to the fire scene pretty early to get in on any action.\n",
      "I remember my first fire.\n",
      "I was the second volunteer on the scene, so there was a pretty good chance I was going to get in.\n",
      "But still it was a real footrace against the other volunteers to get to the captain in charge to find out what our assignments would be.\n",
      "When I found the captain, he was having a very engaging conversation with the homeowner, who was surely having one of the worst days of her life.\n",
      "Here it was, the middle of the night, she was standing outside in the pouring rain, under an umbrella, in her pajamas, barefoot, while her house was in flames.\n",
      "The other volunteer who had arrived just before me — let's call him Lex Luther — (Laughter) got to the captain first and was asked to go inside and save the homeowner's dog. The dog! I was stunned with jealousy.\n",
      "Here was some lawyer or money manager who, for the rest of his life, gets to tell people that he went into a burning building to save a living creature, just because he beat me by five seconds.\n"
     ]
    }
   ],
   "source": [
    "!head $root/tst-COMMON.en"
   ]
  },
  {
   "cell_type": "code",
   "execution_count": 5,
   "metadata": {},
   "outputs": [],
   "source": [
    "with open(os.path.join(root, \"tst-COMMON.yaml\"), \"r\") as r:\n",
    "    metas = yaml.load(r, yaml.Loader)\n",
    "with open(os.path.join(root, \"tst-COMMON.{}\".format(tgt_lang)), \"r\") as r:\n",
    "    refs = r.read().strip().split(\"\\n\")\n",
    "with open(os.path.join(root, \"tst-COMMON.{}\".format(src_lang)), \"r\") as r:\n",
    "    srcs = r.read().strip().split(\"\\n\")"
   ]
  },
  {
   "cell_type": "code",
   "execution_count": 7,
   "metadata": {},
   "outputs": [],
   "source": [
    "full_wavs = []\n",
    "seg_wavs = []\n",
    "full_refs = []\n",
    "seg_refs = []\n",
    "full_srcs = []\n",
    "for i, (meta, ref, src) in enumerate(zip(metas, refs, srcs)):\n",
    "    assert i == 0 or meta['wav'] != metas[i - 1]['wav'] or meta['offset'] > metas[i - 1]['offset']\n",
    "    if i == 0 or meta['wav'] != metas[i - 1]['wav']:\n",
    "        full_wavs.append(meta['wav'])\n",
    "        seg_wavs.append(\"{} {}\\n\".format(meta['offset'], meta['duration']))\n",
    "        full_refs.append(ref)\n",
    "        seg_refs.append(ref)\n",
    "        full_srcs.append(src)\n",
    "    else:\n",
    "        seg_wavs[-1] += \"{} {}\\n\".format(meta['offset'], meta['duration'])\n",
    "        full_refs[-1] += ' ' + ref\n",
    "        seg_refs[-1] += '\\n' + ref\n",
    "        full_srcs[-1] += ' ' + src"
   ]
  },
  {
   "cell_type": "code",
   "execution_count": 8,
   "metadata": {},
   "outputs": [],
   "source": [
    "with open(os.path.join(manifest_root, \"tst-COMMON_full.source\"), \"w\") as w_source, \\\n",
    "    open(os.path.join(manifest_root, \"tst-COMMON_full_segmented.source\"), \"w\") as w_source_s, \\\n",
    "    open(os.path.join(manifest_root, \"tst-COMMON_full.target\"), \"w\") as w_target, \\\n",
    "    open(os.path.join(manifest_root, \"tst-COMMON_full_segmented.target\"), \"w\") as w_target_s:\n",
    "    for wav, wav_s, ref, ref_s in zip(full_wavs, seg_wavs, full_refs, seg_refs):\n",
    "        w_source.write(os.path.join(wav_root, wav) + '\\n')\n",
    "        w_source_s.write(wav_s + '\\n\\n')\n",
    "        w_target.write(ref + '\\n')\n",
    "        w_target_s.write(ref_s + '\\n\\n')"
   ]
  },
  {
   "cell_type": "code",
   "execution_count": 9,
   "metadata": {},
   "outputs": [],
   "source": [
    "with open(os.path.join(manifest_root, \"tst-COMMON_full.source.txt\"), \"w\") as w_source:\n",
    "    for src in full_srcs:\n",
    "        w_source.write(src + '\\n')"
   ]
  },
  {
   "cell_type": "code",
   "execution_count": 8,
   "metadata": {},
   "outputs": [
    {
     "name": "stdout",
     "output_type": "stream",
     "text": [
      "En Nueva York soy responsable de desarrollo de una organización sin fines de lucro llamada Robin Hood. Cuando no estoy combatiendo la pobreza, combato incendios como asistente de capitán en un cuerpo de bomberos voluntarios. Y, en nuestra ciudad, donde los voluntarios complementan a un personal altamente calificado uno tiene que llegar al sitio del incendio muy pronto para entrar en acción. Recuerdo mi primer incendio. Yo era el segundo voluntario en el sitio, así que tenía una probabilidad bastante alta de ir. Pero aún así hubo una carrera a pie contra los otros voluntarios para llegar al capitán a cargo y averiguar cuál era nuestra tarea. Cuando encontré al capitán, estaba enfrascado en una conversación con la propietaria que sin duda atravesaba uno de los peores días de su vida. Estábamos en plena noche, ella estaba de pie afuera en la lluvia, bajo un paraguas, en pijama, descalza, mientras su casa estaba en llamas. El otro voluntario que acababa de llegar antes que yo, -llamémosle Lex Luther- (Risas) llegó primero hasta el capitán y éste le pidió que entrara y salvara al perro de la dueña de casa. ¡El perro! ¡Yo estaba 'tan celoso'! Ahí estaba un abogado o gestor de dinero que, durante el resto de su vida, tendría que decirle a la gente que entró en un edificio en llamas para salvar a un ser vivo sólo porque me ganó por 5 segundos. Bueno, yo era el siguiente. El capitán me hizo un ademán. Dijo: \"Bezos, necesito que entre a la casa. Necesito que suba, atraviese el fuego, y le traiga a esta mujer un par de zapatos \". (Risas) Lo juro. No era exactamente lo que esperaba pero fui... subí las escaleras, al final del pasillo, pasé a los bomberos' reales' que a esa altura más o menos habían terminado de apagar el fuego y entré al cuarto principal en busca de un par de zapatos. Sé lo que están pensando, pero no soy un héroe. (Risas) Llevé mi carga de vuelta por la escalera donde conocí a mi Némesis y al precioso perro en la puerta principal. Sacamos de la casa los tesoros para la dueña de casa donde, como era de esperar, su tesoro recibió mucha más atención que el mío. Unas semanas más tarde el departamento recibió una carta de la dueña de casa agradeciéndonos por el valiente esfuerzo demostrado para salvar su casa. La amabilidad que ella observó por sobre lo demás fue que alguien le había alcanzado incluso un par de zapatos. (Risas) Tanto en mi vocación en Robin Hood como en mi vocación como bombero voluntario soy testigo de actos de generosidad y amabilidad en una escala monumental, pero también de actos de gracia y coraje a nivel individual. ¿Y saben qué he aprendido? Todo tiene su importancia. Entonces, cuando miro en esta sala a personas que han logrado, o están por lograr, niveles notables de éxito me gustaría recordarles esto: no esperen. No esperen a ganar el primer millón para marcar la diferencia en la vida de alguien. Si tienen algo para dar, denlo ahora. Sirvan comida en un comedor, limpien un parque del vecindario, sean mentores. No todos los días vamos a tener la oportunidad de salvar la vida de alguien pero cada día vamos a poder influir la vida de alguien. Así que entren al juego; salven los zapatos. Gracias. (Aplausos) Bruno Giussani: Mark, Mark, regresa. Mark Bezos: Gracias.\n"
     ]
    }
   ],
   "source": [
    "print(full_refs[0])"
   ]
  },
  {
   "cell_type": "code",
   "execution_count": 46,
   "metadata": {},
   "outputs": [],
   "source": [
    "import transformers\n",
    "import torchaudio\n",
    "tokenizer = transformers.AutoTokenizer.from_pretrained(\n",
    "    \"/data/user_data/siqiouya/runs/pretrained/llama-2-7b/hf\",\n",
    "    padding_side=\"right\",    \n",
    "    truncation=False,\n",
    "    add_special_tokens=False\n",
    ")"
   ]
  },
  {
   "cell_type": "code",
   "execution_count": 51,
   "metadata": {},
   "outputs": [
    {
     "data": {
      "text/plain": [
       "1069"
      ]
     },
     "execution_count": 51,
     "metadata": {},
     "output_type": "execute_result"
    }
   ],
   "source": []
  },
  {
   "cell_type": "code",
   "execution_count": 52,
   "metadata": {},
   "outputs": [
    {
     "name": "stdout",
     "output_type": "stream",
     "text": [
      "4.370257718472004\n",
      "3.699776417034397\n",
      "3.4563542460835515\n",
      "5.299428039719741\n",
      "5.048043494628684\n",
      "4.082369117860166\n",
      "4.321981241997159\n",
      "4.584028203504232\n",
      "4.9589603283173735\n",
      "4.343389088012744\n",
      "5.1406950682194905\n",
      "5.6329289452725\n",
      "2.941286979484372\n",
      "3.9284438237883683\n",
      "3.5791166846288522\n",
      "4.940720835369553\n",
      "4.745152098650434\n",
      "4.7848183391003465\n",
      "4.005777462018934\n",
      "4.055033760387812\n",
      "3.4629846612843997\n",
      "4.170849336592179\n",
      "3.894420787186417\n",
      "4.56000912928657\n",
      "5.024235960635608\n",
      "4.701513729077847\n",
      "4.5411693974268\n"
     ]
    }
   ],
   "source": [
    "for wav, ref in zip(full_wavs, full_refs):\n",
    "    wav_path = os.path.join(wav_root, wav)\n",
    "    wav_info = torchaudio.info(wav_path)\n",
    "    wav_dur = wav_info.num_frames / wav_info.sample_rate\n",
    "    n_token = len(tokenizer(ref)['input_ids'])\n",
    "    print(n_token / wav_dur)"
   ]
  },
  {
   "cell_type": "code",
   "execution_count": null,
   "metadata": {},
   "outputs": [],
   "source": []
  }
 ],
 "metadata": {
  "kernelspec": {
   "display_name": "speechllama",
   "language": "python",
   "name": "python3"
  },
  "language_info": {
   "codemirror_mode": {
    "name": "ipython",
    "version": 3
   },
   "file_extension": ".py",
   "mimetype": "text/x-python",
   "name": "python",
   "nbconvert_exporter": "python",
   "pygments_lexer": "ipython3",
   "version": "3.9.21"
  }
 },
 "nbformat": 4,
 "nbformat_minor": 2
}
