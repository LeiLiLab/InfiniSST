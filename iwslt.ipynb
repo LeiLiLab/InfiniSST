{
 "cells": [
  {
   "cell_type": "code",
   "execution_count": 2,
   "metadata": {},
   "outputs": [],
   "source": [
    "import os\n",
    "import json\n",
    "import sacrebleu\n",
    "import pandas as pd"
   ]
  },
  {
   "cell_type": "code",
   "execution_count": 5,
   "metadata": {},
   "outputs": [
    {
     "data": {
      "text/plain": [
       "'2.0.3'"
      ]
     },
     "execution_count": 5,
     "metadata": {},
     "output_type": "execute_result"
    }
   ],
   "source": [
    "pd.__version__"
   ]
  },
  {
   "cell_type": "code",
   "execution_count": 10,
   "metadata": {},
   "outputs": [],
   "source": [
    "df = pd.DataFrame(columns=[\"src_segment_size\", \"min_start_sec\", \"agreement_threshold\", \"BLEU\", \"AL\"])\n",
    "for src_segment_size in [320, 640, 960, 1280]:\n",
    "    for min_start_sec in [1.0, 1.5, 2.0, 2.5]:\n",
    "        for agreement_threshold in [0.1, 0.2, 0.3, 0.4, 0.5, 0.6, 0.7, 0.8, 0.9, 1]:\n",
    "            path = \"/data/user_data/siqiouya/runs/iwslt-en-de-wavlm-llama2/iwslt/{}ms_beam10_at{}_ms{}/scores.tsv\".format(src_segment_size, agreement_threshold, min_start_sec)\n",
    "            if os.path.exists(path):\n",
    "                with open(path, 'r') as r:\n",
    "                    lines = list(r.readlines())\n",
    "                    bleu, _, al = lines[1].split()[:3]\n",
    "                    new_row = pd.DataFrame(\n",
    "                        {\n",
    "                            \"src_segment_size\": [int(src_segment_size)],\n",
    "                            \"min_start_sec\": [float(min_start_sec)],\n",
    "                            \"agreement_threshold\": [float(agreement_threshold)],\n",
    "                            \"BLEU\": [float(bleu)],\n",
    "                            \"AL\": [float(al)]\n",
    "                        },\n",
    "                    )\n",
    "                    df = pd.concat([df, new_row], ignore_index=True)"
   ]
  },
  {
   "cell_type": "code",
   "execution_count": 17,
   "metadata": {},
   "outputs": [
    {
     "data": {
      "text/plain": [
       "src_segment_size            640\n",
       "min_start_sec               1.0\n",
       "agreement_threshold         0.8\n",
       "BLEU                     28.504\n",
       "AL                     1829.255\n",
       "Name: 37, dtype: object"
      ]
     },
     "execution_count": 17,
     "metadata": {},
     "output_type": "execute_result"
    }
   ],
   "source": [
    "df[df['AL'] <= 2000].iloc[29]"
   ]
  }
 ],
 "metadata": {
  "kernelspec": {
   "display_name": "sllama_lightning",
   "language": "python",
   "name": "python3"
  },
  "language_info": {
   "codemirror_mode": {
    "name": "ipython",
    "version": 3
   },
   "file_extension": ".py",
   "mimetype": "text/x-python",
   "name": "python",
   "nbconvert_exporter": "python",
   "pygments_lexer": "ipython3",
   "version": "3.8.18"
  }
 },
 "nbformat": 4,
 "nbformat_minor": 2
}
